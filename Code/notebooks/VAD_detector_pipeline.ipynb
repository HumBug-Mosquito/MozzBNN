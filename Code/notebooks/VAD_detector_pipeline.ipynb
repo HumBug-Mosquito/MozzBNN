{
 "cells": [
  {
   "cell_type": "code",
   "execution_count": 3,
   "metadata": {},
   "outputs": [],
   "source": [
    "import os\n",
    "import sys\n",
    "sys.path.insert(0, os.path.abspath('../lib/VAD-Humbug'))\n",
    "sys.path.insert(0, os.path.abspath('../lib/VAD-Humbug'))\n",
    "sys.path.insert(0, os.path.abspath('../lib'))\n",
    "import os\n",
    "# if not os.getcwd().endswith('VAD-Humbug'):\n",
    "#   os.chdir('../lib/VAD-Humbug')\n",
    "from VAD_pipeline import VAD_pipeline\n",
    "import matplotlib.pyplot as plt\n",
    "\n",
    "import pickle\n",
    "import util\n",
    "import librosa\n",
    "import numpy as np\n",
    "import soundfile as sf\n",
    "import ipdb\n",
    "\n",
    "from scipy.signal import medfilt"
   ]
  },
  {
   "cell_type": "markdown",
   "metadata": {},
   "source": [
    "# VAD"
   ]
  },
  {
   "cell_type": "raw",
   "metadata": {
    "scrolled": false
   },
   "source": [
    "# Tanzania data\n",
    "\n",
    "# directory = 'D:/Postdoc/Data/Semi Field Data/TanzaniaBednetOctober/02-10-2020/'\n",
    "# subdirectories = ['A1', 'A2', 'A3', 'A4', 'B1', 'B2', 'B3', 'B4', 'C1', 'C2', 'C3', 'C4']\n",
    "\n",
    "directory = 'D:/Postdoc/Data/Semi Field Data/TanzaniaBednetOctober/2020-10-15 - 2020-10-16/'\n",
    "subdirectories = ['A1']\n",
    "dir_out = 'D:/Postdoc/MozzDetectorTestingSQL/Code/notebooks/proc_data/label_out/Semi Field Data/TanzaniaBednetOctober/2020-10-15 - 2020-10-16/'\n",
    "\n",
    "# # UK bednet data\n",
    "# directory = 'D:/Postdoc/Data/Semi Field Data/UK bednet trial/'\n",
    "# subdirectories = ['PHONE A', 'PHONE B']\n",
    "\n",
    "# # Thai data\n",
    "# directory = 'D:/Postdoc/MozzDetectorTestingSQL/Data/Thai/'\n",
    "# subdirectories = ['sounds']\n",
    "\n",
    "# directory = 'D:/Postdoc/MozzDetectorTestingSQL/Code/notebooks/proc_data/label_out/debug/thai'\n",
    "# dir_out = 'D:/Postdoc/MozzDetectorTestingSQL/Code/notebooks/proc_data/label_out/debug/thai'\n",
    "# subdirectories = ['']\n",
    "\n",
    "\n",
    "\n",
    "\n",
    "for subdir in subdirectories:\n",
    "    listdirectory = os.listdir(directory + subdir) # gets the name of all files in your dir\n",
    "    for filename in listdirectory: \n",
    "        if filename.endswith(\".wav\"): # check each of the files for whether or not they end in .wav:\n",
    "            print(filename)\n",
    "            LU = None\n",
    "            timestamps = VAD_pipeline(directory + subdir, filename,\n",
    "                         dir_out + subdir, agg=3, sr=8000, LU=LU)\n",
    "            if not os.path.exists(dir_out + subdir): os.makedirs(dir_out + subdir)\n",
    "            np.savetxt(dir_out + subdir + '/agg3_LU_' + str(LU) + '_VAD_pred_' + filename + '.txt', timestamps, fmt='%f', delimiter='\\t')\n",
    "            "
   ]
  },
  {
   "cell_type": "markdown",
   "metadata": {},
   "source": [
    "# Load model for detection"
   ]
  },
  {
   "cell_type": "markdown",
   "metadata": {},
   "source": [
    "## Deep learning (skip if keras/tensorflow not installed)"
   ]
  },
  {
   "cell_type": "code",
   "execution_count": 4,
   "metadata": {},
   "outputs": [
    {
     "name": "stderr",
     "output_type": "stream",
     "text": [
      "C:\\Users\\ikiskin\\AppData\\Local\\conda\\conda\\envs\\tf-gpu\\lib\\site-packages\\tensorflow\\python\\framework\\dtypes.py:516: FutureWarning: Passing (type, 1) or '1type' as a synonym of type is deprecated; in a future version of numpy, it will be understood as (type, (1,)) / '(1,)type'.\n",
      "  _np_qint8 = np.dtype([(\"qint8\", np.int8, 1)])\n",
      "C:\\Users\\ikiskin\\AppData\\Local\\conda\\conda\\envs\\tf-gpu\\lib\\site-packages\\tensorflow\\python\\framework\\dtypes.py:517: FutureWarning: Passing (type, 1) or '1type' as a synonym of type is deprecated; in a future version of numpy, it will be understood as (type, (1,)) / '(1,)type'.\n",
      "  _np_quint8 = np.dtype([(\"quint8\", np.uint8, 1)])\n",
      "C:\\Users\\ikiskin\\AppData\\Local\\conda\\conda\\envs\\tf-gpu\\lib\\site-packages\\tensorflow\\python\\framework\\dtypes.py:518: FutureWarning: Passing (type, 1) or '1type' as a synonym of type is deprecated; in a future version of numpy, it will be understood as (type, (1,)) / '(1,)type'.\n",
      "  _np_qint16 = np.dtype([(\"qint16\", np.int16, 1)])\n",
      "C:\\Users\\ikiskin\\AppData\\Local\\conda\\conda\\envs\\tf-gpu\\lib\\site-packages\\tensorflow\\python\\framework\\dtypes.py:519: FutureWarning: Passing (type, 1) or '1type' as a synonym of type is deprecated; in a future version of numpy, it will be understood as (type, (1,)) / '(1,)type'.\n",
      "  _np_quint16 = np.dtype([(\"quint16\", np.uint16, 1)])\n",
      "C:\\Users\\ikiskin\\AppData\\Local\\conda\\conda\\envs\\tf-gpu\\lib\\site-packages\\tensorflow\\python\\framework\\dtypes.py:520: FutureWarning: Passing (type, 1) or '1type' as a synonym of type is deprecated; in a future version of numpy, it will be understood as (type, (1,)) / '(1,)type'.\n",
      "  _np_qint32 = np.dtype([(\"qint32\", np.int32, 1)])\n",
      "C:\\Users\\ikiskin\\AppData\\Local\\conda\\conda\\envs\\tf-gpu\\lib\\site-packages\\tensorflow\\python\\framework\\dtypes.py:525: FutureWarning: Passing (type, 1) or '1type' as a synonym of type is deprecated; in a future version of numpy, it will be understood as (type, (1,)) / '(1,)type'.\n",
      "  np_resource = np.dtype([(\"resource\", np.ubyte, 1)])\n",
      "C:\\Users\\ikiskin\\AppData\\Local\\conda\\conda\\envs\\tf-gpu\\lib\\site-packages\\tensorboard\\compat\\tensorflow_stub\\dtypes.py:541: FutureWarning: Passing (type, 1) or '1type' as a synonym of type is deprecated; in a future version of numpy, it will be understood as (type, (1,)) / '(1,)type'.\n",
      "  _np_qint8 = np.dtype([(\"qint8\", np.int8, 1)])\n",
      "C:\\Users\\ikiskin\\AppData\\Local\\conda\\conda\\envs\\tf-gpu\\lib\\site-packages\\tensorboard\\compat\\tensorflow_stub\\dtypes.py:542: FutureWarning: Passing (type, 1) or '1type' as a synonym of type is deprecated; in a future version of numpy, it will be understood as (type, (1,)) / '(1,)type'.\n",
      "  _np_quint8 = np.dtype([(\"quint8\", np.uint8, 1)])\n",
      "C:\\Users\\ikiskin\\AppData\\Local\\conda\\conda\\envs\\tf-gpu\\lib\\site-packages\\tensorboard\\compat\\tensorflow_stub\\dtypes.py:543: FutureWarning: Passing (type, 1) or '1type' as a synonym of type is deprecated; in a future version of numpy, it will be understood as (type, (1,)) / '(1,)type'.\n",
      "  _np_qint16 = np.dtype([(\"qint16\", np.int16, 1)])\n",
      "C:\\Users\\ikiskin\\AppData\\Local\\conda\\conda\\envs\\tf-gpu\\lib\\site-packages\\tensorboard\\compat\\tensorflow_stub\\dtypes.py:544: FutureWarning: Passing (type, 1) or '1type' as a synonym of type is deprecated; in a future version of numpy, it will be understood as (type, (1,)) / '(1,)type'.\n",
      "  _np_quint16 = np.dtype([(\"quint16\", np.uint16, 1)])\n",
      "C:\\Users\\ikiskin\\AppData\\Local\\conda\\conda\\envs\\tf-gpu\\lib\\site-packages\\tensorboard\\compat\\tensorflow_stub\\dtypes.py:545: FutureWarning: Passing (type, 1) or '1type' as a synonym of type is deprecated; in a future version of numpy, it will be understood as (type, (1,)) / '(1,)type'.\n",
      "  _np_qint32 = np.dtype([(\"qint32\", np.int32, 1)])\n",
      "C:\\Users\\ikiskin\\AppData\\Local\\conda\\conda\\envs\\tf-gpu\\lib\\site-packages\\tensorboard\\compat\\tensorflow_stub\\dtypes.py:550: FutureWarning: Passing (type, 1) or '1type' as a synonym of type is deprecated; in a future version of numpy, it will be understood as (type, (1,)) / '(1,)type'.\n",
      "  np_resource = np.dtype([(\"resource\", np.ubyte, 1)])\n"
     ]
    }
   ],
   "source": [
    "from tensorflow import keras\n",
    "model = keras.models.load_model('../models/BNN/Win_40_Stride_5_CNN_log-mel_128_norm_Falseheld_out_test_manual_v2_low_epoch.h5',\n",
    "                               custom_objects={\"dropout\": 0.2})\n",
    "model_name = 'held_out_test_manual_v2_low_epoch'\n",
    "win_size=40\n",
    "step_size=40\n",
    "feat_type='log-mel'\n",
    "n_feat=128"
   ]
  },
  {
   "cell_type": "code",
   "execution_count": 5,
   "metadata": {},
   "outputs": [],
   "source": [
    "def get_wav_for_path(noise_path_names, sr):\n",
    "    x = []\n",
    "    signal_length = 0\n",
    "    for path in noise_path_names:\n",
    "#         print(path)\n",
    "        signal, _ = librosa.load(path, sr=sr)\n",
    "        x.append(signal)\n",
    "        signal_length += len(signal)/sr\n",
    "    return x, signal_length"
   ]
  },
  {
   "cell_type": "markdown",
   "metadata": {},
   "source": [
    "## Random Forest prediction"
   ]
  },
  {
   "cell_type": "code",
   "execution_count": 56,
   "metadata": {},
   "outputs": [],
   "source": [
    "model_name = 'clf_CDC_mfcc-cut20'\n",
    "with open('../models/' + model_name + '.pickle', 'rb') as handle:\n",
    "    clf = pickle.load(handle)"
   ]
  },
  {
   "cell_type": "code",
   "execution_count": 61,
   "metadata": {
    "scrolled": false
   },
   "outputs": [
    {
     "name": "stdout",
     "output_type": "stream",
     "text": [
      "2020-11-09_18.59.09.243.wav\n",
      "D:/Postdoc/Data/OneDrive_2020-11-30/IFAKARA - NOVEMBER 2020 BEDNET PHONE DOWNLOADS/9to10-11-20/A1/2020-11-09/1800/2020-11-09_18.59.09.243.wav\n",
      "[[424.576, 424.96, '0.60'], [425.216, 425.344, '0.57'], [940.416, 940.864, '0.99'], [1256.064, 1256.192, '0.51'], [1452.032, 1452.48, '0.96'], [1462.464, 1463.36, '0.84'], [1753.536, 1753.728, '0.59']]\n"
     ]
    },
    {
     "data": {
      "image/png": "[encoded data removed]",
      "text/plain": [
       "<Figure size 432x288 with 1 Axes>"
      ]
     },
     "metadata": {
      "needs_background": "light"
     },
     "output_type": "display_data"
    },
    {
     "name": "stdout",
     "output_type": "stream",
     "text": [
      "2020-11-09_19.29.14.337.wav\n",
      "D:/Postdoc/Data/OneDrive_2020-11-30/IFAKARA - NOVEMBER 2020 BEDNET PHONE DOWNLOADS/9to10-11-20/A1/2020-11-09/1900/2020-11-09_19.29.14.337.wav\n",
      "[]\n"
     ]
    },
    {
     "data": {
      "image/png": "[encoded data removed]",
      "text/plain": [
       "<Figure size 432x288 with 1 Axes>"
      ]
     },
     "metadata": {
      "needs_background": "light"
     },
     "output_type": "display_data"
    },
    {
     "name": "stdout",
     "output_type": "stream",
     "text": [
      "2020-11-09_19.59.14.331.wav\n",
      "D:/Postdoc/Data/OneDrive_2020-11-30/IFAKARA - NOVEMBER 2020 BEDNET PHONE DOWNLOADS/9to10-11-20/A1/2020-11-09/1900/2020-11-09_19.59.14.331.wav\n",
      "[]\n"
     ]
    },
    {
     "data": {
      "image/png": "[encoded data removed]",
      "text/plain": [
       "<Figure size 432x288 with 1 Axes>"
      ]
     },
     "metadata": {
      "needs_background": "light"
     },
     "output_type": "display_data"
    },
    {
     "name": "stdout",
     "output_type": "stream",
     "text": [
      "2020-11-09_20.29.14.359.wav\n",
      "D:/Postdoc/Data/OneDrive_2020-11-30/IFAKARA - NOVEMBER 2020 BEDNET PHONE DOWNLOADS/9to10-11-20/A1/2020-11-09/2000/2020-11-09_20.29.14.359.wav\n",
      "[]\n"
     ]
    },
    {
     "data": {
      "image/png": "[encoded data removed]",
      "text/plain": [
       "<Figure size 432x288 with 1 Axes>"
      ]
     },
     "metadata": {
      "needs_background": "light"
     },
     "output_type": "display_data"
    },
    {
     "name": "stdout",
     "output_type": "stream",
     "text": [
      "2020-11-09_20.59.14.355.wav\n",
      "D:/Postdoc/Data/OneDrive_2020-11-30/IFAKARA - NOVEMBER 2020 BEDNET PHONE DOWNLOADS/9to10-11-20/A1/2020-11-09/2000/2020-11-09_20.59.14.355.wav\n",
      "[[1746.368, 1746.752, '0.84']]\n"
     ]
    },
    {
     "data": {
      "image/png": "[encoded data removed]",
      "text/plain": [
       "<Figure size 432x288 with 1 Axes>"
      ]
     },
     "metadata": {
      "needs_background": "light"
     },
     "output_type": "display_data"
    },
    {
     "name": "stdout",
     "output_type": "stream",
     "text": [
      "2020-11-09_21.29.14.391.wav\n",
      "D:/Postdoc/Data/OneDrive_2020-11-30/IFAKARA - NOVEMBER 2020 BEDNET PHONE DOWNLOADS/9to10-11-20/A1/2020-11-09/2100/2020-11-09_21.29.14.391.wav\n",
      "[]\n"
     ]
    },
    {
     "data": {
      "image/png": "[encoded data removed]",
      "text/plain": [
       "<Figure size 432x288 with 1 Axes>"
      ]
     },
     "metadata": {
      "needs_background": "light"
     },
     "output_type": "display_data"
    },
    {
     "name": "stdout",
     "output_type": "stream",
     "text": [
      "2020-11-09_21.59.14.342.wav\n",
      "D:/Postdoc/Data/OneDrive_2020-11-30/IFAKARA - NOVEMBER 2020 BEDNET PHONE DOWNLOADS/9to10-11-20/A1/2020-11-09/2100/2020-11-09_21.59.14.342.wav\n",
      "[]\n"
     ]
    },
    {
     "data": {
      "image/png": "[encoded data removed]",
      "text/plain": [
       "<Figure size 432x288 with 1 Axes>"
      ]
     },
     "metadata": {
      "needs_background": "light"
     },
     "output_type": "display_data"
    },
    {
     "name": "stdout",
     "output_type": "stream",
     "text": [
      "2020-11-09_22.29.14.343.wav\n",
      "D:/Postdoc/Data/OneDrive_2020-11-30/IFAKARA - NOVEMBER 2020 BEDNET PHONE DOWNLOADS/9to10-11-20/A1/2020-11-09/2200/2020-11-09_22.29.14.343.wav\n",
      "[[326.528, 326.976, '0.97']]\n"
     ]
    },
    {
     "data": {
      "image/png": "[encoded data removed]",
      "text/plain": [
       "<Figure size 432x288 with 1 Axes>"
      ]
     },
     "metadata": {
      "needs_background": "light"
     },
     "output_type": "display_data"
    },
    {
     "name": "stdout",
     "output_type": "stream",
     "text": [
      "2020-11-09_22.59.14.358.wav\n",
      "D:/Postdoc/Data/OneDrive_2020-11-30/IFAKARA - NOVEMBER 2020 BEDNET PHONE DOWNLOADS/9to10-11-20/A1/2020-11-09/2200/2020-11-09_22.59.14.358.wav\n",
      "[[40.448, 40.832, '0.94']]\n"
     ]
    },
    {
     "data": {
      "image/png": "[encoded data removed]",
      "text/plain": [
       "<Figure size 432x288 with 1 Axes>"
      ]
     },
     "metadata": {
      "needs_background": "light"
     },
     "output_type": "display_data"
    },
    {
     "name": "stdout",
     "output_type": "stream",
     "text": [
      "2020-11-09_23.29.14.358.wav\n",
      "D:/Postdoc/Data/OneDrive_2020-11-30/IFAKARA - NOVEMBER 2020 BEDNET PHONE DOWNLOADS/9to10-11-20/A1/2020-11-09/2300/2020-11-09_23.29.14.358.wav\n",
      "[]\n"
     ]
    },
    {
     "data": {
      "image/png": "[encoded data removed]",
      "text/plain": [
       "<Figure size 432x288 with 1 Axes>"
      ]
     },
     "metadata": {
      "needs_background": "light"
     },
     "output_type": "display_data"
    },
    {
     "name": "stdout",
     "output_type": "stream",
     "text": [
      "2020-11-09_23.59.14.396.wav\n",
      "D:/Postdoc/Data/OneDrive_2020-11-30/IFAKARA - NOVEMBER 2020 BEDNET PHONE DOWNLOADS/9to10-11-20/A1/2020-11-09/2300/2020-11-09_23.59.14.396.wav\n",
      "[]\n"
     ]
    },
    {
     "data": {
      "image/png": "[encoded data removed]",
      "text/plain": [
       "<Figure size 432x288 with 1 Axes>"
      ]
     },
     "metadata": {
      "needs_background": "light"
     },
     "output_type": "display_data"
    }
   ],
   "source": [
    "sr = 8000\n",
    "to_filter = True\n",
    "kernel_size = 11\n",
    "\n",
    "directory = 'D:/Postdoc/Data/OneDrive_2020-11-30/IFAKARA - NOVEMBER 2020 BEDNET PHONE DOWNLOADS/9to10-11-20/A1/2020-11-09/'\n",
    "subdirectories = ['1800', '0019', '2000', '2100', '2200', '2300']\n",
    "dir_out = 'D:/Postdoc/MozzDetectorTestingSQL/Code/notebooks/proc_data/label_out/debug/IFAKARA - NOVEMBER 2020 BEDNET PHONE DOWNLOADS/9to10-11-20/A1/'\n",
    "\n",
    "\n",
    "for subdir in subdirectories:\n",
    "    listdirectory = os.listdir(directory + subdir) # gets the name of all files in your dir\n",
    "    for filename in listdirectory: \n",
    "        if filename.endswith(\".wav\"): # check each of the files for whether or not they end in .wav:\n",
    "            print(filename)\n",
    "            x, x_l = get_wav_for_path([directory + subdir + '/' + filename], sr =8000)\n",
    "            X = util.get_feat(x, sr=8000, feat_type='mfcc-cut', flatten = True, n_feat=20)\n",
    "           \n",
    "            preds_prob = clf.predict_proba(X)\n",
    "            \n",
    "            if to_filter:\n",
    "                preds_filt = np.zeros([len(preds_prob),2])\n",
    "                preds_filt[:,1] = medfilt(preds_prob[:,1], kernel_size=kernel_size)\n",
    "                preds_filt[:,0] = 1 - preds_prob[:,1]\n",
    "                preds_prob = preds_filt\n",
    "          \n",
    "            preds_list = util.detect_timestamps(preds_prob)\n",
    "            \n",
    "            plt.plot((1/sr)*librosa.frames_to_samples(np.arange(len(preds_prob)), hop_length=512),\n",
    "                                               preds_prob[:,1])\n",
    "            print(preds_list)\n",
    "            plt.show()\n",
    "\n",
    "            if not os.path.exists(dir_out + subdir): os.makedirs(dir_out + subdir)\n",
    "#             with open(dir_out + subdir + '/mozz_pred_list' + filename + '.pkl', 'wb') as f:\n",
    "#                 pickle.dump(preds_list, f)\n",
    "            np.savetxt(dir_out + subdir + '/' + str(model_name) + filename + '.txt', preds_list, fmt='%s', delimiter='\\t')\n",
    "                               "
   ]
  },
  {
   "cell_type": "markdown",
   "metadata": {},
   "source": [
    "# BNN prediction"
   ]
  },
  {
   "cell_type": "code",
   "execution_count": 180,
   "metadata": {
    "scrolled": false
   },
   "outputs": [
    {
     "name": "stdout",
     "output_type": "stream",
     "text": [
      "2020-11-09_18.58.35.940.wav signal length 1799.76\n",
      "[]\n",
      "2020-11-09_19.28.41.065.wav signal length 1794.72\n",
      "[]\n",
      "2020-11-09_19.58.41.029.wav signal length 1794.72\n",
      "[]\n",
      "2020-11-09_20.28.41.039.wav signal length 1794.6\n",
      "[['204.8', '207.36', '0.65 PE: 0.93 MI: 0.13'], ['1295.36', '1297.92', '0.53 PE: 1.00 MI: 0.08'], ['1446.4', '1448.96', '0.68 PE: 0.91 MI: 0.16']]\n",
      "2020-11-09_20.58.41.049.wav signal length 1794.72\n",
      "[]\n",
      "2020-11-09_21.28.41.081.wav signal length 1794.6\n",
      "[['921.6', '924.16', '0.54 PE: 0.99 MI: 0.35']]\n",
      "2020-11-09_21.58.41.039.wav signal length 1794.72\n",
      "[]\n",
      "2020-11-09_22.28.41.057.wav signal length 1794.72\n",
      "[['1221.12', '1223.68', '0.61 PE: 0.97 MI: 0.32'], ['1443.84', '1446.4', '1.00 PE: 0.04 MI: 0.01']]\n",
      "2020-11-09_22.58.41.067.wav signal length 1794.72\n",
      "[['417.28', '419.84', '0.77 PE: 0.78 MI: 0.18']]\n",
      "2020-11-09_23.28.41.058.wav signal length 1794.72\n",
      "[['501.76', '504.32', '0.71 PE: 0.87 MI: 0.15'], ['696.32', '698.88', '0.53 PE: 1.00 MI: 0.13']]\n",
      "2020-11-09_23.58.41.044.wav signal length 1794.72\n",
      "[['1221.12', '1226.24', '0.64 PE: 0.92 MI: 0.26'], ['1241.6', '1246.72', '0.80 PE: 0.51 MI: 0.08'], ['1556.48', '1559.04', '0.89 PE: 0.49 MI: 0.06']]\n",
      "2020-11-10_00.28.41.071.wav signal length 1794.6\n",
      "[['652.8', '655.36', '0.88 PE: 0.54 MI: 0.09'], ['1576.96', '1584.64', '0.96 PE: 0.20 MI: 0.04'], ['1648.64', '1651.2', '1.00 PE: 0.00 MI: 0.00']]\n",
      "2020-11-10_00.58.41.051.wav signal length 1794.72\n",
      "[['929.28', '934.4', '1.00 PE: 0.02 MI: 0.00'], ['1359.36', '1361.92', '0.77 PE: 0.77 MI: 0.06'], ['1364.48', '1367.04', '0.66 PE: 0.92 MI: 0.18']]\n",
      "2020-11-10_01.28.41.058.wav signal length 1794.72\n",
      "[['145.92', '148.48', '0.56 PE: 0.99 MI: 0.11'], ['181.76', '184.32', '0.79 PE: 0.73 MI: 0.06'], ['217.6', '220.16', '0.98 PE: 0.11 MI: 0.01']]\n",
      "2020-11-10_01.58.41.078.wav signal length 1794.72\n",
      "[]\n",
      "2020-11-10_02.28.41.072.wav signal length 1794.6\n",
      "[]\n",
      "2020-11-10_02.58.41.040.wav signal length 1794.72\n",
      "[]\n",
      "2020-11-10_03.28.41.037.wav signal length 1794.72\n",
      "[['1612.8', '1615.36', '0.58 PE: 0.98 MI: 0.08']]\n",
      "2020-11-10_03.58.41.039.wav signal length 1794.6\n",
      "[]\n",
      "2020-11-10_04.28.41.035.wav signal length 1794.72\n",
      "[['1297.92', '1300.48', '0.89 PE: 0.49 MI: 0.11']]\n",
      "2020-11-10_04.58.41.044.wav signal length 1794.72\n",
      "[['120.32', '125.44', '0.61 PE: 0.95 MI: 0.14'], ['130.56', '133.12', '0.97 PE: 0.20 MI: 0.03'], ['253.44', '256.0', '0.55 PE: 0.99 MI: 0.04'], ['279.04', '281.6', '0.55 PE: 0.99 MI: 0.06'], ['296.96', '299.52', '0.73 PE: 0.85 MI: 0.03'], ['381.44', '384.0', '0.55 PE: 0.99 MI: 0.07']]\n",
      "2020-11-10_05.28.41.050.wav signal length 1794.72\n",
      "[]\n",
      "2020-11-10_05.58.41.070.wav signal length 51.84\n",
      "[]\n",
      "2020-11-10_18.50.40.710.wav signal length 1799.76\n",
      "[]\n",
      "2020-11-10_19.20.45.830.wav signal length 1794.6\n",
      "[['852.48', '857.6', '0.81 PE: 0.69 MI: 0.39']]\n",
      "2020-11-10_19.50.45.818.wav signal length 1794.72\n",
      "[['263.68', '266.24', '0.72 PE: 0.86 MI: 0.55'], ['555.52', '558.08', '0.87 PE: 0.56 MI: 0.24']]\n",
      "2020-11-10_20.20.45.820.wav signal length 1794.72\n",
      "[]\n",
      "2020-11-10_20.50.45.846.wav signal length 1794.6\n",
      "[]\n",
      "2020-11-10_21.20.45.816.wav signal length 1794.72\n",
      "[['1671.68', '1674.24', '0.64 PE: 0.94 MI: 0.24']]\n",
      "2020-11-10_21.50.45.858.wav signal length 1794.72\n",
      "[['1710.08', '1712.64', '0.74 PE: 0.82 MI: 0.41']]\n",
      "2020-11-10_22.20.45.834.wav signal length 1794.6\n",
      "[['15.36', '17.92', '0.91 PE: 0.44 MI: 0.09'], ['51.2', '53.76', '0.51 PE: 1.00 MI: 0.36'], ['1553.92', '1556.48', '0.58 PE: 0.98 MI: 0.05'], ['1756.16', '1768.96', '0.77 PE: 0.59 MI: 0.11']]\n",
      "2020-11-10_22.50.45.812.wav signal length 1794.72\n",
      "[['552.96', '555.52', '0.70 PE: 0.88 MI: 0.47'], ['1152.0', '1154.56', '0.96 PE: 0.24 MI: 0.03']]\n",
      "2020-11-10_23.20.45.817.wav signal length 1794.72\n",
      "[['1152.0', '1154.56', '0.56 PE: 0.99 MI: 0.06']]\n",
      "2020-11-10_23.50.45.810.wav signal length 1794.6\n",
      "[]\n",
      "2020-11-11_00.20.45.841.wav signal length 1794.72\n",
      "[]\n",
      "2020-11-11_00.50.45.843.wav signal length 1794.6\n",
      "[]\n",
      "2020-11-11_01.20.45.819.wav signal length 1794.72\n",
      "[['645.12', '647.68', '0.59 PE: 0.98 MI: 0.10'], ['1397.76', '1400.32', '0.53 PE: 1.00 MI: 0.09']]\n",
      "2020-11-11_01.50.45.833.wav signal length 1794.6\n",
      "[['647.68', '650.24', '0.51 PE: 1.00 MI: 0.33'], ['1297.92', '1300.48', '0.51 PE: 1.00 MI: 0.21'], ['1454.08', '1456.64', '0.61 PE: 0.96 MI: 0.10']]\n",
      "2020-11-11_02.20.45.819.wav signal length 1794.72\n",
      "[['192.0', '194.56', '0.96 PE: 0.26 MI: 0.04'], ['302.08', '304.64', '0.52 PE: 1.00 MI: 0.14'], ['419.84', '422.4', '0.51 PE: 1.00 MI: 0.23'], ['435.2', '440.32', '0.55 PE: 0.99 MI: 0.17'], ['542.72', '545.28', '0.66 PE: 0.93 MI: 0.09'], ['844.8', '847.36', '0.51 PE: 1.00 MI: 0.05'], ['872.96', '875.52', '0.57 PE: 0.99 MI: 0.16'], ['1103.36', '1105.92', '0.52 PE: 1.00 MI: 0.26'], ['1589.76', '1592.32', '0.57 PE: 0.99 MI: 0.09']]\n",
      "2020-11-11_02.50.45.832.wav signal length 1794.72\n",
      "[]\n",
      "2020-11-11_03.20.45.836.wav signal length 1794.72\n",
      "[]\n",
      "2020-11-11_03.50.45.847.wav signal length 1794.72\n",
      "[]\n",
      "2020-11-11_04.20.45.846.wav signal length 1794.6\n",
      "[]\n",
      "2020-11-11_04.50.45.812.wav signal length 1794.72\n",
      "[]\n",
      "2020-11-11_05.20.45.818.wav signal length 1794.72\n",
      "[['386.56', '389.12', '0.86 PE: 0.57 MI: 0.03']]\n",
      "2020-11-11_05.50.45.837.wav signal length 685.92\n",
      "[]\n",
      "2020-11-11_18.47.35.999.wav signal length 1799.76\n",
      "[['803.84', '806.4', '0.76 PE: 0.79 MI: 0.14'], ['808.96', '811.52', '0.69 PE: 0.89 MI: 0.06'], ['821.76', '824.32', '0.53 PE: 1.00 MI: 0.18'], ['826.88', '832.0', '0.72 PE: 0.86 MI: 0.16']]\n",
      "2020-11-11_19.17.41.078.wav signal length 1794.72\n",
      "[['184.32', '186.88', '0.86 PE: 0.59 MI: 0.15'], ['435.2', '437.76', '0.58 PE: 0.98 MI: 0.19'], ['512.0', '514.56', '0.62 PE: 0.96 MI: 0.66'], ['770.56', '773.12', '0.56 PE: 0.99 MI: 0.21']]\n",
      "2020-11-11_19.47.41.089.wav signal length 1794.72\n",
      "[]\n",
      "2020-11-11_20.17.41.112.wav signal length 1794.72\n",
      "[]\n",
      "2020-11-11_20.47.41.093.wav signal length 1794.72\n",
      "[]\n",
      "2020-11-11_21.17.41.100.wav signal length 1794.72\n",
      "[['514.56', '517.12', '0.56 PE: 0.99 MI: 0.56'], ['1441.28', '1443.84', '0.66 PE: 0.92 MI: 0.29'], ['1448.96', '1451.52', '0.54 PE: 1.00 MI: 0.27']]\n",
      "2020-11-11_21.47.41.113.wav signal length 1794.72\n",
      "[['145.92', '148.48', '0.99 PE: 0.11 MI: 0.02']]\n",
      "2020-11-11_22.17.41.099.wav signal length 1794.72\n",
      "[['668.16', '670.72', '0.60 PE: 0.97 MI: 0.15']]\n",
      "2020-11-11_22.47.41.103.wav signal length 1794.72\n",
      "[['138.24', '145.92', '0.86 PE: 0.51 MI: 0.25']]\n",
      "2020-11-11_23.17.41.102.wav signal length 1794.72\n",
      "[['1548.8', '1551.36', '0.76 PE: 0.80 MI: 0.19']]\n",
      "2020-11-11_23.47.41.101.wav signal length 1794.72\n",
      "[['143.36', '145.92', '0.90 PE: 0.47 MI: 0.35']]\n",
      "2020-11-12_00.17.41.115.wav signal length 1794.6\n",
      "[['555.52', '558.08', '0.62 PE: 0.96 MI: 0.08']]\n",
      "2020-11-12_00.47.41.088.wav signal length 1794.72\n",
      "[['1167.36', '1169.92', '0.64 PE: 0.94 MI: 0.18'], ['1177.6', '1180.16', '0.51 PE: 1.00 MI: 0.18']]\n",
      "2020-11-12_01.17.41.103.wav signal length 1794.72\n",
      "[]\n",
      "2020-11-12_01.47.41.098.wav signal length 1794.72\n",
      "[['1454.08', '1456.64', '0.57 PE: 0.99 MI: 0.21']]\n",
      "2020-11-12_02.17.41.093.wav signal length 1794.72\n",
      "[['1269.76', '1272.32', '0.51 PE: 1.00 MI: 0.10'], ['1305.6', '1308.16', '0.50 PE: 1.00 MI: 0.15'], ['1392.64', '1395.2', '0.51 PE: 1.00 MI: 0.15'], ['1538.56', '1541.12', '0.51 PE: 1.00 MI: 0.26']]\n",
      "2020-11-12_02.47.41.096.wav signal length 1794.6\n",
      "[]\n",
      "2020-11-12_03.17.41.081.wav signal length 1794.72\n",
      "[]\n",
      "2020-11-12_03.47.41.099.wav signal length 1794.72\n",
      "[]\n",
      "2020-11-12_04.17.41.105.wav signal length 1794.6\n",
      "[]\n",
      "2020-11-12_04.47.41.096.wav signal length 1794.6\n",
      "[['916.48', '919.04', '0.54 PE: 0.99 MI: 0.07'], ['1016.32', '1018.88', '0.55 PE: 0.99 MI: 0.04'], ['1057.28', '1059.84', '0.58 PE: 0.98 MI: 0.06'], ['1095.68', '1098.24', '0.54 PE: 1.00 MI: 0.10'], ['1336.32', '1338.88', '0.70 PE: 0.88 MI: 0.22']]\n",
      "2020-11-12_05.17.41.077.wav signal length 1794.72\n",
      "[['673.28', '675.84', '0.71 PE: 0.86 MI: 0.18'], ['775.68', '778.24', '0.60 PE: 0.97 MI: 0.20'], ['796.16', '798.72', '0.56 PE: 0.99 MI: 0.23'], ['803.84', '806.4', '0.50 PE: 1.00 MI: 0.09'], ['837.12', '857.6', '0.74 PE: 0.76 MI: 0.13'], ['870.4', '872.96', '0.94 PE: 0.32 MI: 0.10'], ['885.76', '888.32', '0.71 PE: 0.87 MI: 0.05'], ['1461.76', '1464.32', '0.65 PE: 0.93 MI: 0.12']]\n",
      "2020-11-12_05.47.41.108.wav signal length 682.08\n",
      "[]\n",
      "2020-11-12_18.51.00.018.wav signal length 1799.64\n",
      "[['1602.56', '1605.12', '0.71 PE: 0.87 MI: 0.18']]\n",
      "2020-11-12_19.21.05.132.wav signal length 1794.6\n"
     ]
    },
    {
     "name": "stdout",
     "output_type": "stream",
     "text": [
      "[['1733.12', '1735.68', '0.52 PE: 1.00 MI: 0.51']]\n",
      "2020-11-12_19.51.05.126.wav signal length 1794.72\n",
      "[]\n",
      "2020-11-12_20.21.05.124.wav signal length 1794.6\n",
      "[]\n",
      "2020-11-12_20.51.05.157.wav signal length 1794.72\n",
      "[]\n",
      "2020-11-12_21.21.05.137.wav signal length 1794.72\n",
      "[['1633.28', '1635.84', '0.62 PE: 0.96 MI: 0.22'], ['1640.96', '1651.2', '0.63 PE: 0.92 MI: 0.18'], ['1653.76', '1661.44', '0.57 PE: 0.99 MI: 0.23'], ['1664.0', '1669.12', '0.69 PE: 0.87 MI: 0.26'], ['1681.92', '1684.48', '0.59 PE: 0.98 MI: 0.25']]\n",
      "2020-11-12_21.51.05.140.wav signal length 1794.6\n",
      "[['0.0', '5.12', '0.68 PE: 0.88 MI: 0.19'], ['46.08', '48.64', '0.64 PE: 0.94 MI: 0.27'], ['66.56', '74.24', '0.63 PE: 0.92 MI: 0.19'], ['138.24', '140.8', '0.50 PE: 1.00 MI: 0.45'], ['151.04', '153.6', '0.59 PE: 0.98 MI: 0.25'], ['158.72', '161.28', '0.52 PE: 1.00 MI: 0.27'], ['166.4', '168.96', '0.56 PE: 0.99 MI: 0.14'], ['176.64', '179.2', '0.74 PE: 0.83 MI: 0.36'], ['199.68', '209.92', '0.72 PE: 0.83 MI: 0.16'], ['296.96', '302.08', '0.73 PE: 0.74 MI: 0.18'], ['304.64', '317.44', '0.61 PE: 0.95 MI: 0.26'], ['332.8', '340.48', '0.70 PE: 0.82 MI: 0.25'], ['396.8', '399.36', '0.62 PE: 0.96 MI: 0.23'], ['407.04', '409.6', '0.55 PE: 0.99 MI: 0.39'], ['419.84', '422.4', '0.63 PE: 0.95 MI: 0.25']]\n",
      "2020-11-12_22.21.05.118.wav signal length 1794.72\n",
      "[['1740.8', '1743.36', '0.70 PE: 0.89 MI: 0.32']]\n",
      "2020-11-12_22.51.05.137.wav signal length 1794.72\n",
      "[]\n",
      "2020-11-12_23.21.05.131.wav signal length 1794.72\n",
      "[['532.48', '535.04', '0.98 PE: 0.13 MI: 0.02']]\n",
      "2020-11-12_23.51.05.128.wav signal length 1794.72\n",
      "[]\n",
      "2020-11-13_00.21.05.136.wav signal length 1794.72\n",
      "[]\n",
      "2020-11-13_00.51.05.134.wav signal length 1794.72\n",
      "[]\n",
      "2020-11-13_01.21.05.158.wav signal length 1794.72\n",
      "[]\n",
      "2020-11-13_01.51.05.165.wav signal length 1794.6\n",
      "[['1497.6', '1500.16', '0.55 PE: 0.99 MI: 0.11'], ['1587.2', '1589.76', '0.51 PE: 1.00 MI: 0.22'], ['1592.32', '1594.88', '0.60 PE: 0.97 MI: 0.14'], ['1610.24', '1615.36', '0.55 PE: 0.99 MI: 0.07'], ['1623.04', '1628.16', '0.59 PE: 0.98 MI: 0.19'], ['1630.72', '1635.84', '0.59 PE: 0.96 MI: 0.10'], ['1656.32', '1661.44', '0.52 PE: 1.00 MI: 0.13'], ['1674.24', '1679.36', '0.54 PE: 0.99 MI: 0.10'], ['1710.08', '1712.64', '0.61 PE: 0.97 MI: 0.13'], ['1720.32', '1725.44', '0.68 PE: 0.90 MI: 0.07'], ['1728.0', '1756.16', '0.60 PE: 0.96 MI: 0.18'], ['1758.72', '1761.28', '0.60 PE: 0.97 MI: 0.15'], ['1763.84', '1771.52', '0.57 PE: 0.98 MI: 0.13'], ['1776.64', '1779.2', '0.61 PE: 0.96 MI: 0.06'], ['1781.76', '1784.32', '0.57 PE: 0.99 MI: 0.07'], ['1786.88', '1789.44', '0.88 PE: 0.52 MI: 0.04']]\n",
      "2020-11-13_02.21.05.128.wav signal length 1794.72\n",
      "[['2.56', '5.12', '0.63 PE: 0.95 MI: 0.06'], ['48.64', '51.2', '0.52 PE: 1.00 MI: 0.21'], ['197.12', '199.68', '0.51 PE: 1.00 MI: 0.24'], ['207.36', '209.92', '0.55 PE: 0.99 MI: 0.18'], ['212.48', '217.6', '0.55 PE: 0.99 MI: 0.19'], ['222.72', '227.84', '0.58 PE: 0.98 MI: 0.11'], ['230.4', '238.08', '0.57 PE: 0.98 MI: 0.15'], ['243.2', '248.32', '0.62 PE: 0.95 MI: 0.10'], ['250.88', '253.44', '0.50 PE: 1.00 MI: 0.15'], ['325.12', '327.68', '0.61 PE: 0.97 MI: 0.20'], ['335.36', '343.04', '0.66 PE: 0.92 MI: 0.14'], ['360.96', '363.52', '0.55 PE: 0.99 MI: 0.07'], ['368.64', '399.36', '0.60 PE: 0.95 MI: 0.15'], ['401.92', '440.32', '0.70 PE: 0.85 MI: 0.15'], ['445.44', '448.0', '0.66 PE: 0.93 MI: 0.10'], ['450.56', '453.12', '0.63 PE: 0.95 MI: 0.09'], ['465.92', '473.6', '0.58 PE: 0.98 MI: 0.16'], ['491.52', '494.08', '0.66 PE: 0.93 MI: 0.10'], ['496.64', '501.76', '0.66 PE: 0.90 MI: 0.11'], ['504.32', '514.56', '0.59 PE: 0.96 MI: 0.15'], ['517.12', '524.8', '0.58 PE: 0.98 MI: 0.16'], ['527.36', '529.92', '0.55 PE: 0.99 MI: 0.20'], ['532.48', '535.04', '0.57 PE: 0.98 MI: 0.25'], ['537.6', '540.16', '0.59 PE: 0.97 MI: 0.23'], ['542.72', '550.4', '0.64 PE: 0.94 MI: 0.16'], ['552.96', '555.52', '0.73 PE: 0.84 MI: 0.06'], ['558.08', '573.44', '0.66 PE: 0.91 MI: 0.16'], ['576.0', '578.56', '0.64 PE: 0.94 MI: 0.20'], ['586.24', '588.8', '0.70 PE: 0.88 MI: 0.09'], ['599.04', '604.16', '0.57 PE: 0.99 MI: 0.12'], ['619.52', '622.08', '0.56 PE: 0.99 MI: 0.13'], ['634.88', '637.44', '0.55 PE: 0.99 MI: 0.18'], ['650.24', '655.36', '0.59 PE: 0.96 MI: 0.15'], ['657.92', '660.48', '0.69 PE: 0.90 MI: 0.23'], ['663.04', '680.96', '0.65 PE: 0.89 MI: 0.15'], ['686.08', '691.2', '0.57 PE: 0.99 MI: 0.15'], ['693.76', '696.32', '0.58 PE: 0.98 MI: 0.11'], ['698.88', '711.68', '0.60 PE: 0.96 MI: 0.19'], ['714.24', '716.8', '0.74 PE: 0.83 MI: 0.05'], ['719.36', '737.28', '0.68 PE: 0.88 MI: 0.11'], ['739.84', '783.36', '0.74 PE: 0.80 MI: 0.15'], ['785.92', '788.48', '0.78 PE: 0.75 MI: 0.10'], ['791.04', '816.64', '0.66 PE: 0.90 MI: 0.14'], ['819.2', '839.68', '0.65 PE: 0.91 MI: 0.17'], ['842.24', '857.6', '0.65 PE: 0.92 MI: 0.18'], ['860.16', '865.28', '0.58 PE: 0.98 MI: 0.13'], ['867.84', '870.4', '0.52 PE: 1.00 MI: 0.20'], ['875.52', '878.08', '0.55 PE: 0.99 MI: 0.09'], ['885.76', '896.0', '0.68 PE: 0.88 MI: 0.15'], ['908.8', '911.36', '0.73 PE: 0.84 MI: 0.14'], ['913.92', '916.48', '0.57 PE: 0.99 MI: 0.13'], ['919.04', '921.6', '0.64 PE: 0.94 MI: 0.15'], ['924.16', '944.64', '0.68 PE: 0.88 MI: 0.15'], ['947.2', '949.76', '0.60 PE: 0.97 MI: 0.22'], ['952.32', '960.0', '0.68 PE: 0.88 MI: 0.14'], ['962.56', '965.12', '0.61 PE: 0.96 MI: 0.15'], ['972.8', '977.92', '0.65 PE: 0.91 MI: 0.12'], ['980.48', '983.04', '0.69 PE: 0.90 MI: 0.21'], ['988.16', '998.4', '0.60 PE: 0.93 MI: 0.19'], ['1000.96', '1013.76', '0.63 PE: 0.92 MI: 0.22'], ['1018.88', '1044.48', '0.60 PE: 0.96 MI: 0.16'], ['1047.04', '1049.6', '0.68 PE: 0.91 MI: 0.21'], ['1052.16', '1054.72', '0.57 PE: 0.99 MI: 0.11'], ['1057.28', '1067.52', '0.59 PE: 0.96 MI: 0.15'], ['1070.08', '1075.2', '0.61 PE: 0.96 MI: 0.22'], ['1082.88', '1088.0', '0.59 PE: 0.98 MI: 0.10'], ['1093.12', '1098.24', '0.59 PE: 0.96 MI: 0.13'], ['1103.36', '1105.92', '0.65 PE: 0.93 MI: 0.20'], ['1108.48', '1116.16', '0.69 PE: 0.88 MI: 0.13'], ['1118.72', '1121.28', '0.91 PE: 0.45 MI: 0.11'], ['1123.84', '1139.2', '0.62 PE: 0.93 MI: 0.12'], ['1141.76', '1180.16', '0.70 PE: 0.85 MI: 0.14'], ['1187.84', '1213.44', '0.74 PE: 0.78 MI: 0.14'], ['1218.56', '1315.84', '0.77 PE: 0.74 MI: 0.12'], ['1715.2', '1717.76', '0.51 PE: 1.00 MI: 0.08']]\n",
      "2020-11-13_02.51.05.143.wav signal length 1794.6\n",
      "[['97.28', '99.84', '0.64 PE: 0.94 MI: 0.09'], ['104.96', '107.52', '0.67 PE: 0.91 MI: 0.04'], ['335.36', '337.92', '0.60 PE: 0.97 MI: 0.04']]\n",
      "2020-11-13_03.21.05.137.wav signal length 1794.72\n",
      "[['529.92', '535.04', '0.79 PE: 0.49 MI: 0.06']]\n",
      "2020-11-13_03.51.05.137.wav signal length 1794.72\n",
      "[]\n",
      "2020-11-13_04.21.05.145.wav signal length 1794.72\n",
      "[]\n",
      "2020-11-13_04.51.05.136.wav signal length 1794.72\n",
      "[]\n",
      "2020-11-13_05.21.05.149.wav signal length 1794.72\n",
      "[]\n",
      "2020-11-13_05.51.05.140.wav signal length 540.12\n",
      "[]\n",
      "2020-11-16_18.52.02.575.wav signal length 1799.76\n",
      "[['547.84', '550.4', '0.97 PE: 0.22 MI: 0.06'], ['624.64', '627.2', '0.80 PE: 0.72 MI: 0.12'], ['673.28', '675.84', '0.54 PE: 0.99 MI: 0.19'], ['967.68', '970.24', '0.53 PE: 1.00 MI: 0.14'], ['975.36', '977.92', '0.51 PE: 1.00 MI: 0.23']]\n",
      "2020-11-16_19.22.07.713.wav signal length 1794.6\n",
      "[['537.6', '540.16', '0.52 PE: 1.00 MI: 0.10']]\n",
      "2020-11-16_19.52.07.658.wav signal length 1794.72\n",
      "[['212.48', '215.04', '0.97 PE: 0.20 MI: 0.09']]\n",
      "2020-11-16_20.22.07.692.wav signal length 1794.6\n",
      "[['721.92', '724.48', '0.55 PE: 0.99 MI: 0.13'], ['729.6', '732.16', '0.63 PE: 0.95 MI: 0.22'], ['775.68', '778.24', '0.84 PE: 0.63 MI: 0.11'], ['808.96', '811.52', '0.51 PE: 1.00 MI: 0.28'], ['844.8', '847.36', '0.55 PE: 0.99 MI: 0.18'], ['957.44', '960.0', '0.54 PE: 1.00 MI: 0.21'], ['1000.96', '1003.52', '0.59 PE: 0.98 MI: 0.20'], ['1013.76', '1018.88', '0.69 PE: 0.80 MI: 0.22'], ['1026.56', '1029.12', '0.75 PE: 0.81 MI: 0.18'], ['1034.24', '1039.36', '0.83 PE: 0.51 MI: 0.13'], ['1049.6', '1054.72', '0.75 PE: 0.56 MI: 0.18'], ['1059.84', '1064.96', '0.67 PE: 0.91 MI: 0.42'], ['1072.64', '1075.2', '0.54 PE: 1.00 MI: 0.29'], ['1326.08', '1328.64', '0.50 PE: 1.00 MI: 0.24'], ['1356.8', '1359.36', '0.68 PE: 0.91 MI: 0.28'], ['1361.92', '1364.48', '0.55 PE: 0.99 MI: 0.11'], ['1466.88', '1469.44', '0.61 PE: 0.97 MI: 0.27'], ['1561.6', '1564.16', '1.00 PE: 0.02 MI: 0.00'], ['1602.56', '1605.12', '0.82 PE: 0.68 MI: 0.12'], ['1671.68', '1676.8', '0.87 PE: 0.51 MI: 0.23']]\n"
     ]
    },
    {
     "name": "stdout",
     "output_type": "stream",
     "text": [
      "2020-11-16_20.52.07.664.wav signal length 1794.72\n",
      "[['238.08', '240.64', '0.52 PE: 1.00 MI: 0.28'], ['243.2', '245.76', '0.68 PE: 0.90 MI: 0.53'], ['302.08', '307.2', '0.74 PE: 0.78 MI: 0.43'], ['325.12', '327.68', '0.96 PE: 0.23 MI: 0.10'], ['1267.2', '1269.76', '0.71 PE: 0.86 MI: 0.34'], ['1372.16', '1374.72', '0.91 PE: 0.42 MI: 0.29'], ['1733.12', '1743.36', '0.84 PE: 0.49 MI: 0.16']]\n",
      "2020-11-16_21.22.07.694.wav signal length 1794.72\n",
      "[['0.0', '5.12', '0.63 PE: 0.95 MI: 0.33'], ['15.36', '17.92', '0.78 PE: 0.75 MI: 0.38'], ['48.64', '51.2', '0.76 PE: 0.80 MI: 0.31'], ['56.32', '58.88', '0.57 PE: 0.98 MI: 0.32'], ['61.44', '64.0', '0.96 PE: 0.22 MI: 0.06'], ['66.56', '74.24', '0.66 PE: 0.82 MI: 0.40'], ['76.8', '79.36', '0.66 PE: 0.92 MI: 0.16'], ['99.84', '110.08', '0.64 PE: 0.93 MI: 0.38'], ['755.2', '757.76', '0.90 PE: 0.48 MI: 0.28'], ['785.92', '788.48', '0.99 PE: 0.07 MI: 0.01'], ['1128.96', '1131.52', '0.64 PE: 0.95 MI: 0.74'], ['1203.2', '1205.76', '0.91 PE: 0.44 MI: 0.27'], ['1208.32', '1210.88', '0.77 PE: 0.77 MI: 0.53'], ['1226.24', '1228.8', '0.56 PE: 0.99 MI: 0.60'], ['1287.68', '1290.24', '0.62 PE: 0.96 MI: 0.39'], ['1410.56', '1413.12', '0.97 PE: 0.22 MI: 0.05']]\n",
      "2020-11-16_21.52.07.671.wav signal length 1794.72\n",
      "[]\n",
      "2020-11-16_22.22.07.668.wav signal length 1794.72\n",
      "[['540.16', '542.72', '1.00 PE: 0.03 MI: 0.01'], ['1674.24', '1676.8', '0.72 PE: 0.85 MI: 0.33']]\n",
      "2020-11-16_22.52.07.675.wav signal length 1794.72\n",
      "[['547.84', '550.4', '0.62 PE: 0.96 MI: 0.47'], ['990.72', '995.84', '0.60 PE: 0.97 MI: 0.25'], ['1287.68', '1290.24', '0.66 PE: 0.93 MI: 0.42']]\n",
      "2020-11-16_23.22.07.673.wav signal length 1794.72\n",
      "[['1146.88', '1149.44', '0.54 PE: 0.99 MI: 0.30'], ['1351.68', '1354.24', '0.50 PE: 1.00 MI: 0.12'], ['1671.68', '1679.36', '0.71 PE: 0.79 MI: 0.33']]\n",
      "2020-11-16_23.52.07.674.wav signal length 1794.72\n",
      "[]\n",
      "2020-11-17_00.22.07.677.wav signal length 1794.72\n",
      "[]\n",
      "2020-11-17_00.52.07.668.wav signal length 1794.72\n",
      "[['1725.44', '1728.0', '0.58 PE: 0.98 MI: 0.13'], ['1751.04', '1753.6', '0.50 PE: 1.00 MI: 0.12']]\n",
      "2020-11-17_01.22.07.682.wav signal length 1794.6\n",
      "[]\n",
      "2020-11-17_01.52.07.665.wav signal length 1794.72\n",
      "[]\n",
      "2020-11-17_02.22.07.663.wav signal length 1794.72\n",
      "[['1144.32', '1146.88', '0.55 PE: 0.99 MI: 0.12']]\n",
      "2020-11-17_02.52.07.700.wav signal length 1794.6\n",
      "[['145.92', '148.48', '0.51 PE: 1.00 MI: 0.12'], ['924.16', '926.72', '0.59 PE: 0.98 MI: 0.06']]\n",
      "2020-11-17_03.22.07.666.wav signal length 1794.72\n",
      "[]\n",
      "2020-11-17_03.52.07.681.wav signal length 1794.72\n",
      "[['1697.28', '1699.84', '0.54 PE: 0.99 MI: 0.29']]\n",
      "2020-11-17_04.22.07.683.wav signal length 1794.6\n",
      "[]\n",
      "2020-11-17_04.52.07.662.wav signal length 1794.72\n",
      "[['824.32', '829.44', '0.75 PE: 0.81 MI: 0.20']]\n",
      "2020-11-17_05.22.07.688.wav signal length 1794.72\n",
      "[]\n",
      "2020-11-17_05.52.07.693.wav signal length 528.84\n",
      "[['327.68', '330.24', '0.87 PE: 0.57 MI: 0.10']]\n",
      "2020-11-17_19.00.32.294.wav signal length 1799.76\n",
      "[['1256.96', '1259.52', '0.52 PE: 1.00 MI: 0.35'], ['1646.08', '1648.64', '0.72 PE: 0.85 MI: 0.20'], ['1664.0', '1666.56', '0.52 PE: 1.00 MI: 0.23'], ['1728.0', '1733.12', '0.57 PE: 0.99 MI: 0.23']]\n",
      "2020-11-17_19.30.37.411.wav signal length 1794.72\n",
      "[['15.36', '17.92', '0.61 PE: 0.96 MI: 0.43'], ['20.48', '25.6', '0.67 PE: 0.87 MI: 0.16'], ['40.96', '43.52', '0.68 PE: 0.91 MI: 0.12'], ['46.08', '53.76', '0.66 PE: 0.92 MI: 0.26'], ['81.92', '84.48', '0.52 PE: 1.00 MI: 0.38'], ['94.72', '97.28', '0.59 PE: 0.98 MI: 0.28'], ['112.64', '115.2', '0.55 PE: 0.99 MI: 0.09'], ['389.12', '396.8', '0.59 PE: 0.97 MI: 0.31'], ['399.36', '401.92', '0.55 PE: 0.99 MI: 0.39'], ['409.6', '412.16', '0.83 PE: 0.66 MI: 0.20'], ['414.72', '417.28', '0.50 PE: 1.00 MI: 0.20'], ['481.28', '494.08', '0.70 PE: 0.86 MI: 0.20'], ['496.64', '499.2', '0.53 PE: 1.00 MI: 0.23'], ['532.48', '535.04', '0.53 PE: 1.00 MI: 0.26'], ['547.84', '550.4', '0.62 PE: 0.96 MI: 0.30'], ['563.2', '565.76', '0.50 PE: 1.00 MI: 0.34'], ['570.88', '573.44', '0.57 PE: 0.99 MI: 0.22'], ['578.56', '596.48', '0.76 PE: 0.69 MI: 0.19'], ['616.96', '619.52', '0.65 PE: 0.93 MI: 0.37'], ['624.64', '627.2', '0.73 PE: 0.85 MI: 0.17'], ['734.72', '737.28', '0.61 PE: 0.97 MI: 0.39'], ['773.12', '775.68', '0.62 PE: 0.96 MI: 0.44'], ['780.8', '783.36', '0.64 PE: 0.94 MI: 0.17'], ['785.92', '793.6', '0.75 PE: 0.74 MI: 0.13'], ['798.72', '811.52', '0.69 PE: 0.88 MI: 0.23'], ['814.08', '819.2', '0.69 PE: 0.77 MI: 0.21'], ['849.92', '855.04', '0.53 PE: 1.00 MI: 0.32'], ['872.96', '875.52', '0.71 PE: 0.86 MI: 0.26'], ['926.72', '929.28', '0.52 PE: 1.00 MI: 0.30'], ['936.96', '947.2', '0.62 PE: 0.92 MI: 0.26'], ['965.12', '967.68', '0.77 PE: 0.77 MI: 0.20'], ['980.48', '985.6', '0.61 PE: 0.96 MI: 0.27'], ['988.16', '990.72', '0.67 PE: 0.92 MI: 0.21'], ['993.28', '998.4', '0.69 PE: 0.89 MI: 0.25'], ['1008.64', '1018.88', '0.66 PE: 0.89 MI: 0.21'], ['1021.44', '1026.56', '0.79 PE: 0.72 MI: 0.24'], ['1029.12', '1031.68', '0.70 PE: 0.88 MI: 0.16'], ['1036.8', '1039.36', '0.67 PE: 0.91 MI: 0.30'], ['1047.04', '1049.6', '0.58 PE: 0.98 MI: 0.36'], ['1052.16', '1054.72', '0.63 PE: 0.95 MI: 0.24'], ['1057.28', '1075.2', '0.69 PE: 0.86 MI: 0.31'], ['1082.88', '1088.0', '0.68 PE: 0.89 MI: 0.23'], ['1093.12', '1098.24', '0.61 PE: 0.96 MI: 0.28'], ['1103.36', '1105.92', '0.63 PE: 0.95 MI: 0.33'], ['1113.6', '1116.16', '0.52 PE: 1.00 MI: 0.37'], ['1121.28', '1123.84', '0.73 PE: 0.85 MI: 0.17'], ['1126.4', '1128.96', '0.58 PE: 0.98 MI: 0.31'], ['1152.0', '1154.56', '0.73 PE: 0.84 MI: 0.41'], ['1159.68', '1162.24', '0.94 PE: 0.33 MI: 0.20'], ['1233.92', '1239.04', '0.98 PE: 0.12 MI: 0.06'], ['1241.6', '1251.84', '0.67 PE: 0.84 MI: 0.14'], ['1254.4', '1256.96', '0.72 PE: 0.85 MI: 0.25'], ['1313.28', '1318.4', '0.67 PE: 0.89 MI: 0.28'], ['1413.12', '1415.68', '0.62 PE: 0.96 MI: 0.07'], ['1436.16', '1438.72', '0.57 PE: 0.98 MI: 0.26'], ['1448.96', '1451.52', '0.67 PE: 0.92 MI: 0.25'], ['1512.96', '1515.52', '0.55 PE: 0.99 MI: 0.29'], ['1518.08', '1530.88', '0.67 PE: 0.89 MI: 0.27'], ['1610.24', '1615.36', '0.60 PE: 0.96 MI: 0.27'], ['1643.52', '1651.2', '0.71 PE: 0.82 MI: 0.16'], ['1653.76', '1656.32', '0.85 PE: 0.60 MI: 0.33'], ['1694.72', '1697.28', '0.50 PE: 1.00 MI: 0.27'], ['1722.88', '1725.44', '0.51 PE: 1.00 MI: 0.43'], ['1735.68', '1738.24', '0.68 PE: 0.91 MI: 0.20'], ['1745.92', '1748.48', '0.50 PE: 1.00 MI: 0.24'], ['1758.72', '1761.28', '0.57 PE: 0.99 MI: 0.36'], ['1763.84', '1768.96', '0.57 PE: 0.98 MI: 0.17']]\n",
      "2020-11-17_20.00.37.417.wav signal length 1794.72\n",
      "[]\n",
      "2020-11-17_20.30.37.432.wav signal length 1794.72\n",
      "[]\n",
      "2020-11-17_21.00.37.406.wav signal length 1794.72\n",
      "[]\n",
      "2020-11-17_21.30.37.419.wav signal length 1794.72\n",
      "[['1159.68', '1175.04', '0.85 PE: 0.34 MI: 0.17']]\n",
      "2020-11-17_22.00.37.421.wav signal length 1794.72\n",
      "[]\n",
      "2020-11-17_22.30.37.417.wav signal length 1794.72\n",
      "[['1159.68', '1162.24', '0.90 PE: 0.47 MI: 0.27']]\n",
      "2020-11-17_23.00.37.420.wav signal length 1794.72\n",
      "[]\n",
      "2020-11-17_23.30.37.396.wav signal length 1794.72\n",
      "[['1164.8', '1167.36', '0.99 PE: 0.07 MI: 0.03']]\n",
      "2020-11-18_00.00.37.437.wav signal length 1794.6\n",
      "[]\n",
      "2020-11-18_00.30.37.415.wav signal length 1794.72\n",
      "[]\n",
      "2020-11-18_01.00.37.418.wav signal length 1794.72\n",
      "[['596.48', '599.04', '0.56 PE: 0.99 MI: 0.12']]\n",
      "2020-11-18_01.30.37.408.wav signal length 1794.72\n",
      "[]\n",
      "2020-11-18_02.00.37.423.wav signal length 1794.6\n",
      "[]\n",
      "2020-11-18_02.30.37.407.wav signal length 1794.72\n",
      "[]\n",
      "2020-11-18_03.00.37.421.wav signal length 1794.72\n",
      "[]\n",
      "2020-11-18_03.30.37.431.wav signal length 1794.6\n",
      "[]\n",
      "2020-11-18_04.00.37.396.wav signal length 1794.72\n",
      "[['693.76', '696.32', '0.51 PE: 1.00 MI: 0.30']]\n",
      "2020-11-18_04.30.37.431.wav signal length 1794.72\n",
      "[]\n",
      "2020-11-18_05.00.37.410.wav signal length 1794.72\n",
      "[]\n",
      "2020-11-18_05.30.37.425.wav signal length 1478.52\n",
      "[['832.0', '834.56', '0.62 PE: 0.96 MI: 0.11'], ['839.68', '842.24', '0.80 PE: 0.73 MI: 0.31'], ['849.92', '852.48', '0.51 PE: 1.00 MI: 0.16']]\n",
      "2020-11-18_18.57.20.652.wav signal length 1799.76\n",
      "[['120.32', '122.88', '0.64 PE: 0.94 MI: 0.10'], ['524.8', '527.36', '0.57 PE: 0.99 MI: 0.43'], ['535.04', '537.6', '0.62 PE: 0.96 MI: 0.28'], ['540.16', '542.72', '0.69 PE: 0.89 MI: 0.16'], ['724.48', '727.04', '0.66 PE: 0.93 MI: 0.22'], ['824.32', '826.88', '0.78 PE: 0.76 MI: 0.12'], ['1026.56', '1029.12', '0.52 PE: 1.00 MI: 0.10'], ['1748.48', '1751.04', '0.65 PE: 0.93 MI: 0.07']]\n"
     ]
    },
    {
     "name": "stdout",
     "output_type": "stream",
     "text": [
      "2020-11-18_19.27.25.751.wav signal length 1794.72\n",
      "[['10.24', '15.36', '0.57 PE: 0.99 MI: 0.25'], ['87.04', '89.6', '0.83 PE: 0.67 MI: 0.15'], ['202.24', '204.8', '0.73 PE: 0.84 MI: 0.29'], ['222.72', '225.28', '0.58 PE: 0.98 MI: 0.20'], ['276.48', '279.04', '0.99 PE: 0.11 MI: 0.01'], ['371.2', '373.76', '0.84 PE: 0.64 MI: 0.14'], ['376.32', '381.44', '0.79 PE: 0.74 MI: 0.22'], ['903.68', '908.8', '0.71 PE: 0.71 MI: 0.20'], ['1300.48', '1303.04', '0.69 PE: 0.89 MI: 0.33'], ['1318.4', '1323.52', '0.61 PE: 0.94 MI: 0.35'], ['1477.12', '1479.68', '0.69 PE: 0.89 MI: 0.41'], ['1482.24', '1484.8', '0.60 PE: 0.97 MI: 0.09'], ['1615.36', '1620.48', '0.56 PE: 0.99 MI: 0.23']]\n",
      "2020-11-18_19.57.25.735.wav signal length 1794.6\n",
      "[['302.08', '304.64', '0.54 PE: 1.00 MI: 0.16'], ['476.16', '478.72', '0.73 PE: 0.84 MI: 0.38'], ['527.36', '529.92', '0.53 PE: 1.00 MI: 0.27'], ['552.96', '555.52', '0.75 PE: 0.81 MI: 0.21'], ['611.84', '614.4', '0.95 PE: 0.28 MI: 0.05'], ['616.96', '619.52', '0.82 PE: 0.68 MI: 0.27'], ['663.04', '665.6', '0.92 PE: 0.41 MI: 0.14'], ['698.88', '701.44', '0.80 PE: 0.71 MI: 0.21'], ['757.76', '760.32', '0.51 PE: 1.00 MI: 0.49'], ['765.44', '768.0', '0.64 PE: 0.94 MI: 0.19'], ['1041.92', '1044.48', '0.97 PE: 0.21 MI: 0.05'], ['1123.84', '1126.4', '0.80 PE: 0.71 MI: 0.19'], ['1144.32', '1146.88', '0.99 PE: 0.10 MI: 0.01'], ['1318.4', '1320.96', '0.82 PE: 0.68 MI: 0.25'], ['1323.52', '1336.32', '0.92 PE: 0.27 MI: 0.13'], ['1402.88', '1405.44', '0.53 PE: 1.00 MI: 0.25'], ['1543.68', '1546.24', '0.68 PE: 0.91 MI: 0.43'], ['1553.92', '1556.48', '0.98 PE: 0.13 MI: 0.04'], ['1559.04', '1566.72', '0.96 PE: 0.20 MI: 0.06'], ['1569.28', '1571.84', '0.82 PE: 0.69 MI: 0.16'], ['1589.76', '1592.32', '0.57 PE: 0.98 MI: 0.42'], ['1607.68', '1610.24', '0.65 PE: 0.94 MI: 0.38'], ['1653.76', '1661.44', '1.00 PE: 0.03 MI: 0.01'], ['1699.84', '1702.4', '0.80 PE: 0.73 MI: 0.34'], ['1712.64', '1715.2', '0.51 PE: 1.00 MI: 0.52'], ['1728.0', '1730.56', '0.97 PE: 0.18 MI: 0.06'], ['1748.48', '1751.04', '0.67 PE: 0.92 MI: 0.41'], ['1756.16', '1758.72', '1.00 PE: 0.00 MI: 0.00'], ['1774.08', '1776.64', '0.97 PE: 0.19 MI: 0.06'], ['1786.88', '1789.44', '0.91 PE: 0.45 MI: 0.10'], ['1792.0', '1794.496', '0.53 PE: 1.00 MI: 0.27']]\n",
      "2020-11-18_20.27.25.722.wav signal length 1794.72\n",
      "[['2.56', '10.24', '0.72 PE: 0.73 MI: 0.12'], ['15.36', '17.92', '0.95 PE: 0.31 MI: 0.11'], ['401.92', '404.48', '0.52 PE: 1.00 MI: 0.20'], ['522.24', '524.8', '0.73 PE: 0.84 MI: 0.48'], ['614.4', '616.96', '0.64 PE: 0.95 MI: 0.09'], ['844.8', '847.36', '0.59 PE: 0.98 MI: 0.10'], ['1105.92', '1108.48', '0.56 PE: 0.99 MI: 0.07'], ['1774.08', '1776.64', '0.53 PE: 1.00 MI: 0.38']]\n",
      "2020-11-18_20.57.25.710.wav signal length 1794.72\n",
      "[['258.56', '261.12', '0.79 PE: 0.73 MI: 0.11'], ['273.92', '276.48', '0.53 PE: 1.00 MI: 0.26'], ['330.24', '332.8', '0.76 PE: 0.79 MI: 0.32'], ['343.04', '345.6', '0.89 PE: 0.49 MI: 0.17'], ['665.6', '668.16', '0.56 PE: 0.99 MI: 0.30'], ['678.4', '683.52', '0.75 PE: 0.59 MI: 0.08'], ['711.68', '714.24', '0.71 PE: 0.86 MI: 0.12'], ['729.6', '732.16', '0.85 PE: 0.61 MI: 0.09'], ['737.28', '739.84', '0.51 PE: 1.00 MI: 0.25'], ['750.08', '752.64', '0.52 PE: 1.00 MI: 0.25'], ['757.76', '760.32', '0.60 PE: 0.97 MI: 0.18'], ['898.56', '901.12', '0.80 PE: 0.73 MI: 0.12'], ['908.8', '911.36', '0.55 PE: 0.99 MI: 0.44'], ['998.4', '1000.96', '0.59 PE: 0.98 MI: 0.22'], ['1049.6', '1052.16', '0.64 PE: 0.94 MI: 0.19']]\n",
      "2020-11-18_21.27.25.715.wav signal length 1794.72\n",
      "[['256.0', '266.24', '0.72 PE: 0.80 MI: 0.08'], ['268.8', '271.36', '0.55 PE: 0.99 MI: 0.08'], ['284.16', '286.72', '0.63 PE: 0.95 MI: 0.28'], ['289.28', '291.84', '0.79 PE: 0.73 MI: 0.23'], ['299.52', '307.2', '0.82 PE: 0.61 MI: 0.09'], ['314.88', '317.44', '0.66 PE: 0.93 MI: 0.15'], ['355.84', '360.96', '0.67 PE: 0.91 MI: 0.17'], ['409.6', '412.16', '0.61 PE: 0.97 MI: 0.18'], ['432.64', '453.12', '0.74 PE: 0.67 MI: 0.18'], ['455.68', '458.24', '0.64 PE: 0.94 MI: 0.47'], ['852.48', '855.04', '0.54 PE: 0.99 MI: 0.61'], ['942.08', '944.64', '0.64 PE: 0.94 MI: 0.52'], ['967.68', '970.24', '0.70 PE: 0.88 MI: 0.38'], ['1057.28', '1059.84', '0.52 PE: 1.00 MI: 0.20'], ['1062.4', '1064.96', '0.79 PE: 0.74 MI: 0.17'], ['1121.28', '1123.84', '0.63 PE: 0.95 MI: 0.22'], ['1134.08', '1136.64', '0.56 PE: 0.99 MI: 0.19'], ['1159.68', '1162.24', '0.52 PE: 1.00 MI: 0.21'], ['1251.84', '1254.4', '0.57 PE: 0.99 MI: 0.28'], ['1262.08', '1264.64', '0.56 PE: 0.99 MI: 0.12'], ['1274.88', '1277.44', '0.52 PE: 1.00 MI: 0.11'], ['1323.52', '1326.08', '0.52 PE: 1.00 MI: 0.19'], ['1331.2', '1333.76', '0.61 PE: 0.97 MI: 0.27'], ['1346.56', '1349.12', '0.53 PE: 1.00 MI: 0.21'], ['1356.8', '1359.36', '0.87 PE: 0.55 MI: 0.38'], ['1392.64', '1395.2', '0.58 PE: 0.98 MI: 0.16'], ['1436.16', '1438.72', '0.57 PE: 0.98 MI: 0.23'], ['1441.28', '1443.84', '0.76 PE: 0.80 MI: 0.14'], ['1461.76', '1464.32', '0.62 PE: 0.96 MI: 0.26'], ['1469.44', '1472.0', '0.87 PE: 0.55 MI: 0.04'], ['1474.56', '1477.12', '0.67 PE: 0.92 MI: 0.35'], ['1482.24', '1484.8', '0.55 PE: 0.99 MI: 0.33'], ['1556.48', '1559.04', '0.59 PE: 0.98 MI: 0.23']]\n",
      "2020-11-18_21.57.25.735.wav signal length 1794.72\n",
      "[['2.56', '5.12', '0.61 PE: 0.97 MI: 0.18']]\n",
      "2020-11-18_22.27.25.739.wav signal length 1794.6\n",
      "[]\n",
      "2020-11-18_22.57.25.726.wav signal length 1794.72\n",
      "[]\n",
      "2020-11-18_23.27.25.734.wav signal length 1794.6\n",
      "[]\n",
      "2020-11-18_23.57.25.706.wav signal length 1794.72\n",
      "[]\n",
      "2020-11-19_00.27.25.721.wav signal length 1794.72\n",
      "[['422.4', '424.96', '0.94 PE: 0.33 MI: 0.05'], ['983.04', '990.72', '0.64 PE: 0.85 MI: 0.07'], ['993.28', '995.84', '0.92 PE: 0.41 MI: 0.03'], ['1003.52', '1006.08', '0.99 PE: 0.07 MI: 0.01'], ['1018.88', '1021.44', '0.57 PE: 0.98 MI: 0.18'], ['1024.0', '1026.56', '0.87 PE: 0.56 MI: 0.03'], ['1031.68', '1034.24', '0.90 PE: 0.46 MI: 0.03'], ['1052.16', '1057.28', '0.81 PE: 0.58 MI: 0.07'], ['1059.84', '1067.52', '0.68 PE: 0.85 MI: 0.08'], ['1075.2', '1077.76', '0.89 PE: 0.49 MI: 0.07'], ['1093.12', '1105.92', '0.84 PE: 0.43 MI: 0.06'], ['1111.04', '1113.6', '0.77 PE: 0.78 MI: 0.05'], ['1118.72', '1126.4', '0.74 PE: 0.80 MI: 0.10'], ['1136.64', '1141.76', '0.75 PE: 0.74 MI: 0.09'], ['1146.88', '1152.0', '0.86 PE: 0.58 MI: 0.06'], ['1576.96', '1579.52', '0.55 PE: 0.99 MI: 0.13'], ['1664.0', '1666.56', '0.85 PE: 0.61 MI: 0.04'], ['1669.12', '1671.68', '0.93 PE: 0.37 MI: 0.05'], ['1715.2', '1720.32', '0.66 PE: 0.91 MI: 0.07']]\n",
      "2020-11-19_00.57.25.729.wav signal length 1794.6\n",
      "[['115.2', '117.76', '0.62 PE: 0.96 MI: 0.12'], ['1000.96', '1003.52', '0.76 PE: 0.79 MI: 0.11'], ['1172.48', '1177.6', '0.93 PE: 0.35 MI: 0.04'], ['1190.4', '1192.96', '0.65 PE: 0.94 MI: 0.14']]\n",
      "2020-11-19_01.27.25.751.wav signal length 1794.6\n",
      "[]\n",
      "2020-11-19_01.57.25.726.wav signal length 1794.72\n",
      "[]\n",
      "2020-11-19_02.27.25.726.wav signal length 1794.72\n",
      "[]\n",
      "2020-11-19_02.57.25.724.wav signal length 1794.72\n",
      "[]\n",
      "2020-11-19_03.27.25.714.wav signal length 1794.72\n",
      "[['680.96', '683.52', '0.73 PE: 0.84 MI: 0.06'], ['686.08', '688.64', '0.51 PE: 1.00 MI: 0.09'], ['691.2', '696.32', '0.69 PE: 0.88 MI: 0.03'], ['698.88', '709.12', '0.62 PE: 0.94 MI: 0.05'], ['711.68', '714.24', '0.58 PE: 0.98 MI: 0.08'], ['993.28', '995.84', '0.53 PE: 1.00 MI: 0.04']]\n",
      "2020-11-19_03.57.25.717.wav signal length 1794.72\n",
      "[]\n",
      "2020-11-19_04.27.25.727.wav signal length 1794.72\n",
      "[['148.48', '151.04', '0.64 PE: 0.94 MI: 0.09'], ['1090.56', '1093.12', '0.57 PE: 0.99 MI: 0.03'], ['1525.76', '1528.32', '0.51 PE: 1.00 MI: 0.14']]\n",
      "2020-11-19_04.57.25.723.wav signal length 1794.72\n",
      "[['240.64', '243.2', '0.61 PE: 0.96 MI: 0.04'], ['266.24', '268.8', '0.57 PE: 0.99 MI: 0.08'], ['322.56', '325.12', '0.52 PE: 1.00 MI: 0.06'], ['640.0', '642.56', '0.64 PE: 0.94 MI: 0.10'], ['1758.72', '1761.28', '0.66 PE: 0.93 MI: 0.04']]\n",
      "2020-11-19_05.27.25.717.wav signal length 1679.4\n",
      "[]\n",
      "2020-11-19_18.53.03.707.wav signal length 1799.52\n",
      "[['227.84', '230.4', '0.51 PE: 1.00 MI: 0.29'], ['1044.48', '1047.04', '0.57 PE: 0.99 MI: 0.31'], ['1057.28', '1062.4', '0.70 PE: 0.81 MI: 0.10'], ['1064.96', '1067.52', '0.88 PE: 0.53 MI: 0.15']]\n",
      "2020-11-19_19.23.08.826.wav signal length 1794.72\n",
      "[['545.28', '547.84', '0.63 PE: 0.95 MI: 0.28']]\n",
      "2020-11-19_19.53.08.808.wav signal length 1794.6\n",
      "[['1013.76', '1016.32', '0.75 PE: 0.81 MI: 0.30'], ['1735.68', '1738.24', '0.94 PE: 0.34 MI: 0.04']]\n"
     ]
    },
    {
     "name": "stdout",
     "output_type": "stream",
     "text": [
      "2020-11-19_20.23.08.803.wav signal length 1794.72\n",
      "[['1748.48', '1751.04', '0.82 PE: 0.68 MI: 0.03']]\n",
      "2020-11-19_20.53.08.824.wav signal length 1794.72\n",
      "[['734.72', '737.28', '0.98 PE: 0.15 MI: 0.02'], ['1082.88', '1085.44', '0.56 PE: 0.99 MI: 0.17']]\n",
      "2020-11-19_21.23.08.829.wav signal length 1794.72\n",
      "[['1612.8', '1615.36', '0.58 PE: 0.98 MI: 0.38']]\n",
      "2020-11-19_21.53.08.809.wav signal length 1794.6\n",
      "[]\n",
      "2020-11-19_22.23.08.795.wav signal length 1794.72\n",
      "[['1610.24', '1615.36', '0.90 PE: 0.42 MI: 0.20']]\n",
      "2020-11-19_22.53.08.822.wav signal length 1794.6\n",
      "[['983.04', '985.6', '0.70 PE: 0.88 MI: 0.11']]\n",
      "2020-11-19_23.23.08.807.wav signal length 1794.72\n",
      "[['1612.8', '1617.92', '0.95 PE: 0.22 MI: 0.07']]\n",
      "2020-11-19_23.53.08.818.wav signal length 1794.72\n",
      "[['1587.2', '1589.76', '0.53 PE: 1.00 MI: 0.21'], ['1681.92', '1684.48', '0.52 PE: 1.00 MI: 0.37']]\n",
      "2020-11-20_00.23.08.832.wav signal length 1794.72\n",
      "[]\n",
      "2020-11-20_00.53.08.832.wav signal length 1794.72\n",
      "[['389.12', '391.68', '0.53 PE: 1.00 MI: 0.05'], ['1282.56', '1285.12', '0.59 PE: 0.98 MI: 0.46']]\n",
      "2020-11-20_01.23.08.799.wav signal length 1794.72\n",
      "[]\n",
      "2020-11-20_01.53.08.801.wav signal length 1794.72\n",
      "[]\n",
      "2020-11-20_02.23.08.826.wav signal length 1794.72\n",
      "[['394.24', '399.36', '0.76 PE: 0.66 MI: 0.06']]\n",
      "2020-11-20_02.53.08.807.wav signal length 1794.72\n",
      "[]\n",
      "2020-11-20_03.23.08.831.wav signal length 1794.72\n",
      "[['1369.6', '1372.16', '0.53 PE: 1.00 MI: 0.09']]\n",
      "2020-11-20_03.53.08.811.wav signal length 1794.6\n",
      "[['1379.84', '1382.4', '1.00 PE: 0.02 MI: 0.01'], ['1400.32', '1402.88', '0.93 PE: 0.36 MI: 0.07'], ['1410.56', '1415.68', '0.91 PE: 0.36 MI: 0.09'], ['1425.92', '1428.48', '0.56 PE: 0.99 MI: 0.15'], ['1433.6', '1436.16', '0.90 PE: 0.48 MI: 0.12'], ['1438.72', '1443.84', '0.65 PE: 0.88 MI: 0.06'], ['1753.6', '1758.72', '0.87 PE: 0.48 MI: 0.09'], ['1768.96', '1774.08', '0.57 PE: 0.98 MI: 0.06']]\n",
      "2020-11-20_04.23.08.812.wav signal length 1794.6\n",
      "[]\n",
      "2020-11-20_04.53.08.808.wav signal length 1794.72\n",
      "[['499.2', '504.32', '0.63 PE: 0.95 MI: 0.10'], ['506.88', '509.44', '0.62 PE: 0.96 MI: 0.09'], ['537.6', '540.16', '0.69 PE: 0.90 MI: 0.11'], ['560.64', '563.2', '0.70 PE: 0.89 MI: 0.07'], ['604.16', '606.72', '0.64 PE: 0.94 MI: 0.06'], ['609.28', '611.84', '0.63 PE: 0.95 MI: 0.09'], ['652.8', '657.92', '0.61 PE: 0.97 MI: 0.08'], ['675.84', '680.96', '0.64 PE: 0.94 MI: 0.09'], ['744.96', '747.52', '0.60 PE: 0.97 MI: 0.05']]\n",
      "2020-11-20_05.23.08.823.wav signal length 1794.72\n",
      "[['174.08', '176.64', '0.56 PE: 0.99 MI: 0.02'], ['1776.64', '1779.2', '0.66 PE: 0.92 MI: 0.22']]\n",
      "2020-11-20_05.53.08.831.wav signal length 90.72\n",
      "[]\n",
      "2020-11-20_19.00.36.301.wav signal length 1799.64\n",
      "[['1697.28', '1699.84', '0.66 PE: 0.93 MI: 0.26']]\n",
      "2020-11-20_19.30.41.376.wav signal length 1794.72\n",
      "[]\n",
      "2020-11-20_20.00.41.374.wav signal length 1794.72\n",
      "[['1192.96', '1195.52', '0.72 PE: 0.86 MI: 0.27'], ['1310.72', '1318.4', '0.72 PE: 0.84 MI: 0.22'], ['1653.76', '1656.32', '0.70 PE: 0.88 MI: 0.34'], ['1669.12', '1674.24', '0.85 PE: 0.61 MI: 0.20'], ['1689.6', '1692.16', '0.52 PE: 1.00 MI: 0.13'], ['1784.32', '1786.88', '0.74 PE: 0.83 MI: 0.20']]\n",
      "2020-11-20_20.30.41.378.wav signal length 1794.6\n",
      "[['138.24', '143.36', '0.55 PE: 0.98 MI: 0.22'], ['148.48', '151.04', '0.78 PE: 0.76 MI: 0.09'], ['291.84', '294.4', '0.52 PE: 1.00 MI: 0.47'], ['355.84', '358.4', '0.55 PE: 0.99 MI: 0.45'], ['389.12', '391.68', '0.52 PE: 1.00 MI: 0.27'], ['394.24', '396.8', '0.74 PE: 0.83 MI: 0.23'], ['399.36', '404.48', '0.61 PE: 0.95 MI: 0.22'], ['407.04', '409.6', '0.75 PE: 0.82 MI: 0.33'], ['412.16', '417.28', '0.67 PE: 0.92 MI: 0.24'], ['675.84', '678.4', '0.53 PE: 1.00 MI: 0.12'], ['724.48', '727.04', '0.71 PE: 0.87 MI: 0.46'], ['737.28', '742.4', '0.70 PE: 0.85 MI: 0.35'], ['821.76', '824.32', '0.52 PE: 1.00 MI: 0.07'], ['855.04', '857.6', '0.66 PE: 0.93 MI: 0.24'], ['1180.16', '1182.72', '0.82 PE: 0.69 MI: 0.18'], ['1192.96', '1195.52', '0.55 PE: 0.99 MI: 0.62'], ['1198.08', '1200.64', '0.51 PE: 1.00 MI: 0.38'], ['1638.4', '1640.96', '0.58 PE: 0.98 MI: 0.29'], ['1653.76', '1656.32', '0.58 PE: 0.98 MI: 0.09'], ['1658.88', '1661.44', '0.60 PE: 0.97 MI: 0.09'], ['1676.8', '1679.36', '0.79 PE: 0.73 MI: 0.11'], ['1684.48', '1687.04', '0.55 PE: 0.99 MI: 0.20'], ['1689.6', '1692.16', '0.72 PE: 0.85 MI: 0.16'], ['1776.64', '1779.2', '0.52 PE: 1.00 MI: 0.17']]\n",
      "2020-11-20_21.00.41.375.wav signal length 1794.72\n",
      "[['148.48', '151.04', '0.80 PE: 0.72 MI: 0.19'], ['273.92', '276.48', '0.56 PE: 0.99 MI: 0.18'], ['1192.96', '1195.52', '0.57 PE: 0.99 MI: 0.53'], ['1198.08', '1200.64', '0.99 PE: 0.05 MI: 0.01'], ['1216.0', '1223.68', '0.76 PE: 0.66 MI: 0.24'], ['1236.48', '1254.4', '0.84 PE: 0.58 MI: 0.18'], ['1308.16', '1310.72', '0.75 PE: 0.81 MI: 0.27'], ['1699.84', '1702.4', '0.77 PE: 0.78 MI: 0.22'], ['1784.32', '1786.88', '0.69 PE: 0.90 MI: 0.31']]\n",
      "2020-11-20_21.30.41.382.wav signal length 1794.72\n",
      "[['84.48', '87.04', '0.64 PE: 0.94 MI: 0.32'], ['345.6', '348.16', '0.68 PE: 0.91 MI: 0.09'], ['1623.04', '1625.6', '0.91 PE: 0.44 MI: 0.11'], ['1710.08', '1712.64', '0.53 PE: 1.00 MI: 0.29']]\n",
      "2020-11-20_22.00.41.379.wav signal length 1794.72\n",
      "[['1249.28', '1251.84', '0.73 PE: 0.84 MI: 0.26'], ['1648.64', '1656.32', '0.95 PE: 0.22 MI: 0.12'], ['1669.12', '1671.68', '0.58 PE: 0.98 MI: 0.39'], ['1692.16', '1699.84', '0.70 PE: 0.84 MI: 0.21']]\n",
      "2020-11-20_22.30.41.393.wav signal length 1794.6\n",
      "[['363.52', '366.08', '0.58 PE: 0.98 MI: 0.43'], ['683.52', '688.64', '0.63 PE: 0.92 MI: 0.29'], ['739.84', '742.4', '0.63 PE: 0.95 MI: 0.42'], ['1157.12', '1159.68', '1.00 PE: 0.00 MI: 0.00'], ['1167.36', '1169.92', '0.53 PE: 1.00 MI: 0.34']]\n",
      "2020-11-20_23.00.41.387.wav signal length 1794.72\n",
      "[]\n",
      "2020-11-20_23.30.41.400.wav signal length 1794.72\n",
      "[['389.12', '391.68', '0.63 PE: 0.95 MI: 0.23'], ['1041.92', '1044.48', '0.52 PE: 1.00 MI: 0.20']]\n",
      "2020-11-21_00.00.41.377.wav signal length 1794.72\n",
      "[['445.44', '450.56', '0.76 PE: 0.72 MI: 0.20'], ['471.04', '473.6', '0.92 PE: 0.42 MI: 0.08'], ['1505.28', '1512.96', '0.57 PE: 0.98 MI: 0.27']]\n",
      "2020-11-21_00.30.41.382.wav signal length 1794.6\n",
      "[['798.72', '801.28', '0.71 PE: 0.87 MI: 0.12'], ['808.96', '811.52', '0.79 PE: 0.75 MI: 0.14'], ['872.96', '875.52', '0.90 PE: 0.45 MI: 0.17']]\n",
      "2020-11-21_01.00.41.381.wav signal length 1794.72\n",
      "[['238.08', '240.64', '0.90 PE: 0.47 MI: 0.27'], ['1405.44', '1408.0', '0.57 PE: 0.99 MI: 0.34']]\n",
      "2020-11-21_01.30.41.370.wav signal length 1794.72\n",
      "[['158.72', '166.4', '0.90 PE: 0.31 MI: 0.12'], ['611.84', '614.4', '0.57 PE: 0.98 MI: 0.28'], ['1474.56', '1479.68', '0.71 PE: 0.80 MI: 0.13'], ['1756.16', '1758.72', '0.65 PE: 0.93 MI: 0.12']]\n",
      "2020-11-21_02.00.41.395.wav signal length 1794.72\n",
      "[['862.72', '865.28', '0.50 PE: 1.00 MI: 0.27'], ['929.28', '931.84', '0.89 PE: 0.50 MI: 0.04']]\n",
      "2020-11-21_02.30.41.396.wav signal length 1794.72\n",
      "[]\n",
      "2020-11-21_03.00.41.400.wav signal length 1794.72\n",
      "[['373.76', '376.32', '0.64 PE: 0.95 MI: 0.11'], ['880.64', '883.2', '0.51 PE: 1.00 MI: 0.16'], ['939.52', '942.08', '0.96 PE: 0.24 MI: 0.03']]\n",
      "2020-11-21_03.30.41.387.wav signal length 1794.72\n",
      "[['273.92', '276.48', '0.53 PE: 1.00 MI: 0.12'], ['294.4', '296.96', '0.81 PE: 0.70 MI: 0.07'], ['317.44', '320.0', '0.78 PE: 0.76 MI: 0.12']]\n",
      "2020-11-21_04.00.41.382.wav signal length 1794.6\n",
      "[['760.32', '762.88', '0.69 PE: 0.89 MI: 0.16'], ['778.24', '793.6', '0.76 PE: 0.74 MI: 0.06'], ['796.16', '803.84', '0.62 PE: 0.95 MI: 0.04']]\n",
      "2020-11-21_04.30.41.362.wav signal length 1794.6\n",
      "[]\n",
      "2020-11-21_05.00.41.365.wav signal length 1794.72\n",
      "[['1369.6', '1372.16', '0.60 PE: 0.97 MI: 0.30']]\n",
      "2020-11-21_05.30.41.395.wav signal length 1622.88\n",
      "[]\n",
      "2020-11-22_18.57.13.466.wav signal length 1799.76\n",
      "[['1034.24', '1036.8', '0.55 PE: 0.99 MI: 0.16'], ['1054.72', '1057.28', '0.60 PE: 0.97 MI: 0.15']]\n",
      "2020-11-22_19.27.18.586.wav signal length 1794.72\n",
      "[['1192.96', '1195.52', '0.83 PE: 0.66 MI: 0.27'], ['1359.36', '1361.92', '0.99 PE: 0.08 MI: 0.02']]\n",
      "2020-11-22_19.57.18.607.wav signal length 1794.72\n",
      "[]\n",
      "2020-11-22_20.27.18.605.wav signal length 1794.72\n",
      "[['1359.36', '1361.92', '0.78 PE: 0.76 MI: 0.42']]\n",
      "2020-11-22_20.57.18.580.wav signal length 1794.72\n",
      "[['878.08', '880.64', '0.72 PE: 0.85 MI: 0.15']]\n",
      "2020-11-22_21.27.18.585.wav signal length 1794.72\n",
      "[['1372.16', '1374.72', '0.54 PE: 1.00 MI: 0.33']]\n"
     ]
    },
    {
     "name": "stdout",
     "output_type": "stream",
     "text": [
      "2020-11-22_21.57.18.601.wav signal length 1794.72\n",
      "[]\n",
      "2020-11-22_22.27.18.611.wav signal length 1794.72\n",
      "[['424.96', '427.52', '0.73 PE: 0.85 MI: 0.14'], ['1359.36', '1361.92', '0.69 PE: 0.89 MI: 0.73']]\n",
      "2020-11-22_22.57.18.605.wav signal length 1794.72\n",
      "[]\n",
      "2020-11-22_23.27.18.625.wav signal length 1794.6\n",
      "[['1361.92', '1367.04', '0.84 PE: 0.48 MI: 0.27']]\n",
      "2020-11-22_23.57.18.603.wav signal length 1794.72\n",
      "[['522.24', '524.8', '0.65 PE: 0.93 MI: 0.39'], ['527.36', '529.92', '0.83 PE: 0.65 MI: 0.25'], ['550.4', '552.96', '0.81 PE: 0.71 MI: 0.13'], ['673.28', '675.84', '0.69 PE: 0.89 MI: 0.16'], ['1738.24', '1740.8', '0.98 PE: 0.13 MI: 0.01']]\n",
      "2020-11-23_00.27.18.585.wav signal length 1794.72\n",
      "[['266.24', '268.8', '0.59 PE: 0.98 MI: 0.22'], ['286.72', '289.28', '0.68 PE: 0.90 MI: 0.08'], ['655.36', '657.92', '0.66 PE: 0.92 MI: 0.08'], ['819.2', '821.76', '0.58 PE: 0.98 MI: 0.08'], ['1259.52', '1262.08', '0.63 PE: 0.95 MI: 0.22'], ['1282.56', '1285.12', '0.56 PE: 0.99 MI: 0.18']]\n",
      "2020-11-23_00.57.18.603.wav signal length 1794.6\n",
      "[['542.72', '545.28', '0.80 PE: 0.72 MI: 0.09'], ['783.36', '785.92', '0.56 PE: 0.99 MI: 0.26'], ['1346.56', '1349.12', '0.51 PE: 1.00 MI: 0.09'], ['1392.64', '1397.76', '0.75 PE: 0.59 MI: 0.05'], ['1400.32', '1402.88', '0.62 PE: 0.96 MI: 0.10'], ['1712.64', '1715.2', '0.81 PE: 0.69 MI: 0.02'], ['1776.64', '1779.2', '0.57 PE: 0.98 MI: 0.13']]\n",
      "2020-11-23_01.27.18.566.wav signal length 1794.72\n",
      "[['5.12', '7.68', '0.62 PE: 0.96 MI: 0.24'], ['20.48', '23.04', '0.92 PE: 0.40 MI: 0.08'], ['28.16', '30.72', '0.98 PE: 0.14 MI: 0.02'], ['58.88', '61.44', '1.00 PE: 0.00 MI: 0.00'], ['64.0', '71.68', '0.81 PE: 0.58 MI: 0.06'], ['74.24', '76.8', '0.79 PE: 0.75 MI: 0.05'], ['79.36', '81.92', '0.94 PE: 0.32 MI: 0.03'], ['110.08', '112.64', '0.60 PE: 0.97 MI: 0.07'], ['135.68', '138.24', '0.95 PE: 0.31 MI: 0.05'], ['266.24', '268.8', '0.59 PE: 0.97 MI: 0.18'], ['273.92', '276.48', '0.56 PE: 0.99 MI: 0.06'], ['391.68', '394.24', '0.72 PE: 0.85 MI: 0.16'], ['437.76', '440.32', '0.94 PE: 0.32 MI: 0.07'], ['442.88', '445.44', '1.00 PE: 0.00 MI: 0.00'], ['453.12', '458.24', '0.90 PE: 0.41 MI: 0.06'], ['460.8', '463.36', '0.99 PE: 0.06 MI: 0.01'], ['519.68', '524.8', '0.91 PE: 0.39 MI: 0.06'], ['609.28', '611.84', '0.58 PE: 0.98 MI: 0.12'], ['629.76', '632.32', '0.53 PE: 1.00 MI: 0.09'], ['663.04', '665.6', '0.99 PE: 0.09 MI: 0.01'], ['678.4', '683.52', '0.86 PE: 0.48 MI: 0.07'], ['696.32', '698.88', '0.98 PE: 0.15 MI: 0.02'], ['711.68', '716.8', '0.59 PE: 0.97 MI: 0.09'], ['739.84', '744.96', '0.86 PE: 0.44 MI: 0.05'], ['752.64', '757.76', '0.96 PE: 0.22 MI: 0.03'], ['780.8', '785.92', '0.95 PE: 0.24 MI: 0.03'], ['796.16', '798.72', '0.95 PE: 0.29 MI: 0.02'], ['847.36', '849.92', '0.55 PE: 0.99 MI: 0.14'], ['885.76', '888.32', '0.98 PE: 0.15 MI: 0.02'], ['1039.36', '1041.92', '0.51 PE: 1.00 MI: 0.13'], ['1044.48', '1047.04', '0.88 PE: 0.52 MI: 0.05'], ['1054.72', '1059.84', '0.81 PE: 0.63 MI: 0.09'], ['1067.52', '1072.64', '0.78 PE: 0.70 MI: 0.08'], ['1077.76', '1082.88', '0.92 PE: 0.40 MI: 0.04'], ['1093.12', '1095.68', '0.84 PE: 0.64 MI: 0.11'], ['1103.36', '1105.92', '0.79 PE: 0.74 MI: 0.03'], ['1139.2', '1141.76', '0.83 PE: 0.66 MI: 0.20'], ['1146.88', '1149.44', '0.97 PE: 0.20 MI: 0.01'], ['1395.2', '1397.76', '0.91 PE: 0.45 MI: 0.08'], ['1597.44', '1600.0', '0.86 PE: 0.59 MI: 0.10']]\n",
      "2020-11-23_01.57.18.595.wav signal length 1794.72\n",
      "[['440.32', '442.88', '0.51 PE: 1.00 MI: 0.07'], ['611.84', '616.96', '0.56 PE: 0.99 MI: 0.09'], ['622.08', '624.64', '0.71 PE: 0.87 MI: 0.08'], ['663.04', '665.6', '0.60 PE: 0.97 MI: 0.04'], ['670.72', '673.28', '0.60 PE: 0.97 MI: 0.04'], ['675.84', '678.4', '0.72 PE: 0.86 MI: 0.02'], ['683.52', '686.08', '0.60 PE: 0.97 MI: 0.04'], ['693.76', '698.88', '0.60 PE: 0.94 MI: 0.08'], ['732.16', '737.28', '0.89 PE: 0.40 MI: 0.03'], ['742.4', '747.52', '1.00 PE: 0.02 MI: 0.00'], ['760.32', '762.88', '0.69 PE: 0.89 MI: 0.14'], ['1297.92', '1300.48', '0.56 PE: 0.99 MI: 0.11'], ['1479.68', '1482.24', '0.93 PE: 0.35 MI: 0.03']]\n",
      "2020-11-23_02.27.18.600.wav signal length 1794.6\n",
      "[]\n",
      "2020-11-23_02.57.18.593.wav signal length 1794.72\n",
      "[['243.2', '245.76', '0.91 PE: 0.44 MI: 0.04'], ['248.32', '250.88', '0.68 PE: 0.90 MI: 0.26'], ['256.0', '258.56', '0.87 PE: 0.56 MI: 0.18'], ['424.96', '427.52', '0.52 PE: 1.00 MI: 0.11'], ['1026.56', '1029.12', '0.95 PE: 0.27 MI: 0.04'], ['1474.56', '1477.12', '0.54 PE: 0.99 MI: 0.19'], ['1638.4', '1640.96', '0.89 PE: 0.49 MI: 0.03']]\n",
      "2020-11-23_03.27.18.577.wav signal length 1794.72\n",
      "[['151.04', '153.6', '0.74 PE: 0.82 MI: 0.13'], ['166.4', '168.96', '0.64 PE: 0.94 MI: 0.04'], ['279.04', '281.6', '0.60 PE: 0.97 MI: 0.12'], ['798.72', '801.28', '0.88 PE: 0.52 MI: 0.07'], ['1256.96', '1259.52', '0.53 PE: 1.00 MI: 0.17'], ['1272.32', '1274.88', '0.57 PE: 0.99 MI: 0.05']]\n",
      "2020-11-23_03.57.18.597.wav signal length 1794.6\n",
      "[['79.36', '81.92', '0.54 PE: 1.00 MI: 0.12'], ['701.44', '704.0', '0.70 PE: 0.88 MI: 0.09'], ['719.36', '721.92', '0.65 PE: 0.94 MI: 0.12'], ['883.2', '885.76', '0.63 PE: 0.95 MI: 0.14'], ['1272.32', '1274.88', '0.63 PE: 0.95 MI: 0.05'], ['1323.52', '1328.64', '0.73 PE: 0.84 MI: 0.08'], ['1384.96', '1387.52', '0.93 PE: 0.38 MI: 0.11'], ['1525.76', '1528.32', '0.76 PE: 0.80 MI: 0.06'], ['1548.8', '1551.36', '0.74 PE: 0.83 MI: 0.03']]\n",
      "2020-11-23_04.27.18.571.wav signal length 1794.72\n",
      "[['660.48', '665.6', '0.74 PE: 0.57 MI: 0.09'], ['742.4', '744.96', '0.75 PE: 0.82 MI: 0.09'], ['821.76', '824.32', '0.57 PE: 0.98 MI: 0.10'], ['1113.6', '1116.16', '0.54 PE: 1.00 MI: 0.05'], ['1154.56', '1157.12', '0.58 PE: 0.98 MI: 0.05'], ['1384.96', '1387.52', '0.53 PE: 1.00 MI: 0.02'], ['1589.76', '1592.32', '0.54 PE: 0.99 MI: 0.10']]\n",
      "2020-11-23_04.57.18.597.wav signal length 1794.6\n",
      "[['294.4', '296.96', '0.51 PE: 1.00 MI: 0.02'], ['317.44', '320.0', '0.78 PE: 0.76 MI: 0.04'], ['378.88', '381.44', '0.60 PE: 0.97 MI: 0.19'], ['437.76', '440.32', '0.66 PE: 0.93 MI: 0.08'], ['481.28', '483.84', '0.81 PE: 0.71 MI: 0.03'], ['488.96', '494.08', '0.74 PE: 0.56 MI: 0.11']]\n",
      "2020-11-23_05.27.18.572.wav signal length 1794.6\n",
      "[['734.72', '737.28', '0.61 PE: 0.96 MI: 0.10']]\n",
      "2020-11-23_05.57.18.574.wav signal length 583.08\n",
      "[]\n",
      "2020-11-23_18.54.17.410.wav signal length 1799.76\n",
      "[]\n",
      "2020-11-23_19.24.22.517.wav signal length 1794.72\n",
      "[['517.12', '519.68', '0.96 PE: 0.23 MI: 0.05'], ['1538.56', '1541.12', '0.72 PE: 0.86 MI: 0.55']]\n",
      "2020-11-23_19.54.22.521.wav signal length 1794.6\n",
      "[['35.84', '51.2', '0.83 PE: 0.53 MI: 0.22'], ['1472.0', '1474.56', '0.70 PE: 0.88 MI: 0.22']]\n",
      "2020-11-23_20.24.22.503.wav signal length 1794.6\n",
      "[]\n",
      "2020-11-23_20.54.22.497.wav signal length 1794.72\n",
      "[['1303.04', '1305.6', '0.55 PE: 0.99 MI: 0.17']]\n",
      "2020-11-23_21.24.22.496.wav signal length 1794.72\n",
      "[['1536.0', '1543.68', '0.75 PE: 0.69 MI: 0.22']]\n",
      "2020-11-23_21.54.22.518.wav signal length 1794.72\n",
      "[]\n",
      "2020-11-23_22.24.22.525.wav signal length 1794.72\n",
      "[['1536.0', '1538.56', '0.51 PE: 1.00 MI: 0.23'], ['1541.12', '1546.24', '0.81 PE: 0.54 MI: 0.20']]\n",
      "2020-11-23_22.54.22.504.wav signal length 1794.72\n",
      "[['409.6', '412.16', '0.94 PE: 0.34 MI: 0.07'], ['673.28', '675.84', '0.59 PE: 0.97 MI: 0.06']]\n",
      "2020-11-23_23.24.22.536.wav signal length 1794.6\n",
      "[['1541.12', '1543.68', '1.00 PE: 0.00 MI: 0.00'], ['1546.24', '1548.8', '0.59 PE: 0.98 MI: 0.25'], ['1553.92', '1556.48', '0.66 PE: 0.92 MI: 0.29']]\n",
      "2020-11-23_23.54.22.512.wav signal length 1794.72\n",
      "[['576.0', '578.56', '0.61 PE: 0.97 MI: 0.24'], ['663.04', '665.6', '0.93 PE: 0.38 MI: 0.17'], ['785.92', '788.48', '0.92 PE: 0.39 MI: 0.08']]\n",
      "2020-11-24_00.24.22.501.wav signal length 1794.72\n",
      "[['199.68', '207.36', '0.64 PE: 0.94 MI: 0.11'], ['222.72', '225.28', '0.55 PE: 0.99 MI: 0.14'], ['325.12', '327.68', '0.51 PE: 1.00 MI: 0.05'], ['360.96', '363.52', '0.58 PE: 0.98 MI: 0.07'], ['366.08', '368.64', '0.55 PE: 0.99 MI: 0.20'], ['783.36', '785.92', '0.58 PE: 0.98 MI: 0.08']]\n",
      "2020-11-24_00.54.22.496.wav signal length 1794.72\n",
      "[['801.28', '803.84', '0.50 PE: 1.00 MI: 0.08']]\n",
      "2020-11-24_01.24.22.489.wav signal length 1794.72\n",
      "[]\n",
      "2020-11-24_01.54.22.508.wav signal length 1794.72\n",
      "[]\n",
      "2020-11-24_02.24.22.517.wav signal length 1794.72\n",
      "[]\n",
      "2020-11-24_02.54.22.527.wav signal length 1794.72\n",
      "[['675.84', '678.4', '0.50 PE: 1.00 MI: 0.13'], ['1518.08', '1520.64', '0.51 PE: 1.00 MI: 0.07'], ['1533.44', '1536.0', '0.51 PE: 1.00 MI: 0.07'], ['1594.88', '1597.44', '0.57 PE: 0.99 MI: 0.11'], ['1771.52', '1774.08', '0.53 PE: 1.00 MI: 0.08']]\n"
     ]
    },
    {
     "name": "stdout",
     "output_type": "stream",
     "text": [
      "2020-11-24_03.24.22.491.wav signal length 1794.72\n",
      "[['97.28', '99.84', '0.54 PE: 0.99 MI: 0.05'], ['163.84', '166.4', '0.51 PE: 1.00 MI: 0.06'], ['350.72', '353.28', '0.61 PE: 0.96 MI: 0.35']]\n",
      "2020-11-24_03.54.22.485.wav signal length 1794.72\n",
      "[]\n",
      "2020-11-24_04.24.22.489.wav signal length 1794.72\n",
      "[]\n",
      "2020-11-24_04.54.22.505.wav signal length 1794.72\n",
      "[['476.16', '478.72', '0.86 PE: 0.59 MI: 0.08'], ['547.84', '552.96', '0.56 PE: 0.98 MI: 0.10']]\n",
      "2020-11-24_05.24.22.526.wav signal length 1794.72\n",
      "[['43.52', '46.08', '0.60 PE: 0.97 MI: 0.14'], ['1697.28', '1699.84', '0.77 PE: 0.78 MI: 0.30'], ['1756.16', '1758.72', '0.54 PE: 0.99 MI: 0.07']]\n",
      "2020-11-24_05.54.22.511.wav signal length 599.28\n",
      "[['202.24', '204.8', '0.67 PE: 0.92 MI: 0.16']]\n",
      "2020-11-24_19.00.28.427.wav signal length 1799.76\n",
      "[['202.24', '204.8', '0.73 PE: 0.85 MI: 0.28'], ['281.6', '284.16', '0.70 PE: 0.88 MI: 0.07']]\n",
      "2020-11-24_19.30.33.543.wav signal length 1794.72\n",
      "[['1162.24', '1164.8', '0.71 PE: 0.87 MI: 0.49']]\n",
      "2020-11-24_20.00.33.538.wav signal length 1794.72\n",
      "[['120.32', '122.88', '0.55 PE: 0.99 MI: 0.27'], ['1587.2', '1589.76', '0.58 PE: 0.98 MI: 0.23']]\n",
      "2020-11-24_20.30.33.535.wav signal length 1794.72\n",
      "[['1164.8', '1167.36', '0.59 PE: 0.97 MI: 0.35']]\n",
      "2020-11-24_21.00.33.539.wav signal length 1794.72\n",
      "[]\n",
      "2020-11-24_21.30.33.545.wav signal length 1794.6\n",
      "[['1162.24', '1167.36', '0.83 PE: 0.62 MI: 0.34']]\n",
      "2020-11-24_22.00.33.531.wav signal length 1794.72\n",
      "[['1208.32', '1210.88', '0.75 PE: 0.82 MI: 0.27']]\n",
      "2020-11-24_22.30.33.539.wav signal length 1794.72\n",
      "[['1162.24', '1169.92', '0.95 PE: 0.28 MI: 0.12']]\n",
      "2020-11-24_23.00.33.547.wav signal length 1794.72\n",
      "[['1177.6', '1180.16', '0.72 PE: 0.86 MI: 0.04'], ['1195.52', '1198.08', '0.71 PE: 0.87 MI: 0.15']]\n",
      "2020-11-24_23.30.33.540.wav signal length 1794.6\n",
      "[['1162.24', '1172.48', '0.82 PE: 0.61 MI: 0.24']]\n",
      "2020-11-25_00.00.33.524.wav signal length 1794.72\n",
      "[['1192.96', '1195.52', '0.58 PE: 0.98 MI: 0.19']]\n",
      "2020-11-25_00.30.33.565.wav signal length 1794.72\n",
      "[]\n",
      "2020-11-25_01.00.33.555.wav signal length 1794.6\n",
      "[]\n",
      "2020-11-25_01.30.33.518.wav signal length 1794.72\n",
      "[]\n",
      "2020-11-25_02.00.33.524.wav signal length 1794.72\n",
      "[['542.72', '545.28', '0.50 PE: 1.00 MI: 0.20'], ['883.2', '885.76', '0.53 PE: 1.00 MI: 0.08'], ['962.56', '965.12', '0.54 PE: 0.99 MI: 0.19']]\n",
      "2020-11-25_02.30.33.544.wav signal length 1794.72\n",
      "[['1021.44', '1026.56', '0.57 PE: 0.98 MI: 0.26']]\n",
      "2020-11-25_03.00.33.555.wav signal length 1794.72\n",
      "[['1758.72', '1761.28', '0.78 PE: 0.76 MI: 0.13']]\n",
      "2020-11-25_03.30.33.551.wav signal length 1794.6\n",
      "[['640.0', '645.12', '0.55 PE: 0.99 MI: 0.04']]\n",
      "2020-11-25_04.00.33.529.wav signal length 1794.72\n",
      "[['606.72', '609.28', '0.51 PE: 1.00 MI: 0.02']]\n",
      "2020-11-25_04.30.33.539.wav signal length 1794.6\n",
      "[['1771.52', '1774.08', '0.52 PE: 1.00 MI: 0.04']]\n",
      "2020-11-25_05.00.33.533.wav signal length 1794.72\n",
      "[['17.92', '20.48', '0.73 PE: 0.85 MI: 0.06'], ['197.12', '199.68', '0.61 PE: 0.97 MI: 0.04'], ['788.48', '791.04', '0.66 PE: 0.92 MI: 0.11']]\n",
      "2020-11-25_05.30.33.553.wav signal length 1794.6\n",
      "[]\n",
      "2020-11-25_06.00.33.532.wav signal length 555.12\n",
      "[]\n",
      "2020-11-25_18.59.20.979.wav signal length 1799.76\n",
      "[]\n",
      "2020-11-25_19.29.26.057.wav signal length 1794.72\n",
      "[['1228.8', '1231.36', '0.96 PE: 0.24 MI: 0.06'], ['1233.92', '1239.04', '0.72 PE: 0.71 MI: 0.31']]\n",
      "2020-11-25_19.59.26.052.wav signal length 1794.6\n",
      "[]\n",
      "2020-11-25_20.29.26.042.wav signal length 1794.72\n",
      "[['1231.36', '1236.48', '0.79 PE: 0.49 MI: 0.22']]\n",
      "2020-11-25_20.59.26.053.wav signal length 1794.72\n",
      "[['1536.0', '1538.56', '0.84 PE: 0.64 MI: 0.24'], ['1594.88', '1597.44', '0.86 PE: 0.58 MI: 0.15']]\n",
      "2020-11-25_21.29.26.058.wav signal length 1794.6\n",
      "[['192.0', '194.56', '0.81 PE: 0.70 MI: 0.27'], ['307.2', '309.76', '0.55 PE: 0.99 MI: 0.04'], ['345.6', '348.16', '0.88 PE: 0.54 MI: 0.11'], ['396.8', '399.36', '1.00 PE: 0.00 MI: 0.00'], ['1231.36', '1239.04', '0.83 PE: 0.43 MI: 0.19']]\n",
      "2020-11-25_21.59.26.037.wav signal length 1794.72\n",
      "[]\n",
      "2020-11-25_22.29.26.040.wav signal length 1794.72\n",
      "[['1231.36', '1246.72', '0.86 PE: 0.49 MI: 0.26']]\n",
      "2020-11-25_22.59.26.057.wav signal length 1794.72\n",
      "[['1781.76', '1784.32', '0.51 PE: 1.00 MI: 0.06']]\n",
      "2020-11-25_23.29.26.068.wav signal length 1794.6\n",
      "[['1228.8', '1231.36', '0.66 PE: 0.92 MI: 0.36'], ['1233.92', '1236.48', '1.00 PE: 0.03 MI: 0.00']]\n",
      "2020-11-25_23.59.26.048.wav signal length 1794.72\n",
      "[]\n",
      "2020-11-26_00.29.26.050.wav signal length 1794.72\n",
      "[['1523.2', '1525.76', '0.50 PE: 1.00 MI: 0.08']]\n",
      "2020-11-26_00.59.26.052.wav signal length 1794.72\n",
      "[['954.88', '957.44', '0.88 PE: 0.53 MI: 0.06'], ['1464.32', '1466.88', '0.69 PE: 0.89 MI: 0.12'], ['1472.0', '1474.56', '0.52 PE: 1.00 MI: 0.29'], ['1484.8', '1487.36', '0.71 PE: 0.87 MI: 0.12']]\n",
      "2020-11-26_01.29.26.063.wav signal length 1794.72\n",
      "[['1062.4', '1064.96', '0.90 PE: 0.47 MI: 0.10'], ['1318.4', '1320.96', '0.76 PE: 0.80 MI: 0.07']]\n",
      "2020-11-26_01.59.26.072.wav signal length 1794.6\n",
      "[['1047.04', '1049.6', '0.53 PE: 1.00 MI: 0.09']]\n",
      "2020-11-26_02.29.26.043.wav signal length 1794.72\n",
      "[['849.92', '852.48', '0.52 PE: 1.00 MI: 0.34'], ['1372.16', '1374.72', '0.57 PE: 0.98 MI: 0.05']]\n",
      "2020-11-26_02.59.26.058.wav signal length 1794.72\n",
      "[]\n",
      "2020-11-26_03.29.26.060.wav signal length 1794.6\n",
      "[['1520.64', '1523.2', '0.62 PE: 0.95 MI: 0.19']]\n",
      "2020-11-26_03.59.26.039.wav signal length 1794.72\n",
      "[]\n",
      "2020-11-26_04.29.26.039.wav signal length 1794.72\n",
      "[['1231.36', '1233.92', '0.51 PE: 1.00 MI: 0.27'], ['1236.48', '1241.6', '0.75 PE: 0.81 MI: 0.46']]\n",
      "2020-11-26_04.59.26.041.wav signal length 1794.72\n",
      "[['204.8', '207.36', '0.65 PE: 0.93 MI: 0.06'], ['368.64', '371.2', '0.64 PE: 0.94 MI: 0.04'], ['427.52', '430.08', '0.50 PE: 1.00 MI: 0.03'], ['463.36', '465.92', '0.52 PE: 1.00 MI: 0.13'], ['499.2', '501.76', '0.51 PE: 1.00 MI: 0.11']]\n",
      "2020-11-26_05.29.26.062.wav signal length 1490.88\n",
      "[['619.52', '622.08', '0.55 PE: 0.99 MI: 0.14'], ['1228.8', '1239.04', '0.86 PE: 0.46 MI: 0.22'], ['1241.6', '1244.16', '0.61 PE: 0.97 MI: 0.22']]\n",
      "2020-11-26_19.01.44.950.wav signal length 1799.64\n",
      "[]\n",
      "2020-11-26_19.31.50.040.wav signal length 1794.72\n",
      "[['1085.44', '1088.0', '0.92 PE: 0.41 MI: 0.16']]\n",
      "2020-11-26_20.01.50.035.wav signal length 1794.72\n",
      "[['1658.88', '1661.44', '0.60 PE: 0.97 MI: 0.40']]\n",
      "2020-11-26_20.31.50.065.wav signal length 1794.72\n",
      "[['1085.44', '1088.0', '0.80 PE: 0.72 MI: 0.45']]\n",
      "2020-11-26_21.01.50.076.wav signal length 1794.6\n",
      "[]\n",
      "2020-11-26_21.31.50.055.wav signal length 1794.72\n",
      "[['1085.44', '1088.0', '0.82 PE: 0.67 MI: 0.45']]\n",
      "2020-11-26_22.01.50.053.wav signal length 1794.72\n",
      "[['1177.6', '1180.16', '0.67 PE: 0.92 MI: 0.38'], ['1382.4', '1384.96', '0.62 PE: 0.96 MI: 0.58'], ['1413.12', '1415.68', '0.65 PE: 0.93 MI: 0.20']]\n",
      "2020-11-26_22.31.50.068.wav signal length 1794.72\n",
      "[['1088.0', '1095.68', '0.99 PE: 0.10 MI: 0.03']]\n",
      "2020-11-26_23.01.50.070.wav signal length 1794.72\n",
      "[['437.76', '440.32', '0.76 PE: 0.80 MI: 0.16']]\n",
      "2020-11-26_23.31.50.077.wav signal length 1794.6\n",
      "[['1085.44', '1098.24', '0.76 PE: 0.65 MI: 0.37']]\n",
      "2020-11-27_00.01.50.040.wav signal length 1794.72\n",
      "[]\n",
      "2020-11-27_00.31.50.059.wav signal length 1794.72\n",
      "[['28.16', '30.72', '0.51 PE: 1.00 MI: 0.13'], ['58.88', '61.44', '0.53 PE: 1.00 MI: 0.20']]\n",
      "2020-11-27_01.01.50.062.wav signal length 1794.72\n",
      "[['1295.36', '1297.92', '0.60 PE: 0.97 MI: 0.06']]\n",
      "2020-11-27_01.31.50.071.wav signal length 1794.6\n",
      "[['967.68', '970.24', '0.51 PE: 1.00 MI: 0.11'], ['1006.08', '1008.64', '0.50 PE: 1.00 MI: 0.08']]\n",
      "2020-11-27_02.01.50.059.wav signal length 1794.72\n",
      "[['1223.68', '1226.24', '0.88 PE: 0.52 MI: 0.17']]\n",
      "2020-11-27_02.31.50.069.wav signal length 1794.72\n",
      "[]\n",
      "2020-11-27_03.01.50.042.wav signal length 1794.72\n",
      "[]\n",
      "2020-11-27_03.31.50.052.wav signal length 1794.72\n",
      "[['1134.08', '1136.64', '0.80 PE: 0.72 MI: 0.02'], ['1154.56', '1157.12', '0.65 PE: 0.93 MI: 0.10'], ['1172.48', '1175.04', '0.52 PE: 1.00 MI: 0.08']]\n",
      "2020-11-27_04.01.50.051.wav signal length 1794.72\n",
      "[]\n",
      "2020-11-27_04.31.50.056.wav signal length 1794.72\n",
      "[['1088.0', '1090.56', '0.84 PE: 0.62 MI: 0.32']]\n",
      "2020-11-27_05.01.50.065.wav signal length 1794.72\n",
      "[]\n",
      "2020-11-27_05.31.50.061.wav signal length 1269.84\n",
      "[['788.48', '791.04', '0.53 PE: 1.00 MI: 0.04'], ['1093.12', '1098.24', '0.93 PE: 0.30 MI: 0.11']]\n",
      "Total files of .wav format found: 317\n"
     ]
    }
   ],
   "source": [
    "rootFolderPath = 'D:/Postdoc/Data/OneDrive_2020-11-30/IFAKARA - NOVEMBER 2020 BEDNET PHONE DOWNLOADS/Semi-field raw data Nov 2020/Chamber C phone 3 (C3)'\n",
    "audio_format = '.wav'\n",
    "dir_out = None  # None if we want to save files in the same folder that we read from\n",
    "\n",
    "\n",
    "\n",
    "#CNN:\n",
    "to_filter = False\n",
    "norm = False\n",
    "step_size= 40\n",
    "debug= True\n",
    "n_samples = 10\n",
    "n_hop = 512\n",
    "sr = 8000\n",
    "win_size = 40\n",
    "\n",
    "\n",
    "#Experimental\n",
    "mozz_audio_list = []\n",
    "det_threshold = 0.5\n",
    "\n",
    "i_signal = 0\n",
    "for root, dirs, files in os.walk(rootFolderPath):\n",
    "    for filename in files:\n",
    "        if filename.endswith(audio_format):\n",
    "#             print(root, filename) \n",
    "            i_signal+=1\n",
    "            x, x_l = get_wav_for_path([os.path.join(root, filename)], sr =8000)\n",
    "            if debug:\n",
    "                print(filename + ' signal length', x_l)\n",
    "            if x_l < (n_hop * win_size)/sr: \n",
    "                print('Signal length too short, skipping:', x_l, filename) \n",
    "            else:\n",
    "    #             \n",
    "                X_CNN = util.get_feat(x, sr=8000, feat_type=feat_type, n_feat=n_feat, flatten = False)\n",
    "\n",
    "                X_CNN = util.reshape_feat(X_CNN, win_size=win_size, step_size=step_size)\n",
    "    #             X_CNN = (X_CNN - mean)/std\n",
    "    #             print(np.shape(X_CNN))\n",
    "\n",
    "                out = []\n",
    "                for i in range(n_samples):\n",
    "                    out.append(model.predict(X_CNN))\n",
    "\n",
    "                G_X, U_X, _ = util.active_BALD(np.log(out), X_CNN, 2)\n",
    "                preds_list = util.detect_timestamps_BNN(np.repeat(np.mean(out, axis=0), step_size, axis=0),\n",
    "                                      np.repeat(G_X, step_size, axis=0),\n",
    "                                      np.repeat(U_X, step_size, axis=0), det_threshold=det_threshold)   \n",
    "\n",
    "                if to_filter:\n",
    "                    preds_filt = np.zeros([len(preds_CNN),2])\n",
    "                    preds_filt[:,1] = medfilt(preds_CNN[:,1], kernel_size=51)\n",
    "                    preds_filt[:,0] = 1 - preds_filt[:,1]\n",
    "                    preds_CNN = preds_filt\n",
    "\n",
    "                if debug:\n",
    "                    print(preds_list)\n",
    "                    for times in preds_list:\n",
    "                        mozz_audio_list.append(librosa.load(os.path.join(root, filename), offset=float(times[0]),\n",
    "                                                             duration=float(times[1])-float(times[0]), sr=sr)[0])\n",
    "#                     plt.plot((1/sr)*librosa.frames_to_samples(np.arange(len(np.repeat(np.mean(out, axis=0),step_size, axis=0))), hop_length=512),\n",
    "#                                                    np.repeat(np.mean(out, axis=0), step_size, axis=0)[:,1])\n",
    "#                     plt.xlabel('Seconds')\n",
    "#                     plt.ylabel('Mean probability (mozz)')\n",
    "#                     plt.show()\n",
    "\n",
    "\n",
    "                dir_out = root\n",
    "\n",
    "                if not os.path.exists(dir_out): os.makedirs(dir_out)\n",
    "                np.savetxt(dir_out + '/' + filename + '_BNN_step_' + str(step_size) + '_samples_' + str(n_samples) + '_'\n",
    "                           + str(model_name) + '.txt', preds_list, fmt='%s', delimiter='\\t')\n",
    "\n",
    "\n",
    "print('Total files of ' + str(audio_format) + ' format found:', i_signal)\n"
   ]
  },
  {
   "cell_type": "code",
   "execution_count": null,
   "metadata": {},
   "outputs": [],
   "source": [
    "# 9th to 16th : trial run: filter dates after:\n",
    "16-27th: full data\n",
    "    Keep time element to link back to time collection\n",
    "\n",
    "# Output per day. Seperate subsamples of mosquito releases.\n",
    "# Perhaps we can just output the entire text file with filename and start, stop times?\n",
    "# \n",
    "# Missing data"
   ]
  },
  {
   "cell_type": "markdown",
   "metadata": {},
   "source": [
    "# Postprocessing"
   ]
  },
  {
   "cell_type": "code",
   "execution_count": 10,
   "metadata": {},
   "outputs": [],
   "source": [
    "import csv"
   ]
  },
  {
   "cell_type": "code",
   "execution_count": 4,
   "metadata": {
    "scrolled": false
   },
   "outputs": [],
   "source": [
    "# Assumes format:\n",
    "# ['458.24', '460.8', '0.56 PE: 0.99 MI: 0.12']\n",
    "\n",
    "# Can turn into class which supports method for BNN, method for RF (based on different label formats)\n",
    "\n",
    "def get_audio_detected(rootFolderPath, accept_list, audio_format, sr, p_threshold, PE_threshold, MI_threshold):\n",
    "    mozz_audio_list = []\n",
    "    for root, dirs, files in os.walk(rootFolderPath):\n",
    "        for filename in files:\n",
    "            if filename.endswith('.txt'):\n",
    "                for accept_item in accept_list:\n",
    "                    if accept_item in filename:\n",
    "                        print('accepted file:', filename)\n",
    "                        with open(os.path.join(root, filename)) as f:\n",
    "                            reader = csv.reader(f, delimiter='\\t')\n",
    "                            for line in reader:\n",
    "                                p = float(line[2].split()[0])\n",
    "                                PE = float(line[2].split()[2])\n",
    "                                MI = float(line[2].split()[4])\n",
    "\n",
    "                                if p > p_threshold and PE < PE_threshold and MI < MI_threshold:\n",
    "                                    mozz_audio_list.append(librosa.load(os.path.join(root,filename.partition(audio_format)[0] +\n",
    "                                                                                 filename.partition(audio_format)[1]), offset=float(line[0]),\n",
    "                                                                             duration=float(line[1])-float(line[0]), sr=sr)[0])\n",
    "    return mozz_audio_list"
   ]
  },
  {
   "cell_type": "code",
   "execution_count": 5,
   "metadata": {},
   "outputs": [],
   "source": [
    "def get_audio_detected_meta(rootFolderPath, accept_list, audio_format, sr, p_threshold, PE_threshold, MI_threshold):\n",
    "    mozz_audio_list = []\n",
    "    mozz_meta = []\n",
    "    start_time = 0\n",
    "    for root, dirs, files in os.walk(rootFolderPath):\n",
    "        for filename in files:\n",
    "            if filename.endswith('.txt'):\n",
    "                for accept_item in accept_list:\n",
    "                    if accept_item in filename:\n",
    "                        with open(os.path.join(root, filename)) as f:\n",
    "                            reader = csv.reader(f, delimiter='\\t')\n",
    "                            for line in reader:\n",
    "                                p = float(line[2].split()[0])\n",
    "                                PE = float(line[2].split()[2])\n",
    "                                MI = float(line[2].split()[4])\n",
    "\n",
    "                                if p > p_threshold and PE < PE_threshold and MI < MI_threshold:\n",
    "                                    duration = float(line[1])-float(line[0])\n",
    "                                    \n",
    "                                    mozz_meta.append([str(start_time), str(start_time + duration), filename.partition(audio_format)[0] + \"  \" + \"{:.2f}\".format(float(line[0])) + \"-\" +\n",
    "                                                      \"{:.2f}\".format(float(line[1]))]) \n",
    "                                    mozz_audio_list.append(librosa.load(os.path.join(root,filename.partition(audio_format)[0] +\n",
    "                                                                                 filename.partition(audio_format)[1]), offset=float(line[0]),\n",
    "                                                                             duration=duration, sr=sr)[0])\n",
    "                                    start_time += duration  # Append length of previous prediction to transfer into concatenated audio\n",
    "    return mozz_audio_list, mozz_meta"
   ]
  },
  {
   "cell_type": "code",
   "execution_count": 6,
   "metadata": {},
   "outputs": [],
   "source": [
    "def return_file_paths(rootFolderPath, accept_list):\n",
    "    filenames = []\n",
    "    duration = 0\n",
    "    for root, dirs, files in os.walk(rootFolderPath):\n",
    "        for filename in files:\n",
    "            if filename.endswith('.wav'):\n",
    "                    for accept_item in accept_list:\n",
    "                        if accept_item in filename:\n",
    "#                 print(root[112:], filename)\n",
    "                            audio_length = librosa.get_duration(filename=os.path.join(root, filename))\n",
    "                            duration+= audio_length\n",
    "                            filenames.append([root[112:] + \"\\\\\" + filename, audio_length])\n",
    "    return filenames, duration\n",
    "    "
   ]
  },
  {
   "cell_type": "code",
   "execution_count": 218,
   "metadata": {},
   "outputs": [],
   "source": [
    "rootFolderPath = 'D:/Postdoc/Data/OneDrive_2020-11-30/IFAKARA - NOVEMBER 2020 BEDNET PHONE DOWNLOADS/Semi-field raw data Nov 2020/'\n",
    "phones = ['Chamber A phone 1 (A1)', 'Chamber A phone 2 (A2)', 'Chamber A phone 3 (A3)', 'Chamber A phone 4 (A4)',\n",
    "         'Chamber B phone 1 (B1)', 'Chamber B phone 2 (B2)', 'Chamber B phone 3 (B3)', 'Chamber B phone 4 (B4)',\n",
    "         'Chamber C phone 1 (C1)', 'Chamber C phone 2 (C2)', 'Chamber C phone 3 (C3)', 'Chamber C phone 4 (C4)',\n",
    "         'Chamber D phone 1 (D1)', 'Chamber D phone 2 (D2)', 'Chamber D phone 3 (D3)', 'Chamber D phone 4 (D4)']\n",
    "\n",
    "accept_dates = ['2020-11-16', '2020-11-17', '2020-11-18', '2020-11-19', '2020-11-20', '2020-11-21', '2020-11-22', '2020-11-23', \n",
    "                '2020-11-24', '2020-11-25', '2020-11-26', '2020-11-27']\n",
    "duration_list = []\n",
    "for phone in phones:\n",
    "    filenames, duration = return_file_paths(rootFolderPath+phone, accept_dates)\n",
    "    np.savetxt(\"PredictionPathsDuration16th27th\" + phone + \".csv\", filenames, delimiter=\",\", fmt='%s')\n",
    "    duration_list.append([phone, duration])\n",
    "np.savetxt(\"AudioDuration16th27th.csv\", duration_list, delimiter=\",\", fmt='%s')"
   ]
  },
  {
   "cell_type": "code",
   "execution_count": 60,
   "metadata": {},
   "outputs": [],
   "source": [
    "import IPython.display as ipd"
   ]
  },
  {
   "cell_type": "code",
   "execution_count": 8,
   "metadata": {},
   "outputs": [],
   "source": [
    "for phone in phones:\n",
    "    print('meh')"
   ]
  },
  {
   "cell_type": "code",
   "execution_count": 13,
   "metadata": {},
   "outputs": [],
   "source": [
    "phones = ['Chamber A phone 1 (A1)', 'Chamber A phone 2 (A2)', 'Chamber A phone 3 (A3)', 'Chamber A phone 4 (A4)',\n",
    "         'Chamber B phone 1 (B1)', 'Chamber B phone 2 (B2)', 'Chamber B phone 3 (B3)', 'Chamber B phone 4 (B4)',\n",
    "         'Chamber C phone 1 (C1)', 'Chamber C phone 2 (C2)', 'Chamber C phone 3 (C3)', 'Chamber C phone 4 (C4)',\n",
    "         'Chamber D phone 1 (D1)', 'Chamber D phone 2 (D2)', 'Chamber D phone 3 (D3)', 'Chamber D phone 4 (D4)']\n",
    "\n",
    "phones = ['']\n",
    "# phones = ['Chamber C phone 3 (C3)','Chamber C phone 4 (C4)',]\n",
    "accept_dates = ['2020-11-16', '2020-11-17', '2020-11-18', '2020-11-19', '2020-11-20', '2020-11-21', '2020-11-22', '2020-11-23', \n",
    "                '2020-11-24', '2020-11-25', '2020-11-26', '2020-11-27']\n",
    "# accept_dates =  ['2020-11-09', '2020-11-10', '2020-11-11', '2020-11-12', '2020-11-13']\n",
    "\n",
    "audio_format = '.wav'\n",
    "sr = 8000\n",
    "p_threshold = 0.5\n",
    "PE_threshold = 0.7\n",
    "MI_threshold = 0.3\n",
    "\n",
    "for phone in phones:\n",
    "    rootFolderPath = 'D:/Postdoc/Data/OneDrive_2020-11-30/IFAKARA - NOVEMBER 2020 BEDNET PHONE DOWNLOADS/Semi-field raw data Nov 2020/' + phone\n",
    "    \n",
    "    \n",
    "    mozz_audio_list, mozz_meta = get_audio_detected_meta(rootFolderPath, accept_dates, audio_format, sr, p_threshold, PE_threshold, MI_threshold)\n",
    "    if mozz_audio_list:\n",
    "        np.savetxt('../audio_out/2020-11-16_to_2020-11-27_0_5_0_7_0_3/' + 'all' + '.txt', mozz_meta, fmt='%s', delimiter='\\t')\n",
    "    # ipd.Audio(np.hstack(mozz_audio_list), rate=sr)\n",
    "        librosa.output.write_wav('../audio_out/2020-11-16_to_2020-11-27_0_5_0_7_0_3/' + 'all' + '.wav', np.hstack(mozz_audio_list), sr, norm=False)"
   ]
  },
  {
   "cell_type": "markdown",
   "metadata": {},
   "source": [
    "# Error log:\n",
    "``Signal length too short, skipping: 0.72 2020-11-23_05.59.41.137.wav\n",
    "Signal length too short, skipping: 0.0 2020-11-26_05.58.37.379.wav\n",
    "Signal length too short, skipping: 0.0 2020-11-23_05.59.40.692.wav\n",
    "Signal length too short, skipping: 1.56 2020-11-12_05.58.52.114.wav\n",
    "Signal length too short, skipping: 1.08 2020-11-10_05.58.08.498.wav\n",
    "Signal length too short, skipping: 0.0 2020-11-24_05.58.45.806.wav\n",
    "Signal length too short, skipping: 1.44 2020-11-24_05.55.17.202.wav\n",
    "Signal length too short, skipping: 1.56 2020-11-26_05.56.40.018.wav\n",
    "Total files of .wav format found: 4645``"
   ]
  },
  {
   "cell_type": "code",
   "execution_count": 7,
   "metadata": {
    "scrolled": false
   },
   "outputs": [
    {
     "name": "stdout",
     "output_type": "stream",
     "text": [
      "R4_cleaned recording_17-10-17.wav\n",
      "[['28.16', '30.72', '0.62 PE: 0.96 MI: 0.29'], ['38.4', '43.52', '0.90 PE: 0.41 MI: 0.21'], ['51.2', '53.76', '0.62 PE: 0.96 MI: 0.30'], ['58.88', '66.56', '0.90 PE: 0.43 MI: 0.17'], ['74.24', '76.8', '0.97 PE: 0.18 MI: 0.06'], ['81.92', '87.04', '0.70 PE: 0.88 MI: 0.26'], ['89.6', '92.16', '0.80 PE: 0.72 MI: 0.21'], ['94.72', '99.84', '0.77 PE: 0.62 MI: 0.16'], ['102.4', '107.52', '0.97 PE: 0.20 MI: 0.13'], ['110.08', '112.64', '0.94 PE: 0.34 MI: 0.08'], ['117.76', '125.44', '0.96 PE: 0.18 MI: 0.08'], ['130.56', '145.92', '0.96 PE: 0.19 MI: 0.10'], ['148.48', '156.16', '0.96 PE: 0.17 MI: 0.09'], ['161.28', '163.84', '0.86 PE: 0.58 MI: 0.28'], ['166.4', '171.52', '1.00 PE: 0.00 MI: 0.00'], ['174.08', '194.56', '0.98 PE: 0.11 MI: 0.07'], ['197.12', '202.24', '0.90 PE: 0.48 MI: 0.10'], ['227.84', '238.08', '0.80 PE: 0.63 MI: 0.24'], ['248.32', '253.44', '0.97 PE: 0.19 MI: 0.06'], ['261.12', '266.24', '0.93 PE: 0.37 MI: 0.12'], ['268.8', '273.92', '0.83 PE: 0.63 MI: 0.22'], ['276.48', '281.6', '0.86 PE: 0.51 MI: 0.19'], ['291.84', '307.2', '0.90 PE: 0.37 MI: 0.15'], ['322.56', '337.92', '0.81 PE: 0.65 MI: 0.16'], ['340.48', '345.6', '0.92 PE: 0.38 MI: 0.15'], ['353.28', '358.4', '1.00 PE: 0.00 MI: 0.00'], ['366.08', '368.64', '0.56 PE: 0.99 MI: 0.33'], ['371.2', '376.32', '0.97 PE: 0.15 MI: 0.07'], ['386.56', '389.12', '0.85 PE: 0.61 MI: 0.14'], ['391.68', '394.24', '1.00 PE: 0.01 MI: 0.00'], ['404.48', '435.2', '0.91 PE: 0.36 MI: 0.15'], ['440.32', '453.12', '0.92 PE: 0.27 MI: 0.10'], ['455.68', '476.16', '0.93 PE: 0.20 MI: 0.06'], ['481.28', '483.84', '0.96 PE: 0.23 MI: 0.05'], ['486.4', '496.64', '0.88 PE: 0.33 MI: 0.08'], ['499.2', '522.24', '0.97 PE: 0.12 MI: 0.04'], ['524.8', '527.36', '0.93 PE: 0.37 MI: 0.17'], ['529.92', '532.48', '0.86 PE: 0.57 MI: 0.34'], ['535.04', '537.6', '0.85 PE: 0.62 MI: 0.30'], ['545.28', '547.84', '0.55 PE: 0.99 MI: 0.24'], ['563.2', '568.32', '0.97 PE: 0.15 MI: 0.09'], ['573.44', '583.68', '0.97 PE: 0.18 MI: 0.06'], ['588.8', '601.6', '0.83 PE: 0.62 MI: 0.25'], ['606.72', '614.4', '0.73 PE: 0.67 MI: 0.24'], ['640.0', '642.56', '1.00 PE: 0.00 MI: 0.00']]\n"
     ]
    },
    {
     "data": {
      "image/png": "[encoded data removed]",
      "text/plain": [
       "<Figure size 432x288 with 1 Axes>"
      ]
     },
     "metadata": {
      "needs_background": "light"
     },
     "output_type": "display_data"
    }
   ],
   "source": [
    "# Latest version from detector_testing_full\n",
    "\n",
    "# raw = [r'D:\\Postdoc\\Data\\Semi Field Data\\UK bednet trial\\PHONE A\\2020-09-08_19.04.55.928__v0.wav']\n",
    "# filtered = [r'D:\\Postdoc\\MozzDetectorTestingSQL\\Code\\notebooks\\proc_data\\VADout\\2020-09-08_19.04.55.928__v0.wav']\n",
    "# TzA = [r'D:\\Postdoc\\MozzDetectorTestingSQL\\Code\\notebooks\\proc_data\\VADout\\TanzaniaBednetOctober\\01-10-2020\\B2\\2020-10-01_18.44.21.802__v3.wav']\n",
    "# TzAraw = [r'D:\\Postdoc\\Data\\Semi Field Data\\TanzaniaBednetOctober\\01-10-2020\\B2\\2020-10-01_18.44.21.802__v3.wav']\n",
    "# # Confirmed noise (Dav):\n",
    "dav_noise = [r'D:\\Postdoc\\MozzDetectorTestingSQL\\Data\\Experiments\\sounds\\noise0.wav',\n",
    "             r'D:\\Postdoc\\MozzDetectorTestingSQL\\Data\\Experiments\\sounds\\noise1.wav',\n",
    "             r'D:\\Postdoc\\MozzDetectorTestingSQL\\Data\\Experiments\\sounds\\noise2.wav', \n",
    "             r'D:\\Postdoc\\MozzDetectorTestingSQL\\Data\\Experiments\\sounds\\noise3.wav',\n",
    "             r'D:\\Postdoc\\MozzDetectorTestingSQL\\Data\\Experiments\\sounds\\noise4.wav',\n",
    "             r'D:\\Postdoc\\MozzDetectorTestingSQL\\Data\\Experiments\\sounds\\noise5.wav', \n",
    "             r'D:\\Postdoc\\MozzDetectorTestingSQL\\Data\\Experiments\\sounds\\noise6.wav']\n",
    "\n",
    "\n",
    "\n",
    "\n",
    "sr = 8000\n",
    "\n",
    "# Tanzania\n",
    "# directory = 'D:/Postdoc/MozzDetectorTestingSQL/Code/notebooks/proc_data/VADout/Semi Field Data/TanzaniaBednetOctober/02-10-2020/'\n",
    "# subdirectories = ['A1', 'A2', 'A3', 'A4', 'B1', 'B2', 'B3', 'B4', 'C1', 'C2', 'C3', 'C4']\n",
    "\n",
    "directory = 'D:/Postdoc/Data/Semi Field Data/TanzaniaBednetOctober/2020-10-15 - 2020-10-16/'\n",
    "# directory = 'D:/Postdoc/MozzDetectorTestingSQL/Code/notebooks/proc_data/VADout/Semi Field Data/TanzaniaBednetOctober/2020-10-15 - 2020-10-16/'\n",
    "subdirectories = ['A1', 'B1']\n",
    "dir_out = 'D:/Postdoc/MozzDetectorTestingSQL/Code/notebooks/proc_data/label_out/Semi Field Data/TanzaniaBednetOctober/2020-10-15 - 2020-10-16/'\n",
    "\n",
    "# # # subdirectories = ['A1']\n",
    "directory = 'D:/Postdoc/MozzDetectorTestingSQL/Code/notebooks/proc_data/label_out/debug/Culex_for_ogg/'\n",
    "dir_out = 'D:/Postdoc/MozzDetectorTestingSQL/Code/notebooks/proc_data/label_out/debug/Culex_for_ogg/'\n",
    "\n",
    "subdirectories = ['']\n",
    "\n",
    "\n",
    "# # UK bednet\n",
    "# directory = 'D:/Postdoc/MozzDetectorTestingSQL/Code/notebooks/proc_data/VADout/Semi Field Data/UK bednet trial/'\n",
    "# subdirectories = ['PHONE A','PHONE B']\n",
    "# dir_out = 'D:/Postdoc/MozzDetectorTestingSQL/Code/notebooks/proc_data/Classifierout/VADout/Semi Field Data/UK bednet trial/'\n",
    "\n",
    "\n",
    "# Thai\n",
    "# directory = 'D:/Postdoc/MozzDetectorTestingSQL/Data/Thai/'\n",
    "# subdirectories = ['sounds']\n",
    "# dir_out = 'D:/Postdoc/MozzDetectorTestingSQL/Code/notebooks/proc_data/Classifierout/Thai/'\n",
    "\n",
    "# directory  = 'D:/Postdoc/MozzDetectorTestingSQL/Code/notebooks/proc_data/label_out/debug/music/'\n",
    "# subdirectories = ['']\n",
    "# dir_out = directory\n",
    "# directory = 'F:\\Music\\Guitar Playthroughs\\Audacity'\n",
    "\n",
    "\n",
    "\n",
    "# directory = 'D:/Postdoc/Data/OneDrive_2020-11-30/IFAKARA - NOVEMBER 2020 BEDNET PHONE DOWNLOADS/9to10-11-20/C1/2020-11-10/'\n",
    "# subdirectories = ['0000', '0100', '0200', '0300', '0400', '0500']\n",
    "# dir_out = 'D:/Postdoc/MozzDetectorTestingSQL/Code/notebooks/proc_data/label_out/debug/IFAKARA - NOVEMBER 2020 BEDNET PHONE DOWNLOADS/9to10-11-20/C1/'\n",
    "\n",
    "#CNN:\n",
    "to_filter = False\n",
    "norm = False\n",
    "step_size= 40\n",
    "BNN = True\n",
    "n_samples = 100\n",
    "\n",
    "if norm:\n",
    "    mean= np.load('mean_norm.npy')\n",
    "    std = np.load('std_norm.npy')\n",
    "else:\n",
    "    mean = 0\n",
    "    std = 1\n",
    "\n",
    "for subdir in subdirectories:\n",
    "    listdirectory = os.listdir(directory + subdir) # gets the name of all files in your dir\n",
    "    for filename in listdirectory: \n",
    "        if filename.endswith(\".wav\"): # check each of the files for whether or not they end in .wav:\n",
    "            print(filename)\n",
    "            x, x_l = get_wav_for_path([directory + subdir + '/' + filename], sr =8000)\n",
    "#             print(np.shape(x))\n",
    "#             X = util.get_feat(x, sr=8000, feat_type=feat_type, flatten = flatten, n_feat=n_feat)\n",
    "            X_CNN = util.get_feat(x, sr=8000, feat_type=feat_type, n_feat=n_feat, flatten = False)\n",
    "    \n",
    "            X_CNN = util.reshape_feat(X_CNN, win_size=win_size, step_size=step_size)\n",
    "#             X_CNN = (X_CNN - mean)/std\n",
    "#             print(np.shape(X_CNN))\n",
    "            \n",
    "            if BNN:\n",
    "                out = []\n",
    "                for i in range(n_samples):\n",
    "                    out.append(model.predict(X_CNN))\n",
    "                \n",
    "                G_X, U_X, _ = util.active_BALD(np.log(out), X_CNN, 2)\n",
    "                preds_list = util.detect_timestamps_BNN(np.repeat(np.mean(out, axis=0), step_size, axis=0),\n",
    "                                      np.repeat(G_X, step_size, axis=0),\n",
    "                                      np.repeat(U_X, step_size, axis=0))   \n",
    "            \n",
    "            if to_filter:\n",
    "                preds_filt = np.zeros([len(preds_CNN),2])\n",
    "                preds_filt[:,1] = medfilt(preds_CNN[:,1], kernel_size=51)\n",
    "                preds_filt[:,0] = 1 - preds_filt[:,1]\n",
    "                preds_CNN = preds_filt\n",
    "            \n",
    "#             preds_list = util.detect_timestamps_BNN(np.repeat(preds_CNN, step_size, axis=0))\n",
    "            print(preds_list)\n",
    "            plt.plot((1/sr)*librosa.frames_to_samples(np.arange(len(np.repeat(np.mean(out, axis=0),step_size, axis=0))), hop_length=512),\n",
    "                                               np.repeat(np.mean(out, axis=0), step_size, axis=0)[:,1])\n",
    "            plt.xlabel('Seconds')\n",
    "            plt.ylabel('Mean probability (mozz)')\n",
    "            plt.show()\n",
    "\n",
    "                    \n",
    "            if not os.path.exists(dir_out + subdir): os.makedirs(dir_out + subdir)\n",
    "            np.savetxt(dir_out + subdir + '/' + 'BNN_step_40_samples_100' + str(model_name) + filename + '.txt', preds_list, fmt='%s', delimiter='\\t')\n",
    "                               "
   ]
  },
  {
   "cell_type": "markdown",
   "metadata": {},
   "source": [
    "# View predictions for certain features"
   ]
  },
  {
   "cell_type": "code",
   "execution_count": 75,
   "metadata": {},
   "outputs": [],
   "source": [
    "X_Culex = np.load('proc_data/X_Culex_log-mel-step5.npy')\n",
    "X_Culex_rest = np.load('proc_data/X_Culex_no_00_log-mel-step5.npy')"
   ]
  },
  {
   "cell_type": "code",
   "execution_count": 76,
   "metadata": {},
   "outputs": [
    {
     "data": {
      "text/plain": [
       "[<matplotlib.lines.Line2D at 0x260f8684748>]"
      ]
     },
     "execution_count": 76,
     "metadata": {},
     "output_type": "execute_result"
    },
    {
     "data": {
      "image/png": "[encoded data removed]",
      "text/plain": [
       "<Figure size 432x288 with 1 Axes>"
      ]
     },
     "metadata": {
      "needs_background": "light"
     },
     "output_type": "display_data"
    }
   ],
   "source": [
    "plt.plot(model.predict(X_Culex)[:,1])"
   ]
  },
  {
   "cell_type": "code",
   "execution_count": 77,
   "metadata": {},
   "outputs": [
    {
     "data": {
      "text/plain": [
       "[<matplotlib.lines.Line2D at 0x2610190fcc0>]"
      ]
     },
     "execution_count": 77,
     "metadata": {},
     "output_type": "execute_result"
    },
    {
     "data": {
      "image/png": "[encoded data removed]",
      "text/plain": [
       "<Figure size 432x288 with 1 Axes>"
      ]
     },
     "metadata": {
      "needs_background": "light"
     },
     "output_type": "display_data"
    }
   ],
   "source": [
    "plt.plot(model.predict(X_Culex_rest)[:,1])"
   ]
  },
  {
   "cell_type": "code",
   "execution_count": null,
   "metadata": {},
   "outputs": [],
   "source": []
  }
 ],
 "metadata": {
  "kernelspec": {
   "display_name": "Python [conda env:conda-tf-gpu] *",
   "language": "python",
   "name": "conda-env-conda-tf-gpu-py"
  },
  "language_info": {
   "codemirror_mode": {
    "name": "ipython",
    "version": 3
   },
   "file_extension": ".py",
   "mimetype": "text/x-python",
   "name": "python",
   "nbconvert_exporter": "python",
   "pygments_lexer": "ipython3",
   "version": "3.7.1"
  }
 },
 "nbformat": 4,
 "nbformat_minor": 4
}
