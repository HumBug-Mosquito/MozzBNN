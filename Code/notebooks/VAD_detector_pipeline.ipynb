{
 "cells": [
  {
   "cell_type": "code",
   "execution_count": 1,
   "metadata": {},
   "outputs": [
    {
     "name": "stderr",
     "output_type": "stream",
     "text": [
      "C:\\Users\\ikiskin\\AppData\\Local\\conda\\conda\\envs\\tf-gpu\\lib\\site-packages\\librosa\\util\\decorators.py:9: NumbaDeprecationWarning: \u001b[1mAn import was requested from a module that has moved location.\n",
      "Import requested from: 'numba.decorators', please update to use 'numba.core.decorators' or pin to Numba version 0.48.0. This alias will not be present in Numba version 0.50.0.\u001b[0m\n",
      "  from numba.decorators import jit as optional_jit\n",
      "C:\\Users\\ikiskin\\AppData\\Local\\conda\\conda\\envs\\tf-gpu\\lib\\site-packages\\librosa\\util\\decorators.py:9: NumbaDeprecationWarning: \u001b[1mAn import was requested from a module that has moved location.\n",
      "Import of 'jit' requested from: 'numba.decorators', please update to use 'numba.core.decorators' or pin to Numba version 0.48.0. This alias will not be present in Numba version 0.50.0.\u001b[0m\n",
      "  from numba.decorators import jit as optional_jit\n"
     ]
    }
   ],
   "source": [
    "import os\n",
    "import sys\n",
    "sys.path.insert(0, os.path.abspath('../lib/VAD-Humbug'))\n",
    "sys.path.insert(0, os.path.abspath('../lib/VAD-Humbug'))\n",
    "sys.path.insert(0, os.path.abspath('../lib'))\n",
    "import os\n",
    "# if not os.getcwd().endswith('VAD-Humbug'):\n",
    "#   os.chdir('../lib/VAD-Humbug')\n",
    "from VAD_pipeline import VAD_pipeline\n",
    "import matplotlib.pyplot as plt\n",
    "\n",
    "import pickle\n",
    "import util\n",
    "import librosa\n",
    "import numpy as np\n",
    "import soundfile as sf\n",
    "import ipdb"
   ]
  },
  {
   "cell_type": "markdown",
   "metadata": {},
   "source": [
    "# VAD"
   ]
  },
  {
   "cell_type": "raw",
   "metadata": {
    "scrolled": false
   },
   "source": [
    "# Tanzania data\n",
    "\n",
    "# directory = 'D:/Postdoc/Data/Semi Field Data/TanzaniaBednetOctober/02-10-2020/'\n",
    "# subdirectories = ['A1', 'A2', 'A3', 'A4', 'B1', 'B2', 'B3', 'B4', 'C1', 'C2', 'C3', 'C4']\n",
    "\n",
    "directory = 'D:/Postdoc/Data/Semi Field Data/TanzaniaBednetOctober/2020-10-15 - 2020-10-16/'\n",
    "subdirectories = ['A1']\n",
    "dir_out = 'D:/Postdoc/MozzDetectorTestingSQL/Code/notebooks/proc_data/label_out/Semi Field Data/TanzaniaBednetOctober/2020-10-15 - 2020-10-16/'\n",
    "\n",
    "# # UK bednet data\n",
    "# directory = 'D:/Postdoc/Data/Semi Field Data/UK bednet trial/'\n",
    "# subdirectories = ['PHONE A', 'PHONE B']\n",
    "\n",
    "# # Thai data\n",
    "# directory = 'D:/Postdoc/MozzDetectorTestingSQL/Data/Thai/'\n",
    "# subdirectories = ['sounds']\n",
    "\n",
    "# directory = 'D:/Postdoc/MozzDetectorTestingSQL/Code/notebooks/proc_data/label_out/debug/thai'\n",
    "# dir_out = 'D:/Postdoc/MozzDetectorTestingSQL/Code/notebooks/proc_data/label_out/debug/thai'\n",
    "# subdirectories = ['']\n",
    "\n",
    "\n",
    "\n",
    "\n",
    "for subdir in subdirectories:\n",
    "    listdirectory = os.listdir(directory + subdir) # gets the name of all files in your dir\n",
    "    for filename in listdirectory: \n",
    "        if filename.endswith(\".wav\"): # check each of the files for whether or not they end in .wav:\n",
    "            print(filename)\n",
    "            LU = None\n",
    "            timestamps = VAD_pipeline(directory + subdir, filename,\n",
    "                         dir_out + subdir, agg=3, sr=8000, LU=LU)\n",
    "            if not os.path.exists(dir_out + subdir): os.makedirs(dir_out + subdir)\n",
    "            np.savetxt(dir_out + subdir + '/agg3_LU_' + str(LU) + '_VAD_pred_' + filename + '.txt', timestamps, fmt='%f', delimiter='\\t')\n",
    "            "
   ]
  },
  {
   "cell_type": "markdown",
   "metadata": {},
   "source": [
    "# Load model for detection"
   ]
  },
  {
   "cell_type": "code",
   "execution_count": 2,
   "metadata": {},
   "outputs": [],
   "source": [
    "# with open('../models/clf_CDC_mfcc-cut20.pickle', 'rb') as handle:\n",
    "#     clf = pickle.load(handle)"
   ]
  },
  {
   "cell_type": "code",
   "execution_count": 3,
   "metadata": {},
   "outputs": [
    {
     "name": "stderr",
     "output_type": "stream",
     "text": [
      "C:\\Users\\ikiskin\\AppData\\Local\\conda\\conda\\envs\\tf-gpu\\lib\\site-packages\\tensorflow\\python\\framework\\dtypes.py:516: FutureWarning: Passing (type, 1) or '1type' as a synonym of type is deprecated; in a future version of numpy, it will be understood as (type, (1,)) / '(1,)type'.\n",
      "  _np_qint8 = np.dtype([(\"qint8\", np.int8, 1)])\n",
      "C:\\Users\\ikiskin\\AppData\\Local\\conda\\conda\\envs\\tf-gpu\\lib\\site-packages\\tensorflow\\python\\framework\\dtypes.py:517: FutureWarning: Passing (type, 1) or '1type' as a synonym of type is deprecated; in a future version of numpy, it will be understood as (type, (1,)) / '(1,)type'.\n",
      "  _np_quint8 = np.dtype([(\"quint8\", np.uint8, 1)])\n",
      "C:\\Users\\ikiskin\\AppData\\Local\\conda\\conda\\envs\\tf-gpu\\lib\\site-packages\\tensorflow\\python\\framework\\dtypes.py:518: FutureWarning: Passing (type, 1) or '1type' as a synonym of type is deprecated; in a future version of numpy, it will be understood as (type, (1,)) / '(1,)type'.\n",
      "  _np_qint16 = np.dtype([(\"qint16\", np.int16, 1)])\n",
      "C:\\Users\\ikiskin\\AppData\\Local\\conda\\conda\\envs\\tf-gpu\\lib\\site-packages\\tensorflow\\python\\framework\\dtypes.py:519: FutureWarning: Passing (type, 1) or '1type' as a synonym of type is deprecated; in a future version of numpy, it will be understood as (type, (1,)) / '(1,)type'.\n",
      "  _np_quint16 = np.dtype([(\"quint16\", np.uint16, 1)])\n",
      "C:\\Users\\ikiskin\\AppData\\Local\\conda\\conda\\envs\\tf-gpu\\lib\\site-packages\\tensorflow\\python\\framework\\dtypes.py:520: FutureWarning: Passing (type, 1) or '1type' as a synonym of type is deprecated; in a future version of numpy, it will be understood as (type, (1,)) / '(1,)type'.\n",
      "  _np_qint32 = np.dtype([(\"qint32\", np.int32, 1)])\n",
      "C:\\Users\\ikiskin\\AppData\\Local\\conda\\conda\\envs\\tf-gpu\\lib\\site-packages\\tensorflow\\python\\framework\\dtypes.py:525: FutureWarning: Passing (type, 1) or '1type' as a synonym of type is deprecated; in a future version of numpy, it will be understood as (type, (1,)) / '(1,)type'.\n",
      "  np_resource = np.dtype([(\"resource\", np.ubyte, 1)])\n",
      "C:\\Users\\ikiskin\\AppData\\Local\\conda\\conda\\envs\\tf-gpu\\lib\\site-packages\\tensorboard\\compat\\tensorflow_stub\\dtypes.py:541: FutureWarning: Passing (type, 1) or '1type' as a synonym of type is deprecated; in a future version of numpy, it will be understood as (type, (1,)) / '(1,)type'.\n",
      "  _np_qint8 = np.dtype([(\"qint8\", np.int8, 1)])\n",
      "C:\\Users\\ikiskin\\AppData\\Local\\conda\\conda\\envs\\tf-gpu\\lib\\site-packages\\tensorboard\\compat\\tensorflow_stub\\dtypes.py:542: FutureWarning: Passing (type, 1) or '1type' as a synonym of type is deprecated; in a future version of numpy, it will be understood as (type, (1,)) / '(1,)type'.\n",
      "  _np_quint8 = np.dtype([(\"quint8\", np.uint8, 1)])\n",
      "C:\\Users\\ikiskin\\AppData\\Local\\conda\\conda\\envs\\tf-gpu\\lib\\site-packages\\tensorboard\\compat\\tensorflow_stub\\dtypes.py:543: FutureWarning: Passing (type, 1) or '1type' as a synonym of type is deprecated; in a future version of numpy, it will be understood as (type, (1,)) / '(1,)type'.\n",
      "  _np_qint16 = np.dtype([(\"qint16\", np.int16, 1)])\n",
      "C:\\Users\\ikiskin\\AppData\\Local\\conda\\conda\\envs\\tf-gpu\\lib\\site-packages\\tensorboard\\compat\\tensorflow_stub\\dtypes.py:544: FutureWarning: Passing (type, 1) or '1type' as a synonym of type is deprecated; in a future version of numpy, it will be understood as (type, (1,)) / '(1,)type'.\n",
      "  _np_quint16 = np.dtype([(\"quint16\", np.uint16, 1)])\n",
      "C:\\Users\\ikiskin\\AppData\\Local\\conda\\conda\\envs\\tf-gpu\\lib\\site-packages\\tensorboard\\compat\\tensorflow_stub\\dtypes.py:545: FutureWarning: Passing (type, 1) or '1type' as a synonym of type is deprecated; in a future version of numpy, it will be understood as (type, (1,)) / '(1,)type'.\n",
      "  _np_qint32 = np.dtype([(\"qint32\", np.int32, 1)])\n",
      "C:\\Users\\ikiskin\\AppData\\Local\\conda\\conda\\envs\\tf-gpu\\lib\\site-packages\\tensorboard\\compat\\tensorflow_stub\\dtypes.py:550: FutureWarning: Passing (type, 1) or '1type' as a synonym of type is deprecated; in a future version of numpy, it will be understood as (type, (1,)) / '(1,)type'.\n",
      "  np_resource = np.dtype([(\"resource\", np.ubyte, 1)])\n"
     ]
    }
   ],
   "source": [
    "from tensorflow import keras\n",
    "model = keras.models.load_model('../models/BNN/Win_40_Stride_5_CNN_log-mel_128_norm_Falseheld_out_test_manual_v2_low_epoch.h5',\n",
    "                               custom_objects={\"dropout\": 0.2})\n",
    "model_name = 'held_out_test_manual_v2_low_epoch'\n",
    "win_size=40\n",
    "step_size=40\n",
    "feat_type='log-mel'\n",
    "n_feat=128"
   ]
  },
  {
   "cell_type": "code",
   "execution_count": 4,
   "metadata": {},
   "outputs": [],
   "source": [
    "def get_wav_for_path(noise_path_names, sr):\n",
    "    x = []\n",
    "    signal_length = 0\n",
    "    for path in noise_path_names:\n",
    "        print(path)\n",
    "        signal, _ = librosa.load(path, sr=sr)\n",
    "        x.append(signal)\n",
    "        signal_length += len(signal)/sr\n",
    "    return x, signal_length"
   ]
  },
  {
   "cell_type": "raw",
   "metadata": {
    "scrolled": false
   },
   "source": [
    "# Updated version of file detection from util.py here:\n",
    "\n",
    "# raw = [r'D:\\Postdoc\\Data\\Semi Field Data\\UK bednet trial\\PHONE A\\2020-09-08_19.04.55.928__v0.wav']\n",
    "# filtered = [r'D:\\Postdoc\\MozzDetectorTestingSQL\\Code\\notebooks\\proc_data\\VADout\\2020-09-08_19.04.55.928__v0.wav']\n",
    "# TzA = [r'D:\\Postdoc\\MozzDetectorTestingSQL\\Code\\notebooks\\proc_data\\VADout\\TanzaniaBednetOctober\\01-10-2020\\B2\\2020-10-01_18.44.21.802__v3.wav']\n",
    "# TzAraw = [r'D:\\Postdoc\\Data\\Semi Field Data\\TanzaniaBednetOctober\\01-10-2020\\B2\\2020-10-01_18.44.21.802__v3.wav']\n",
    "# # Confirmed noise (Dav):\n",
    "dav_noise = [r'D:\\Postdoc\\MozzDetectorTestingSQL\\Data\\Experiments\\sounds\\noise0.wav',\n",
    "             r'D:\\Postdoc\\MozzDetectorTestingSQL\\Data\\Experiments\\sounds\\noise1.wav',\n",
    "             r'D:\\Postdoc\\MozzDetectorTestingSQL\\Data\\Experiments\\sounds\\noise2.wav', \n",
    "             r'D:\\Postdoc\\MozzDetectorTestingSQL\\Data\\Experiments\\sounds\\noise3.wav',\n",
    "             r'D:\\Postdoc\\MozzDetectorTestingSQL\\Data\\Experiments\\sounds\\noise4.wav',\n",
    "             r'D:\\Postdoc\\MozzDetectorTestingSQL\\Data\\Experiments\\sounds\\noise5.wav', \n",
    "             r'D:\\Postdoc\\MozzDetectorTestingSQL\\Data\\Experiments\\sounds\\noise6.wav']\n",
    "\n",
    "\n",
    "\n",
    "\n",
    "sr = 8000\n",
    "\n",
    "# Tanzania\n",
    "# directory = 'D:/Postdoc/MozzDetectorTestingSQL/Code/notebooks/proc_data/VADout/Semi Field Data/TanzaniaBednetOctober/02-10-2020/'\n",
    "# subdirectories = ['A1', 'A2', 'A3', 'A4', 'B1', 'B2', 'B3', 'B4', 'C1', 'C2', 'C3', 'C4']\n",
    "\n",
    "directory = 'D:/Postdoc/Data/Semi Field Data/TanzaniaBednetOctober/2020-10-15 - 2020-10-16/'\n",
    "# directory = 'D:/Postdoc/MozzDetectorTestingSQL/Code/notebooks/proc_data/VADout/Semi Field Data/TanzaniaBednetOctober/2020-10-15 - 2020-10-16/'\n",
    "subdirectories = ['A1', 'B1']\n",
    "dir_out = 'D:/Postdoc/MozzDetectorTestingSQL/Code/notebooks/proc_data/label_out/Semi Field Data/TanzaniaBednetOctober/2020-10-15 - 2020-10-16/'\n",
    "\n",
    "# subdirectories = ['A1']\n",
    "directory = 'D:/Postdoc/MozzDetectorTestingSQL/Code/notebooks/proc_data/label_out/debug/culex'\n",
    "dir_out = 'D:/Postdoc/MozzDetectorTestingSQL/Code/notebooks/proc_data/label_out/debug/culex'\n",
    "\n",
    "subdirectories = ['']\n",
    "\n",
    "\n",
    "# # # UK bednet\n",
    "# # directory = 'D:/Postdoc/MozzDetectorTestingSQL/Code/notebooks/proc_data/VADout/Semi Field Data/UK bednet trial/'\n",
    "# # subdirectories = ['PHONE A','PHONE B']\n",
    "# # dir_out = 'D:/Postdoc/MozzDetectorTestingSQL/Code/notebooks/proc_data/Classifierout/VADout/Semi Field Data/UK bednet trial/'\n",
    "\n",
    "\n",
    "# # Thai\n",
    "# # directory = 'D:/Postdoc/MozzDetectorTestingSQL/Data/Thai/'\n",
    "# # subdirectories = ['sounds']\n",
    "# # dir_out = 'D:/Postdoc/MozzDetectorTestingSQL/Code/notebooks/proc_data/Classifierout/Thai/'\n",
    "\n",
    "\n",
    "# directory = 'D:/Postdoc/Data/OneDrive_2020-11-30/IFAKARA - NOVEMBER 2020 BEDNET PHONE DOWNLOADS/9to10-11-20/A1/2020-11-09/'\n",
    "# subdirectories = ['1800', '1900', '2000', '2100', '2200', '2300']\n",
    "# dir_out = 'D:/Postdoc/MozzDetectorTestingSQL/Code/notebooks/proc_data/label_out/debug/IFAKARA - NOVEMBER 2020 BEDNET PHONE DOWNLOADS/9to10-11-20/A1'\n",
    "\n",
    "\n",
    "# #CNN:\n",
    "step = 20\n",
    "norm = True\n",
    "\n",
    "if norm:\n",
    "    mean= np.load('mean_norm.npy')\n",
    "    std = np.load('std_norm.npy')\n",
    "else:\n",
    "    mean = 0\n",
    "    std = 1\n",
    "\n",
    "for subdir in subdirectories:\n",
    "    listdirectory = os.listdir(directory + subdir) # gets the name of all files in your dir\n",
    "    for filename in listdirectory: \n",
    "        if filename.endswith(\".wav\"): # check each of the files for whether or not they end in .wav:\n",
    "            print(filename)\n",
    "            x, x_l = get_wav_for_path([directory + subdir + '/' + filename], sr =8000)\n",
    "#             print(np.shape(x))\n",
    "            X = util.get_feat(x, sr=8000, feat_type='mfcc-cut', flatten = True, n_feat=20)\n",
    "#             X_CNN = util.get_feat(x, sr=8000, feat_type='log-mel', flatten = False)\n",
    "#             X_CNN = util.reshape_feat(X_CNN, win_size=20, step_size=step)\n",
    "#             X_CNN = (X_CNN - mean)/std\n",
    "\n",
    "#             preds_CNN = model.predict(X_CNN)\n",
    "#             preds_list_CNN = util.detect_timestamps(np.repeat(preds_CNN, step, axis=0))\n",
    "            \n",
    "#             plt.plot(np.repeat(preds_CNN, 10, axis=0))\n",
    "#             plt.show()\n",
    "            preds_prob = clf.predict_proba(X)\n",
    "            preds_list = util.detect_timestamps(preds_prob)\n",
    "            plt.plot(preds_prob[:,1])\n",
    "            plt.show()\n",
    "#             print(np.shape(preds_CNN))\n",
    "#             print(np.shape(preds_prob))\n",
    "#             ipdb.set_trace()\n",
    "                    \n",
    "            if not os.path.exists(dir_out + subdir): os.makedirs(dir_out + subdir)\n",
    "#             with open(dir_out + subdir + '/mozz_pred_list' + filename + '.pkl', 'wb') as f:\n",
    "#                 pickle.dump(preds_list, f)\n",
    "            np.savetxt(dir_out + subdir + '/mfcc_cut_cdc_mozz_' + filename + '.txt', preds_list, fmt='%s', delimiter='\\t')\n",
    "                               "
   ]
  },
  {
   "cell_type": "code",
   "execution_count": 13,
   "metadata": {
    "scrolled": false
   },
   "outputs": [
    {
     "name": "stdout",
     "output_type": "stream",
     "text": [
      "R4_cleaned recording_17-10-17.wav\n",
      "D:/Postdoc/MozzDetectorTestingSQL/Code/notebooks/proc_data/label_out/debug/Culex_for_ogg//R4_cleaned recording_17-10-17.wav\n",
      "[['28.16', '30.72', '0.70 PE: 0.88 MI: 0.00'], ['40.96', '43.52', '1.00 PE: 0.03 MI: 0.00'], ['58.88', '66.56', '0.97 PE: 0.17 MI: 0.00'], ['69.12', '71.68', '0.99 PE: 0.10 MI: 0.00'], ['74.24', '76.8', '1.00 PE: 0.02 MI: 0.00'], ['79.36', '92.16', '0.67 PE: 0.80 MI: 0.00'], ['94.72', '99.84', '0.87 PE: 0.43 MI: 0.00'], ['104.96', '107.52', '1.00 PE: 0.00 MI: 0.00'], ['110.08', '115.2', '0.80 PE: 0.54 MI: 0.00'], ['117.76', '125.44', '0.99 PE: 0.05 MI: 0.00'], ['130.56', '156.16', '0.95 PE: 0.12 MI: 0.00'], ['166.4', '171.52', '1.00 PE: 0.00 MI: 0.00'], ['174.08', '194.56', '1.00 PE: 0.01 MI: 0.00'], ['197.12', '204.8', '0.80 PE: 0.53 MI: 0.00'], ['215.04', '217.6', '0.66 PE: 0.93 MI: 0.00'], ['222.72', '225.28', '0.62 PE: 0.96 MI: 0.00'], ['227.84', '238.08', '0.90 PE: 0.37 MI: 0.00'], ['248.32', '253.44', '1.00 PE: 0.04 MI: 0.00'], ['258.56', '266.24', '0.80 PE: 0.70 MI: 0.00'], ['268.8', '273.92', '0.88 PE: 0.50 MI: 0.00'], ['279.04', '281.6', '0.99 PE: 0.06 MI: 0.00'], ['291.84', '307.2', '0.92 PE: 0.30 MI: 0.00'], ['322.56', '337.92', '0.78 PE: 0.65 MI: 0.00'], ['340.48', '343.04', '0.93 PE: 0.38 MI: 0.00'], ['348.16', '350.72', '0.62 PE: 0.96 MI: 0.00'], ['353.28', '358.4', '1.00 PE: 0.00 MI: 0.00'], ['366.08', '368.64', '0.59 PE: 0.98 MI: 0.00'], ['371.2', '376.32', '1.00 PE: 0.01 MI: 0.00'], ['386.56', '389.12', '0.98 PE: 0.15 MI: 0.00'], ['391.68', '394.24', '1.00 PE: 0.00 MI: 0.00'], ['404.48', '414.72', '0.99 PE: 0.07 MI: 0.00'], ['417.28', '419.84', '1.00 PE: 0.01 MI: 0.00'], ['422.4', '435.2', '0.98 PE: 0.11 MI: 0.00'], ['440.32', '453.12', '0.98 PE: 0.11 MI: 0.00'], ['455.68', '476.16', '0.96 PE: 0.16 MI: 0.00'], ['481.28', '494.08', '0.91 PE: 0.20 MI: 0.00'], ['499.2', '522.24', '0.97 PE: 0.12 MI: 0.00'], ['524.8', '527.36', '0.96 PE: 0.26 MI: 0.00'], ['529.92', '540.16', '0.84 PE: 0.50 MI: 0.00'], ['545.28', '547.84', '0.65 PE: 0.94 MI: 0.00'], ['563.2', '568.32', '1.00 PE: 0.00 MI: 0.00'], ['573.44', '586.24', '0.88 PE: 0.35 MI: 0.00'], ['588.8', '601.6', '0.94 PE: 0.27 MI: 0.00'], ['606.72', '614.4', '0.85 PE: 0.45 MI: 0.00'], ['640.0', '642.56', '1.00 PE: 0.00 MI: 0.00'], ['645.12', '647.68', '0.73 PE: 0.84 MI: 0.00']]\n"
     ]
    },
    {
     "data": {
      "image/png": "[encoded data removed]",
      "text/plain": [
       "<Figure size 432x288 with 1 Axes>"
      ]
     },
     "metadata": {
      "needs_background": "light"
     },
     "output_type": "display_data"
    }
   ],
   "source": [
    "# Latest version from detector_testing_full\n",
    "\n",
    "# raw = [r'D:\\Postdoc\\Data\\Semi Field Data\\UK bednet trial\\PHONE A\\2020-09-08_19.04.55.928__v0.wav']\n",
    "# filtered = [r'D:\\Postdoc\\MozzDetectorTestingSQL\\Code\\notebooks\\proc_data\\VADout\\2020-09-08_19.04.55.928__v0.wav']\n",
    "# TzA = [r'D:\\Postdoc\\MozzDetectorTestingSQL\\Code\\notebooks\\proc_data\\VADout\\TanzaniaBednetOctober\\01-10-2020\\B2\\2020-10-01_18.44.21.802__v3.wav']\n",
    "# TzAraw = [r'D:\\Postdoc\\Data\\Semi Field Data\\TanzaniaBednetOctober\\01-10-2020\\B2\\2020-10-01_18.44.21.802__v3.wav']\n",
    "# # Confirmed noise (Dav):\n",
    "dav_noise = [r'D:\\Postdoc\\MozzDetectorTestingSQL\\Data\\Experiments\\sounds\\noise0.wav',\n",
    "             r'D:\\Postdoc\\MozzDetectorTestingSQL\\Data\\Experiments\\sounds\\noise1.wav',\n",
    "             r'D:\\Postdoc\\MozzDetectorTestingSQL\\Data\\Experiments\\sounds\\noise2.wav', \n",
    "             r'D:\\Postdoc\\MozzDetectorTestingSQL\\Data\\Experiments\\sounds\\noise3.wav',\n",
    "             r'D:\\Postdoc\\MozzDetectorTestingSQL\\Data\\Experiments\\sounds\\noise4.wav',\n",
    "             r'D:\\Postdoc\\MozzDetectorTestingSQL\\Data\\Experiments\\sounds\\noise5.wav', \n",
    "             r'D:\\Postdoc\\MozzDetectorTestingSQL\\Data\\Experiments\\sounds\\noise6.wav']\n",
    "\n",
    "\n",
    "\n",
    "\n",
    "sr = 8000\n",
    "\n",
    "# Tanzania\n",
    "# directory = 'D:/Postdoc/MozzDetectorTestingSQL/Code/notebooks/proc_data/VADout/Semi Field Data/TanzaniaBednetOctober/02-10-2020/'\n",
    "# subdirectories = ['A1', 'A2', 'A3', 'A4', 'B1', 'B2', 'B3', 'B4', 'C1', 'C2', 'C3', 'C4']\n",
    "\n",
    "directory = 'D:/Postdoc/Data/Semi Field Data/TanzaniaBednetOctober/2020-10-15 - 2020-10-16/'\n",
    "# directory = 'D:/Postdoc/MozzDetectorTestingSQL/Code/notebooks/proc_data/VADout/Semi Field Data/TanzaniaBednetOctober/2020-10-15 - 2020-10-16/'\n",
    "subdirectories = ['A1', 'B1']\n",
    "dir_out = 'D:/Postdoc/MozzDetectorTestingSQL/Code/notebooks/proc_data/label_out/Semi Field Data/TanzaniaBednetOctober/2020-10-15 - 2020-10-16/'\n",
    "\n",
    "# # # subdirectories = ['A1']\n",
    "directory = 'D:/Postdoc/MozzDetectorTestingSQL/Code/notebooks/proc_data/label_out/debug/Culex_for_ogg/'\n",
    "dir_out = 'D:/Postdoc/MozzDetectorTestingSQL/Code/notebooks/proc_data/label_out/debug/Culex_for_ogg/'\n",
    "\n",
    "subdirectories = ['']\n",
    "\n",
    "\n",
    "# # UK bednet\n",
    "# directory = 'D:/Postdoc/MozzDetectorTestingSQL/Code/notebooks/proc_data/VADout/Semi Field Data/UK bednet trial/'\n",
    "# subdirectories = ['PHONE A','PHONE B']\n",
    "# dir_out = 'D:/Postdoc/MozzDetectorTestingSQL/Code/notebooks/proc_data/Classifierout/VADout/Semi Field Data/UK bednet trial/'\n",
    "\n",
    "\n",
    "# Thai\n",
    "# directory = 'D:/Postdoc/MozzDetectorTestingSQL/Data/Thai/'\n",
    "# subdirectories = ['sounds']\n",
    "# dir_out = 'D:/Postdoc/MozzDetectorTestingSQL/Code/notebooks/proc_data/Classifierout/Thai/'\n",
    "\n",
    "# directory  = 'D:/Postdoc/MozzDetectorTestingSQL/Code/notebooks/proc_data/label_out/debug/music/'\n",
    "# subdirectories = ['']\n",
    "# dir_out = directory\n",
    "# directory = 'F:\\Music\\Guitar Playthroughs\\Audacity'\n",
    "\n",
    "\n",
    "\n",
    "# directory = 'D:/Postdoc/Data/OneDrive_2020-11-30/IFAKARA - NOVEMBER 2020 BEDNET PHONE DOWNLOADS/9to10-11-20/C1/2020-11-10/'\n",
    "# subdirectories = ['0000', '0100', '0200', '0300', '0400', '0500']\n",
    "# dir_out = 'D:/Postdoc/MozzDetectorTestingSQL/Code/notebooks/proc_data/label_out/debug/IFAKARA - NOVEMBER 2020 BEDNET PHONE DOWNLOADS/9to10-11-20/C1/'\n",
    "\n",
    "#CNN:\n",
    "to_filter = False\n",
    "norm = False\n",
    "step_size= 40\n",
    "BNN = True\n",
    "n_samples = 1\n",
    "\n",
    "if norm:\n",
    "    mean= np.load('mean_norm.npy')\n",
    "    std = np.load('std_norm.npy')\n",
    "else:\n",
    "    mean = 0\n",
    "    std = 1\n",
    "\n",
    "for subdir in subdirectories:\n",
    "    listdirectory = os.listdir(directory + subdir) # gets the name of all files in your dir\n",
    "    for filename in listdirectory: \n",
    "        if filename.endswith(\".wav\"): # check each of the files for whether or not they end in .wav:\n",
    "            print(filename)\n",
    "            x, x_l = get_wav_for_path([directory + subdir + '/' + filename], sr =8000)\n",
    "#             print(np.shape(x))\n",
    "#             X = util.get_feat(x, sr=8000, feat_type=feat_type, flatten = flatten, n_feat=n_feat)\n",
    "            X_CNN = util.get_feat(x, sr=8000, feat_type=feat_type, n_feat=n_feat, flatten = False)\n",
    "    \n",
    "            X_CNN = util.reshape_feat(X_CNN, win_size=win_size, step_size=step_size)\n",
    "#             X_CNN = (X_CNN - mean)/std\n",
    "#             print(np.shape(X_CNN))\n",
    "            \n",
    "            if BNN:\n",
    "                out = []\n",
    "                for i in range(n_samples):\n",
    "                    out.append(model.predict(X_CNN))\n",
    "                \n",
    "                G_X, U_X, _ = util.active_BALD(np.log(out), X_CNN, 2)\n",
    "                preds_list = util.detect_timestamps_BNN(np.repeat(np.mean(out, axis=0), step_size, axis=0),\n",
    "                                      np.repeat(G_X, step_size, axis=0),\n",
    "                                      np.repeat(U_X, step_size, axis=0))   \n",
    "            \n",
    "            if to_filter:\n",
    "                preds_filt = np.zeros([len(preds_CNN),2])\n",
    "                preds_filt[:,1] = medfilt(preds_CNN[:,1], kernel_size=51)\n",
    "                preds_filt[:,0] = 1 - preds_filt[:,1]\n",
    "                preds_CNN = preds_filt\n",
    "            \n",
    "#             preds_list = util.detect_timestamps_BNN(np.repeat(preds_CNN, step_size, axis=0))\n",
    "            print(preds_list)\n",
    "            plt.plot((1/sr)*librosa.frames_to_samples(np.arange(len(np.repeat(np.mean(out, axis=0),step_size, axis=0))), hop_length=512),\n",
    "                                               np.repeat(np.mean(out, axis=0), step_size, axis=0)[:,1])\n",
    "            plt.xlabel('Seconds')\n",
    "            plt.ylabel('Mean probability (mozz)')\n",
    "            plt.show()\n",
    "#             preds_prob = clf.predict_proba(X)\n",
    "#             preds_list = util.detect_timestamps(preds_prob)\n",
    "#             plt.plot(preds_prob[:,1])\n",
    "#             plt.show()\n",
    "#             print(np.shape(preds_CNN))\n",
    "#             print(np.shape(preds_prob))\n",
    "#             ipdb.set_trace()\n",
    "                    \n",
    "            if not os.path.exists(dir_out + subdir): os.makedirs(dir_out + subdir)\n",
    "#             with open(dir_out + subdir + '/mozz_pred_list' + filename + '.pkl', 'wb') as f:\n",
    "#                 pickle.dump(preds_list, f)\n",
    "            np.savetxt(dir_out + subdir + '/' + 'BNN_fast_step_40_' + str(model_name) + filename + '.txt', preds_list, fmt='%s', delimiter='\\t')\n",
    "                               "
   ]
  },
  {
   "cell_type": "markdown",
   "metadata": {},
   "source": [
    "# View predictions for certain features"
   ]
  },
  {
   "cell_type": "code",
   "execution_count": 10,
   "metadata": {},
   "outputs": [],
   "source": [
    "X_Culex = np.load('proc_data/X_Culex_log-mel-step5.npy')\n",
    "X_Culex_rest = np.load('proc_data/X_Culex_no_00_log-mel-step5.npy')"
   ]
  },
  {
   "cell_type": "code",
   "execution_count": 11,
   "metadata": {},
   "outputs": [
    {
     "data": {
      "text/plain": [
       "[<matplotlib.lines.Line2D at 0x16c85f54358>]"
      ]
     },
     "execution_count": 11,
     "metadata": {},
     "output_type": "execute_result"
    },
    {
     "data": {
      "image/png": "[encoded data removed]",
      "text/plain": [
       "<Figure size 432x288 with 1 Axes>"
      ]
     },
     "metadata": {
      "needs_background": "light"
     },
     "output_type": "display_data"
    }
   ],
   "source": [
    "plt.plot(model.predict(X_Culex)[:,1])"
   ]
  },
  {
   "cell_type": "code",
   "execution_count": 12,
   "metadata": {},
   "outputs": [
    {
     "data": {
      "text/plain": [
       "[<matplotlib.lines.Line2D at 0x16c85fc7e48>]"
      ]
     },
     "execution_count": 12,
     "metadata": {},
     "output_type": "execute_result"
    },
    {
     "data": {
      "image/png": "[encoded data removed]",
      "text/plain": [
       "<Figure size 432x288 with 1 Axes>"
      ]
     },
     "metadata": {
      "needs_background": "light"
     },
     "output_type": "display_data"
    }
   ],
   "source": [
    "plt.plot(model.predict(X_Culex_rest)[:,1])"
   ]
  }
 ],
 "metadata": {
  "kernelspec": {
   "display_name": "Python [conda env:conda-tf-gpu] *",
   "language": "python",
   "name": "conda-env-conda-tf-gpu-py"
  },
  "language_info": {
   "codemirror_mode": {
    "name": "ipython",
    "version": 3
   },
   "file_extension": ".py",
   "mimetype": "text/x-python",
   "name": "python",
   "nbconvert_exporter": "python",
   "pygments_lexer": "ipython3",
   "version": "3.7.1"
  }
 },
 "nbformat": 4,
 "nbformat_minor": 4
}
