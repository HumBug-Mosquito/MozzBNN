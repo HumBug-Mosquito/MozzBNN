{
 "cells": [
  {
   "cell_type": "code",
   "execution_count": 1,
   "metadata": {},
   "outputs": [
    {
     "name": "stderr",
     "output_type": "stream",
     "text": [
      "C:\\Users\\ikiskin\\AppData\\Local\\conda\\conda\\envs\\tf-gpu\\lib\\site-packages\\librosa\\util\\decorators.py:9: NumbaDeprecationWarning: \u001b[1mAn import was requested from a module that has moved location.\n",
      "Import requested from: 'numba.decorators', please update to use 'numba.core.decorators' or pin to Numba version 0.48.0. This alias will not be present in Numba version 0.50.0.\u001b[0m\n",
      "  from numba.decorators import jit as optional_jit\n",
      "C:\\Users\\ikiskin\\AppData\\Local\\conda\\conda\\envs\\tf-gpu\\lib\\site-packages\\librosa\\util\\decorators.py:9: NumbaDeprecationWarning: \u001b[1mAn import was requested from a module that has moved location.\n",
      "Import of 'jit' requested from: 'numba.decorators', please update to use 'numba.core.decorators' or pin to Numba version 0.48.0. This alias will not be present in Numba version 0.50.0.\u001b[0m\n",
      "  from numba.decorators import jit as optional_jit\n"
     ]
    }
   ],
   "source": [
    "import pandas as pd\n",
    "import librosa\n",
    "import numpy as np\n",
    "from sklearn.metrics import f1_score\n",
    "import IPython.display as ipd\n",
    "import matplotlib.pyplot as plt\n",
    "from sklearn.svm import SVC\n",
    "from sklearn.ensemble import RandomForestClassifier\n",
    "from sklearn.utils import shuffle\n"
   ]
  },
  {
   "cell_type": "code",
   "execution_count": 19,
   "metadata": {},
   "outputs": [],
   "source": [
    "def remove_label_bug(df):\n",
    "    '''Remove any entries where the label end_time is not at least 1 sample greater than the label start_time.\n",
    "    This step can be done more efficiently when loading data into .wav files, but for readability and ease of use we will\n",
    "    pre-process the dataframes first by removing any entries with incorrect labels.'''\n",
    "    idx_noise = []\n",
    "    for i, item in enumerate(range(len(df))):\n",
    "        # Check for entry errors\n",
    "        label_duration = df.iloc[i][\"fine_end_time\"] - df.iloc[i][\"fine_start_time\"]\n",
    "        if label_duration <= 0:\n",
    "            print('Label duration of', label_duration, 'seconds at path', df.iloc[i][\"path\"], '... deleting index', i)\n",
    "            idx_noise.append(i)\n",
    "    df_clean = df.drop(index = df.index[idx_noise])\n",
    "    print('Old dataframe length:', len(df))\n",
    "    print('New dataframe length:', len(df_clean))\n",
    "    return df_clean"
   ]
  },
  {
   "cell_type": "code",
   "execution_count": 20,
   "metadata": {},
   "outputs": [
    {
     "name": "stdout",
     "output_type": "stream",
     "text": [
      "Label duration of 0.0 seconds at path  '/Thai/sounds/18 June 2018_251cow.wav' ... deleting index 1560\n",
      "Old dataframe length: 2006\n",
      "New dataframe length: 2005\n"
     ]
    }
   ],
   "source": [
    "df = pd.read_csv('../../SQLqueries/fine_path_species_label.csv', header = None)\n",
    "df.columns = ['label_id', 'audio_id', 'fine_start_time', 'fine_end_time', 'species', 'sound_type', 'path']\n",
    "df = remove_label_bug(df)"
   ]
  },
  {
   "cell_type": "code",
   "execution_count": 21,
   "metadata": {},
   "outputs": [
    {
     "name": "stdout",
     "output_type": "stream",
     "text": [
      "Label duration of 0.0 seconds at path  '/Thai/sounds/larvae_#12-20_rec1.wav' ... deleting index 933\n",
      "Label duration of 0.0 seconds at path  '/Thai/sounds/larvae_#12-20_rec1.wav' ... deleting index 935\n",
      "Label duration of 0.0 seconds at path  '/Thai/sounds/larvae_#12-20_rec1.wav' ... deleting index 936\n",
      "Label duration of 0.0 seconds at path  '/Thai/sounds/larvae_#12-20_rec1.wav' ... deleting index 938\n",
      "Old dataframe length: 1063\n",
      "New dataframe length: 1059\n"
     ]
    }
   ],
   "source": [
    "df_noise = pd.read_csv('../../SQLqueries/fine_path_non_mosquito.csv', header = None)\n",
    "df_noise.columns = ['label_id', 'audio_id', 'fine_start_time', 'fine_end_time', 'species', 'sound_type', 'path']\n",
    "df_noise = remove_label_bug(df_noise)"
   ]
  },
  {
   "cell_type": "code",
   "execution_count": 22,
   "metadata": {},
   "outputs": [],
   "source": [
    "# Append larvae recordings from dataframe to mosquito instead of noise.\n",
    "#This is a hotfix to merge the two types from the database\n",
    "# Note that species information has gone missing for this field.\n",
    "df = df.append(df_noise[df_noise[\"sound_type\"] == \" 'larvae'\"])"
   ]
  },
  {
   "cell_type": "code",
   "execution_count": 23,
   "metadata": {},
   "outputs": [],
   "source": [
    "# Select noise data as labelled entries of all except larvae type\n",
    "df_noise = df_noise[df_noise[\"sound_type\"] != \" 'larvae'\"]"
   ]
  },
  {
   "cell_type": "code",
   "execution_count": 71,
   "metadata": {
    "scrolled": false
   },
   "outputs": [
    {
     "data": {
      "text/plain": [
       "array([\" '/CDC/sounds/CDC_Ae-albopictus_labelled_800.wav'\",\n",
       "       \" '/CDC/sounds/CDC_An-albimanus_labelled_800.wav'\",\n",
       "       \" '/CDC/sounds/CDC_An-arabiensis_labelled_800.wav'\",\n",
       "       \" '/CDC/sounds/CDC_An-atroparvus_labelled_800.wav'\",\n",
       "       \" '/CDC/sounds/CDC_An-coluzzii_labelled_800.wav'\",\n",
       "       \" '/CDC/sounds/CDC_An-dirus_labelled_800.wav'\",\n",
       "       \" '/CDC/sounds/CDC_An-farauti_labelled_800.wav'\",\n",
       "       \" '/CDC/sounds/CDC_An-freeborni_labelled_800.wav'\",\n",
       "       \" '/CDC/sounds/CDC_An-funestus_labelled_800.wav'\",\n",
       "       \" '/CDC/sounds/CDC_An-merus_labelled_800.wav'\",\n",
       "       \" '/CDC/sounds/CDC_An-minimus_labelled_800.wav'\",\n",
       "       \" '/CDC/sounds/CDC_An-quadriannulatus_labelled_800.wav'\",\n",
       "       \" '/CDC/sounds/CDC_An-quadrimaculatus_labelled_800.wav'\",\n",
       "       \" '/Culex/sounds/R4_cleaned recording_12-10-17.wav'\",\n",
       "       \" '/CDC/sounds/CDC_An-sinensis_labelled_800.wav'\",\n",
       "       \" '/CDC/sounds/CDC_An-stephensi_labelled_800.wav'\",\n",
       "       \" '/CDC/sounds/CDC_Cx-quinquefasciatus_labelled_800.wav'\",\n",
       "       \" '/CDC/sounds/CDC_Cx-tarsalis_labelled_800.wav'\",\n",
       "       \" '/Culex/sounds/R4_cleaned recording_13-10-17.wav'\",\n",
       "       \" '/Culex/sounds/R4_cleaned recording_16-10-17.wav'\",\n",
       "       \" '/Culex/sounds/R4_cleaned recording_17-10-17.wav'\",\n",
       "       \" '/Culex/sounds/R4_cleaned recording_18-10-17.wav'\",\n",
       "       \" '/Culex/sounds/R4_cleaned recording_TEL_19-10-17.wav'\",\n",
       "       \" '/Culex/sounds/R4_cleaned recording_TEL_20-10-17.wav'\",\n",
       "       \" '/Culex/sounds/R4_cleaned recording_TEL_23-10-17.wav'\",\n",
       "       \" '/Culex/sounds/R4_cleaned recording_TEL_24-10-17.wav'\",\n",
       "       \" '/Culex/sounds/R4_cleaned recording_TEL_25-10-17.wav'\",\n",
       "       \" '/Culex/sounds/UNFINISHED - recordings and labels 17-10-17-R4.wav'\",\n",
       "       \" '/Culex/sounds/UNFINISHED - recordings and labels 18-10-17-R4.wav'\",\n",
       "       \" '/Culex/sounds/UNFINISHED - recordings and labels 24-10-17-R4.wav'\",\n",
       "       \" '/Culex/sounds/UNFINISHED - recordings and labels 25-10-17-R4.wav'\",\n",
       "       \" '/Culex/sounds/UNFINISHED - recordings and labels 26-10-17-R4.wav'\",\n",
       "       \" '/LSTMH/sounds/LSTMH telinga audio - edited and labelled.wav'\",\n",
       "       \" '/Thai/sounds/#1002-1011.wav'\", \" '/Thai/sounds/#1012-1020.wav'\",\n",
       "       \" '/Thai/sounds/#1021-1039.wav'\", \" '/Thai/sounds/#1040-1054.wav'\",\n",
       "       \" '/Thai/sounds/#1055-1071.wav'\", \" '/Thai/sounds/#1072-1097.wav'\",\n",
       "       \" '/Thai/sounds/#1098-1102.wav'\", \" '/Thai/sounds/#1103-1114.wav'\",\n",
       "       \" '/Thai/sounds/#1115-1126.wav'\", \" '/Thai/sounds/#1127-1141.wav'\",\n",
       "       \" '/Thai/sounds/#114-124.wav'\", \" '/Thai/sounds/#1142-1159.wav'\",\n",
       "       \" '/Thai/sounds/#1160-1177.wav'\", \" '/Thai/sounds/#1188-1203.wav'\",\n",
       "       \" '/Thai/sounds/#1204-1221.wav'\", \" '/Thai/sounds/#1222-1239.wav'\",\n",
       "       \" '/Thai/sounds/#1240-1257.wav'\", \" '/Thai/sounds/#125-150.wav'\",\n",
       "       \" '/Thai/sounds/#1258-1267.wav'\", \" '/Thai/sounds/#1268-1279.wav'\",\n",
       "       \" '/Thai/sounds/#1280-1295.wav'\", \" '/Thai/sounds/#1296-1312.wav'\",\n",
       "       \" '/Thai/sounds/#1313-1334.wav'\", \" '/Thai/sounds/#1335-1369.wav'\",\n",
       "       \" '/Thai/sounds/#1370-1393.wav'\", \" '/Thai/sounds/#1394-1413.wav'\",\n",
       "       \" '/Thai/sounds/#151-173.wav'\", \" '/Thai/sounds/#209-219.wav'\",\n",
       "       \" '/Thai/sounds/#235-239.wav'\", \" '/Thai/sounds/#251.wav'\",\n",
       "       \" '/Thai/sounds/#254-260.wav'\", \" '/Thai/sounds/#26-60.wav'\",\n",
       "       \" '/Thai/sounds/#295-312.wav'\", \" '/Thai/sounds/#349-357.wav'\",\n",
       "       \" '/Thai/sounds/#359-379.wav'\", \" '/Thai/sounds/#380-406.wav'\",\n",
       "       \" '/Thai/sounds/#407-422.wav'\", \" '/Thai/sounds/#423-487.wav'\",\n",
       "       \" '/Thai/sounds/#489-495.wav'\", \" '/Thai/sounds/#496-510.wav'\",\n",
       "       \" '/Thai/sounds/#511-526.wav'\", \" '/Thai/sounds/#527-539.wav'\",\n",
       "       \" '/Thai/sounds/#540-576.wav'\", \" '/Thai/sounds/#577-599.wav'\",\n",
       "       \" '/Thai/sounds/#600-609.wav'\", \" '/Thai/sounds/#645-657.wav'\",\n",
       "       \" '/Thai/sounds/#658-696.wav'\", \" '/Thai/sounds/#69-79.wav'\",\n",
       "       \" '/Thai/sounds/#697-730.wav'\", \" '/Thai/sounds/#731-736.wav'\",\n",
       "       \" '/Thai/sounds/#737-752.wav'\", \" '/Thai/sounds/#753-781.wav'\",\n",
       "       \" '/Thai/sounds/#817-827.wav'\", \" '/Thai/sounds/#846.wav'\",\n",
       "       \" '/Thai/sounds/#847-862.wav'\", \" '/Thai/sounds/#879-891.wav'\",\n",
       "       \" '/Thai/sounds/#918-938.wav'\", \" '/Thai/sounds/#939-962.wav'\",\n",
       "       \" '/Thai/sounds/#963-987.wav'\", \" '/Thai/sounds/#97-113.wav'\",\n",
       "       \" '/Thai/sounds/#988-1001.wav'\",\n",
       "       \" '/Thai/sounds/1 July 2018_#600-#609 HLC.wav'\",\n",
       "       \" '/Thai/sounds/1 July 2018_#645-#657COW.wav'\",\n",
       "       \" '/Thai/sounds/1 July 2018_#658-#696cow.wav'\",\n",
       "       \" '/Thai/sounds/1 July 2018_#697-#730 COW.wav'\",\n",
       "       \" '/Thai/sounds/1 July 2018_#731-#736COW.wav'\",\n",
       "       \" '/Thai/sounds/1 July 2018_#737-#752COW.wav'\",\n",
       "       \" '/Thai/sounds/1 July 2018_#753-#781COW.wav'\",\n",
       "       \" '/Thai/sounds/14 June 2018 7 pm-8 pm_MS.wav'\",\n",
       "       \" '/Thai/sounds/14 June 2018 8 pm - 9 pm_MS.wav'\",\n",
       "       \" '/Thai/sounds/15 June 2018 cow 114-124 cow.wav'\",\n",
       "       \" '/Thai/sounds/15 June 2018 HLC.wav'\",\n",
       "       \" '/Thai/sounds/15 June 2018_97-113cow.wav'\",\n",
       "       \" '/Thai/sounds/16 June 2018_151-173cow.wav'\",\n",
       "       \" '/Thai/sounds/17 June 2018_209-219cow.wav'\",\n",
       "       \" '/Thai/sounds/17 June 2018_235-239cow.wav'\",\n",
       "       \" '/Thai/sounds/18 June 2018_254-260cow.wav'\",\n",
       "       \" '/Thai/sounds/19 June 2018_295-312cow.wav'\",\n",
       "       \" '/Thai/sounds/19 June 2018_349-357cow.wav'\",\n",
       "       \" '/Thai/sounds/19 June 2018_359_379cow.wav'\",\n",
       "       \" '/Thai/sounds/19 June 2018_380-406cow.wav'\",\n",
       "       \" '/Thai/sounds/20 June 2018_407-422 hlc.wav'\",\n",
       "       \" '/Thai/sounds/20 June 2018_423-487cow.wav'\",\n",
       "       \" '/Thai/sounds/20 June 2018_489-495cow.wav'\",\n",
       "       \" '/Thai/sounds/20 June 2018_496-510cow.wav'\",\n",
       "       \" '/Thai/sounds/20 JUne 2018_511-526cow.wav'\",\n",
       "       \" '/Thai/sounds/20 JUne 2018_527-539cow.wav'\",\n",
       "       \" '/Thai/sounds/20 June 2018_540-576cow.wav'\",\n",
       "       \" '/Thai/sounds/20 June 2018_577-599cow.wav'\",\n",
       "       \" '/Culex/sounds/0024_norm.wav'\", \" '/Culex/sounds/0026_norm.wav'\",\n",
       "       \" '/Culex/sounds/0027_norm.wav'\", \" '/Culex/sounds/0028_norm.wav'\",\n",
       "       \" '/Culex/sounds/0029_norm.wav'\", \" '/Culex/sounds/0030_norm.wav'\",\n",
       "       \" '/Culex/sounds/0031_norm.wav'\", \" '/Culex/sounds/0032_norm.wav'\",\n",
       "       \" '/Culex/sounds/0033_norm.wav'\", \" '/Culex/sounds/0034_norm.wav'\",\n",
       "       \" '/Culex/sounds/0035_norm.wav'\", \" '/Culex/sounds/0036_norm.wav'\",\n",
       "       \" '/Culex/sounds/0037_norm.wav'\", \" '/Culex/sounds/0038_norm.wav'\",\n",
       "       \" '/Culex/sounds/0039_norm.wav'\", \" '/Culex/sounds/0040_norm.wav'\",\n",
       "       \" '/Culex/sounds/0045_norm.wav'\", \" '/Culex/sounds/0048_norm.wav'\",\n",
       "       \" '/Culex/sounds/0049_norm.wav'\", \" '/Culex/sounds/0050_norm.wav'\",\n",
       "       \" '/Culex/sounds/0052_norm.wav'\", \" '/Culex/sounds/0057_norm.wav'\",\n",
       "       \" '/CDC/sounds/CDC_Ae-aegypti_labelled_800.wav'\",\n",
       "       \" '/CDC/sounds/CDC_An-gambiae_labelled_800.wav'\",\n",
       "       \" '/Culex/sounds/0021_norm.wav'\", \" '/Culex/sounds/0022_norm.wav'\",\n",
       "       \" '/Culex/sounds/0023_norm.wav'\",\n",
       "       \" '/Thai/sounds/larvae_#1-3_rec1.wav'\",\n",
       "       \" '/Thai/sounds/larvae_#1-3_rec2.wav'\",\n",
       "       \" '/Thai/sounds/larvae_#1-3_rec3.wav'\",\n",
       "       \" '/Thai/sounds/larvae_#12-20_rec1.wav'\",\n",
       "       \" '/Thai/sounds/larvae_#12-20_rec3.wav'\",\n",
       "       \" '/Thai/sounds/larvae_#21-26_rec1.wav'\",\n",
       "       \" '/Thai/sounds/larvae_#21-26_rec2.wav'\",\n",
       "       \" '/Thai/sounds/larvae_#21-26_rec3.wav'\",\n",
       "       \" '/Thai/sounds/larvae_#21-26_rec4.wav'\",\n",
       "       \" '/Thai/sounds/larvae_#27-31_rec1.wav'\",\n",
       "       \" '/Thai/sounds/larvae_#27-31_rec2.wav'\",\n",
       "       \" '/Thai/sounds/larvae_#27-31_rec3.wav'\",\n",
       "       \" '/Thai/sounds/larvae_#27-31_rec4.wav'\",\n",
       "       \" '/Thai/sounds/larvae_#32-38_rec1.wav'\",\n",
       "       \" '/Thai/sounds/larvae_#32-38_rec2.wav'\",\n",
       "       \" '/Thai/sounds/larvae_#32-38_rec3.wav'\",\n",
       "       \" '/Thai/sounds/larvae_#32-38_rec4.wav'\",\n",
       "       \" '/Thai/sounds/larvae_#39-41_rec1.wav'\",\n",
       "       \" '/Thai/sounds/larvae_#39-41_rec2.wav'\",\n",
       "       \" '/Thai/sounds/larvae_#39-41_rec3.wav'\",\n",
       "       \" '/Thai/sounds/larvae_#39-41_rec4.wav'\",\n",
       "       \" '/Thai/sounds/larvae_#4-7_rec1.wav'\",\n",
       "       \" '/Thai/sounds/larvae_#4-7_rec2.wav'\",\n",
       "       \" '/Thai/sounds/larvae_#4-7_rec3.wav'\",\n",
       "       \" '/Thai/sounds/larvae_#42-44_rec1.wav'\",\n",
       "       \" '/Thai/sounds/larvae_#42-44_rec2.wav'\",\n",
       "       \" '/Thai/sounds/larvae_#42-44_rec3.wav'\",\n",
       "       \" '/Thai/sounds/larvae_#8-11_rec1.wav'\",\n",
       "       \" '/Thai/sounds/larvae_#8-11_rec2.wav'\",\n",
       "       \" '/Thai/sounds/larvae_#8-11_rec3.wav'\"], dtype=object)"
      ]
     },
     "execution_count": 71,
     "metadata": {},
     "output_type": "execute_result"
    }
   ],
   "source": [
    "# See list of paths used in dataframe\n",
    "df[\"path\"].unique()"
   ]
  },
  {
   "cell_type": "code",
   "execution_count": 25,
   "metadata": {},
   "outputs": [
    {
     "data": {
      "text/plain": [
       "array([\" '/Bednet/sounds/PH1 01 JULY (2ND HOUR) - DETECTION TRIAL.wav'\",\n",
       "       \" '/Bednet/sounds/PH1 30 JUNE (1ST HOUR) - DETECTION TRIAL.wav'\",\n",
       "       \" '/Culex/sounds/R4_cleaned recording_12-10-17.wav'\",\n",
       "       \" '/Culex/sounds/R4_cleaned recording_13-10-17.wav'\",\n",
       "       \" '/Culex/sounds/R4_cleaned recording_16-10-17.wav'\",\n",
       "       \" '/Culex/sounds/R4_cleaned recording_17-10-17.wav'\",\n",
       "       \" '/Culex/sounds/R4_cleaned recording_18-10-17.wav'\",\n",
       "       \" '/Culex/sounds/R4_cleaned recording_TEL_19-10-17.wav'\",\n",
       "       \" '/Culex/sounds/R4_cleaned recording_TEL_20-10-17.wav'\",\n",
       "       \" '/Culex/sounds/R4_cleaned recording_TEL_23-10-17.wav'\",\n",
       "       \" '/Culex/sounds/R4_cleaned recording_TEL_24-10-17.wav'\",\n",
       "       \" '/Culex/sounds/R4_cleaned recording_TEL_25-10-17.wav'\",\n",
       "       \" '/Culex/sounds/UNFINISHED - recordings and labels 17-10-17-R4.wav'\",\n",
       "       \" '/Culex/sounds/UNFINISHED - recordings and labels 18-10-17-R4.wav'\",\n",
       "       \" '/Culex/sounds/UNFINISHED - recordings and labels 24-10-17-R4.wav'\",\n",
       "       \" '/Culex/sounds/UNFINISHED - recordings and labels 25-10-17-R4.wav'\",\n",
       "       \" '/Culex/sounds/UNFINISHED - recordings and labels 26-10-17-R4.wav'\",\n",
       "       \" '/Catalogue/sounds/r2018-04-21_20.25.36.947.wav_u2018-04-21_15.47.04.737079.wav'\",\n",
       "       \" '/LSTMH/sounds/LSTMH telinga audio - edited and labelled.wav'\"],\n",
       "      dtype=object)"
      ]
     },
     "execution_count": 25,
     "metadata": {},
     "output_type": "execute_result"
    }
   ],
   "source": [
    "df_noise[\"path\"].unique()"
   ]
  },
  {
   "cell_type": "code",
   "execution_count": 39,
   "metadata": {},
   "outputs": [
    {
     "name": "stdout",
     "output_type": "stream",
     "text": [
      "Number of clips chosen for training: 1467\n",
      "Number of clips chosen for testing: 504\n"
     ]
    }
   ],
   "source": [
    "# Choose to train on data which contains the strings below in the path filename for true holdout data split\n",
    "\n",
    "index_list_train = []\n",
    "index_list_test = []\n",
    "for index, path in enumerate(df[\"path\"]):\n",
    "    if 'Thai' not in path:\n",
    "        index_list_train.append(index)\n",
    "    else:\n",
    "        # Removing duplicate entries for \"xxxx.wav\" and \"June/Julyxxx_COW.wav\"\n",
    "        if 'cow' not in path and 'COW' not in path and 'HLC' not in path and 'hlc' not in path and 'June' not in path:\n",
    "            index_list_test.append(index)\n",
    "print('Number of clips chosen for training:', len(index_list_train))\n",
    "print('Number of clips chosen for testing:', len(index_list_test))\n",
    "\n",
    "df_train = df.iloc[index_list_train]\n",
    "df_test = df.iloc[index_list_test]"
   ]
  },
  {
   "cell_type": "code",
   "execution_count": 40,
   "metadata": {},
   "outputs": [
    {
     "name": "stdout",
     "output_type": "stream",
     "text": [
      "Number of clips chosen for training: 924\n",
      "Number of clips chosen for testing: 0\n"
     ]
    }
   ],
   "source": [
    "# Choose to train on noise which contains the strings below in the path filename for true holdout data split\n",
    "\n",
    "index_list_train = []\n",
    "index_list_test = []\n",
    "for index, path in enumerate(df_noise[\"path\"]):\n",
    "    if 'Thai' not in path:\n",
    "        index_list_train.append(index)\n",
    "    else:\n",
    "        index_list_test.append(index)\n",
    "print('Number of clips chosen for training:', len(index_list_train))\n",
    "print('Number of clips chosen for testing:', len(index_list_test))\n",
    "\n",
    "df_train_noise = df_noise.iloc[index_list_train]\n",
    "df_test_noise = df_noise.iloc[index_list_test]"
   ]
  },
  {
   "cell_type": "code",
   "execution_count": 41,
   "metadata": {},
   "outputs": [
    {
     "data": {
      "text/plain": [
       "array([\" '/Thai/sounds/#1002-1011.wav'\", \" '/Thai/sounds/#1012-1020.wav'\",\n",
       "       \" '/Thai/sounds/#1021-1039.wav'\", \" '/Thai/sounds/#1040-1054.wav'\",\n",
       "       \" '/Thai/sounds/#1055-1071.wav'\", \" '/Thai/sounds/#1072-1097.wav'\",\n",
       "       \" '/Thai/sounds/#1098-1102.wav'\", \" '/Thai/sounds/#1103-1114.wav'\",\n",
       "       \" '/Thai/sounds/#1115-1126.wav'\", \" '/Thai/sounds/#1127-1141.wav'\",\n",
       "       \" '/Thai/sounds/#114-124.wav'\", \" '/Thai/sounds/#1142-1159.wav'\",\n",
       "       \" '/Thai/sounds/#1160-1177.wav'\", \" '/Thai/sounds/#1188-1203.wav'\",\n",
       "       \" '/Thai/sounds/#1204-1221.wav'\", \" '/Thai/sounds/#1222-1239.wav'\",\n",
       "       \" '/Thai/sounds/#1240-1257.wav'\", \" '/Thai/sounds/#125-150.wav'\",\n",
       "       \" '/Thai/sounds/#1258-1267.wav'\", \" '/Thai/sounds/#1268-1279.wav'\",\n",
       "       \" '/Thai/sounds/#1280-1295.wav'\", \" '/Thai/sounds/#1296-1312.wav'\",\n",
       "       \" '/Thai/sounds/#1313-1334.wav'\", \" '/Thai/sounds/#1335-1369.wav'\",\n",
       "       \" '/Thai/sounds/#1370-1393.wav'\", \" '/Thai/sounds/#1394-1413.wav'\",\n",
       "       \" '/Thai/sounds/#151-173.wav'\", \" '/Thai/sounds/#209-219.wav'\",\n",
       "       \" '/Thai/sounds/#235-239.wav'\", \" '/Thai/sounds/#251.wav'\",\n",
       "       \" '/Thai/sounds/#254-260.wav'\", \" '/Thai/sounds/#26-60.wav'\",\n",
       "       \" '/Thai/sounds/#295-312.wav'\", \" '/Thai/sounds/#349-357.wav'\",\n",
       "       \" '/Thai/sounds/#359-379.wav'\", \" '/Thai/sounds/#380-406.wav'\",\n",
       "       \" '/Thai/sounds/#407-422.wav'\", \" '/Thai/sounds/#423-487.wav'\",\n",
       "       \" '/Thai/sounds/#489-495.wav'\", \" '/Thai/sounds/#496-510.wav'\",\n",
       "       \" '/Thai/sounds/#511-526.wav'\", \" '/Thai/sounds/#527-539.wav'\",\n",
       "       \" '/Thai/sounds/#540-576.wav'\", \" '/Thai/sounds/#577-599.wav'\",\n",
       "       \" '/Thai/sounds/#600-609.wav'\", \" '/Thai/sounds/#645-657.wav'\",\n",
       "       \" '/Thai/sounds/#658-696.wav'\", \" '/Thai/sounds/#69-79.wav'\",\n",
       "       \" '/Thai/sounds/#697-730.wav'\", \" '/Thai/sounds/#731-736.wav'\",\n",
       "       \" '/Thai/sounds/#737-752.wav'\", \" '/Thai/sounds/#753-781.wav'\",\n",
       "       \" '/Thai/sounds/#817-827.wav'\", \" '/Thai/sounds/#846.wav'\",\n",
       "       \" '/Thai/sounds/#847-862.wav'\", \" '/Thai/sounds/#879-891.wav'\",\n",
       "       \" '/Thai/sounds/#918-938.wav'\", \" '/Thai/sounds/#939-962.wav'\",\n",
       "       \" '/Thai/sounds/#963-987.wav'\", \" '/Thai/sounds/#97-113.wav'\",\n",
       "       \" '/Thai/sounds/#988-1001.wav'\",\n",
       "       \" '/Thai/sounds/larvae_#1-3_rec1.wav'\",\n",
       "       \" '/Thai/sounds/larvae_#1-3_rec2.wav'\",\n",
       "       \" '/Thai/sounds/larvae_#1-3_rec3.wav'\",\n",
       "       \" '/Thai/sounds/larvae_#12-20_rec1.wav'\",\n",
       "       \" '/Thai/sounds/larvae_#12-20_rec3.wav'\",\n",
       "       \" '/Thai/sounds/larvae_#21-26_rec1.wav'\",\n",
       "       \" '/Thai/sounds/larvae_#21-26_rec2.wav'\",\n",
       "       \" '/Thai/sounds/larvae_#21-26_rec3.wav'\",\n",
       "       \" '/Thai/sounds/larvae_#21-26_rec4.wav'\",\n",
       "       \" '/Thai/sounds/larvae_#27-31_rec1.wav'\",\n",
       "       \" '/Thai/sounds/larvae_#27-31_rec2.wav'\",\n",
       "       \" '/Thai/sounds/larvae_#27-31_rec3.wav'\",\n",
       "       \" '/Thai/sounds/larvae_#27-31_rec4.wav'\",\n",
       "       \" '/Thai/sounds/larvae_#32-38_rec1.wav'\",\n",
       "       \" '/Thai/sounds/larvae_#32-38_rec2.wav'\",\n",
       "       \" '/Thai/sounds/larvae_#32-38_rec3.wav'\",\n",
       "       \" '/Thai/sounds/larvae_#32-38_rec4.wav'\",\n",
       "       \" '/Thai/sounds/larvae_#39-41_rec1.wav'\",\n",
       "       \" '/Thai/sounds/larvae_#39-41_rec2.wav'\",\n",
       "       \" '/Thai/sounds/larvae_#39-41_rec3.wav'\",\n",
       "       \" '/Thai/sounds/larvae_#39-41_rec4.wav'\",\n",
       "       \" '/Thai/sounds/larvae_#4-7_rec1.wav'\",\n",
       "       \" '/Thai/sounds/larvae_#4-7_rec2.wav'\",\n",
       "       \" '/Thai/sounds/larvae_#4-7_rec3.wav'\",\n",
       "       \" '/Thai/sounds/larvae_#42-44_rec1.wav'\",\n",
       "       \" '/Thai/sounds/larvae_#42-44_rec2.wav'\",\n",
       "       \" '/Thai/sounds/larvae_#42-44_rec3.wav'\",\n",
       "       \" '/Thai/sounds/larvae_#8-11_rec1.wav'\",\n",
       "       \" '/Thai/sounds/larvae_#8-11_rec2.wav'\",\n",
       "       \" '/Thai/sounds/larvae_#8-11_rec3.wav'\"], dtype=object)"
      ]
     },
     "execution_count": 41,
     "metadata": {},
     "output_type": "execute_result"
    }
   ],
   "source": [
    "# See list of paths used in train/test/noise dataframes\n",
    "df_test[\"path\"].unique()"
   ]
  },
  {
   "cell_type": "code",
   "execution_count": 42,
   "metadata": {},
   "outputs": [],
   "source": [
    "def get_wav_for_df(df, sr):\n",
    "    # Probably memory inefficient as it loops over entire paths and loads all the corresponding wav file excerpts, may be better to open file\n",
    "    # and perform feature transform, close, saving as we progress\n",
    "    x = []\n",
    "    idx = []\n",
    "    signal_length = 0\n",
    "    # Load data at the resampled rate of 8000 Hz, which is used in the smartphone app\n",
    "    for i, item in enumerate(range(len(df))):\n",
    "\n",
    "        signal, _ = librosa.load('../../Data' + df.iloc[i][\"path\"].strip().strip(\"\\'\"),\n",
    "                    offset=df.iloc[i][\"fine_start_time\"],\n",
    "                    duration=df.iloc[i][\"fine_end_time\"] - df.iloc[i][\"fine_start_time\"], sr = sr)\n",
    "        x.append(signal)\n",
    "        signal_length += df.iloc[i][\"fine_end_time\"] - df.iloc[i][\"fine_start_time\"]\n",
    "    return x, signal_length"
   ]
  },
  {
   "cell_type": "code",
   "execution_count": 43,
   "metadata": {},
   "outputs": [],
   "source": [
    "x_s_tr, x_s_tr_l = get_wav_for_df(df_train, 8000)\n",
    "x_s_te, x_s_te_l = get_wav_for_df(df_test, 8000)\n",
    "x_n_tr, x_n_tr_l = get_wav_for_df(df_train_noise, 8000)"
   ]
  },
  {
   "cell_type": "markdown",
   "metadata": {},
   "source": [
    "## Augmenting dataset with extra data and splitting\n",
    "It now remains to decide on a way of splitting the data for a comprehensive training and test set. We can use cross-validation on a subset of the training set to further select model hyperparameters. We will explictly split into:\n",
    "* Train signal, train noise\n",
    "* Test signal, test noise"
   ]
  },
  {
   "cell_type": "code",
   "execution_count": 44,
   "metadata": {},
   "outputs": [],
   "source": [
    "def get_wav_for_path(noise_path_names, sr):\n",
    "    x = []\n",
    "    signal_length = 0\n",
    "    for path in noise_path_names:\n",
    "        signal, _ = librosa.load('../../Data' + path, sr=sr)\n",
    "        x.append(signal)\n",
    "        signal_length += len(signal)/sr\n",
    "    return x, signal_length\n",
    "        \n",
    "    "
   ]
  },
  {
   "cell_type": "code",
   "execution_count": 45,
   "metadata": {},
   "outputs": [],
   "source": [
    "noise_path_names_Culex = [ '/Culex/sounds/0001_norm.wav',\n",
    " '/Culex/sounds/0002_norm.wav',\n",
    " '/Culex/sounds/0003_norm.wav',\n",
    " '/Culex/sounds/0004_norm.wav',\n",
    " '/Culex/sounds/0005_norm.wav',\n",
    " '/Culex/sounds/0006_norm.wav',\n",
    " '/Culex/sounds/0007_norm.wav',\n",
    " '/Culex/sounds/0008_norm.wav',\n",
    " '/Culex/sounds/0009_norm.wav',\n",
    " '/Culex/sounds/0010_norm.wav',\n",
    " '/Culex/sounds/0011_norm.wav',\n",
    " '/Culex/sounds/0012_norm.wav',\n",
    " '/Culex/sounds/0013_norm.wav',\n",
    " '/Culex/sounds/0014_norm.wav',\n",
    " '/Culex/sounds/0015_norm.wav',\n",
    " '/Culex/sounds/0016_norm.wav',\n",
    " '/Culex/sounds/0017_norm.wav',\n",
    " '/Culex/sounds/0018_norm.wav',\n",
    " '/Culex/sounds/0019_norm.wav',\n",
    " '/Culex/sounds/0020_norm.wav',\n",
    " '/Culex/sounds/0025_norm.wav',\n",
    " '/Culex/sounds/0041_norm.wav',\n",
    " '/Culex/sounds/0042_norm.wav',\n",
    " '/Culex/sounds/0043_norm.wav',\n",
    " '/Culex/sounds/0044_norm.wav',\n",
    " '/Culex/sounds/0046_norm.wav',\n",
    "                         '/Culex/sounds/0047_norm.wav',\n",
    "                          '/Culex/sounds/0051_norm.wav',\n",
    "                          '/Culex/sounds/0053_norm.wav',\n",
    "                          '/Culex/sounds/0054_norm.wav',\n",
    "                          '/Culex/sounds/0056_norm.wav']\n",
    "x_n_add_Culex, s_n_add_Culex = get_wav_for_path(noise_path_names_Culex, sr=8000)\n",
    "x_n_add_CDC, s_n_add_CDC = get_wav_for_path(['/CDC/sounds/background.wav'], sr=8000)"
   ]
  },
  {
   "cell_type": "code",
   "execution_count": 46,
   "metadata": {},
   "outputs": [],
   "source": [
    "def get_noise_wav_for_df(df, path_strings, sr):\n",
    "    ''' Logic: If any wav file has a positive label, the unlabelled wav file is negative. \n",
    "    This only holds true for some data in the dataset, hence we supply a list of strings to path_string, which filters the \n",
    "    data as follows: if path_string is a substring of path, accept this data processing scheme'''\n",
    "    x = []\n",
    "    signal_length = 0\n",
    "    # Added to let input conform to list type (single or multiple input arguments handled the same way in code)\n",
    "    path_strings = path_strings if isinstance(path_strings, list) else [path_strings]  \n",
    "    print(path_strings)\n",
    "    \n",
    "    # Load data at the resampled rate of 8000 Hz, which is used in the smartphone app\n",
    "    for path in df[\"path\"].unique():\n",
    "        for path_string in path_strings:\n",
    "#             print(path_string)\n",
    "            if path_string in path:\n",
    "                print(path)\n",
    "                df_wav = df[df[\"path\"] == path]\n",
    "                print(df_wav)\n",
    "                wav = librosa.load('../../Data' + df_wav.iloc[0][\"path\"].strip().strip(\"\\'\"), sr =8000)\n",
    "                print(len(wav[0]))\n",
    "                idx_wav_array = np.zeros(len(wav[0]), dtype=int)\n",
    "                sample_start_time = round(df_wav[\"fine_start_time\"] * sr)\n",
    "                sample_end_time = round(df_wav[\"fine_end_time\"] * sr)\n",
    "#                 print(sample_end_time-sample_start_time)\n",
    "                \n",
    "                if sample_end_time.iloc[len(df_wav)-1] > len(wav[0]):\n",
    "                    print('Sample end time', sample_end_time.iloc[len(df_wav)-1], 'greater than length',\n",
    "                          len(wav[0]), 'of the wave file, rounding down label to end of array')\n",
    "                    sample_end_time.iloc[len(df_wav)-1] = len(wav[0])\n",
    "                for i in range(len(df_wav)):\n",
    "                    print(sample_start_time.iloc[i], sample_end_time.iloc[i])\n",
    "                    idx_wav_array[np.arange(sample_start_time.iloc[i], sample_end_time.iloc[i]).astype('int')] = 1\n",
    "                x.append(wav[0][np.where(np.logical_not(idx_wav_array))])\n",
    "                signal_length  +=len(wav[0][np.where(np.logical_not(idx_wav_array))])/sr\n",
    "\n",
    "\n",
    "    return x, signal_length"
   ]
  },
  {
   "cell_type": "code",
   "execution_count": 47,
   "metadata": {
    "scrolled": false
   },
   "outputs": [
    {
     "name": "stdout",
     "output_type": "stream",
     "text": [
      "['Culex/sounds/00']\n",
      " '/Culex/sounds/0024_norm.wav'\n",
      "      label_id  audio_id  fine_start_time  fine_end_time  \\\n",
      "1642    199898      4788             38.4           40.9   \n",
      "1643    199899      4788             41.6           54.2   \n",
      "2000    199892      4788              0.0           10.6   \n",
      "2001    199893      4788             11.3           18.5   \n",
      "2002    199894      4788             19.1           21.0   \n",
      "2003    199895      4788             22.0           26.2   \n",
      "2004    199896      4788             26.8           30.4   \n",
      "2005    199897      4788             31.9           35.7   \n",
      "\n",
      "                        species   sound_type                            path  \n",
      "1642   'culex quinquefasciatus'   'mosquito'   '/Culex/sounds/0024_norm.wav'  \n",
      "1643   'culex quinquefasciatus'   'mosquito'   '/Culex/sounds/0024_norm.wav'  \n",
      "2000   'culex quinquefasciatus'   'mosquito'   '/Culex/sounds/0024_norm.wav'  \n",
      "2001   'culex quinquefasciatus'   'mosquito'   '/Culex/sounds/0024_norm.wav'  \n",
      "2002   'culex quinquefasciatus'   'mosquito'   '/Culex/sounds/0024_norm.wav'  \n",
      "2003   'culex quinquefasciatus'   'mosquito'   '/Culex/sounds/0024_norm.wav'  \n",
      "2004   'culex quinquefasciatus'   'mosquito'   '/Culex/sounds/0024_norm.wav'  \n",
      "2005   'culex quinquefasciatus'   'mosquito'   '/Culex/sounds/0024_norm.wav'  \n",
      "434176\n",
      "307200.0 327200.0\n",
      "332800.0 433600.0\n",
      "0.0 84800.0\n",
      "90400.0 148000.0\n",
      "152800.0 168000.0\n",
      "176000.0 209600.0\n",
      "214400.0 243200.0\n",
      "255200.0 285600.0\n",
      " '/Culex/sounds/0026_norm.wav'\n",
      "      label_id  audio_id  fine_start_time  fine_end_time  \\\n",
      "1644    199900      4790              0.0           27.1   \n",
      "1645    199901      4790             28.7           43.9   \n",
      "1646    199902      4790             45.5           59.7   \n",
      "\n",
      "                        species   sound_type                            path  \n",
      "1644   'culex quinquefasciatus'   'mosquito'   '/Culex/sounds/0026_norm.wav'  \n",
      "1645   'culex quinquefasciatus'   'mosquito'   '/Culex/sounds/0026_norm.wav'  \n",
      "1646   'culex quinquefasciatus'   'mosquito'   '/Culex/sounds/0026_norm.wav'  \n",
      "477184\n",
      "Sample end time 477600.0 greater than length 477184 of the wave file, rounding down label to end of array\n",
      "0.0 216800.0\n",
      "229600.0 351200.0\n",
      "364000.0 477184.0\n",
      " '/Culex/sounds/0027_norm.wav'\n",
      "      label_id  audio_id  fine_start_time  fine_end_time  \\\n",
      "1647    199903      4791              0.3            2.1   \n",
      "1648    199904      4791              2.5           30.5   \n",
      "1649    199905      4791             30.9           31.9   \n",
      "\n",
      "                        species   sound_type                            path  \n",
      "1647   'culex quinquefasciatus'   'mosquito'   '/Culex/sounds/0027_norm.wav'  \n",
      "1648   'culex quinquefasciatus'   'mosquito'   '/Culex/sounds/0027_norm.wav'  \n",
      "1649   'culex quinquefasciatus'   'mosquito'   '/Culex/sounds/0027_norm.wav'  \n",
      "434176\n",
      "2400.0 16800.0\n",
      "20000.0 244000.0\n",
      "247200.0 255200.0\n",
      " '/Culex/sounds/0028_norm.wav'\n",
      "      label_id  audio_id  fine_start_time  fine_end_time  \\\n",
      "1650    199906      4792              9.4           15.8   \n",
      "1651    199907      4792             16.6           29.9   \n",
      "1652    199908      4792             30.8           33.8   \n",
      "1653    199909      4792             34.8           54.3   \n",
      "\n",
      "                        species   sound_type                            path  \n",
      "1650   'culex quinquefasciatus'   'mosquito'   '/Culex/sounds/0028_norm.wav'  \n",
      "1651   'culex quinquefasciatus'   'mosquito'   '/Culex/sounds/0028_norm.wav'  \n",
      "1652   'culex quinquefasciatus'   'mosquito'   '/Culex/sounds/0028_norm.wav'  \n",
      "1653   'culex quinquefasciatus'   'mosquito'   '/Culex/sounds/0028_norm.wav'  \n",
      "434176\n",
      "Sample end time 434400.0 greater than length 434176 of the wave file, rounding down label to end of array\n",
      "75200.0 126400.0\n",
      "132800.0 239200.0\n",
      "246400.0 270400.0\n",
      "278400.0 434176.0\n",
      " '/Culex/sounds/0029_norm.wav'\n",
      "      label_id  audio_id  fine_start_time  fine_end_time  \\\n",
      "1654    199910      4793              0.0           26.7   \n",
      "1655    199911      4793             32.2           34.0   \n",
      "\n",
      "                        species   sound_type                            path  \n",
      "1654   'culex quinquefasciatus'   'mosquito'   '/Culex/sounds/0029_norm.wav'  \n",
      "1655   'culex quinquefasciatus'   'mosquito'   '/Culex/sounds/0029_norm.wav'  \n",
      "434176\n",
      "0.0 213600.0\n",
      "257600.0 272000.0\n",
      " '/Culex/sounds/0030_norm.wav'\n",
      "      label_id  audio_id  fine_start_time  fine_end_time  \\\n",
      "1656    199912      4794             12.6           21.8   \n",
      "1657    199913      4794             22.2           37.6   \n",
      "1658    199914      4794             38.9           43.3   \n",
      "1659    199915      4794             50.7           52.7   \n",
      "\n",
      "                        species   sound_type                            path  \n",
      "1656   'culex quinquefasciatus'   'mosquito'   '/Culex/sounds/0030_norm.wav'  \n",
      "1657   'culex quinquefasciatus'   'mosquito'   '/Culex/sounds/0030_norm.wav'  \n",
      "1658   'culex quinquefasciatus'   'mosquito'   '/Culex/sounds/0030_norm.wav'  \n",
      "1659   'culex quinquefasciatus'   'mosquito'   '/Culex/sounds/0030_norm.wav'  \n",
      "434176\n",
      "100800.0 174400.0\n",
      "177600.0 300800.0\n",
      "311200.0 346400.0\n",
      "405600.0 421600.0\n",
      " '/Culex/sounds/0031_norm.wav'\n",
      "      label_id  audio_id  fine_start_time  fine_end_time  \\\n",
      "1660    199916      4795             17.6           28.4   \n",
      "\n",
      "                        species   sound_type                            path  \n",
      "1660   'culex quinquefasciatus'   'mosquito'   '/Culex/sounds/0031_norm.wav'  \n",
      "434176\n",
      "140800.0 227200.0\n",
      " '/Culex/sounds/0032_norm.wav'\n",
      "      label_id  audio_id  fine_start_time  fine_end_time  \\\n",
      "1661    199917      4796              6.4            9.3   \n",
      "1662    199918      4796             31.1           44.4   \n",
      "1663    199919      4796             45.4           46.0   \n",
      "\n",
      "                        species   sound_type                            path  \n",
      "1661   'culex quinquefasciatus'   'mosquito'   '/Culex/sounds/0032_norm.wav'  \n",
      "1662   'culex quinquefasciatus'   'mosquito'   '/Culex/sounds/0032_norm.wav'  \n",
      "1663   'culex quinquefasciatus'   'mosquito'   '/Culex/sounds/0032_norm.wav'  \n",
      "434176\n",
      "51200.0 74400.0\n",
      "248800.0 355200.0\n",
      "363200.0 368000.0\n",
      " '/Culex/sounds/0033_norm.wav'\n",
      "      label_id  audio_id  fine_start_time  fine_end_time  \\\n",
      "1664    199920      4797             28.2           36.7   \n",
      "1665    199921      4797             47.1           48.9   \n",
      "1666    199922      4797             50.2           53.5   \n",
      "\n",
      "                        species   sound_type                            path  \n",
      "1664   'culex quinquefasciatus'   'mosquito'   '/Culex/sounds/0033_norm.wav'  \n",
      "1665   'culex quinquefasciatus'   'mosquito'   '/Culex/sounds/0033_norm.wav'  \n",
      "1666   'culex quinquefasciatus'   'mosquito'   '/Culex/sounds/0033_norm.wav'  \n",
      "434176\n",
      "225600.0 293600.0\n",
      "376800.0 391200.0\n",
      "401600.0 428000.0\n",
      " '/Culex/sounds/0034_norm.wav'\n",
      "      label_id  audio_id  fine_start_time  fine_end_time  \\\n",
      "1667    199923      4798              0.0            3.7   \n",
      "1668    199924      4798             27.7           29.3   \n",
      "1669    199925      4798             31.9           38.3   \n",
      "1670    199926      4798             43.5           51.3   \n",
      "\n",
      "                        species   sound_type                            path  \n",
      "1667   'culex quinquefasciatus'   'mosquito'   '/Culex/sounds/0034_norm.wav'  \n",
      "1668   'culex quinquefasciatus'   'mosquito'   '/Culex/sounds/0034_norm.wav'  \n",
      "1669   'culex quinquefasciatus'   'mosquito'   '/Culex/sounds/0034_norm.wav'  \n",
      "1670   'culex quinquefasciatus'   'mosquito'   '/Culex/sounds/0034_norm.wav'  \n",
      "434176\n",
      "0.0 29600.0\n",
      "221600.0 234400.0\n",
      "255200.0 306400.0\n",
      "348000.0 410400.0\n",
      " '/Culex/sounds/0035_norm.wav'\n",
      "      label_id  audio_id  fine_start_time  fine_end_time  \\\n",
      "1671    199927      4799              2.6           16.0   \n",
      "1672    199928      4799             17.4           55.4   \n",
      "\n",
      "                        species   sound_type                            path  \n",
      "1671   'culex quinquefasciatus'   'mosquito'   '/Culex/sounds/0035_norm.wav'  \n",
      "1672   'culex quinquefasciatus'   'mosquito'   '/Culex/sounds/0035_norm.wav'  \n",
      "434176\n",
      "Sample end time 443200.0 greater than length 434176 of the wave file, rounding down label to end of array\n",
      "20800.0 128000.0\n",
      "139200.0 434176.0\n",
      " '/Culex/sounds/0036_norm.wav'\n",
      "      label_id  audio_id  fine_start_time  fine_end_time  \\\n",
      "1673    199929      4800              0.0           20.7   \n",
      "1674    199930      4800             27.8           55.4   \n",
      "\n",
      "                        species   sound_type                            path  \n",
      "1673   'culex quinquefasciatus'   'mosquito'   '/Culex/sounds/0036_norm.wav'  \n",
      "1674   'culex quinquefasciatus'   'mosquito'   '/Culex/sounds/0036_norm.wav'  \n",
      "434176\n",
      "Sample end time 443200.0 greater than length 434176 of the wave file, rounding down label to end of array\n",
      "0.0 165600.0\n",
      "222400.0 434176.0\n",
      " '/Culex/sounds/0037_norm.wav'\n",
      "      label_id  audio_id  fine_start_time  fine_end_time  \\\n",
      "1675    199931      4801              0.0            1.8   \n",
      "1676    199932      4801             10.8           20.0   \n",
      "1677    199933      4801             48.5           54.3   \n",
      "\n",
      "                        species   sound_type                            path  \n",
      "1675   'culex quinquefasciatus'   'mosquito'   '/Culex/sounds/0037_norm.wav'  \n",
      "1676   'culex quinquefasciatus'   'mosquito'   '/Culex/sounds/0037_norm.wav'  \n",
      "1677   'culex quinquefasciatus'   'mosquito'   '/Culex/sounds/0037_norm.wav'  \n",
      "434176\n",
      "Sample end time 434400.0 greater than length 434176 of the wave file, rounding down label to end of array\n",
      "0.0 14400.0\n",
      "86400.0 160000.0\n",
      "388000.0 434176.0\n",
      " '/Culex/sounds/0038_norm.wav'\n",
      "      label_id  audio_id  fine_start_time  fine_end_time  \\\n",
      "1678    199934      4802              0.0           54.3   \n",
      "\n",
      "                        species   sound_type                            path  \n",
      "1678   'culex quinquefasciatus'   'mosquito'   '/Culex/sounds/0038_norm.wav'  \n",
      "434176\n",
      "Sample end time 434400.0 greater than length 434176 of the wave file, rounding down label to end of array\n",
      "0.0 434176.0\n",
      " '/Culex/sounds/0039_norm.wav'\n",
      "      label_id  audio_id  fine_start_time  fine_end_time  \\\n",
      "1679    199935      4803              0.0            5.3   \n",
      "1680    199936      4803             46.7           56.7   \n",
      "\n",
      "                        species   sound_type                            path  \n",
      "1679   'culex quinquefasciatus'   'mosquito'   '/Culex/sounds/0039_norm.wav'  \n",
      "1680   'culex quinquefasciatus'   'mosquito'   '/Culex/sounds/0039_norm.wav'  \n",
      "434176\n",
      "Sample end time 453600.0 greater than length 434176 of the wave file, rounding down label to end of array\n",
      "0.0 42400.0\n",
      "373600.0 434176.0\n",
      " '/Culex/sounds/0040_norm.wav'\n",
      "      label_id  audio_id  fine_start_time  fine_end_time  \\\n",
      "1681    199937      4804              0.0           53.5   \n",
      "\n",
      "                        species   sound_type                            path  \n",
      "1681   'culex quinquefasciatus'   'mosquito'   '/Culex/sounds/0040_norm.wav'  \n"
     ]
    },
    {
     "name": "stdout",
     "output_type": "stream",
     "text": [
      "428032\n",
      "0.0 428000.0\n",
      " '/Culex/sounds/0045_norm.wav'\n",
      "      label_id  audio_id  fine_start_time  fine_end_time  \\\n",
      "1682    199938      4809             14.5           59.6   \n",
      "\n",
      "                        species   sound_type                            path  \n",
      "1682   'culex quinquefasciatus'   'mosquito'   '/Culex/sounds/0045_norm.wav'  \n",
      "477184\n",
      "116000.0 476800.0\n",
      " '/Culex/sounds/0048_norm.wav'\n",
      "      label_id  audio_id  fine_start_time  fine_end_time  \\\n",
      "1683    199939      4812             42.5           54.2   \n",
      "\n",
      "                        species   sound_type                            path  \n",
      "1683   'culex quinquefasciatus'   'mosquito'   '/Culex/sounds/0048_norm.wav'  \n",
      "434176\n",
      "340000.0 433600.0\n",
      " '/Culex/sounds/0049_norm.wav'\n",
      "      label_id  audio_id  fine_start_time  fine_end_time  \\\n",
      "1684    199940      4813             47.1           54.2   \n",
      "\n",
      "                        species   sound_type                            path  \n",
      "1684   'culex quinquefasciatus'   'mosquito'   '/Culex/sounds/0049_norm.wav'  \n",
      "434176\n",
      "376800.0 433600.0\n",
      " '/Culex/sounds/0050_norm.wav'\n",
      "      label_id  audio_id  fine_start_time  fine_end_time  \\\n",
      "1685    199941      4814              0.0            9.7   \n",
      "1686    199942      4814             26.4           33.6   \n",
      "1687    199943      4814             41.4           54.2   \n",
      "\n",
      "                        species   sound_type                            path  \n",
      "1685   'culex quinquefasciatus'   'mosquito'   '/Culex/sounds/0050_norm.wav'  \n",
      "1686   'culex quinquefasciatus'   'mosquito'   '/Culex/sounds/0050_norm.wav'  \n",
      "1687   'culex quinquefasciatus'   'mosquito'   '/Culex/sounds/0050_norm.wav'  \n",
      "434176\n",
      "0.0 77600.0\n",
      "211200.0 268800.0\n",
      "331200.0 433600.0\n",
      " '/Culex/sounds/0052_norm.wav'\n",
      "      label_id  audio_id  fine_start_time  fine_end_time  \\\n",
      "1688    199944      4816             27.6           33.8   \n",
      "\n",
      "                        species   sound_type                            path  \n",
      "1688   'culex quinquefasciatus'   'mosquito'   '/Culex/sounds/0052_norm.wav'  \n",
      "434176\n",
      "220800.0 270400.0\n",
      " '/Culex/sounds/0057_norm.wav'\n",
      "      label_id  audio_id  fine_start_time  fine_end_time  \\\n",
      "1689    199945      4821              0.5            1.9   \n",
      "\n",
      "                        species   sound_type                            path  \n",
      "1689   'culex quinquefasciatus'   'mosquito'   '/Culex/sounds/0057_norm.wav'  \n",
      "317440\n",
      "4000.0 15200.0\n",
      " '/Culex/sounds/0021_norm.wav'\n",
      "      label_id  audio_id  fine_start_time  fine_end_time  \\\n",
      "1992    199884      4785              0.9           32.7   \n",
      "1993    199885      4785             45.7           59.4   \n",
      "\n",
      "                        species   sound_type                            path  \n",
      "1992   'culex quinquefasciatus'   'mosquito'   '/Culex/sounds/0021_norm.wav'  \n",
      "1993   'culex quinquefasciatus'   'mosquito'   '/Culex/sounds/0021_norm.wav'  \n",
      "475136\n",
      "Sample end time 475200.0 greater than length 475136 of the wave file, rounding down label to end of array\n",
      "7200.0 261600.0\n",
      "365600.0 475136.0\n",
      " '/Culex/sounds/0022_norm.wav'\n",
      "      label_id  audio_id  fine_start_time  fine_end_time  \\\n",
      "1994    199886      4786              0.0            5.0   \n",
      "1995    199887      4786             13.1           25.3   \n",
      "\n",
      "                        species   sound_type                            path  \n",
      "1994   'culex quinquefasciatus'   'mosquito'   '/Culex/sounds/0022_norm.wav'  \n",
      "1995   'culex quinquefasciatus'   'mosquito'   '/Culex/sounds/0022_norm.wav'  \n",
      "434176\n",
      "0.0 40000.0\n",
      "104800.0 202400.0\n",
      " '/Culex/sounds/0023_norm.wav'\n",
      "      label_id  audio_id  fine_start_time  fine_end_time  \\\n",
      "1996    199888      4787              1.0            6.6   \n",
      "1997    199889      4787             11.7           25.5   \n",
      "1998    199890      4787             30.5           48.5   \n",
      "1999    199891      4787             49.0           54.2   \n",
      "\n",
      "                        species   sound_type                            path  \n",
      "1996   'culex quinquefasciatus'   'mosquito'   '/Culex/sounds/0023_norm.wav'  \n",
      "1997   'culex quinquefasciatus'   'mosquito'   '/Culex/sounds/0023_norm.wav'  \n",
      "1998   'culex quinquefasciatus'   'mosquito'   '/Culex/sounds/0023_norm.wav'  \n",
      "1999   'culex quinquefasciatus'   'mosquito'   '/Culex/sounds/0023_norm.wav'  \n",
      "434176\n",
      "8000.0 52800.0\n",
      "93600.0 204000.0\n",
      "244000.0 388000.0\n",
      "392000.0 433600.0\n"
     ]
    }
   ],
   "source": [
    "# x_n_Thai_June, s_n_Thai_June = get_noise_wav_for_df(df, ['June', 'JUne'], 8000)\n",
    "# x_n_Thai_July, s_n_Thai_July = get_noise_wav_for_df(df, ['July'], 8000)\n",
    "x_n_Culex, s_n_Culex = get_noise_wav_for_df(df, ['Culex/sounds/00'], 8000)\n"
   ]
  },
  {
   "cell_type": "code",
   "execution_count": 17,
   "metadata": {},
   "outputs": [
    {
     "name": "stdout",
     "output_type": "stream",
     "text": [
      "Training species\n",
      "[\" 'ae albopictus'\" \" 'an albimanus'\" \" 'an arabiensis'\"\n",
      " \" 'an atroparvus'\" \" 'an coluzzii'\" \" 'an dirus'\" \" 'an farauti'\"\n",
      " \" 'an freeborni'\" \" 'an funestus'\" \" 'an merus'\" \" 'an minimus'\"\n",
      " \" 'an quadriannulatus'\" \" 'culex quinquefasciatus'\" \" 'an sinensis'\"\n",
      " \" 'an stephensi'\" \" 'culex tarsalis'\" \" 'toxorhynchites brevipalpis'\"\n",
      " \" 'an gambiae'\" \" 'an harrisoni'\" \" 'an maculatus'\" \" 'an barbirostris'\"\n",
      " \" 'ae aegypti'\" ' None']\n",
      "Testing species\n",
      "[\" 'culex quinquefasciatus'\"]\n"
     ]
    }
   ],
   "source": [
    "# Print unique species in training set\n",
    "print('Training species')\n",
    "print(df_train[\"species\"].unique())\n",
    "print('Testing species')\n",
    "print(df_test[\"species\"].unique())"
   ]
  },
  {
   "cell_type": "markdown",
   "metadata": {},
   "source": [
    "## Split signal\n",
    "We hold out some data to split. No obvious split currently so will wing it."
   ]
  },
  {
   "cell_type": "code",
   "execution_count": 50,
   "metadata": {},
   "outputs": [
    {
     "data": {
      "text/html": [
       "\n",
       "                <audio  controls=\"controls\" >\n",
       "                    <source src=\"data:audio/wav;base64,UklGRs4nAgBXQVZFZm10IBAAAAABAAEAQB8AAIA+AAACABAAZGF0YaonAgBH/iT9Dvyj9oD1MffC9ET3jf8vAlkB9QIB/zH6vPpN/ZT/uf5Y/Dn+dPqo81b2b/WH9Uj7qQSYBqMEDQgKBO3+N/9hAlgCBAHc/0T/fvuo9Lb1lfb49m77nQDIAysC6wDG/qH7Gvw3/psAYgP7/7T9IPwO9Sn1/vOr9V/5TP0OBfcCQQLfAOb67/p5/MT+1gGEAA7+fvwn9qPxL/KY8Tj2CfpjAAYE/ADCARH9s/q7+v78dQBaAkoA2/2q+hzz5vMB8//1TPv7/jIGmwRZA/cAa/3x/bf8ewCxAZEBzv1g+Ej0wewm7sXuru9n9M73EP3p/eX7QvsN+ZT64ftG/Xz9Cv3T+7b3yPZ/8OfwEvGS8vP4fPrsAIwBYv68/S77jPpW+kL8mP8S/tr7mfiG9pjxq/G58WbyWvn6+iEBIP/k/TL9Mvry+7P6jv3C/Uj+d/vJ95j05+4J74vtEvHv9XT6x/9R/f/8M/pi96v1APfP+Xf5R/lx99D1VO8q7iLtme9W8z/4uf4Q/UL+nvkX9fXyKvWb9zX6s/rp+LP21O9x8DXwo/Fz9vr+1wFtAOH+qftu+JT4aP0f/+X/8fx6/Yn2Z/P29qP2NfqHAmkGlgW5BlIBkf60/HT/dgGx//EA1wCl+x34Hfvs+iX/dQcZC68KhwzOCdsEEAYHB3sGGQXsBmwGLAEwAGQAhP56AXwHrgccBzMGEwPgAfwBOQXoAwoCDgX8Arr/PwEdAqsAyQPdBqMGHQd5BnsF7gQ+BsUFOgEsAAcC+ADZ/k0BuwF4/6MCTAMIAggDFQQIBF4EDQYoAxAAYwD6AIkAVwG1BNEEDQSoBacFpwQtBBkF/QQWBd4FewHC/ID9vf2v/fH+TAEVA0AA1AHzATQBFgNfBIIF4wPiBboDgv8RALgBpQK6A/0F8AWoAzUESAZJBcgGkgclCOwIEAisBfb/DADZAcAB0gI9BMEDYQEiAX0BiwEjAg8EdwRpBQsGzwKa/+79EP8HANoAbALWAroBl/6T/8v/3f/FAqYDPARUAx4Cy/2l+iX7YfwR//4A7gE/AG7+Y/+o/93/LQD0AaYDUgNJAwP/1vpr+gv8BP4ZACcBZQAW/jv9Sv4cACsBoALJBawExAQUAV/8pfw6/xMB5AHUAx4DNgHn//7/1f80AloEDgYRCHAHYQXTAOD+3wBVA6wFqAZ8B3cEbgRYBdUE2QekB1oKMwsZCrEJHQSlAFMDDwXuBqkJOwnoAyIC6AP/AvgENAUmCM0I6QcpB0ABF/5Y/qABcgMyBTsGFAK6AsoCfQEPBJ0EsgdICJMHvwVcAJD9+/9JBRkHQQkXCx4HTwdoBzAGmAlKCbkLRA1zDbwM/wYlBpEJCA6SEOkRtxEDDVsOUw9eDloQiBC9EhwRsxC2DCEFwQLIA1YGDQVrB5cEzACkAl4AKgD3ANkB2gM1BFcEQwAa/In+0gEBA4kCaQRaAlIBLQPRAp0ExwPGBGcF6gNWAzb9kPjk+tH9GP+JAB8CiP15/X4ANQJ1AxgDnwX2BG0F5QPL/Xn6sPwSABYADACx/1H6i/qf/GH8J/9RALUBmwC4/7n9q/i99p76pv9E/+D/Yv7n+QP8JPtY/Gn/7/4yAHcAgwCU/sX3oPb3/PH+rP8mAbD+Wvtx/l7/wAB1AqECcASvA+IDRAAq+SH53/1WAJcAbgEe/wj74P6//rEA3gQYBfUGcAZPBxkGlv+Z/wsE3QXIBqAHUgQF/2kD6wJ+A1kFMQbXB5UGwQiZBVYAB/+7AgwF8QStBdEClv6MAFMADAB8Ac8CRgNTA24ErQCi+0X4FPvV/XL9Jf4g/JD1VviP+vv5lvvN+278GPtm/BD7Kve69Dz5cfxX/C/8B/yU9/D3pvu9+hH9/vxM/ar7zvzO/Vn6q/aI+GL6qPm/+Y34gPQe8sP1W/QS9QD20fRj9MPycPOp8s/tbu2z70byofEy8sbxeO1i8xz0GvTD9TT1DPQz8zH0cPQ48I7sIPDq8Gfx1+9C763pVesw8cbvrvIi81byM/Kp8y/1qfMh8AHzVfYI9qb2lPcW9ITzpPjO+IX5DPst+6v4evgD+gH4bfRC9Xj5mvpT+S36p/fg87P4XvzY/JP+CQBc/e78/v7I/on7m/hB/A8ABv8l/vf/V/rQ+gMBsgC5AjgDiAIkA5IDdQPEAcD9Zf4qAmIBXACJATn9l/iF/aYA7P76/yYAuf6+/j/9/P76+1D5Zfvd/NH97/vd+gz2Xfaa/D/+Ev1wAM399vrp+wH8y/zp92r3e/oz/Ib6wPoR+DH04/jh/iz+HQCAAtz9SP6o/pT+n/7k+0/6nP7C/pf78fls9k/1N/m9/ov9Hf9y/w37W/o4/Zf/bP81/V7+CAEV/4D+pfxQ+8L6KP+KBrUGJAihCKgDPAI3AzgETQVTAloAKQH8/yr+zfxC+bv48vsOAVYCWAHYAyP/Jv6y/40AigTyAiABSQK0Ag0B6gD6/h3+OP6mAiQGPwQBBXwCygAFAloEpARpBkAD2P5AAU3/4v7W/aL9vP6o/xUFYAY/BacEQQJHAJICUQQ0BSIH9gLlAfcBrQCcAfD91/z5/Ln+ewNFAY4A0gCn/If8LwD5AV4E+QIA/h7/9fx+/Fv+LPxq/Bf+EgLHBVoEWQQ4A8f+rgBBA7wF0gcmBPUAQwEi/fD8cfzS+uT+k/+8BgUH1ANzBG7+Vv1u/y8BsgPqBd0DHwKx/2X78v3F/Jr+9gJVBeUKHQqYCdcGggLkAc8EkweACK4H6wKqAqP8v/s6/Q/5Av3i/wkFiQZ8BVMEsf/U/TL/6gI3BpEGLwHJANX85PgA+gf4r/t8/LQBqwWqAj8C0f1H+0L9YgCUAykFaAD7/l/8E/e199X16/hM+8//AwSWAVYCZP/f/Lj/HgPBBkwIeATPBLACGv72//v+WAHlBOYKcgxoCNEHOwIFAKQAjwNqCOoIHgWkA9D/9/qp+t34/PtYAa4IQAvpCGsFpf+m/PP+XQKEBe4FSgOSAi38YPeK9dj05vYY/6gE2AL8AOv6mPQz84/1RvjA+WD4i/kw9ZLto+pm6dzq4/SG/v7+jv6B+ZbzMfDH8gf2fvna+if7GvnF7Z/rFeqO58fvEfmM+2T6Ivc08Bjs/+yC8Yn0JPXY92n2Su/q6w7s1Op08P77rP0v/aD8n/bx8bXxxvVW95/4fvjN93/z8O+j8WnwGvNz+yUAM/8UADb7cffN9/r5t/ya/LT9KPym+zr3yvY++I71Qfr2/qv93fzw+ib3h/WD+Lr6cfks+kX4C/gE9gvzUvV99BT03PnD/un9X/7u/Z77KP33ACQDswKRAfT/vADM/xD9qP0n/RT8dP+TAiUAIwD4/W37a/1D/3oB7f9j/qP9t/2T/HT64Pyd/XT7hv9FA4IBugGYASEAt/92Ad4CGQLp/6v/Xf4S/Tv9kv0e//z8I/9/A/EBhADLAFD95/3sAEgBAwGY/gf+Lvua+kX6N/lq+sb4XflQ/m3/Av1G/l391Pv8/uv/df/0/tn7Cfx9/Dr+lv5w/hQAXf38/yMEuQLYAIUBb/9H//kAEALpAd//qv6P/B3/yP2g/SP/l/10/L7+vgEd/5IAKgCp/yQCyQKhA90CKwB0/p/+bP/i/7L/y/+6/Z7+SgOYBPoDqAQVBXgFAQgzCaYJvAegBV8F0ASDB4cIJAkeCAUIngs9DuQNAg10DUQJdgpqDWUOnw0jCt4IlgjtCq4KhguzCzgKjAonDpEQgg0wDXMM/Q1CEYkTyhT0EE0N9g1tDpgNPg+eEK8Ozw1GEw8UrxFdExgSvg8PEIgSBBNFEDkMjwsFDewM0A2kD6wNOAsXDsoP8w61DoQNcg3+D3kRIRJjEMoMbAt1DEsNlA4OD04NPQvPC2MPAg1nDZQM5QkuDeANow7DC64HfwYECMsJOwq5CtQI6gYLCqEMXQvfDBEMDwuiDOcOHRA5Db4JMgqTDLYMpA5ID90MegvADWwQtw44EKQQxQ/pEMIRahT5EMwKeQoGDfMMlAxWDf4LOwpRDhQQ5w19D3oNOA1ODlQQ2RFODagJAQryC+gM2g1kDl0LTQepDPoNZQoMDVMLMww/DpAPhhDBDJQJ1ghRC78KiQuDDTMKUQeaCqENSQuCC9ULRguSC5gMvQ0lCgAGgAYSB2sHcQf9Bl0EYwBEBBoF9wI9BbcDpQL4BH8G/QbDBFEA0QC5AgQD+QMKA+H/Mf4vA3QEEgJRA7oBkgEWAvsCxgM3AP779fob/rr+ZP+D/3f9K/6QAaoCTwFCA6wA2//bAjsDXAXLAlz+b/8vAeEBcwF0AIr+mv1CA+YDvwF7AS7+Xv68APMCeAIQAFP9Ff2i/tf+0f4S/vL6Q/pwAOMAGP7W/i399fwE/8gAtQHY/kX85vxR/k3+qP2T/Vf7w/r6/7YBjf7n/rL8cPtp/rD/tAEH/yz7Vf02/XH8b/0B/c76k/2RBLkBn/+H//X88Pww/sT/t/+c/Or5af2A+2j5wPkC+Nb1s/lz/1X7XvtM+Gr2Bfhc+E/7LfkY9hz3i/dj8yr0kvS08PnxbftG/M/3YPft8n7y7/Ld9pn4lPUb8w7zyPC864TsWOkz6FXvNfYw8xnw4+3O6O/peex476Tx9O6h7UHudOj85mPnNuaL54Tu0vR68HHuAenk427lVOgE7pPwRO3o65npsuS/4erf0OI15TDtKPUi8jTuBOrM5QHoTez/7/H0sfJb77fubOrF5gPmwOZ16C3vmPYH9aTx4ezJ5Y7m9ur57nL0hfOW8EnwE+qg5nfkM+US69/wt/gb+N/zqe3T5pHndexX8vz4w/cZ9nD1OuyH6PHl3Ojr7hL2sv1m/A34EO+o6PTp/O8Z9rH85Pri9wD1resx6dvn++ub8sv7PAMEANX7G/Og7lDwGfV1/aQCswBL/RP4UfDp7fHry/Hq+B4CbwfwAev8L/SK8ZvzevjiAEYDPQFY/qj1YvFz73PvsPWh/a8IHAnqBOv99fXM9Qn5QAD8Cd8KBwj4BAH7WPXA8gn3U/7pB+8P3w1ZCYz+uPqW/CcDCA/GE+gU+RO6DDoEzAHpAsQJMBPYHPEbOhXtC8UC5gMZBf8ObRWjEtoQeQmaADn7FPrS/REGKBBMEiwN6wTJ/Oj7Of5QB1oOvg70DlsJ3ACP/Bn9IQBfBsYQpxTuD7sJcwAZ/W3/ogXCDQIPdg7KC+QDef1D+6L7WP9BCVMQtg7GCuIBbPux/GQArgYhC1gKAAl6BEn+1/vQ+xT8sgP8Dq4PfAy7Bg0Btf9bAbsGlgsWC+AJHgqgBMD+m/0Y/HL/wQlDDNUH6QQs/jT6ovsr/zIF5gSaBHADnf89+kv5lvv++mQBoQaUBLn/0v27+Vb6cf0vAKMC/v8dAAL/Jfzb+df8Wv0C/tMEZQikBC4BQv0//Pf+TQJrBnQFcgYUBGsFkQT4AXkEUASDBskLaww1CaUH6QLMBOMHbQmCCoQJigefBtcH+AbNB9UHqgZEBwoMCww6Cl4KlQgoCigNzQ5bDhsMkwq9CSoJQwl+CboJOwcEBi8JJApbB3EFmgScBU8HPAhTCW4HoQbiBf4EZwf3B8wH7Ab3BKEHGwpAB/gGjAVZBMMGGAgrCfsGSQaDBRgFcgUzBd0FDAQxAmQB8QQXBUQDigMTAb8DWAanBqsGpAPbATkAUwCFA8QC1QBmAO7+cAE0BFcDfQNQApAAnQPTA6gDxgN+ATUDkgLTA9QFrAXWBQoEeQWnCM8IrAe5Bv0GfAlPC8sM1g3AC/wK+wtqDaQQCA/tD8wPJA6HElMSrRE0EJ8NNRC2E/cUNRfKFQ4U/xPaE10WZBV0FOQSYhGEFbAXVxO3Eu8QWBCsE6UVQRkTFmMT/hJGE2cUqBOGE5kS6RBXEhoVIBN7EpQQ4Q53EbwUcBfaFeoSZBFOETUTMRI3EuUS7w/FEesSVRHVD0kMXgqmDJUP3BHfEVkOxAthC2gNTwyJCgoKJgc1BmQJ0wg7BlMETALWBOoHegodC2UIogQ2BZkHHAfkBg0HdgN5BPYIXQUgAxIBYf9fAlAF9gcZCCwEHAG+AZQDVwOrAnIC+P0TAPwDsgDb/5D9Lv2w/9gDNQc/B1cFnwGwAiUF1wQ9AwICB/+2A0gG+gGbAbT89Pn//BcBXwMUBMgA6/3M/psB1gDc/iL+U/li/6YBO/73/O34X/jj+hMBUgM0BIn/6ftf/jz/9P7C/hP9C/j6/PD9efv++8z3TPeU/EECTANwA2z9KPob/N/8p/xX/J77Offu+2b94vnH+L70xvRR+af9JQBhAMz5Zva8+cr7qPph+Uj3qfME+Wv6VfZ39rHwve6W9E/46fsB/eT3tPai+Ab6h/sA/Bz7T/gt/OL9Y/vI+YL2UvQq+CD9rf6Y/9P6nvmZ+4j8uvzq++f6q/e7+g/83PY19SLxz+2q8nz13Pdi+Xv06vK/9dv2BPXZ9FHyWu/o8+HzZfGq7urqheoZ7iHzK/Vs9A3vu+5k8Wzxp+917obs+ekh7/rveO0X6vflZ+gq7XbwMfJ+8cTtae988nvwlu1f7RDr8utE8Xjvzuw/6S/nKurz7tjypfMd8NHue/J09Fb0L/My8UPugPOA9cLy7vBM7EruOvKe9bT5qfji9AL44PzX+9D5XPvD9vn3zf3D+mH5J/Y096D61f20AAQAufy8+zQA0wEi/5/+6foq+I/9uvzu+dz1v/OL9iP65vw2/UD6APrT/UH+LP15/H76TvZw/BgAvPyb+HH2w/k6+xX9ZP9L/cT6/f2kACMA0f56/zL7MP52A5f/C/7l+279owByAqcGmQMA/tIAFwKPABX9Rv2l94P2w/yu+qX4cvQt9fj3nvry/d3+lfmq+jD/qf+5/pL95fu0+OD+a/wj+fb24vSu95D5YP0M/an4xfaN+Rv6M/en9Zf1AfCh81X3bvNn77vr++8g8yj1b/js9pXyPvXr9x/3DvR78YTtxuz28kXxq+0o6hPqNu6P8Gn01vZD9Dj1LPll+Qj2KfNp8NjtufQH99Dz+O886o3rxu4D8ur3JvmG+bn8DP6+/In2//Nn8NH0Vv9r/HD4e/PK7nPxOPWv+tr/Rv8HADICGAJF/in6IPfW9KX9PQQx/xP7xPKS7ibzafYz/qEDBgTcBDIGxQO2/ev5fvi0+poEtAguA2T8EfF88Dj2mPviBMEKYgpDC/8KSQibBWUB2wIqAwIMqw5cCGoB+vTM9T/7swDRCrcRlQ+TDwgOqgoZB2UCzwNBBaENjRH3C1cEQ/p798D8aAMoDKoT2hHmELMOUguXCBwCgwPIBeML+REJDTcHzfuR9PL5iP/JCY0UuBR4FFwR/wuTCN0B1QKSBPMHoxCmDkMHSfxv9bD3cPt6BDQOexGTEkYSeg7nDLEHPgbwC98O0xaUF9AQUAaG/Af/UwMpC6wWNBqXGJ4Y6hNgD6wIMgYlCVcMPxYqFjcR5Qae/HT8jwC+CSQUVxi1F4MWCg9FDFUFmQKnCOcLeRa7FQkPBgWw+r77l/9lCN4S3Rb8FAkSfwwvCdwBev/RBPAI3RFNEf0LLQTn+Xz4W/vrAbcL3Q5KDWUNJgjHAhv+cfsr/z4DjQtODcwHxwCY9o/zdPe+/JEFQQvjCBkK/AXB/6H7b/jE+/P//QcHCScFDv7/8iDxofRT+okE4Ah4BkYI+QSO/fb3+/fF+oMA8QtuCzoH5v5Q9vr2l/kKAZwItgtrCu4KIQZ5/jL7Rfqq/MEEcwt8CB8Ee/vl9rf4G/3aBC8LTQyXCrUK/QTS/uf+PgDgBCwNNw+PC8AFeP+p/qkBugWYC8AOiQ76DnsMQgb9BCoF7QTXDO4QrA/LDNwGIAS5BeAJTA4dERoSRBFBEL0OVwnECDAJjwvHEfERgQ+rC1AIIwlmC2wNrBBgEDwOYwzsDPgKAghDCqoJxw2CEhUR5w25CcAJpgv9DMAOsw49Dc4Kvwj0B9QGxgagBokGyQiBCt4I6wWvA2gEpwW3BXEHgAaABgUHmwZ1CD8IqAckBw4H3AgxCIYF5AInAckEhAXlBJgHXAdiCKEJZgk6CusIXQc6BmcFDAcDBp0F/ALwAfwExgW+BksGrQV1BWsEtgQ5BsAEkgNJARUBoQLRAjYBEP67/8QCEwIFAXcBWP/t/sT9MP+JALv+Xv8E/vT8Mv51/sf7q/vB/tX/L/8PAMD+bP0y/7H/1AF5AvIBtQHf/1MBqwI7AcT+ef8SAeYAYAFEAG79Hv3w/pD/eQG5ACL/0/zD/Bz+2f27/Dz7Qf2t/h0BRgBc/jv+MPz0/Ov/hP/1/if9nfu9/Vf+T/15+ef4PPwg/M38vvss+J/2X/SQ9y/23fPP9JTw/fLE9SX1kfJX8W/0o/Wk9uj3wPaK9TL0GPW09jH1oPRA8wT1qvdJ91L1E/Oz9Ar32/fb+Yv5uvi5+WX6zPxY+hT6+viY+Pj+HP9r/pr8PflU++L8Gv7R/qT8ePv0+ZP8YfrU+Mz35fSn+Tr8WfyI9870i/Xy9m75Yful+qf4Uvid+pn55vaR9gP1S/mg+7j7kPjV8//zRvZ4+A78hfrb9sP20vhU+Zj19fZt8nfzOvuE+3v4QPXB9Of2xvhR/Fr/Hvow+DP6hPm+9I/0fvSN8mb4a/wF+0f3+vRo9iX4Kfr3/Fj6ZffL9g75R/gq9lH2i/Nl91X8ifx0+TL2yfL/8w74Pftr/h/8HPtx+wj9b/uI+un5E/dk/QwBH/+7/Hn3dfaa+T38+P+w/1z7Wfug/Mr8kfrm+DL4vvcx/jcA/v1P/HX3kvdH+yT+DgJZAi/+y/xc/pT/XP3c+5D5j/if/Sj+M/0P+6j2xvaC+3f/mAI/A4P+v/0x/0YAgf4K/p78APvvAVcD3QGQ/ib5vfqw/hMBRwPSA3n/Pvzj/UT+v/yr/Db7XPni/Y0Azv2i/Lv3qvQF+C78rf06/tP8pPmQ+9D9cv7y+xz7Ifo3+sr+e/2A/J/4jfQI9+v6u/3eAO4AGvw1+zP8d/6T/Vv8Jvo8+Hf8Uv0A+4X3ofTL8k/1VfrM+8f8bPur9+73u/ko+jL4Gvcc9iz2Yvw2/dD8pfqD9cD3w/sO/9cCGALh/B/9zP+C//L9mP0w/bL9bQQEBzQFFgMY/hL8cQATBYcJHApABPcFtga+B6cJRQfTBlAGHgz4DpUOsAyUBlQDigfRDe8ReBVzEDoO5Q4aD8YPFA2yC58KzQ5nE50SIRAkCkYF8wkKD7US9heEEogOYA5CDLoQag87DScNjwz2EqUUiBHjDoMI0AfIDVMQJhbKFe0M4gv0CgsMjw55CwsMRwrzChsRQQ+2DZoKxAXvCe8NDxJTFw0RUwrOC/0JuwyDDU8I5QdLBkcJrw0mDKsIkQNh/nEEnQkBDRkScQttB4oHigdxDBYN5gcbCEkFLQgPDFYKlAjIA3wBmgWNC7EOWBSMDqAJWwosCDoMcg2PB5IGmwPrBqgNhg2pDRMK3QRTBXEMAw6aExkTHAymCnYKhQpTDw0MugimCbsGxQxSDn4NWwmCAqn+RQPdBYUKFA1rBzwFfQa8BAkHIQjZAHMB0v6RBLYGNwWfAhT8GPl//QADNQaMCyEHxQRdBngFfQWSBov/Ov5+/J8AvQZ4BugF2v4E/J7/OwWXB5cLcQjQBPoGYgXbB2QI1AFgAvEBIgYvDLULvAmOAif+ZwAHBB4IEAz9B+gFBgYCBlkI8AfiAsoBFQNZBkANUg2jCqkDof2sAtMFyAm3EP0MuwnHChgJBgsGCacBTAJVALoE5ApuB7kEKf2U+DD+DgSrCWkNlQfMBzUIMAZYCWoFvQJNAk4DNAvNDHEKxASi+6v9lgNwCOEP1g1OCQwLPQi1CRkIFAJIBP4E6wpUETUOFglfAWIAbgWvCEUQdRCGCuwM4wp3CiYIugFDAqkBOgq/DEQIvwNU+7D7Qf9xAyAJdQhvBVAGVAQ1BF8Abv0N/sQBNAoqCbkFU/6G96b5iPxPA1sHrAVlCFMGvAR4AvP8dPza/e4GsQoYCNECl/q8+Sv7Xv+hBUUFhgQ5Be4BGf4B+tj3rvbI+1ECIwAN/Kn0U/BZ8kT1XPvS/mr9Y/7c/vD80fiu9Efz9/N2+xr+e/rv9vrupe0h8Sz0LPm1+KL2A/il9wH21/J78MrwgPKy+Mb47/TU8HfqI+t27qzxafUK94ryL/Hl8VvwDe+P7Crtoe1t8l7zi/A/7gLo++jA7s7yVffV+Un5B/dy+NT5OfjF9+H1evc++sT9fPtg96/0GfBZ8/v2x/p9/Ij54fbB9lH2T/XV8h7wqPCb8HP0c/Vj88nxFuzV6yLxL/XI9xL5bPdl81j20/jW9r71UPTJ9Kj06vd695/ymO6J6dfrM/D/8b70lfQx8XfvQfH/8kby5vBo7oftf++y8QPwH+3/6WTmyuqG7+bxwfK88aTt+Oqp7tXtYe2K6yzqpeop64Lthuql5vvjtON150bseu3O7cbqX+ZL6QTsZetb6fToMujf5mPp2+jY5pXkQ+G25HXpxewn73vusOuR6uTuUfJs8VfvoO3z63bsV+1j60jnGOJp4ZDnw+wq7v7vo+1I63HtNPAT8uXvh+7O6xPs9e997xLuZuuN6HrsnvOZ9g36YPkk9hD2RPo1/RD8YfuY+QX4qvnq/Fz6KfgI9Iv0+fsS/0gCzAEU/iP9fgFDBZgF1ALH/6L+hv5OAQMAVP4x+tH24fzB/6kBWgQFAiD/pAIeCDUI3gbABF4BcgCSA0UDVwAH/XX4o/thABQD6AUgA2sAgAKsBfoFwQPUAC/97vqB/9P/ffyR+hf0W/Yv+3L+rQFTAB79K/5gA68EtANhAZH+8fyaADQBk/5o/Nr3OPn7/noC6QPjApL+fAENBl4G0wTSATQAP/6XAvECOQCR/Yz45vvLAaMGgQpCCv8HIwtWEHYR5A0uDKYJ8wc9DagMKAmBBWcB3QKvCBcM2A7oDegKOg1LDm4OEgsFCfEGsgbxDJIL6AcyA2UA4wRFCVMNbg+zDnENxxAsFMARSg6vDPEILwyLEQ8OkwzEBtABAQfNDBEPTxHmD3UOmRPsFZ8TEBFJD/cNPxFRExEQug1DB1sFTAoDDRQSARIZD2cQjhSRFQUREA+0C/0KqA+tD/UMEAllAwgFiQq4D3kToxLZEXkT8ha2FfsQlg9WDJMOvhZGFE0QRQzsBw4MxA/VE/cWzBSPFKsXxxrnF9MT3RDJDBkRgRWoEvgO/Al0B+0L+BBFFCQWqRSoFhAcBhyWFgUUlxGzDgwVeRY4ErgQ3wnyCVEQoxPTF0IY/BXrGL4eQB/FGSQWvBM3E/MYbBmlFLIQywtzDmoTWxVEGYcXMhTvFlgaLxm3FJ4RUg6DDuITpxGSDM8HGwJ0BaEJSAyyD/sN/gsMEMYUQxJNDb4KxAZYCM4MNgo+Bh8AVfwqABAElwfiCagH1wdZDRYQHQtnByIEZf+PAgQFeAEP/nv3TvQn+l3+gAMDBsMD1QVVC4wN6wgxBvgBawC9BdwGQwWoAQj8GPsvAQwF6AllDegJ1wz6ET4Ssg0rCX4GuwXACsoLHwrLBikA9gD9BoAJMw14DqILow/9FbEVyhDGDmQLQQz+EjITuxAmDNgHRQoBD9AS+BaMFrUWbhx7ICYfXRrsF+kT6BPuGcEY7BR2D48JWQsZEOMTehkoG0MaVR/PI7UjEx2FGOcUrRG1FwwX8RNlD2wJLQs6DoAR4RTwFTQU9BdVHfAadBEaDBEH9gWuDEMLCwnzAu/8jf0kAD8EYQi5CtAK6Q+sFYQSxAjfANn7l/w/A1sCVP3Y9njtpu7C8Wf1ofti/SMAFgTVBhQEbvpq8wHwx/Bn9p/1GPHT6Ozh8+Fs5cjpFPEh9VH0Rfkg+zj4FfA06cnmWeoI8TfxEu0L5pDfsd4n4+/l9O2J80H06/dn+mn49O+v6w3oIeip7zvxZ+3n57vfV9zV4W/mEu+D9OH04/k4+4H6ZvPQ7FfrJeuR8qf2TfL77JXjIeGy5SvpWPOB+P75mPz3/mD/2fbW7jrtOO749AL42/Qg79PiRuHl5ZLppvE6+HH6yf25/5r9Z/g/8e3uK/DS9oT5LvWi7FzkmOOO5mXrIvYd+6v8hgRmBeAAePgk87bvofX4/UD7PvYB6gTkGOWT5ynyTvpc/JIB/gPW/dPySetU5hrrHvcq9kz0++hH4KPireF17E30Zviy/VYB2/v67RDnX+J36R/1/fQg8uzo1eES4i/hruod8nb3bP6AAGz4/+5c6J/hpuzF8pbxNu1R4zbhKuAm4oLroe9j8+z7r/vc8Grqm+a65M3xcPah9AvwPukv6ibqFfHm+Br7Wf9yBqIBlfej8wjtovH7+tv7cvjS8Ozsh+267IXzuvqk+sP+6AO8/p3zofA76j7wxvmJ9lnzG+nk5eHm8+fo7V/yhfNN94D7o/Uu7DPpDOWh6f7wTu5h6kXiL94o33vicumA7qfvt/H39nj2jO206uLmnen98kXxwO1m58/is+Qh55zrWfKA8+vyv/QC+Iny4u1X7AbovO598vzv4ey45pnjnuc267fv4vPh8unyS/Yn+MLzp++i7WLrmfHw9TTwzupB5A3jFuaI6X7uZ/MP8vXxJ/eI+J72efNw8obw+vc3+vz1APKX6Ybqx+8h9Yb5EP4M/Mf8qgH6AS8Bpv4d/Cv5aP/OAQ7+GvpU9Izy9/a+/Z0CewjHBLEDHwdeCK0IOQa1BEIASAMKB5wErQFC+zr3E/twAvoGMwz6DDcJfgsODq4QkA5OC6wIXQanC84JhwVWAeb6Vfs3AfYGOQv7Ds4KnwcfDYoQoxA0D9INuAu0DJoPoQyjCVoEPP8IARoIUA0aEWIUaQ3ZDLYROhUvF0gSlRDbCtQLyA7gCrYJPgOn/70DXwu3D4YUExfnEMUT8BdIGkUbThUcE80ObRIeFB4Q/Q17BYQC6wTADNIQ0RROFBYOiBBKFFkYWBbPEvcOWQuTEA8QKg3hCDwCuAFOBZAOPhL+FZES4g2UEgAW7xlMFeQSAg/kDT4SNg5vCskFiwDUAMsIPA7UEkAUDQ59DkQSpxZrFjwUNRFHDYARwBHQD1wMnAdZBg0MChVIGLkcSBdCFMgYtBvoHZ8Z1RegEZkT8BaVEQYPGwlQBk0J+RCaFJEXLBQ9DzMUsRfgGBMXPxRqD18RXxTmESkOkQgfBpULmhOxF1ocERalEskWRBoSHHEZXRdiE8QYLBlxFXoQ8AihCnESTBrOHvUffRmaGoEeah+PHcYaxxVrFV8ZAha/EqsLZQgDDHQUGRlNHdkYJBUZGykbKBwjGuUWVxMXGBQY0xKODxoIyQlqEC4VNhiSFt4SlRTqGKIYIxUnE/ANMBDNEz0PdQ3CB9AEpwuoEdkV+hZzEscSpxeTGJMV4RMdD50N3hETEMwMKghDBBgJYw6tEYMU/g8vDboQkhMzETUQ7gxaCJQLtQvXB8cEqf+tASAIWAu3DtYKeQe1CfUPxA02C4gJwANiBzoJDgiWApf9u/xnApQFnwhgCTIEwgSSB/0KnAaoBO3/FP4tA6r/Gv04+fjzBvgi/KX/xwKl/fP7Wf/VA08Bv/8s/Ar34PsX+4D3BPOA7GDrOPFD9ez4WvmH9Xv2Ffyg/mb6ffhn8ujxK/eP817wKuwI6FXsk/Et9AL1C/N28mX2Dfob+LX1uvFR7o3xjvMV8NbsQ+c05yrs3O5V887yjfGS9LX6Ivy9+cz3F/Q884X3efc39MvxgOuP7kDzqfXQ+CD2ZfQ2+ZX9s/xX+bH1VfLn82D4XvTo8a/t++rR7oryIvYg9o3yBvIP+GT6W/Yc8m3vw+t48G/xX++Q7A7l1Obc6u/tpfCb7xXr3O6l87v0g/Ei7TvqyueU7HXrzOhw5WDh0eSq6XLsJu+k6wfpUe9s8gvxIu2u6ormq+da7PvoFulY5iTkRuk97Ebur+9x7Z3scfPc9qv0T/EK7Pjnc+s67h7qKupS5a/kAOsZ7c/w5O/s7a7xMPjD+dn2nPNh79fu0PPz9FvxY+/Y6iXsbPDT8kb2ZvOD8oP3VPxz+rn2BvQi7gnwI/Sx8mnwH+wn6M3sLfHj80z3l/P29Ub9WAF7/cf4JPPu8Bn4ifYO9cfyEu8a8Wr0JfcV+dr4Nvmk+98B/AJS++X4SPMr9uj7w/lr+KvzCvTt9kf40ftf/kz+O/+qA5gLwQb8/kv94Pfu/H8B/P7e/FD5wPnR/Nz9mwBSAWAAtASyDs4PbAetA9L7G/35BDYErgEl/sj5jvrt/Av+cgAo/nAByQZGCpgFLf64+PnynPm9+7f5dffC8tjwBfLU9Ij4s/iE+d7+iwX6BzD/S/pp877yNfiV+EL4mvNi8b7ytPTB9z/8yPoa/eIDmQnfBF79f/fJ8O73ifrb+af3afLM8PXyFPX2+CT84PsfAfwHsgq5A6D9FPdg9h79fv2++/j48PNZ8i31n/ca/FD8Df8ZBHMIlQY0/fz4HPTb+Lv+Q/1K+/n1YfPj86n2VPul/m3/+wHiB1wK9QPU/gX4Ofad/pD/cv4q+/X21vbR+Br8tgEVA+sBogjRDq4JhQNdAPb5qP1mAkEA2vzS98v1x/fw+WT92P/e/9ECVQi7COkBTv9j+c/4NQA4ADX+3Pmm9vX3Aflq/W4CxgB7AqAHFwxDCTsDxQCt+Tj9cgL3/5/+A/o4+Hj6AP2pATIGhwR+B/UNCA7/CHAEsv7O/BkFtwXWAwcCJf6D/tIAigRkCVQKuwvhEmYWiREADJQIOQLFB9kNGQzkC1QGrwMtBMUGRgvYDBsNSg8ZFRwVkQ4LCzoF7AMYDL8L8AmDCPoCtwOQBrQJcw1bEGUPkRICGfIVJhDECroHYAtxEIQOHA08Ct0FFAjwCfgNaBEmEQISXBeQGZMUhw/3C/4IDw5FFKQRxhDMC+cHUgt5DpwRghWMFdwV5BqNG4gX4hLoDs0MQhN1FVwT0RFcC6wJGgzhDvARTRZwFMsVXRnxFxsUZQ3qCnsJyA7MDkYLjwgUAQcBHASqBvcJUg0rC9kOzRL7D64MhgeKAwYDYQlyCIMGWQPZ/Tv/cQCyAysIkQl4B5ALlA8uDcYJLAVrApEEQgrdCOUGeQR5/DP9nQIMBf4IAAubCEkMtQ+mDQAKTgV2A4IEYgpaCRcI6QSt/YEAOwKcBHoIbAvFCSUMzg/2C4AJqwMbAEP/twR7Ba0CngFE+e/5Pv4kAbgFxAg8B74Jiw3HC8AJfQQPAlgBUAdbCbUFAAUP/r78vP9nAncFdQlZB2IFVAqbCe4ILAPR/wH+sv/sBHYASADN+wz38/ll/pYBRwVnB9QEPgjDCcUKaAcAAt4BZAFnBs0F1gOfAh370frp/uYCyAYyCrQILQd/C08MOQ1NCMAEVAOQAnUIIQZwBKoAo/os/Bz/yAGCBK0HlANgA5UH2gh+CusCgP/d+5H78QDK/en86/jr9Lv1R/qo/ID+4AG0/Cj+fAKzAoUHZACf+w36zviW/iT7uvuh9+Hxg/Mv97P5OPtc/0T87/tXARcE4wfJA9f/VP6p+psAn/8m/6/8sPcT+cn7YQBKAbYE0QMSAWQG9AezCnsJLAJlASD9yQJ7Bb4DBwTL/73/OAHhA/gEbwlMC3kHzgiUDVEPNhLXCmgH3wRLBAMK6gZgBnUDywATAJcEawcoCagMgAosCd8NHA9KEjoO+AhDCPkCrAjtB5gHWwQXAHj+Tf+DAuADCgnBB68DPwU1CYIKqAs/BboC/f3A/y4CCf+5/8L5BvfN97P7ZP28AEQCNv81/2oEYwbdCC4E7P7a++v5Cv+X+w38ZPj29bT06/Y4+2z8DwHn/b/8RgJ5BPcFlwPp/dT6S/j+/d/7MvsS+g70dvMJ9R/57voOAGH9FvvfAFwFlAYYA7n/Y/pI9wf8pPrE+OH2M/LV8cL1IfpP+ub+//wm+9AA5APPBaICI/8A/ML6Vv87/j79pvwb92H3gPvC/zsD9wS7Ad//HwV1CFgImQOk/wr8lPtf/2X8Lf2R+uj0BfYh+tr8Lf/1ABb8n/2MAtMGxgWAAXD+JPrw/bP+2f2f/MX2iPXL92b8iv3H/gH9Lfl7/mYCFQQHATD8X/g89tH6/Pkd+E73WvID8+T3dPpP++377fg5+T3/SAEw/+X6vPYc86/30PnH9p721/B57/3zVvbI9gn4bvbM9J35tf0r/Uv6TfbM8Wz0b/k/+Cj37PSw8NvxAvcd+Av5tvmf94n7GwHSAh0BRP71+aP6D/98/Uj9RPrO9vr3pfu//eD9e/0X+b/8EwPzAmAAr/0j+oT3Vf2m/aH7Nfw29233iPpo/fv+7P1i+yn+vQSxBukE/gBy/J/4Ov1T/RL8Lvyq9zH4Ivud/ZL+I/41+5X9/wIKBZMCQP8x/Oz4Wvy2/Nf6zfpK9nf1vvhc+Qn8uPut+cr8DQI3AxIA0v1/+PD3Mv0X/V78dvxQ+Wz59Pyk/lb/F/58/Ab+iwP2BXUCDf+3+/j6YQB+AKT+YwBf+w36Jv3J/kgAnf8x/pcA1QaTBxgEogAB/br8mgALAED/Uf/u+vH58v27/r7+Vf7V+Tr+cAPnAuMADf309072w/q2+eL4tPgh9KzzYffl+DX6yfm49qT5pv+x//X8p/rn9aL22fpb+z/8ifxv+cX5h/4f/wQAs/+j/dAB6QZtCMgFCgMn/13+UQSOBCcEswM+/3D/mwMlBcQFFwV5AosFaAplCksHrwUiAtAAgAZ3Bq8FjQWaAH//jwE0AxcEoQLK/ykDHghhB7cEUQBz/Bv8+gBrAEX/rgF+/dv+lgEIASkDgQMxAoUEpwkfCigHEwTc/1H+9AO4BPYFaQhSAmYBTgQ0BfcFSQXuArYGqwrBCtMJyAbGA9oCqAdlCBQHTAiVBlQE1AY1CSAKAgnYBbUI3AqeCksH5QMNAIv/uAY1BgQIegeMAXYC1wNDBfAEiATDA4UF/QtgDVsIfQZPAnoC/Qm3CvALqgmtBk4GSwe2CW8L8wwoDfAPZRLUFBsNiQfrBRAFyA0pENIQsg/AC3UIgglnC0ENNQ6WD2ESUxEdEt4L3wWgBLgGnAzND5kPzgz/CG0GSwaKB4gJWAx2DegN6Q3+DMoJxgTHA64D+AnzDEcNJQuuBfEETgXhBtAIMQsFC34M8wyVDPAG0QShA6kCiggfCl4LEAkbBuQDiQOWBBcICAmKBwAKtgqHCSAEGgLMAIkA8AZACDcGqANGAC3/8v9ZAfwEbwZxBVcJtQoBCAUF+gLiAWcGXQyUC4oK9QdMBJcEHwftCRUMrAwcDdINeQ2nCAcGGgRLA9UJ9gsyC90JHwXxAQkCYAO7BdoGwAbJBwAKpAdiAgsCkQCRAwQLYAtNCQEHLgMvArcDsQbRB+kGxwegCOMHRwIcAL7+dPutApEGQgVIBekBr/4j/t0A5QJxA7MDsQQHBkgEVf+O/Xn6APtPAuwBxAHqAJf8nvob+5r9J/8J/zr+J//jAfb+FPsL+4/3H/zYAZUBSAKUAKP9Qf0q/zQAVgEKAM7+6QBRAQ/8MfmL97v0r/k//T36afrM9jDyvfNw9Mz2c/fx9lT3avoX+sf2avVX9Mj0dPn8/dr6Pvw6+df12PYk+Pr5LPkh+AH35vm++OL1lfMx8Rfxyfck+dT2d/g180Dx6vKa9O71FveA9Cz0KPhW97v0nvIm8Aru1PQU+JD17Pah8k7wm/Ln8531j/U88yj0b/dM9nzzU/Gp7z/uDvOF9SLzPvSO8NLu6fCr8SPyo/Oq8Zrx5vVO8/XxiO6F6tbqDO9y8pTwW/Id7t3p5OzO7yfwafFy8VPvIPIe8prwgO2C6W3n1+qZ723tOO7964LnpOjH6e3qN+2I7SfrV+3a7lPuh+vu5tLlluQx6g3r0+qq6hzkf+OD5DrmmeZI6RTnjuXp6Knnp+fl40Phb+HA487nMuee50nlL+BP4hHlWuWV5uLnQ+Rj41bmceXm5Qzhqt0c3ebejuPy4dTimeFo3g3gJ+PY5UTnm+mh5f7lWumY6Nrs1Ojw5kPl6uX47KLqKesU6+Hmq+cV6qTqzesb7iPszecI7GzrH+4K7rHoF+o/56Lthu5m7WvufOtZ6xHtHe/Q8E7y4/PR8SrxSfVC80340PIO7mnvzO2v9O/0h/Td9CTyOvKB9IP1wPY/9z369/VU+Hz6/Pm5/qz3h/cG9WD3xfsI+1n9lfyG+qj7Lf5M/wUBsgFBA1b9zwDDASYDwgV9/gj+8vpJ/fYAaQGjAQwAn/yQ/cD+7P9cAXUDLAMq/kkDjwL9BEYEK/6R/Sr6pv1eACEAZQEK/x78v/3N/Q4AdADtAgwBYv2eALf+WAPW/pD7HPuu+Pb9pP2+/Zz9Gfu7+Db76fwW/vX/CAH8/ND+fwGPAuoDhf4j/3L72wA4AygB7wNbASP/RwG6BGoEGwbwBlkEUgMICBUJ5wpLBgUEUwOfBVALTgiUCeQGIgYhB9gLzA5cD1YRFA0RDkEShxNzFBQRmw5eDoIQTBXoFHsWkhRNE5AV/hfpGDEZ9xlYFC8WYxqbGyobYRdOFZQSRhUTGWQYdRmtFxAXoBoMHsUg9x+/Hx8dgSBRJRQl1SQXISsfiRwEIIIf4x4XIFAc1BxiHegfWh8YH5Qc9hmHHVUgqx+fHIMZ+BUOGGAd+RvAG0Ab6Be0GCcarxtlGhIZ4BQ5FD4ZMBsJGuoW4RPvELcU1BbnFRsWaRPUEQATixZHF60WNhWYD2oRlxRzFRAVRRGBDpoLZxBcERoRcxFsDcAPDBBkEe8RNxBhDRELVg8QEckRthAzDR8KTgssD5oNPQ7fDTYLvww9EP8R0BAzEYAO7g2SEp4TqhPjEckO8AxVEEMSaBC5EaoPxA24D8QSFhNlEh4SHg9eEHIUrRWUFK8SgxFiEqwVoxVmFBMWQxVWFAsVvRbgF6kWxRT9EW8WwBqKGdUYpxV4EV8Q2BRiFCwUoRVAEkMSuxOwFB4UhBPhDtENhxOvFFAU7hBjDZcKWwucDpsOUBAfDo8LHw2xDswOtw5EDqkKpwyBESUSBhHtDnAKnQdHCwwMuQyKDokMYguHDMgPEw4ZDdQKhAZ6C40OhA4YDAMI/wQcBcsIygboBg0HugTWBKQF8QYrBcYCFf7a/ekBnQIFAjz+5Pqo92D68Pwj+8H8WPlg96X5o/o3+kL51vV28hD1+feU+AT2kvK87lDusPGT8VfydfR28VDxcvQ19CH0NPIY79/uNPPe9K/zLPIm7mzr9e0q8bnwz/H28JXu0e9K8V7ymfF07pfs4O2b8pjy9/Gd8Ijupe4d8cTzh/K69Ibyf/Km9UP20vUV9T/yjvG29p/26vYD9YDxve8s8SH1wvXu99X3MPXH9o/4+/gX+o75Xfht+9n/dgDv/6b9APpq+a38cv0H/hAAN/2p+6j+8//d/hf+LfoW+GP8iv6s/FX6Y/hF9Rv3xfql+WD7/Prh91D4c/p/+k75M/az8bnynfTJ9YT1yPM98SbvgfL59Dv15/XF9XX1UfZF97z25/XQ8unx//UL+NT3/vU284TwGPNM9rD1Rfg89mjztfM/9JH0SPR58+vwz/J79lj3HPTS8h3wAvFg+Fj3CPnr+Vj1MPX69Xb26vbP9Inzu/Ss+IP7DvYN9AXzuPKR+cf62vr3+xb51/cM9+32eff99Yj01vWp+Zn54vYN9fzxu/Hl9gz5w/j9+T74BvY89iH3Ffev9WnybvN69on26vU59DXy+/Dx9Jr2SvXc9hb3FvTH82/1w/M389Pvy+5r8qb0e/Lt8Ifv/ush8PbyAvNa9R333vWU9gn5Vfm0+Ez2hfTv9gz67Ped9s/0zvIT8zT2Xveu9hH5JfZF9Zr3M/aQ9fnzvPFv8zH2RvUQ9bP0IvGu8Lz0Lvdr9o/4D/iQ9rv3p/gB+D/1K/R19BD4v/h69wv3bvVG9Nv3Z/vA+hD9j/4z/+3/RwBLAKD+wvsK/C8AhgPAApsBNACg/XABcQN3A7EEcgOKAloCrQIVAsABxP71/Dr//wHHAhgBCAAx/Ir91wAfAKcBMwJKAmkCCwO/AlcAjv1n+0f9sP5w/f78zvvK+D34BP1j/eL83P9F/un9E/+O/rj8qPlI+DT4UfuR/eb8h/tc+JD4jPyG/fH8vP6i/cf9k/0o/rf9Dfr593/24foI+277tPsz+Yr3wfpG/r37xf+5ACAA0gH/AgACz/8J/aD7P/8wAaABjQAN/zn9N//IAaAAEQLSA1ICAQKQAi4CaQAG/RP8uP0tANj/sv+U/wf8x/3SAuACJQR2BQkEwQTABFoEOARVAhgAwgBLBVAGUwXhBI4BLgGoA9kE4wS5BhQH+AVtB3AHiAWdAvr/8v6gAi0E1QIABKMB9//uA5cG/gSpB9sJ8Ad7CVQKGgroBm8DlgMNBeoIswf9B6IGYgLgBDQHoAe0B9kJ7gfxB6MIVAf0BVcBvf+AAVkFAQQQBDQDEQCs/xsBKQL6AK0EWgTsAswEDAUiBLcBkP3h/WsCYgKsAXQB9v5V/UcCfgQ0AhoGpwg/CFcJiwrsCaIGzQJ2AVEFlAaDBoYHTQTCAA4CKgeQBsMIhQwlCuUKrgyaDBUK6QaABfgG/wq0DJ8MRguBB/gHaQsvDR8OnRA8D1AMAg8CD3INfQv9B8IFsAdiCpkJTQa6Amf/pP40AjECqAL2BXcENAMTBhYGCgPiAY3/sP7pAuAE4AVQBBECvABSAF8EWAY4BygJkglGCdQKKQqoBz0H8gSEAl8G6gYeCMkJsgTeAvQCPAfTCcAJDg1TDZ8L0AxbDpYOIw2/DBkKeglSDGgMVxCjDQIJUwiSCKsMQg4kDksPOw4jDdoNxw3sDYoMpgsvCNEIIwvICcUNGQuABwkIpQYzCi0MzAynDr8OvQ42D7sPFQ5aDToNXwmjB1gKfAn1DLAQFwviCUcJHQpmDisPTBCuEQ0RoRAiErsSQhICEUoRzwuVCQ8LLwlqDSgPcAwTCXgHsQUYCsoMAw3QDo4Mng13Dw8QCg9pDG4LpwmtAxcFEQNIBCQKFgYaAvEA9f8/AQQGLgamCBwILwclCEIHKQjEBgIGGQYBATD/Y/7i+30C8wD0+sf6zPg6+mn/zwCEA0IEFgNUBMcFWwi4CNUIUwsZBiQCwQRgASEI1QjwAokD6QGyAvgF/ghOCckLhQsvDLgNXg4KDh0MoQ1gCcMGngc9BvILKA7qCPkHUQiMCLELYg1qDl8P6w+8EC0Q3xDiEJEP5w89DC8JWQrsBzEMtQ1ECIII4gdkCEIL+AstDjcQCA+xEEcR2xEAEo4QsBB2Cx8KgAtdCiEQwA46CooK6Ac4CqUMxwvtDS4PmA+GEtgRxhAvD4EOygwHCNUJvAh5C7oPiQukCpMJTgkiDCAMbQxAD/sOGhCvEWQQwhBQDooOgQqOCv0MpwrGEOENnAylCwgKqg2mDBsN/Q30DZwNgBBqEMcOaA3fCs8FgQZ4CHMHxArCBwwHwwW7BfwIfQegCmgMwgtjDcYOOw6nCr8JMQWzBPsHKwkPDAAJAQiGBRUH3AkPCPkJfAotCpoLRQwrCi0H2AG6/gj/qgAEAhwBxP7h/Gr98QH/Ap4CywTdA2YFYwbmBU4DOwD9/Jz85P5wAKgC5ACv/7X+5AAJAvcCJwcIB+QGLgjZB9sEJAF8/In8Ov8k/8sANQDT/PP6O/0S/Zf8Mv5N/Sn++f09/Sz5vPR58x30PvVc9sf3qPaE9N3yi/TN8WnzUvfW9iT43vcs+HL0he+A7LXv4vGR8VzzRfEN8PDux/Br79bv/PNW83f1gPa89cvz+e7/7GnvyPGF8hvzhvKB74Xv+PEH8MXwhPRJ9Cr1G/Vw8zLyq+yW6XfsQfCb8UHxKvDk7L/qoO3i7RHugvK+8on0C/en9n/0gPBQ7XHtC/Fk8mPz9vNf8ATvSfG38ajyY/Rc9un3Kvhb+Rr3+PLw7+PtH/Gt8yb0EvWo8j/wQu/K8JPw1vAs9OT05PWo9lf10vGZ7pzqZuq97fvuHu+H7ojs6ej26W7qSusb73zwjvAJ8tjy3e897drppuhy6x7u+O5S7yDuBesc6+3tj+7G7//ycPLE86/zaPKZ7yDpHeZ15ujo2uiJ6hPpMeZs5Z7nJ+tP6g/vy/AY8M3yKPIU70/ruOc45g/pt+li6zrs6+ge56zlOept6pXspPA48NPxFfFQ8VDsjulQ5mrmtOlQ6Wzsputk6tPo7uq67enu9vIA9Fr0UvWV9uPzv+9g7GXnYeq87ALsOO7/62HpWeql7S/vl+/a8770f/S29zf21/K379fqyumU7MLt/u6z7mrsYeug7izyPfEl9N33O/la+l36rPhV9Uby6e2I7bnviu868iHyvfA471fxpvRV89z3afgR+Y36q/ou+mP28/IF7qvwlPG+8TH0pPPn8qDzcfdN91f50vz4/Hj+2/9eAM7+mPtf9mPz8fbo95L4Q/rm9yD2mvcg+0D7BP4TAZ7/1QDnAUUCJ/5y+yP46va7+sX33/mv+dT2H/ju+uL9hP30ALkC0ALiAzcDrAEJAC38b/h7+/z8qPwNALv/5/0q/zsD1AOIA6QHrwd7B3sIVAjSBX4BVf3h+z7+qf0y/5MBBf63/AgBTQOrA/0GRwhjB28IqQnVBxgEv/8G/bYAUgLlAjkEsgI4AAwBTQbcBVEIdgvvCZYKogz5C/sIuQW6AB4BjgJWAp4CdQKtAPP/JQTgBlIGcQmeC6AK4QtRC08JaQXJ/5T+kQFBAGEBvwJt/kv8AwAsAkUBwAU6BjUG2gcaCOQGagE0+3L6XvzR/DH+sv73/ZH7g/5kAaoArwODBfYD2QThBdEDbADZ+3f5yvtK/f39rQCc/Wz6AP6rAt0BzwOMCGQH3AhvCeUHEQZRAA/+EADoAHcBcALUAQb/NAGiBn4F2AZpCi8JbQpCC88JLgaCAcP+SwBsAroBhwP/AlEBRAGHBasG2wZYC70L5gv3C3MLagdQA6z/LP9kAdsAdwJSA8MBlwCCBNQGFQYqC/EMMQwDDosOFgxtB4QC3f5lAfEB8gJpBPgCGwEJAl0FIwRtCHQLOArtCskMbgtlB4UDX/+LAZoCQQNWBosF5QQuBeYIkQsvDAESlRM9FOIXOxf0EygRAgtSCEQMqg3jDpkObQxYCtIKYQ7/D6QS7RROFCoW1RZ7FYISCA7zCdcKmA31DEcOSwxsCosIlgsBEKYOcRIdFrEVFxQpFQIUhREHDs0IZQrNDGINwA16C20H6wUUDIQPig5ZEgoT5hLIE08U2RHdDi8MJgfVCeYJlAhZCCYF3gIvAwcI+QkeDCEQzA/yDy8RHBCZDYkKZgdJBFsGrAbLBTkEhQCR/uD/2wayBkUHJAnvBzcGQAUJBhYB0/5I+qn3Pfnn+FP6ZfgV9/r1P/jw//kBfQIHBw8GVAUlBwMG9wKsAcX+7PpR/Vb8C/3r+2H5DfkZ+gr/Cf+NABQE9gK8ApMEbwSxAiX/V/tI+TT65vhk+cz4fPYK9u32Nf7o//4A+wKXATYCyQIMA/IAXP8n/kH7ffzo+3/6AfsI+cv4UfrnANAFQgdLCYsHdQbABmsHuQdQB0gG4wIaAvYBd/+0/qX9r/9nAh0HYw0ZDYUOqQzuCikM9wpqDKUL0wipBgAGUQQVAW3/6/5//xMBEwhTDAcLng2ACysIlQgpCV4IcweuBgkFRQRgAu8Aov5N/9MAygQ4DE0Owg2IDmwMGQqmCoIKUQkMCFwGdwSJA5kAhP3n+7f8Y/3DAxoLTgqnCqYKrwivBmQG8QgXCW8HbwUfA0kDvAFk/0j+x/8KATYFJg12DKQKGQtMBwkFhAbHBvYEswOAAQf+tvyT+9X3z/YH+uP6Ef/HBREGsAP0Al0BCQF5AgIDCgTwAIX/v/09+1X7y/cF92z3KfmE/UsDmAOwAZQBrf0V/gL/YgHXALH+gP0D+rz48/aa8gXxDvQn9PT5SwBGAUb/Uf+V/pL7h/4r/8P//v7Q/W79PPs2+p33HvYE+RL5+/29BQUG/QX/BJ0EBQP8A20FfQRGBNMBdAGo/03+7/sj+cL8Y/07/5EGtAiOBxYHGwYtBREFngaLBjYFAwNSABz/Ev4U+xz3pfg9+ez5TwATA+7/If/b/iH8EP1v/98AHAAw/iz7bPk9+gT5F/eb+M36nPtCAZQGIAQPBHoG+QSlBZYH7gfFBnQGogQTA1MEFgPsAKoAJQLZAeEETwpgCWQJbAraCDoJcQoiCjQJSQdGBFoC7wJ8A63/4wDGAIj+7AJaBxoHXQW6B9QGzwWuBU4GKQV0AwwB0fyH/vT9N/ou+u/6Qfra+2MB0gK2/wUC1wC3/ogAvwAOAB//Fv3m+V74EPiu9SrzS/VR9UP2efn/+877P/5Y/kn7QP9cAJgANP9Q/6r8UPm2+i/3RvYD9zb3VfhR/T0CSQFtA0sF/AKBBCwHQAgjCbgH3AbfA9ADQwUABDAFnwR5BPQGAgzuDEALmwwvC/MJ4wuHC48IVgZCBKf+/Pus/aj5FvkR+Zf3x/cc+1//Pvyi/cv/u/2d/sICoAJmAJz/I/wD+RX5rfj/9pL56/hw+TH7Gf8VAhr//AI0AtoATwP0A8YDZAFSAYn9NfmC+gf5nPin+pj58Phn+Wb+DwCQ/98BsgAk/zACOgRNA0wCtv8f/FH4aviZ9rr39veh9bL1MvfJ/OP9YP0F/wz/e/6jAIkBMAGn/z//Cvot9j/4oPZz+N73/PYN+H/61P3z/BD+uP/k/ff9twBwAaj/xv4X/3b4iPW59wr1LvdK+K/1iPRX9ob7n/xp/TEAM/49/bj+XwDe/wv+2/5i+XX3Ofd+9b/2kfSs9BT1NPZ2+t75RPnC+7j4q/mj+5P8dvz0+Tj4OPK98fXxT/Bj71vvifCs74byZPVA9hf5FPl/9tv2D/lx+o/5XfiH89nw6/IN8iTxN/CY8MTvb/Hx9cT1N/YG92r1UvZV+mz68/eY9+r0IvHU8ffx2/Au8MnuHe1y74f0rPP084f0T/EQ8Vrza/LD75PtH+qm6MTpoukm6ZjqCunZ5/jrue/o7jHwn/Gf8AnzCPTD8nXxku8v62bpausk6wHrAutV6STqhu8r8SLx3vJy8VryJPTF9KbztfHI73Pswu1J72XufO2E7DPr/+yr8QDyL/Is9KPzRvX291H4b/dh9cfz7vLQ9UT47ffw91P3xfcP/cwAPgElAmkBJgLEAr0DhANlACL/Zvye+/D9Tvw5/Dn8gPoU/MoAvAKjAnwDoAGTASoDXASSBNoDfgH3/1sAtgEcAV3/Bv9x/bwALgWDBnkGiAUlBIcFjAZZBmcGRwUbA0sBRwTYBJsDvwOlBKoDgQezDWAMiwzTDE4LXQsODDwMMQvfB74FTQU+BXAEjwKcAg4DWQRmBzQKzgqqCtUJIQjUCMgJBAuFC38JpggoCN0JHQonB5oGbAawB1wMwA81D9wO1A7MDTgODA8JEBkPOwweCwEKkAp+C2kKrQpuCiYKcw7FEsIRnBGrEYcQ3BG4EqITgxO5EbcQlxCJEPAQMg6yDAsPEg6OETIWvhRpE6cSKRF0EW0RJRPYEn4QhQ/ZDGgNAg2RCucHXAhuCEoL1BCnD7EPVxBoDiYNUw4VD9QM6gpdClUIEAhDCUsHTAQhBrUGcQj+DjEPJA/ID54NuQ0yDvgOhQ6eDCQN4QzGC1ALrwhdBtEItAiLCkcRjRIsEb8QBw9sDqwQmxGvEWkQgRESEQcRkxKdDusNKw8UDiwSZBf/F2kXHRfGFs8VIRiIGHoXahY9FR0UBxJkErwR9Q/kDqgNmw8PFscV1xTgE8EQdRGBEskTwhKwEakQHw5gDpgPgAxeC0oLJQq/DAUS+xEVECkRGg+jDgoPAg85DlENPwsfCPAIPwrvB4gF+AT7AvkC0AdrCMMGawm7B80G6QjGCRwIpgYtBhUEKQQYBVMEfQJRA1oCYQJ9B3kJTQjDCcsI6QUmB5sH2QdYByoFjgIGAdQCHgIcABQAQ////jUDLQY3BdsGogaGBOME2gbOBWEEHwTWAlsBxAHOAjcAcgDo/0b+7v8sA5IDXAKyBCwFagWSBx8INAiBB+kFQQP0A9EFZAMWBIUETwN8AjUHoQoICMMKxQr5COEKMgr1CJYIIAZsA70ANAIyAjYAFP+9+w/7IPzt/0b/2/5RAZX/rQASArUBHQAOANb+Tfu9/Nf9uv14/Wb84fpe+nP9t/6x/bz/agDV/SH/vP+1/qD9Av23+if4i/st+9L6HPpS+PT3/vfk/Nb8C/x5/+z+zP27AE4A+/0Y/ln9cvlY+NT6jfkn+gL4pPXE9H330fsk+mf8Tfun+Bb6zPvL/Jj6Kfq2+D308PUL9/z2Pff29E315vNn91P4gPaI+nv5D/hz+vz6tvrC+Lz4D/ZM8Qj1Nvb292v3ovS48uryGPjB93X4+/rL+jX64Pt9+xH7uPnq96vzZPGN9ZX1n/e89FXxAvCc8EL0GvIS83P1xPTR9HX2IPZy9BLzfvJp7eHsy/En8dvyWvFC7zvuQO9l8lzy8vSI9mz0s/Ta9kj3bPXi8yLz5u5M80P16fRa9+byVvIk8JDzO/dx9UP3V/ce96D5dvtd+qL55/k99/n00fg0+yj+5vwu+kX5gPmp/rT9kf7OAX4BMAGuAt4D8QFWACP/RvkP+ikA2ACcAhEB2P2G+QP75P0Y/FP9Sv/v/p/9Uf+t/rb7Gfvj+Cv1nvl6+5n7nPup+Pn1y/S2+ZP6kvu6/Jb7M/sL/n7/k/2r/WH9z/la+mP/ZgD5AED+aftd+A752Pti/J7/h/8Y/pv+4QCBAaP/I//W+tD2ufqF/eT93/w6+lH2VfbP+ub41PpF/rj6Rvt4/QX+6vx2/K37JfnN/TABKQPBBBUCuACtAD8F1QYwCMsMpgsvCosKxQuYCRIHYgb3AfcD5wi4CSEJ5wfrBL8CYwf7BwgI+AwHDVYNow8ODyoO0gxXCh8IqQrFEMcRohCFDVMK1wkoDX8OwA3DED0PQA9KEasSyRADD4UNIwmGCykNvww3DAgIUgSmA9oG6AioBsYH4gYbBpMIPwjlBqUDjwCW/aT+VQK0A+IBlQCX/XP7QQBNAeEAPgIr/z3/kABB/tf8jvnO+Hn3Y/rU/TH8Tft197L0mfa2/QkArwCGARkAXP4M/q3/BP+b/lT9jvyD/RT+nvyT+qL3g/ZR+az+2gAJAXABeP51/uj/CQDK/3gAa/7Y+/n8LP2w+o/3uPVX9L/5L/4J/JH96PvV+LH6zft1/A38ifvm95H26/i79Kvx7/Aq76rx4/eQ+Zr4Mfmj9uD0CvbT9lv2SfZO9ir10vbv9jb16vR88070U/n9/GT8qv6w/e36Q/vi+mD7YPv2+3v56vuI/2/+V/3X+v35HftFAGMAGABKAnX/oP3G/f/+NP3R/Kb7pfsa/5j8lPpr+cj3x/gG/m8AWP7d/6v+Lf16/uz+PP8x/hD9ePuv/BD9zPnL91v17PRR+Xv94fta+zD6wfZF9+P3yfa09PHz5vIH8lXzU/Dg7O7sIesj7K7wZvH476zx/u+u7dnvC/G58c/wvu9i7yLxXfIl8WHxWPHk8Jn0zPcL9Rf3ovmQ+Mz5nPqU+gv5TPqS+nr6VvwV+gP4c/ZW9FT1f/sS/pr9JP9r+0T55Pty/hr/Ev7R/A38Kf8KAHz+FP7c/PP8yv/zAx8ERQROBoECOAHAApACdAP3AwMEUAJUBsMFtQJsAkP/pACEBIIJPwiYCeEJAgY9B8IHqwf+BR8HIAZVBfIGTQSZAxYDFAMBBUUJzwwVCrcMGwwGCDMKwgl/CgkJWwZ0BMAEOgWbARwBnf/W/pIAMAXRBxEG/QeBBWsFjQjAB84GfgZZBn8DLAe1B1QEPAO7/7v/2gJsCS0KiQhlCmsGPQRoBtMHbAmKCgoJ4AWAB/QGoAeOCPkFtQaSBtwIwAiXBgIHKQX3AygGnQVBBVsECQOjAYoAxgEMAtMCu/8O/yb+TgAgA88CCQQfAYD/ygClAAwAcgD1AIL/SP1GAGX9af6c/iv8eP0W/Jv/Df3n/Ir9TPtp/UQAoP7I+wb64/i993v4+fqe+zn91PoB/GH79P42A5kDXQaGBuoHpAiLCwIL2gl2C4gKjAhAC50M2gwwC60IzAdABzEL/wifCXMLSQrJCmANoQ5pDNAKVwqpB4wGfwvECncM9wg1Br0FbQb0C70JwQs3C9YJzQtIDp4ONg3QDNML/AhQC3YORQ4SEEgLFAjbBnEKJAybC2INnQtlCWkJdAuKDIoM8Qr0BnEEmQmhCtYKmQm7BhsDhgIfB7wFPQaHCFEIxgYuCIIHIAbDBB8BxP0pAG4EgAS2BaEEaAKa/04C4ASvA1UDJQCO/+QAqQE1Ah8BtwBP/wv+rAJjBg4IEggsBswCWQHEBHwDmwRABocF/AfbCJYJLAjrBeoEmAE1BFMIJQZtBrcDHgFiAp0C5f8t/ez9svxL/Hf+av+x/Zj7OPkH97T4qv0h/qX8fPl99Qz1yPZH+Mj3afrJ+b75U/tv+nX6N/lP9wX1TPUO+mD7zPhQ9+HzcvFB9Fj2tPSW9kj3qPeY+C/6UPpC+LX36vNi9kv7n/3n/Ez7jfi29Sb4A/q1+Tr6JvlV9yz7Svzh+tj4KvhZ9in3WPyY+175OPiD9nvzlfUm9+D2BffD9TX32fja+pD6bvmO92LzRvUR+Wb7T/pl+bb3p/OH9134ffdA+Lv3zfcJ+gj73PeB9Un1GPVf9l/8Yv0e+wr5f/Sg8Qj1XfbS9nH3y/TA9dz32/ht+NT4l/ec9uD3P/1C/0v8cPwl+Rn5nP1V/IH8ov4Z/ev94//hAngA0vzV+RH19fh7/jMAjv8r/rn4VPjB/aX8D/79/rP7DPz//S3/vv2i/cr8MfthAJ0FcAUlAz8B9vtF/Oj/lP8AAWQBPQBAAMQD3wQBBHUEcgJQATEGZguhClEJ2QiBBRMFZwcoBwUIEwgHBhcHvwmRCXcHhwXGAngCCAifDEAKVQhIBlsAwQFVBD0DBAQqBOwCPQM6B8cH8AT2AsL++f4fBP4FqAX8AtD/Wvw4/cP/Lf9UADsAmf4i/+QAKAExAGL9tPla+Wn+FwL8//r8DPoV9gT4AfrL+Uj8vPtj+678wf63/XP86PtT+Wn73f+CAZ7/UP6v/En57ft3/Zf7Nf6x/pb9pf58/zH/mf3A+zz5RPuZAF4BzgBP/uL5vfY9+Tj8tvvr/WL8ePrg/F3/Xf7t+2T70fi1+7MA/P+9/3T9bfqf+DH80f/s/XX/Yf7//D/+uP6H/v/8IfzD+nf9PgJnAkgBQP+/+hj5pPz7/iH/IgEwAH78qf7AAH7/sP8Y/qr8cP42AtMC9/8H/Xj5lPjl/S4B5P4EAdIAif6G/xMBYgExAe8Bhv/6AJYE9QM//4L8n/q9+GL9cwDU/4cAjACl/eL9pP99/2kAEQGmAOQBQwTABIEBhP5x/QT8ZAGnBcAD5AOUAWT/ggAOAsEDEwQjBXgEIQVVB5UGxAPTAKv/ygDTCBQMPAo5DA4J7AVfB50IaAmMCTEKiQhKCrcMzgl1CGMHIAdYCVMPzg/IDS4Pmwr8B84JMgv6C0kMpgt1Cp8NJAwZB78GVAPVA4YJeA1rDZsNDw0JCUEKlgyxDGML4QtGCiwLkQw7CFwGzQSyBDQIdQ94DjwM5wyyB+EFRgcvCKUHIAe8BRkG0wY4BT4EpwKCANkCewlpCWEH6whBBkoEtQVjB3gItwjsB8IGKgmwBsACZwK+AMoBIAfVCAMGXQhKB+8FaQfcB+4ITwgbB3IF5Qc1BSsBcwAV/m7/LQaeCIkEJQSQAET92/xG/gP/M/6a/gL+a/+S/OX48/eb9YT1ffyL/8D9Zf1C+D31u/XO98L5Jvol/LH8yf1S+3b2CPfk9Af2H/7D/5z+c/4u++f36fbI+Jn5FPq6+tT7t/6v+TDztPHu71ryk/os/Wr8Bvz09yb1F/VZ98j3S/mK+3b8k/0S/JH4UvYy9V32mf1FAToA7/9a/Ub4gvgS+2b9kAAaAJL+4fyC/Sz77/h5+Nb48fuvASMDKQBGAez8jfzS/n0ALQGqAKoBX/8lABkBIv45+sn6w/rH/UwDpwQdBL8CWv9z/68CWwTvBuEG4wUYAyQFNwZ7A5UCsAENAYQEbgtKCj4ItgagAysEdAaUCIQJIQk3CQ8HfQcCCdEF8QRGBJQC3AWoC/YLGgu/CkcIdQYGCOYJHApXCk8KZQh3CGcKQAidBqsEtAIiA94GowdqBrIH2AV8A+IEhAaZBd0EJAWWBK4DIwZfBYADRgNrAp0BlwVsCRIISAnWB8oFdQVfBnIG5gWABTQF/QNpBM0G9QOiAS8BKP+d/q4DsgbNBgQI2gfsBTwHRwgiB6kH3Qj9CL8HAws9DPoKvAm6CTYHFAnkDmYNNQ1CDQ4LiwqIDMgMBQ0QDQwOkQvMCywPqw55DesLWgzDCwQQqhCkDxgSeBAlDTcO0w8iEBEQmg7RDCUI2Qr3CjEJ8gdDBe8DKQOZBlkELARJBd0DTANABPAEJATRA/EDFQOEAAoFTgbGBRoGFgNgAucDGAgUCEwJMgtyCLgH6getB0cI+AbBBXcEPATXBzcI5ATNAnUAhP+JA+UD9AOrBHYCLwEVAYcCFwLl/xX+vf0I/F79Vv9M/fT7N/uL+Gz5q/3O+3T7If04+mj53/ss+yb5rvhR+Pr0zvOd9uz2gPSq89DxQ/AV9I70HfT09N70pPNA9cL3y/a69dD0XPP18eH0nvdz9vz00/SH8FXwnfS28hbznPWi8gjyhPQu9MryefFv8l/uWO1S9CL1DfKO8ejvL+4N8U3ylvGm88LymPE/9Mr1bvbi9H30EfQC8vf0NPgp9kP2j/SI8DLzI/WP9Gv1mPWd8sfy1PVn9dLy/fKe8vnvfPHP9Xv1p/J581DwzfA78/XyF/Rx9P7yjPFF9D30rvMj8jfydu9D7jr0SPUq89fwiu9T7BTv9fBw7+zwufDl767wVvOP8tXxC/Gl7v/ra+6p8P/um+0d7C/qB+y179PsIO2Y7bzrbetT7eXtZ+z/6xnqLuZE5xjsN+uw6vbobubW5eDo9OlG6TnrSurk6Rrrn+wD7C3pLugn5pjlqeo87Lnqyumh52Hls+cR6e3nM+me6KfnuOlG64HrK+oC6Q3nOOUo67jtPe6Q7czqkunH6xTuXewX7jzu8O2w7vLxmvKz8L3wEO9A7lnyxfZz9EDzgvIa8B3zTPe392/59PpR+738U/81AZUAPQHP/oX9mQFZBdMDrQElAcr7Y/7qAIkAnQKaAQEBAwENBIIEpARrBKcBNQIOB5oLAAxkCisKcQjpCsER7hF1FSoYZhVGFgkYsxj0F2QXYxSpESkW2hcuFkcU8xCkDqMP8xImEswTeRR1EaUSBBUVFvMU/hPSEO8OOBTVFDgTBxILD+AM1w6EEggRfxQ6FdcSLBOJE+ATtxHJD1MLYAuID50PhQzTC4cI5QbcDJYNLg7SDlYMvwsLDT8ONA0CDRIKuwjFDVkPsg05C0UIxwXCCSoNrAuUDW0L2QiYCjcMGQwjDIkI5wXcCKIKFwpXB5gFywPVBigMhQy7DTgPTAwjC7cOeA9zD5EO8AlFCl4NCA1tCi4IUgbHBKwKDQzXCdwLBghoBQEHVgj/BzwHHgW/A9YGHgiQB3kF1wNfAosEPApFCkALxgvQCHkIoAqmCloL0gqMBoAIagoUCuoIBwauBFED6AbCCXMI7AhwB2EESQRtBXYFQQUwBCICxALzA00EzAPr//n+w/8FA0sIpwdQB4UGAwPfAnIEwwSHBqUGaQIFAsYDlgNNA8wAyv5u/lYC6gaRB4kI1wfwBSMFHAnkCbEISAnfBksGbAg2CloJzAfrBNcDhwQQCn4M3wtSDfgKJQkWCoILqgmPCu0Kiwi+CGkL3wpYCg0HCAThBaQJcQ9ZEAoS9xIhEXkQGBLiEacSvBT2EqMQ/hE3Ed8P9w1YCWQJHAp0Dt8PCg8REBENkQmJCekJBwlOCWsJzQgeCqUKcgkYCR0GDgUwB3IM7xGEEdMQAw8JCtQKRQxfDGAN5Q3KC30L4gulB88GhQKEASwDAwcaC48JqArxB5sDRwI1Ao0ChgOeA5sBiQBUAM38Lfvq+Av3nvhv+xYBmv+l/yYBD/xD+yL8G/z7+6T8d/rE98v42fUq9b7xsu948sX1MvrI+ND3h/iH9Ljx//Nf8+n0uvS78fjvV/Hv7/rt1+1C6ijumfBq9Hj2+vMb9bPz9vBF8hT0u/Qu9m/0HvAj8Trvzeq/7Knp1+qx7HTvvvMn82z00/Nx8pfyN/RI9ev2U/fV9PD0cPdH9KH0KPQn8R7zuPaC+3f9Uv0F/T/9qPon/Fv9W/4yAFr/F/yL/bX+hPsq/wL7UvuE/skA2AQSBC8FWwWzA7MCZwSRBcgGbQeCBrQDJwUVAggB3AE6/S7+lf5+Ag4GlAfXB9QHSwYzB/QIughjCdoIEAjdBkoI4gMaBT8Dlf1x/2QAlwMUBWIFvwabBmkEWwULBk4HoAc4COUF8gWEBvQC6gWhAgACIQTOBpUJdgnwCRcKMQjyBu4IGAgbCmsLxwolB0UIqgVxAs8D6v8xAEIBwAXHCDcJcQnxCIoG9gVzB5MHPQnBCbgHHwXGBnkD0AJ9AXr8mv0s//gCjARyBDQEGgLG/gsAIAL0AgMEDgMOATb/iABq/BT9OvxK+Gv6Zfs2/2sAIwA6ASv/q/zq/h3/j/+KAMn/yPzV+rb7H/hP+aL4nPUE9lL3Lvsa/V38Hf3E+oH4hvp/+z3+jf9cAdf/7/1J/9D9ov6b/Vz65Pte/+UBXwNJAywEHQHi/UP+mv5mAE0AEgHA/ir92//6/Av/hP7m+1D+XP0WAswE8QTPBhAGBAXQBLIFfgcqCb8IUgb7BDsGjAPqAx4EnP+7/nUAbgMLBZ4EogUQBeAAGgNKBJYESAWyBIgCAf4QASb+mfyN/a74LPf497X6P/2f/Aj9eP1N+a75yPlV+lj7aPra+H71QPfS9Wv0yvVR9DT0wPSA9/z7Jfxx+uv6TfmA+Nj6bfvV+wj9U/xM+Yb65fr3+NT5yfeE9qv3hPrY/dP8+f0AAFL8tvwa/lT/4gD6AAECL/6S/1QB+/9kAlv/xvxn/Mr+AQKOAF4BpQBc/nb9vv6mAR0CGwLQArUAUgJwAw0CjQP+/8H9P/00/ycBKwA2ASMAFP4H/xsB6wFVAqEDawJHANQBMAK7AqgCwACE/6YAwQJ8BUIGHgUvBRwDTQOaBC0ELAP2AzgCjP3j/3sAh/+O/yn8rvuM+07/bwKdAUoD4QIbAMIBTwOFAfoBFALa/8D8cf9JAGf/AP/S/BL7o/ua/8H/w//+/+P9Bvrv+tL76voP+/f6pfe19ef5gvgq+Sr4ffTY8rjzoPii+HD4oflo9r/0r/Zy9nj2qfZE9ffxNvL28yHzx/IF8Z3vte518RX13vQZ9pT21/Qe9dP1fPYd9uf1qvRx8hb1/faJ9gb2GvTT8erxrvWT98f2y/iw9zn0nvQt9eL0H/N19NXxa+/o8gnznvOa8n7wA+5z7/3y+vKT8oj0HvOq8ST1cfSo9CP0CvPk76jwyPQ+80fzPvIY8Enuv/Dz82DzFfUu9mz0D/Uy93v41fg/+dr3BPU699P4/vel99727/Tq8472Uff29jr4afgj9t/3PfqE+Wr56vfS9cnzb/ag92f4K/jv9t71Y/QD+b36APxe/2z/Gv3E/0EAyv7k/g/+S/xj+uj9Tv46/yH/W/4l/kYA5QSZBOUE6AUaBH8DIwXuAy4EBATMBJMCmAO/BncG5QdHBHQDngK2AwMGQwY4ByoI6wWUBFkH4gXUA0gDcQJt//0CDQZNBuIG/ANnAssBBQZqCCwIzAmsCdwHkwgpCfUFxQWEBVkBHAIEBucGgAY2BVgDVgJYBdwI+AdsCWgLeAj3B7EJvgpbCe0H6wYfBC4HvQhkB3sG8APIAhoDugZuB1gHhwo7CuMH9AnfCgAKVgrmCMMGIAeWCnMKEQoQCHcFdQTRBp0K3AlMCxsLFAnTCbALuwr2CRAJbgW2BfEI7gj+BqsGdQaHBNsGcwuWC+IMvg0mDBELvQ1CD/gNnQ2+Cm4J+wzVD7QOjA0mDGMJ0wrMDkIOaA4QEOMNmg0BD9IP/g+qDvgN+wt2DwsTvBFKEeEOng05DikSxxOWE6wWnBb0FC4XQBjdFqsVhRM8EoYTOhaeFRgUHBIPEAkQSBPHFeQUkxYwFjIT2xMkFHcTyRGiDkELGwr1DFkK/Ah9CVIH6gRgBVIJPwjPCDYKSAjZB2IIbwjBCBkGlwIoA1wF8wSvBAQFNQKWAOABwwR8Be4EjARUA6ID3ATdA/oDEQOz/27+lQAwAun/HQA5/r/86v2YAc0EuwIBBdUEiQOMBV4FtgRPA4sBIwCvAQcDDwIQAi0Be/4//woDpwSQBX4FxwemCDcJ2gpyCRMJjQcYBeID2QYEBpQF/QYLA6UCRQcaCmUJtAoqC7cJhAcFCTMJKQedB9oEEgOFBAUFmAO+AkgAYP6A/xADUAUZBcwGmwZiBHIGWAe9BQ8GPwSSAg4ETwWlBD0EXgI+AFoALARSCJsHZgjRCDsGNgbABSEGiQZ2BfkD8QMVBXoCxQH0AA4ACQDVA1YJbwksCZAJVgb1A+8EqwMgAyADSwI2ALMAp/98/S38T/rj+sX85AG8Ao8CegTFAo8AfwBtAPj/GQE0ABz9Rv0G/dz6jvkE+tT5IfvMADkD9AL3AjID0AAQABMB5f+X/zT+N/wz/Rr8Svng+Iv2/vWZ+Dn+qgGv/xcAogDm/Lb8C/6s/DL91vvM+Tj6pfmQ9yX3E/ak8631lfpE/o7/Ev++ALP+1/sK/cr8S/z/+2D5UfkI++L3EPZG9Z/zrfOX91v78/uZ+5/9/fvl+A76K/g6+Jr2APPY8v3zx/FK8O7uC+yI7I/wH/eh97H24vnj96j0FPdG9qb2JvdZ9GX0CfWT8aPv9+9S7TXuV/PR+df6hvuQ+5D11fIH9PXzIPZs9k/zZ/PP8pLw2O4D8RLxBfU5/Wv/agDL/wz8Mvj298D5AfzW/YH8vPr6+vP3w/V09m710fjU/1kDDgZNBmQBH/w8/HT+sv8WAzYCEgCq/sX+2/xE+sb6pfjw/M8DXgcOB4AFaQMT/f/8SAB4AZcAUv1m/VH8B/m69JzzhvNx88f6tv7G/2b/f/z0+U73TfjH+m/91v3X+m36Xvos98j0F/TI89L24P2aAdUB/v9p/vL6Pfi7+nb7Gf1S+/P3w/do9p3y3u8t8EDvbvTe+5L/sv/F/9r+ivua/Y390/64/jr9kPzp+sL7q/h+9eLzO/KQ8qv3xvz0/Ln8AP4t+vT37PgK+WT5sfeF+KX2Lffe9ufyp/BO78buRO9k9fX4z/hp+Er2q/Fz8cfzn/Me9bL0ovMo8y/yJPBy7AXqb+rM6THtTPMg9XD0IfVQ9QbyXPT29G31Mvhe+FH4FPZq9qb1ePMi8o3xQ/GA84n5C/wS+2j7Lvp69wb5vPgl+Uf7UPvq+2n5Sfnp+cv2//VF9uD1pvgy/sMAaADcAN7+RfvU/NL9cgBuATsAVwF2/KX7Ofss+Mn2ofV29Vb2xvtb/j7+DP5y/Cb6g/l2+qr71/24/cb8D/tP+p75Ffg593f1QvXE9pv8jQDKAaUCCQBI/h3+fP55/9AB1gImA1oB0QBO/3D88fvG+p37GP6PApgGoQdyB6YHtgNqA4ME7wSHBxgH1QfNBEkEbAMgALn9avw4/oH/agS7CLgKDQpZCeAFRQS7BusFyAgmCq4KXAdnBW0FWAEcAe8AOwLrAjkHCw3pDNkLXwuGCFEIqgqQC+ENhA7yDf0KgQstCkUGzwXbBaEGjwfTDeYQ/BAZEb8O8wwxDBsNBA4AEC4R5Q8pDYwOZA0rCcIJuQicCeML8A/uFBEVYxQlE8cPew+1ELARdhN0EuERTBCPD6kMyQqqC5oI9QiADAgQwRKUE2ATlxHEDfEO1g7cDyIT7xH1EfwOvA46DZQK/wp6CCAIxAuGD2gRBRLrEokRTw3VDvwOxA8vEq0S2RPyD1URZg/zDTQQeQxuDcYPDhSZFywYKxjlFwYUWBRqFsoVpRjUGK8YUBQAFewSZRBuEZgM3Q1FD98RHhX/FFQU0BPeEIYRVxI9ElUT4BMrFQcQ+A87DlgKYwsoCcwGtQfuCTcNtQ2hCsYLugjCB+EJOwuiDTsNHw99CycI6AfnBJwF1wNhALICoQNoBo0I8gW7B0kE+AKfBDADTQanBmQIYwT+AHQCsP5QAQUC6f//AdsCqwXNByAGhAcxBQkDKgRkA3YFjQWABk8EQAAYAuEAegEuAxoA+wDrAMkDoQfhBe8G6QYoBSUG3QeGCXIJGglzCF8CvgNUBPQDEQbNAQECnAG8A+oGVgaKB04G7wOjA4QE0QYdBj4GKAXN/ywByAGQAowDtP8EAKT+gwCWA/wAvQE+AMD+8v76/+8A2P9zAuT/aPyf/2D/owLrAsT+CP1h/EYAo/6c/Uj+QvsN+mT8AP1Y/eH8S/vX9sb19/kk+S36lffX93v1vfd9+9T3yPcP9UX0tPOD9kj3PvaS9z30iPDc8+b0GfTp8tjxzPBC8af2ffQ89Cj0sfEt8W7zFPcs9oX1evTp8OXzAfah9Tn1wfHk8Njx6vZZ9tv2XvfR9I/1fveZ+Wj4mPkQ90fyTvbm+WX3zvWi8/rvO/AE9HPyvfHc78HrGO3z75XyRvG38pLwKOxF8J/ygPJy8nvwPu1+7irxye808PLtd+yJ7lfxtvLW8GDytO5I7JbwDPJT8pHwbe5E62ntkfEM8PXwre9h7Yzvu/Fc8pvxZfH37SrtovJN9Gb0nPJ18KXtLO+18Z3vj/F57gHukfA68snzc/LS8VzsP+7F80f1IvVE8/vxoe128YvyRPDh8p/wAPB68Nrxq/G+8LLvIexX7zD0PvVM9UzyTu/47SvyYPIg8VDz/e/a8EzyG/TJ8+Ty8e8m7Tnx6/RD9lnz1PIY75buFfLY8B3xYvBs7uruKfI99DnztvJP7yPwePVa97X4SPZs9NjwmPM49rL0p/YC9ZT0Xfbz+nD7evxq+133Q/skAKcBrQC1/nn7yvno/Jb+Lf38/TH8u/vQ/3YDcgMKA5UBL/59ApcGSgYiBcAC5v+2/z0DeANJAnAC8v/9AOkEgwZlBw0HmQMhAhIIFQvcCm0JPwYuAm0DHwfABJ8FzgQ0AU8BzgTzBs8FngSIAL0BmAiwCt8IkQdEBHn/sgJrA9UBhQMlAG7+W/8kAjIE3QIMAVP85v2yA+gDPQKH/3b/Hv7eAC0DqgAMA4gA/v9tAxcGNQYsBqwEsP/iBFQJKQqvCPsEbgF5/b0BfwLBADoB2f0X/tIAUAKXAnkCJP41/AoCbwLbBPwCH/52/DH6ev5g/tr94v1N/Dv8ZP7TALgA0gAJ/DL7KgBBApYDLwD9/KD6yfmA/Un8Mfxn++X4QPmQ+9P8H/xB/fr5g/qqAI0D/wRLAXj+XP1R/5sDVgMPBTMFqwNABO8IAAt/C4sMdwjKChMR7hJAE1AQEQ2BDK4OPxHYDucOpAzUCE4KdAxYDc0NQgxuCBQMXA9kDy0OaQteCZIFcwgZClkHjAgkBkUE6gVlB/QHdAi1BRcCIAf7CFgIbwa9AyUBPf+SA+QBUgKiA5X/uP5UAagC/ADCAMf9sf3fA+oFTwUgArX9cPvO+2H+IPvs+gb7n/Z2+CX7gPrZ+xj6jPWj+Qz/SAC9/9X8Mvhv9jj5AvwT+9778voy+GT6M/oY+Qb4JPVl9Rv7vv65/bH79fdi84n1VPnh+Fn52fiq9Rr2kfhj+Kr5Tfh99w77gP/MAK7+G/ud9rT2tvxy/yT/3v4x/Nb6Mvwm/hn/jwBhAIUBoAVhCE4FQAEL/8b9SQOCCAYIgggACQkF5AMNBysJjAhkCkcLWwnJDZwOxglSCEwGMgW3CqsOigwzCzMJNgYeBQoGpAaFB/8I3gdKCfkJGgezBccBF/+lAL8FlQpXCCIJRAhhBHsGuQgYCPoI1gjSB8QLXgppCHEGOgOaA+YGKgyaDVIN9guYCfcGkgmyClEMiA2ZDCwQOA8sDWEJgQVAA6gGcA0aDoAOvg29CfQHhgq/C4kNzw4BD/MRAxD6Cd8GeQRLBKsKyQ8AEWYRwg1gCqIJDAtzDS8PyxBZEuYT3Q5qCDoGAgSnCNwRMhN6Eu0QFApvBZUFhgiQC9ENTRAKErwMQAbkBDwBGgWyDmQRaBFUEA4J4ARhB8YHXwuQDfwPGRP3Da4GiQPyALwClwpZDYoM7gtiCEADGgO7BSQH0whsCpELtAkKAdj9of2o/BgF2QklCT0KngYnAWIASAEtBRkGzQaXCgILHgX2AWMCp/5fBBELsAtxDL8LzQbDBGcGfAaJB2cGxAf7COoDRv2I+/L4EvuBA7EDHgNaA7z+3vx6/Zn+If8N/60A5wBhAlP9Pfs9++f3///cBBYB1f8OAJb6Qfpj/Rn/Sv/f/Xz+CP7W/Cf33vYj9cvzyPuY/Rn7oPsQ+Mv0Uvf0+Av6MPqP+/37cP3U/Kr4sfjP9S72xfzP/D37S/2E+Wv3Cfpl+9/86/wl/K378v5a+x32vPVG88n1SvuM+mz63PvS92D3sPja+vH62vul++P6Iv0e+aT23vT98R7zwvj997j2Fvg/86bx+PIh9Lj05/S082vzlfUp9EnzTPE87wnw3/TG94P0mfYo83nwC/ND9Aj07fLH8lTwQfW69PbwnvEA7jnuXPF39B30ufPY89/wm/Jh9Yz2n/Uh9lb1E/fX+/v4G/jv9Vzz0vQ0+A/65/m0+v/2XvXD+Nn5Jvmh+db5SvjU+hH+rvsc+Vb2KPNd9YX6w/gj+Hv34fG78pL0zPSw9fj2wfVc9Dj6ZPsY+aH48/bY9XH44v2h/Cn8c/u+9wn5sPtB/Fn7Cfyk+oX7pv8+/37+pPzC+f/4LPyd/UT8Of49+zX5hv4UAmcCdwNhBLAAZwH3BewGrwbUA5UCKAMYB0UJrwcACWkImQb5CIcM6gtdC1UKQAi+CWYOGg9oDZcM9gjCBm4Lag5nDJsNyQyiC/oNtBCeEVYQ1BBeDvwNKRNlFDUSPA/0DJUKpgzeDfAMwwxoClgJHwphDYMN4QzBDuMM9AwXE/cUAxbpExsRLw9wEZ8VgBLSErsPPgzvDPkO5w90D+AO9QsBCqINaQ+rDewK2QbUA+oDxwi4B/cHqQfhAwEE/Qb+CTsJwwnICR8H/QoUEC0R6RAqD6ELVgvND58Ouw6RDcYJyQl4DT0QoRCnEC8O7goWDPQPHBBmD18OKgwUCvMNCw64DLwLfAkyCWwK8Q3LDAIOAw1ACJQIsA3yDu4M5AqoBloDcQWBBz8FRATiAWwABQI6BQwGpARPBicEUAJMCCsLVgnkBt8EcAFfAw4GRgOZA78Btv8TATcDtgP9As4CrgDI/EoBNAXhA5sCrP62+vP5Fv69/ab98/17+577bv7uAP8AJQG3/9r9iAIfBr4DowBR/K735vYr+Un34Pf39lj0IvQr9af2+faJ91b0XPSf+ND9VP0T+5b5evVq9kz4jPeM9+b3VPVD96L6rPse/E78rPps+Fb+kAEvAmj/d/z0+Lv36/v0+Xv7bPrF9076lv5VABcAZ/8//Jv8qwLEBrsFhAPD//r7kfyQ/yD9Qv1Z+5r3OvlZ+9D8Dvyi+5P3VPce/XoAtf9l/Yb6ZPbn9375efjx+HP3kfWQ9976hfzL/E/7Mve09vP8LwGRAQH9gfqR9kz1kvg+9tb2OPRe8hv0oveu+bH5A/ra9Ir1LfyzAP3/Wf34+nv1JPcI+uX3qfgu+FX18fUk+g/8T/yV+xr55Pi+/2IESwPlAHb9a/qe+mD+Jfz3+vv6SvgV+fX8e/9U/xEAMvx0/D4EXgc5BywFMgKm/a39mf9t/jj+IP18+bz3xvzL/dH8oPyY+VT5WwBkBL0CYQDT+hX2XvbK+K/3yPeg9nX1svbL+oL9b/1r/mT65PrMAosGdwcqBdoApfxZ+v39Dv0P/JL7Jvfh97P61Pw5/3MAb/5L/MQCZQfvBdYDPQBs/NH53f21/ZX8Ffw595b2mvu+/uz/2gIk/wf+GwS3BwII9QbSAQj+K/1WADgBDP+8/5b5yPj3/BYALAG5AScAQP5RBKAHdQiJBhUECAAh/o8ESQX3AuQDBAEOAfkEiAV4BsQIYAeqBYUKxAxiDAwJJAVzAtr/VgbtB+kEMwSl/vD8bQHwAhoE4AfxBYcEvAj+CSwKMgcNAsv/vwCAB6oI6AadBf/9pPsI/2kCHANPB4cG7wR4CgIJrghyBMUBUQEfAzkJBghBBX8Bbvyl+yoAhwLxBLIHFQbPBqAIOwb+BOIB5gDWATkG7gn1BloGIP8Z++38bP/dAbgEFgV6AscG0wWtAn0Am/zx+ycB7wYrBd4CVv9E+iX7Sf+PAOkDkgQYAgYEOQLu/br6h/eF9Uz69v7/+lP3kfP97lLvovOi92b6bPsW+9f9uPyQ+AL4M/bO9Y36HQCh/Wj7JPgz86P1dvkE/lYCPAEjAYAGdAOI/zP/Wf7b/3cGrwlmBXMEhv8Y/cUAswMfB+sJEwpCCzQOqQzsBl8FrASmBWEO0w4hC9EJOgUnBEgGvAmLDaoN0A1xD4UQWgrABpcG/AFXCRkQXw1+DIsK1ASQBYUJbAwuD5QQThD2EO4QuwgaCMwFqQUdDDYOvgxuCdsEFwBlBLUGGQtXDfAK5wpODgAN1AZsB6AFHgnoD3UQhQ0pCpwG0QQNCG4KaAwpDscMFw5xECwNHAgmByUEugRyDEoKxwZlBYkBYQKEA5wFMgllCUoH0gflCrYGvAIHAt7+xQF4B/UE5AHnADT8nfyz/sEBOgO9Au0BTQKhBTcBNf6m/xL+7gAVCDsGbgOXABz9Nv8hAvcEpQVuBakCkQUYCgEH4wLcAXkAPADVBu4FUwHOALL8tf3nAYcDmQROBUMG0wX/CAEJpQMTA/sBb/9XBFgFjgGDALT74/qa+8v8Vf0a/Qv9Dfog/X7/2vqL94X19vFD9nr63/eD9n30YPH/8fz02vYK93H2iPYF9vD5J/nY8+DzlPHd8kv3rPaq9bnzfO+u7hryevNh9If00vO483v1bvpq9xz1YfUB8mfz8ff39sT04vJR7v/w4/Na9fX1/PW19MHyZ/Ve9xz0JPHA8X7uwfLd9h700POi8O7uXPGp8yX1Jfai+N73Cvf4+bn5+fVU8jXvuezv8G7ygO9Z7S3rZusb7uzuLPBh8jXyfvIT8hH3d/cX9Pnysu+e75P0lPbp8ozx7u787XHwF/Kc8sLypvOt8e/xUvZi9hPzivFN8A/xSvf993v0O/Pt8K3vW/KV9TL2EfjV+QH5p/ca/Hn8mfey9Znye/F99qX3e/NX8zXwZe558f3zFfSr9Az3dPTp8xH4rPgN9lP14POt8N/1Avk59jP1+fE67vXub/Ou8hX06fbd9ev0w/cs++/5wvjO9l/0lffW/J76+Pgk+ObzMPMF9tn4jPon/Cb8PPid+4r9RvzB+6b32fY89hv8qf36+4j8hviP9KP4mfwr/LkApgGO/cP9kQL8AdoAR/7Y/JT7/vsa/w/99vyd+273pvd/++T8o/+ZAs4Bjf/3ArICEQLsAY3+O/7D/TwCogI3AisBXv1a+17+nwDEADgEMgbKA2MEZQniB40KBQjiBc8GNwdbC3YKiwp5CvcG2QVVC3cM9A1kEUIQFQs+Di8RQRFyEtkMqw3EDD4PSxGpDsYOcAyQCUcMww6qD5USbhMKETIOrBIHEYMSpRHdDL4MKAu6DnkOXA0VDJMILQRfBwgL5QsSDmcNHgrRDN0RDA+oEDMM8gkRCm4LRA92DZYNOQsSB/EHUQuPC0AQ2xJ+EMEP5BRGFfsUaBTcDxcPRA6jFIMV2BOPE7kOOg1CEeERfxEaFD0TsQ9zEAgSfRAtEYYN5AtaCj8NvA1ECs8Kgwe5AxsEEAkFC5IOnw38CXAK1A3IDYgNqAqwBuMHAQhkDecL6QlVCFQDVALfBQYH/AfxCwIJ7AYyCbYJAwhOBsMB1/4W/mIDLgM6/5r+2vl/9wD6rPxl+8r+Fv8e/Y//JALtAXwBl/3v+n780P61AqAAmv+E/MD4HPsX/uz+7gGjA/X/tf/8Ar8C5AGq/mH8uvtj/tYDrgA5/2D9wfhk+M39u/5VAJ8DvADy/+MCGQP8AfEBE/15/Cb7x//bAQj/wv+W+yf5UvuE/tb+YgLsAJn+lwG0AiYC0ACr/fv6F/kY/FcAf/7z/fP7GPmh+r78rv2IAUUCSf5f/aMAiQBj/9/9g/sa+o38uwGMAAUAE/8e+/T6sP+VANoC7AXhAwMClwZtCd8GwQVwAkcCkQMTCQQJCAbDBY8B2QCOA4wGawe8Cc4IOQb5COwKFgmNBvkEVgLqAQYG4gXIAmQA9vto+eb9QgDYAFMD0QKbAP0AGwTPANn9afur+CX4nPzQ/s/7m/vE9/r10vcZ+rP7pfxM/Hn6Ufs0/gL8X/rz+Tn4K/h5+z4AKf3F/KX6qPWT+Cn8uP32//QAtP77/lEDkQTOAoEB+v/J/hkBHgWLA6gBsf6d+Yf8UgGWAuYDjwQfA8MCXQXlBIkDwQK9/9P96QGrBpYEVQI1AVP9k/6AA3wDogQ7BlkFKQN2BRgGsgOsA6UB0v96Ac4GvgVpBOICjP4U/ur/fwGtAZwBgf9r/W7/2QFnADn/a/06+579WgL7Ac/+lv2U+mD4qPz3/hUAbgEIADj/qP8ZA5QABv/i/uP7I/0CAhIEJwGeAFz9Ffoe/Pn/sgE2AyQDowAZAk4C3v41/fX7F/tw/vgCdAb4A2EA5fwD+Tr94gAbAn8FPwSWAZsCpABD/pT8N/kJ+I37zwEIBA8B6v59+on3FPzV/er+xQIJAsH9Tvyd+kz4MvV38n7z2/Yr/fX9rvkh9y7y+e4+8sD1zfn1/Rj97PpE+5z4kPXq8+Dxq/Pd9hn8sv09+rH4OfPZ7+7z+vZN+n39NP1M+oz6lvrC9yb2kPQe9o34Yv1nAML9l/vm9u/zSfeG+47+MwLXATb+FADV/kz8yvps+Pf6uf36An8FrAIKANT7Yvi/+l79twCDBgMHlQTZA+0Ao/2Z/J/60/wrAMIF3gi3BbgCAf/G+iv7d/+eAdcGDwjFBMAEAgKD/yL+i/ox/bH/MwStCZcFogJE/sz49/lr/AP/CQKVArgAd/58/Uj4efcL9T/zS/gA/KoCWAEM/438nvc2+KP6Lv4aA2cGAASDAoEC9v0e/Qv7Lfru/YoBLwmDB0kE5P/6+XT6XfzC/8ICiASBAScBwQB9/LT6ePe79ov5Jv4dBB4BRP7++yD2IPdh+2f9nADyAbL+mv/B/xT8aflG+JP39/pqAWcDzP6q/K74E/Jo8970LPfD+D75sPVS9XL2aPEo74XtyO3s79P1lfco9CXyXO4C7UzvK/KY9A33k/Vy8zn27fZ18zbwq++R7qfxd/iD9q7ywPA+7N7rSvBE8+H0F/Zt9ZX0UPZD9qHyNPBZ8UbylfXA+jD4j/Vh8vDsMO3p7jLwIPIH88DwoO0v8PDwdOvh6V/p5ej57Obym/FI7kDuguod6xXvxPLY84/1P/a+87P2Avi99Vrzn/OM8uT0iPt6+nf5nvn79AL0Hvgw+978u/4I/7f7Uvt7/KT6RPdC+Lz4ZfgjAHABV/5n/u/67Pit+7P+OwEzA8YEygPYAFoDwwJNAAUAuf50/isA7AYBB08GCwenArkDRQYFCcgKAwxKDcEJcAkTC9gJAwiBBq8F/AT6BzULTQkvCacIUAKVA6wF2AXuBtgGhgfGAnQEcAXCA1ICCQCG/3z/OQW0BngDAQRVAuX9kP+9AdMEjwVmBboE7/9+Al8D7AC4//z9dP3C/kEDegSvApsDwQDC/Lj/4gHoA8sEzAQLBd0CDAX7BZQEgwK/Ab//CwEMB9YF5wRfBTgCtf++AfcC8AMQBvkGawTYAqgFpgXlAhABcf/2/q4BjwM2A6QBQAAo/H37Uf5mABIDlAQvBgkEBgU/CF0GugQJAx0CjAKJBaIIrwU5BukElP+XAFoCoQQ1B08IuAcjBdUGwwgUB7QFLwR+AyIEiAnCDFcJKQkdBqgBUgQMBv0IlgsXDBMK9wfPC+AL0gpWCE0GMAa1B+EL0grXCWUKKQYjA7gGlAniDHYQcBEBDrkMfxDGD0EOJQytCpkLhw/PE7gSYBGtD1UL1gqWDaYPWxNsF6wWwhKXFIAUXBP2Ed4Oiw+lEJMV1xeYFUUTZhCVCp4LIQ/xECkVhBaAFW4R8hLBERARDw/cC+gLKAzfEQgRiQ0QCxcGSQPQBCAIugswDmUR7Az7CSIL9wZ1B7UD+gIkAiYEmAoFCNwGxASmAHH+DAGGBXYJOQ5hDs8IHggzCV4IbgmuBbIEWAQvBmgKvAgcCM8DOf5X/VwAUgSSBEIJgQrQBJgGjAYLBUMGrgLkAscDbgV6CdYHwwdoBlkBPv9TArIEYQYWC6gMFQkfCe0K9QidCgYHRwXPBoUIRg1IDckMRgvTBhkEWgfYCU0NGxLLE9gPWA9jEcQQFBKnDtAM4AusDLIPng48DBAK0QQmA+IG0wkXDMQP7BHHC8gLYQ2aC/YNaQv8CUEKiQrxDn0P0A3SDHkHqwQuCKsL2w4VEdcSOw8GDjsRsA4aEFIN5AnDClwLNw+sDu0MHQvqBYwE0AdiChYOCBDuD1gMYQpIC6AKEAsLB/0EjQQfBd8Idgg1BsoD/v4k+w/+RgKaBAgK7AnyBLIGtghmCDEH1wPkAlUBEwPSBiUERwJY/kf4Qfgs+/b9IwHKAysEuP/E/6QAjgB1AcP7ovpU+g/+YQBj/sH8K/eR85/14/mF+37/8gHc/2X8KQDg/g3/Pf7h99n4IvpO//z+PP0A/D721/Jb98r64P5+AqABDv/F/2QD2gFMAh7/Jv7l/AgAZAIBARcBrvx4+Jn4Hv4XAFoEGAdqA/gAjAPBA7EE6wGu/5L+5/1RBLEBsf6m+2H1A/Xk+Cz7Q/9HAlMBK/3MAIgDGgAe/2D7p/rE+pcAvgC2/Wb7m/br9Az5UfwY/k0D9gCA/nb+qwBMAL/98vv6+Fr38PvB/B35Gvdg7xHti++y8TL0K/bZ9gTyTfLs9lD1YfVK8VfvZO8G8jz1de/r7UXp0+Wh6Szu3O9X8mvxqu3p74/zn/Ro8YjvYO6T7DnutO8q7ODqquYh4tXm+elR7JLvlO/N7DfsP/BF8ZjtIuv+5/TjYOfc6RrngOUH4CTesOJ65s7oqun+6Q/mz+dY7D/puOgY5rbivuCx4mjlhOEF4Ync89jS3VbiReX/5unntOS45Ynry+tZ6vDnleTd4+vmw+c75FjhLN5D2ifeReOc5I7q4Olj5/vrkvFo9Fjx9e4t7f3q0+6h773rXeuD6CfnPOyU8AvzSvVu9djyfPS0+bL62PcZ9fXxK+8U8snwnuxA6ivl3eOI6Ffu2u938Z3xjO6q8k/3FfaA9Cjyzu8u7dfvWvHO7EnqIeb35STtCvFP9L73hfUE9MP35PyD/V777vjI9mf1/fhA+h73APVG8G7wm/Y5+1788v7f/Xr9TQOyBssGYgRJAUT+Qv29AO8AWP1i+yH2y/UN/L7+VAJQBWYBoQAtBkYKzwm2B2oHBwNrAwMIXwXrAlEB2fwY/r0F9gjQC3cPYQ1SDP0RKhYgFTsRmg6aC/wKkg6FDKgKXAetAVoCFQcRC+8MhQ8aDmQLvxEFFfYTzhHRDqsM3gpXDwIOPwpGB3IAJwHWBgcJOw3gEAUNywu8EMoT5BOlEIkOcAo8CHEN3AqCCDQFbACRAqQHDA3XD1oUjRPdEOUYgB3tHEMbERfJE7sSjRcSFl0T5RC0CiYLQRGHFdMWRBpsGY4XJx1GIMwfvh3mGHAVPRK6FWMUMBD3Dt4IqwcADZwT9xa8GSUY1xUyG14fISDsHDwYzhNlD8gT9hOcEDkPWwgfB1gNTBOzFuwYphl1F14b9SEPIusfOhqiFikU2RbxGVMW3hICDo0KzA5uE/4U9hnWGaYWuhiuHpsdeBtBGO4SXhGkFM4WcxLfDwIK3QeHDPwQ6hIJF5wX5xRgGMUbqRxiGnUWbBRqEa8T/RUVEnIQygm1BeMJVw4uEBEUNxdoFHgVLRtpGvwZwBbnEQoRAw/pE2EPNwz+CiEDZAaRDEYO/A8qErERRBOeF4wYRhexEqcMowpmCbYMjgvEByME6/15/uQCHQcACUUNag1WDKARjhISEmgO4gfSBUYFTwgUCR8GHQMo/qX7XADKAyUGgAs1DKMLKhARE1cR4g10B2UFZwNSBosHlwMKAsv7W/ic+7v+agFfB8kIIAdPCcANJAt/CJ0Cuf7h/Vn+qwKM/Xz7zPb+8RjzjPb09yn8tgBW/vEBYAaEBk8Gu/+u+eX5uvrv/kH9bPqq9pDvVvCz9Sr2mfnY/hP+Sv+4A1QEZQNz/mL3JvZX9Kv4EffF8+XwA+ow6R/sp+/q8Uv3kPfd9S/6CPtN+YT38e8v7t7sFfD58SPtIew55hTl8uiS6xbu+/NK9oD0LPm9+jn65vjW8b3xA/Az8y/2V/Dq7xnpxeTz6ZHsEO8u9aj3L/ln/DP/xf+b+wb2Bvbw8+T22vmf9Hz0Zu3Z6n7utvD09EX7bf5C/P0BwQPMASEBhvlm+Gb3y/mU/R/4YfbR7z3siPBb8xb1sPot/BH6+v4XAYX/Pvvt9rv0L/Vl+Vf5ovV18Rrsk+tO77fz9PYP/RX/U/wXAcYBbP95/YT5wvem+O/9wfwR+UT2LO+L8P/0vvZz+yv/jP1G/v4B7gCE/n36mveW9nT4sPzA+AL13PE+7InuaPKw9Dj53v1a/N79rwFa/9f95PkR+Dv3XPs4/nr4sPc78W7ujPTk9wv7q/33/3H+WQHaA+wAVv1c+vb4qfcD/D/6jPU88krqH+q+72ryevXI+L/4v/Xf+Kf7BPnL9vjxRvHt8bf0jfMI7vbpZOOD5EXqWexu7qryOPKX8GD0s/UO9CDwrezM7LftnfH57Ynq6+e24JjjyOhO61/uXfHy8MzuN/J39Sr0e/FO7q3rjeuQ8Tfwg+pN6GzifuMB6Cnqbu3/77buC+1o8Sz0zfLG71/siOpB6njwtO/Q6zHry+X45RvqsOxo79zy8/PS8Xv1JPqB9i317PF+7wvvSfAC81Tuvutb5m7jp+jZ6wvvL/M69Yj0efRd+b36J/hk9ZrzPvFN82n3yfMs8xrvVuvI73X1HvlU/Oj+1v2w/CsB4ALqAccAD/27+7D7EgG5/zL8t/hd81/0rvgf/Pb9swB/AXf/3wB/Bg0H+gaLBMwC8QB+BK4GLALwAN36sPeM+jX++v/dA14GHgQhBPgILQtpCk0IhwZXA+sC4wdQBjYE7P9b+1n7TACZBWAHKgruCR4G1QnqDcUN+guyCJkITwVMCUgJfwVLBKb9FfyN/58EiwhIC9IL1QkHCU8OfxEzEbMOVAwxCU0J1A4rDR8KqARbAHABmwZACtcOzhMoEuYPnhLOFhEYRBfmE1ARpw5pEyoT8A7tCxoGrAO5B7YOwA+YFJ8W5hGIEaMV/xWvF7YUyhE2D+IMyhCWDW4KsQY/AgUA5wWWCcMMxxE/EesNIRCXFKETwRUdEsMQ4gx2Dn8QlAvsCWoECgA2AnkILQufEfwUuxFeDj0TlRTFFKgVtxCqDnULYQ+JDgEMFAoZBKIBnwUaC/UOnRPPFPMQRg/wE44UkxdhFfcSLw9JDXkRZg5lDbgHYgOBAUAGjAvPDagT7hLvDgEQuRPLFB0W3BJeEaANiA43EPkMAQw5BoQCiwFCCLwN2RBqFY0TlhAhFH4WSReLF/MTAxA+C0YOMg7gCgkJegMBAHgDmgkxDMoQcxQKD9IMwhA5ED8SEhAUDWkJUAirDLIKxwiOA3X+MfzS/2AFTwm9DSAM1AbDB2cLlQyGDPEH/AajAl0D9wX9AfD/3/p896D4yP/gBHkIagyxCbUG9QolDW0OPw0MCwEI7QSYCDEGUwNc/oL6tfmo/pEGqgk9DUsLmQYxCNQK1QszDDEJPwfnApkFZwXK/7P8yfh79UP4lgCCA/0GiAmyBS8EIAliCtYLSAlHCAYE9QOVB0YDfAET/Hj5ofpVARoExQeRCRsFBgXfCeMMfQ2aDCQJoQXIA+wH8ATXAf371fd2+8wBsQa1B1EK9QV4Aw4H2weSBoQFKQLl/ev9HABx/Xb5APQ87+Dx8fjc/KD+FwKO/sT9RQI5BPoCswD+/3n6IvyqAD/8TPgm8zfvz/JK+EL83gD5/9P6zPyhADsBSQFu/un6qfcq+ar5VPQM8R3rMOgd7nr0Z/g5/bH6l/Ve+NH72v24+kn4E/Y381z3H/dj8SvunuiD5zzv8vMT+bb8mfgW9yH7p/7U/+j8N/sM+fv48/y/+Nr2EfN47eDxzPla/sAA+AI//03/kQNsBoEGjwPCAd38av1vADL81/iO8w/wcfZ0/SMBvgQ/BOH/EwEbBWgFpAOCAFD9a/n1+Tz7q/U48Z3rzun18Cr3HvvH/rX9jvoE/4UDDQNvAKP+QPvj98T7SP1q+TH0eu3/7SH31Pup/7MDNwEBALIE7AcQCFQFRQO9AAn+jgJaAN/6m/U+73by+vhJ/QYDoAXbAg0DdQYVCnEIxgSmA87+Zv7oAcT93Phr857tXfLT+MH8IAMxBbIAQf/LBXEHhgT/AOD9v/nd+Rr9Ovfb8i3sl+Ye66bytfbP+4P/8fpU/DsCCgQKBLAAHf3a+QP8bQBr/Cj4U/Lr65PuD/eN+lH+jwF9/hX9UgEwA1ECcP5V+Sn4s/ef+4L3ofMq7tDmeurz8Nv1H/qc/q38+/ppAOECx/+N/Q/5VvYt9b73ifaW8AXtIOff50fvdPN++JT8Pvqb+ST9YgA7/xX9ePlB+HP1jPfC+PXzb+846FHo2O7R9eX5H/8s/yT/NgJABp0H/wWTA/b/AP8rApQEr/+Y+zv1KvJ291L9IwDCB6UKSgc6C+UNjA7oDYQIxQXGA8MDVAZuAQr9SPfz8C30xPlb/ckEtwl4CTMJ1wutDOUMoAeMA98DMALCCD8GAQFW+0HzE/NI+SP9PQIhCegHgQf9CdUK3Al1CJEDZwNwAaUDoQTN/fL3lvDj8H318vrRAI4GngchB0MLBwznCkwIGANKAzQDRgYABnMAbvpk8tvxyfYP/HEBAgpsCa8GUgvsCoUJSQfZA2oFfgQWCcMKjgUOAlb4GvmUAIcEjwqnEfoQgw9SFGwUrhMKESoOQg6oDjoT3hDRCTcDcfn7+agAKARCCfAPCA9fDioSUg/nD6IMZgegCOwGkQolCCYB9vuj8nLzB/qd/VcEJgznCskJLg2LC9IKQwYLAwYE3QM/CHUGtAFX+i/xl/PK+HT8igRbCqYIjAcrCxsIxAd7BlsBWgJOATkGOQWG/wv6RPH777338fzuAsULaQz6Cm0NJA24C1UMTQdACUIIUwtnDdMF2QAW+Az2tvtMAV4Gug4RD8sLnQ4uDlUMiQsSBrUHqgdwCPsKxQUzASH4pPQu+PX9QgSVDFAP3AvLDKYN5grKC4UGvQRqBSMDbAcvBNP/oPYf8Zvxm/ZN+64ChQqTB9AHHAteCf8J+wgxApoFRQIBBMgEkv9l+yDyle9V8tP4Zv5fBnAI9AXUBzMHhQZXCG0CUwPYAgoBUgUyAUT8yPRm7bLtsfM/90r+tQNKA3gBygOsAYoBnAAv+/H9b/vl/oL/Cvoc87LrCujQ7NHyzveS/1cAbv5p/tX/k/5tAbb8ffzV/Oj95AKu/U36qfIU7FTtiPLs9tv9AwEM/xv9n/5Q/Xb+7/wX94n3Iva6+nz3TfN+7v7lZeXX65fxmvZ4/Qv+R/vF/H//kP/QACv78/nZ+Hf8OP84+vL3UPD56jTvg/W8+AcAEAMTAez+MgHFANUARv5Q+4P6Vvq4/4n84/kB9JTtbe4K9A/4Mf2VAwcDQgHSA74D2ATZA5f/zv/N/UADrwJL/mb47u+d70T1Pvp6/jQElQLH/6kBZgE+/0D90Pnx+M72LvsC/L/3aPM+6jXoLu1u8uD0h/nf+qf2wPge/Kz5Qff09d70hvQn+kP7d/fb8nbqBuh27JTxg/Tz9/z35fT99S75GvoQ+W325PM+8+L4ivgY87Xuluc153vrWPEz9Q/4ovh19Un3B/sR+ib4TPcf86zxQ/ZC9MruJ+vX5KDkv+rL72DyO/WH9svzWvaD+fj5evc69oL14/VO+934//Xy8VXvC/Gx9fT7OP5/AMT+mfut/UMBUgAp/yT+wvt3/T0DjQBa/O/5rPVl+Bb/4QNtBvoJXAhSBrUJlQ1ODUsMZw1QCh8Low9hDUEJ+gUSAToC/wchC/MNexBoDTcIlgsoD+wMLwq3Cb0GZwY2C+sINgbtAn3/TAF5B1oLgQuEDXgLaQeCCPEKGApjBywHTgQmA1EJ4gU7Abr+Z/u7/S8CdwZWCH0JSQmrBwcIAAx3DO0KswuaCZoIew2nDIoIcgWlAKMCuAYNC84OMxDVEJgOaRDiE/ETexICEVIP4Q0eEpETGhBNDf0JOQuWENoS1hUPGEgWnRMPFGEXXBfcFuMUSRPXEPYT7hW3EU0QvwpCCIgLIxCPEf8RuxHADGYM5RCcEU0QJRCCDjULBw/JETUNuwqPBCsBvQVpCtkN3xBEEvAO5Q1bEm8S0BELETsPOwynDBoPSgtSCPYCdv7f/9sGVQrtCwUOxwmiBlYKXwwXC98K1QkVCXEItAwjC7AHhgTc/1sBGAUFCVkLvA1pC6AGagfpCPQHZwevBnwEzwLZBXAFXgJm/pD5Cfii/EACKQQkB1gGwAI8AkkGjgbHBo4GiAMcAf4CiwMw/2T9Lfl/9pb5GgDiASIEhgXfANkA/wMwBT8FeQVcBEgBiAORBVADGgKI/qr63vsOA+IF9QjPC38IwQS2BUMIsgh/CWEHBwbZBMcGdQfEBDwDmv82/SEBCQcOC68MYwt/CCYHSAnYCJkJOAmsBzkGygaTCOcFMAPk/w/7xfxcA/MEiwjJCKUDjwGlAxME8gXKBLQCcgMUAmkGuAVWA/sAwPyA+9ABNwbaCIAMbQqVBbcFLwn0BzkKhAegB8MFvwZ3CRIGxwVIAQ39a/4+BcQGEAqtC9gGfQQeBzAHUgdYB+sEOATvArsGdwXcAm0Auvtb+cj+YATkBekJ0gfnAsECkwQ/BK0DvwGfAAP/xQB4AZv/bv69+R/1s/bj/BT+KQL9AsH9s/uv/Tz9y/yK/In60Po4+77+yPuw+Jj2MPHl8KD3wvqR/KMAy/0Y+xD7zvzo+4v7N/vP+Rz45/nY+/H4Z/Uc8N/tYfE39w76pf9S/yP6Evlz+jf7Nvpr+a343/dW+Nz7e/nG9if0RO948LT3Y/on/RD/SvvI+aP6QfxE+rH5RfmS9+z4dfsw+5b47vR68X7va/Tk+Fz5Hvwq+hH2Bfac9nj2E/gz9WP1Zfbs+Kb6Rvfq9TLxSO128VP3jPm//jX8Zfh/+BL5ofj49/H4c/fT9+P5Mv3s+u339PP+7//wrPWZ+VP8Rvyg95f2pfc19zH2H/aE9Yv19/VF+qT7m/jU9UbxZfGh98/7p/5uACL96/oL+5z7rvq++nD5FfnW+dz79P3P+gL4FfKn7xD2Jfow/M7/8P3F+Qr7ZPuo+h/6JfjV+Mv5f/1c/zr8lvgW84XwNfb9+zv+wgEj/6/8J/4Y/gT8Wfn29yD2ePlsAI8Ax/xX+HXxf/Bf9nD6kf8DBN4Arf7E/8T+qPtt+7P7ZvtbAAcGHwW3ADr4uPAM9Z/5v/5KBQoFDgHgAJ0ARv15+x36ovrS+w8C/APh/Vv4Ie9/7Hr0rfkV/r8Bf/4d/G/7zvjQ9evzEfXL9T77mgFK/or5ZfFY6+/xZfg7/t0ECwT3AYL/lftj9330sPQZ9kL6wP9JAHP5F/Hf52LpBfIi9z//aALp/TD7Gfjs8xj11/SG98b7sABOBfn/Z/k18Drs9vKa+Q4B8gYCBXwB2/9O/Hn6W/o++yX+IwJeB7sF+P3z9cDsIPCU9+D8tgY6CeUETwIN/3H6yfmo+Oj86QFxBgsLaAYP/p30Eu8i9qv/1QV0D3UOJQlKB48CYACE/7v+jwOLCOALHg5ICIEAOfei8mL69wGoCc0RNg4YCoYJ6QOAAd4BmQKTB3AKHA6XDzgJeQE2+bD2EP8mB70O4Bf1E/EMAAy1Bz8H2wgBBwwLRwzhDy8Tlg4pCKr/WPxnAkkLzg8oGM8YYhLNEckPyg11D8QNNRByEr4T7BlGF+QPJgn7ATEDigobDxwYzhpyF7UVgxQHEGgPZA2JDAoSKhP5GV0ZGRPKCYUAFAGnBiINGBe7GzUYCBciFDIO4gz+Cm8KTRBjEcwXBRiCDyUIWv0l/T8E/QniFKUZlhaaFLERtwsNCgEJKgceDPQNiBI5E5cMXwTp+xX7ZgLBCbUS8hmOF3IV2xI8D9QPWA9aD4oTZxX6Gt8bRRPVCmoA4v8qCJYNvhUnGioXRRSgELgM2QxAClQLoA1TDeYTKBGHCvQC3fgG+fYALAZkDo8U3BCsD3oNogpAC2MI3wc1C58MhxGiEKUKSgL1+dj71gGgBtgMihDFDbEL2gvLB6QHeQfIBG8GNQcFDZgNrwl2BDP7ifb2+/wBGgacC/gJFge0BtgFPgT5Arr+v//vAHcDVwbqAWz8v/Tl7jXw8vSn99n9u/82/WH9oPyx+Y76yfk5+OL6/vy+AE7/Fvq49L/tZ+wS8Xr1Mvvn/3kAFP12/BH7gvga+Lj2Q/dk9z37x/wq+TL19e4K7JTve/Pw99f75/3m+Zb2uPfd82fzkfKN8v7ya/QZ+Rj4GPXh8KLrP+qc7gPy9/Ud+zL7tfeu98r5HPi197v2rvVE9fv37frL90X0QvCv7C7t2PF99Jf2ZPko+Lv2KPi4+AL4kvZk9lH1EfXb+SD6sve49dTyee8E8lH2WfcW/Gr+Ev1b+xv8i/7j/Cr8gvwX+v/6rf6n/hf7gvkb9QvxN/Pe9tv5Nfyw/dP7Zvqh+439bvyb/LX7Ifqf+yL++P6F+/f5iPT08Zz2ivmN+9v+FgHh/sb9Sv8cAL/+K/xG++T4/vgK/7790fn+92TzyfKo9sP5Uvv9/bP+mPs7+8X8M/yU+iD51vjp9hj5gvzE+uv3TvP/7THtAvEL8w/2sPhA9w/00/PC9WL1efOA85zzP/Jl9UD2M/Mb8NjqEOZX6B7sWu7/8F3zwPJW7yfxOfHZ8NTu5+1P7P3sNPLr8Jvv7uve5rnkJuk/7NruWvJm8uTu5u3Q8MDvve5O64/rOuqE6zjuBuvv6HHkG+DB4MPjE+Za6d/rausF6OHp+OrL6vDpBehK6SrpiO127/vsEeuQ5Tri9eYW7Pnwp/Vs9gTzGPOM9TP0evTX8VLwWe8t82/38PWT9EvwROsV6bLttPA/9Pz4bvm19vz2hfiR+B/4dPUi9Mzzs/h6+jD5iveJ8QXtZO6G8Yb1ufgH/Cj7mviA+775JPue+Lz3PfpH+yoAUQBw/g37Dff19OP4zfzh/8QDBgTd/8L+o/5w/sv+o/sV+7P5K/0w/5P93PsE+aX1aPTT97r6Qf97Aaj/k/ys/vn9M/6A/pr6e/ni+Tv+2f4+/aT6m/Zq8tb0gfgc/KQArgCL/gr9sv9p/mj/m/3U+ov5rPm3/XX9I/xM+s32nPT2+J38+gAGBYsEFQC0/8QB7QGmBB4DqgMuBKgGlAiUByYG+gA0/Yz8rP8AA/QFhAjKB0oEFAYSBc4DBQToANYBgQAJA5AEOALW/9b7QPmM+m/9GAFNBVoGWgLA/m0BWv/AAHb/If4r/jD+0AHQAKkBMf8e/Fz6c/+8Au8EtgdHBzwDHwOQBoYGqAiBBaAFhQTGB5MJ/weZBnUDRgAqAYQGzwfiC9EMlgpGB5kLlQwbDFAMNgrWCrAK6w2NDjANuQoZBqUEMggmCfcMgg8NDogK1gv/DRMMUwv2CaAKJQtwD+cPLw4BDHsHZgYJC3wO2RBDE5gSVBC0EOQSghKvEs8QphECEkkVgBX4EqwSiA3oC5MPDBTsFGoVzxP+EFwSKxToEx4TDBJZEVES1BS/FHISvhDfCzcKvg7kEWASARLJEFAOHA9uEMYQyQ+dDpIOZA5OE9YSKhFuEGML7wp/D7wSwRLiE3wRSQ9ZEp4TmxK5ETMQsg6WEEQTbhH/DwYOtwq8DKkQuxHREoQRqw0MDbYOHBC8DlMNvQ3ICyMNwg/oDU4NAgrMB+UJPQ57EMMPiA96DFcNhw/lDhUNXwsyC4oLtw5PD6QMuAyBCb0HlgugDlIRbBCbDXYMAA9gEvQRvhAVEBUP3w+gEyETRRHuD6oNrRAVFAEXhRgWFwEWOxVlFwUZShfuFEITtxJvFXgY7BZGFKoRThDZEq8VeBbrFmgVgRNOFM4U3RT/E6wS9hBFECAVAhYTFFIUMxATEPUS1RPbFN8TWxGhDm0QJxKoEcQQ9g9GEZgS4xVeFIsROREIDzYQ/xKlFKUU0BJxD4APzREUEgEQFA4SDWQMsA/NEEMONAwVCbgGigoGDWsOJQ8eDJAKSwomDZILYAihB3wF0gVmCQoKvge/BXsBLwHtBG8GlgfOBzIEmgLmA6AEggO1AmYBuf8WAlgE5QIYAJv+lPle+ykAJQGMBKkDZACXAB8EkQNrA8EBz/+yADkDrQbFBCkEcgAa/b8A0gQNBl8H9QVQAuwCIQRTBfkBPgDu/3D/DQT8A74CVwGd/YT7//3fABsCtwTfAan+nwCjAaQA0/9J/zH+yf4lBC8EnwGxAMf7A/w+/icANwL0AiABW/4GAAwANAD3/XH8AfxU+xD/VP+R/Zz7ifd29YH51/uT/Y7/Qfz1+Vn83fuK+1v6yfbO9jn25/lR+lj3v/Rh8LbuZPIK9NP2NfkB9aDzYfPy8kjyxPJu8P/u4++e8kH0sfGm7o7pueYM65XthO8B80/w3+s27P3sd+vV6xrp0eg46NLriO0V66jqaOdL4hrjTuiT6Gbspuma5oXlM+am5innEeYf5GvlVueO6rbnVOh05v7ig+LD5gTpe+t37S/qA+g66TvqnenA6vHm6+Yo5mPpAuw56s3pWOWF4k7lp+cn6Qvt0+sn51bmf+fD5LflMuPv4nLjaePH507mR+WG443eotvI3qfftOH95Onj29+J4FHgTt/K4HzepeC+32XikOWn5aLmruMH36DddeAq4k3mBego5pHliObC5K3l3uSH4sHjg+Nv5xDoaOdx5iLjReC34vXmLenv7eXt7uhK6PnqoOnj66Drt+l66pDrZfCa8dbv9O9y7eTrNe+18XH09fUY9WDwD/Jf8tbxp/Ob8LvyovNV9n35VPp7+ur5UPbT9RD50fp7/kIBKf8h+23+/PxF/ZH+lPtB/IT9aQHgAmUCDAKKALH7sPyGAI8C6QeUCHwFfgTIBc4D7QSaA80BvAM5BjcM0gxuDQUMVAfRAnMFUAnbCm4P3Q/9DG0MWAzSCEEJ5gbJBisIQgwBEC8NiQzDCccEtgLpB7oIwgvyD9sLrAnIChQIeAaBBawDvAXWCGEOJg9iDLIKFwbpAQQGnQg0C+8N/wzHCpAKDQkFBe8GhwTvBFIHawvnDrsNFQs9B4YEJAZDCsULvA6rDGoJuQhDBx4FnAPLAHoBygMMCG0JwAZcBtUAofyV/UQCwQWZCUIKcwZaBr8E7QFyAXX+R//DAU0G8wgnBtwFowDe/HQABgRPBR8JjwcKBBoEzQKk/2b/Lf7h/OoBDgdOCb8F7gRwAKL8vQC1ArkFxQgOBXMC/QGPAFMAeP6K/XL9bgH/BMYF3gMfAaj78vd0/FT/hgL9A2UB3/7m/rL8wvl1+Bb3FvlD/P4ASAG3/Wn7v/bJ9RP7Mv49AgkEbf9s/8b/mfz5+0v78/mQ+qT/hATAAuMAIP049yH4/Pw9ACMDowJ2/+v9p/wD/FD8oPwr/Qn/GAQcCoAIWgYXBOn/ewF4BGsHTgy5DA8JkArXCHEGLgYbBf0FxQZSDOEOnwxtCXYDY/+yAzIJlwuiEXoQqA1pDrMMgQoHCZwIlAgkDLUQNRRMEYYNvAjHBN8KrQ6ZEpsW3BXkE7QSsBBgDgoN9AtBDj8RABfHFqgTABJZC0wJ8gzsEeYVKhnfFSwUbhTgEBgQ/A1/DuoQ6hUnGvAX+BQVEOUKUgwFEd4T+xjWGlsXFBbSFJATKBEiEF0QshF5FgIZghaEEH4KUwUgCcsMCRGOFhoUdhIWEUAO4wtDC/AJdgybEDEXNheZEugPSwm7CkoQLhWnGJkbARnAFowVAxFdEuIRdxHGFc8aBh7WG2UXpBJVDckPlBRzFr8anxnnE7gS4xA3DvMO6Q/tEQsVXRh6GcMVExLEDAwJUw35EIQUHhj5FJISsBLFD3oPPw+CDnAPYxLeFlwWxRJqDroJ1wgCDpwQhhVTGfMU9BEHEWgO0gxdDU4MmA0NENETOhKFDogLSAbhB1ENGBFLFMQVHBE/DzQOxQtsCy0K/gr0ChMOIhFYD4EMGAc4AjgDwQcCC1MOqg1GCVkIfwfeBTMGpQVABQsGVQtvDv0K3weWAyn/IAJ6CDILsQ7pDY0JSAhwB5YFKgZbBfMFcAf8CqsMTwi4BgQAUvxc/6EE6gcRCiUJuQLEA4kD5ACVAID+/v7Y/lsDWAYzA7wB5fw7+QL70P/mARoFsQQHACABAwLT/83/8v3b/CH+FgE/A4z/NP3N93TyRPNy9zX5gvzx/ZL4pPY594X08fX69aD0MfV29Qv6cPcZ9njzUO6m7dLxqvTG9gT6avbp8qLyxfB27lbuxuvM67Toletw7kTsaeyK6eblauZv7L/tMfCQ8Qjv5+to66bpBusn7QbrDOsN7CrxYfFs7xDuv+hG5R3njena64nvk/Hj7Y3rzutY6XPra+uy6ozqX+mk7dztwusR7a3qCuhR6dLtOfFk8/T0+vDg7s3v8+9V8GTwOu+k7xHwvfLo9Xf0OfVb8+Hw9fA39En2Kfh0+9z2CvNY81Xz7vSm9rnzM/Pl8eLzRvj29bD2fPMh7i/tju4K8WjzUvWn9KTwnPAG8pPwvfNf88/wMvBy8IfzNvR98x/z1u5n6gLsq++J8Q31IvjN87TwO/EF8CTxwfHC7zXvYu4N8RD1CvTn8ybx+OwM67Dri+/z8EHzdfOF7oDt3exX7Nnvxu+s7Sbt5+yY76Dxl+9W7/7s8Om166fv1/NO9nv5xPbn8p3zA/IX8orzAfE770jv0vBq9ar0ffNb8kjtJu0a7wHxo/PF9m34J/T58jzzAvMm9br0JPNp8abynPXa97P2Vfa1887wn/IA9Mj4aPuf/o79ivlG+3f7uvw0/9L8Zfr8+kX9lQKSAUUBkQIW/jT9KgAnA24GwQkeCqIGOwZ+CMgHegrDCKUFxgT0BVYMtwxrDHkLsgdPBDYFvgg5CvEL7Qx4CZMHiQjmB/4GNQVkBKoAPQH7BvEInAdfBisDnP+vAMMDJAbmCCoMqQgUBpIH+wf5B2cHfgUHAskDnwmZCbkHrQZiAzABlAGyBcQH+QmeC1kH+waRB90GcAhyBgkFmgNgBjEMugtuCiEIowSRAoUElAZuB1AJSgjLA/ME9wUrBdkFlQLi/xr+FgOqBl8FFAWdAsj+oP4GAdwCsgTmBi4GJwOABTkF1gVCA3oBAwHs/+IHggjYBy8JwAbABSoIDgywC1QMdw2uCAkJQwsRCnMIjQTdAqUAHAWOCaAGswWPAk39lP2Y/+sA7QFrAwcDrQDqA5AD7gH4/3H/IP27/hUGhgRzA6sBTv5Z+5P9Rf+NASYDUgJV/wP/pQIiAMj/iPwU+/T43v3VALb95v4V/Fb5nvr9/o3+1gDTAEj9mPst/bv9Pfy6+/T55fcD+30Ae/90/x3/nvs8+l79rv7G/74AeP7K+8r/uv81/5D/GvzM+4T8FwROA9EDcQSBAHz/BAHDA2cEhwZ6BWUD6gNFBsAE0QTJA8YCGwOCCPELNAtBDJcJYAcPB6cLMA3DDocPjAzxCyINJAtoCfgHKwbgBb4IGA0OC3wKvAfaBPsEVgZfCCwIqwiHBVcDfAaOBcQFDgVmBFMEygVgC1oHRQc9BuwA6QF2BPEFnAfHCLYFfgNQBd0GbwYvBgwFDQMMBUsLFgnTCj0M6QbtBr0IDQvYCSALVQgoBfQH8geeBQkDAgIwAB8EcgpZCc4IWwZEA1oECAarCYsKswqyCsgKzAssEB0N8QIjBMEEUwbwDSMRrwo8BdADVgH/AcMEyge7BwULBwxoCNQGxwE6ATgIGgwXD9YQQQupBWUENQPgBD8JFAt9DIoLAwopCjgFjADQAN8CUAg3DF8L6gYuAwUBT/8bAm0E0QZHB20G3gWFBfIE0v7L/Xn+MwGXB60H7QXdAZv9n/wr/SYArwO3A0IDlQG7AEn/6vgu95X2E/lEAZ4E1QLV/Xf4KPZg9vT64v5eAA0BGv84AIj7KPXN85bxT/mNAuwDkgE6/Mr3Yvca+jb/vAKgBAsGqAaVBi//ufx1+2T84wZTC/wJMQRG/d/5tPkr/hUFpQY0B3oIagfW/4P5Qvgj9oL+mAe7BygE3v0e+Mv2PvkFAKwBAQHdAMb/0Prv8tjw6uyk8PD3ivpj96vxiupg55LqVO5M9Ab1lvUH9VHzUu3s6Wzp7+fK8ML3p/jj9b7vieon6gTuv/J/9TX1i/Xh9L3waeyf6lboq+u/9Un4cPbg86LtTOoU66nvuvS+9mH1i/W49tzxfO0K7Bbso/Ck9873c/TW71/owuc66yDwDfXv9On0q/ZX9SzxDe8t78busPWE/J77mPq/9Dbvx+6T8Sb3hvq++W/3bPfH9S7y4O+l7rnuLvNi+4n8G/un+PryVvT19wj7yP4g/2D9Xfw7+9f4offF+GD4K/uHAvUDPgEf/zb7yfd/+iP+twDXA+gCYAHhAgQCagEeBHAFzwVXCpwPWA4GDAsJ3APkAowGIAnmC6QNZAm3BtEICAfoAs0BAQHx/5wDlwf5BEMD9/+J+mj7cv8lAXUC4QPJACH+Sf0e+zX5Sfgz+LL2x/qq/TH8LPv0983z+/Pw9x34a/u1+4z4sfXp9fz0FPO087XyPPMq98b7iPcJ95306e4F8APyJvNS9Lr0KPIw8G3xve9t7uTvLO6U7hvyfvZk9NPzwPFw7Q/xQvQH9nP29/Zl9HHyafT48lTytfKg8RLxqfVX+cf3Y/iV99L0HfY1+/37E/++/7L8iPzX/m4AZ/9MACb+Ov4NAgMI5QaCBTcGkgEMAT4D9QN+BdgG+wPYAAcE+wPOAGkBjP+C/4cA1AdLCXsHcwkhBkAD+gODB3wImQpBCmAI6QdMCDIGxQVxBGgDJQTeBkwMUglQCeQInwSRBnEJoQq2DSENewppB10JMwkECNYJOAieCIsIoQ2wDcgMcQ11C1gJVwr+C4MMzw0HDDkJcAZ4CcAHuAnRCawIawldCdYN6wyADjsOPgsyCt8L7gsQDLEN3AtVB2MI8gnCCI4KngbTBPYEfQcjCnQJIQvYCwgIlAcBCuwIyArxCysJvgTMBwgHZwUJB1sDZgK3AnEHMwlRCRcL/QjZBA4GhwdGB9QINwl2BU8BpwPsAuEEzQUHBTkEbAQrCTQLLgsODKsLEQi0CZ8LqAzdDGQMjQfCBp0IAAZLB+4DzQK0AKABEga0BuEGPweKBSgESwaXBYwGMQV/BR8ASf+WAeH+LwE1/cv8tPzC/7YDwwKbBQ4H5QKBAUgCnQD4/wQANP6X+tb8DfzG/Fn83vnq+P/4o/6dAI8B9AInAaH9yf9rAAMBNwE1AQz+kv2H/9n7M/5K+sH5d/nm/FMBSP9JAuwBif57/vAA+f4B/zz/lvwQ+X/72/m++Fj5hvdz9wf5sP8V/wYC0wLQAdgBFAPfBD4C8QFt/pz7df2h/GX70PzU+537T/4NBA8CKQLRBL4AqQDsAfUBwwHNAP39mf0NAA8BkQBvAaT/KgBMBioKAAqrCx8M9wgoCsULkAzWDNQMXArsC0sNhArOCjwI8AUcBpkM3A2iDLwOfAvGCcgJxQvYCZ8IiwZBBSsGzwNnA0MC7gFWAKwF9gweDd4OIhD7DPQL+g54DyQQgA/dDLgMuwxSC/ILkQw5C8gMrxHXFNwS+BIqEDwLNQ1XDeMPog8WDUIN8AqvCHgFjwa2BD4DgAlSDiAPAA7UDD4JAAjoC28NpQ3NDNMIJgeKBuADXAKsA0UDowUJDWERlhCHEAoQDAwfDQoQDBE4EsEP2AsEC80KLwhGBukHoAdpCgsSlBQUE5ISGxEkDUQOOxA4EfoRNxBMDocMnAs+CBUHPwd/BpMLYhEoEd8OgQ1JCrUIDAuRDmIRFBJlD9IMVguHBvoDMQInAs8DCAjjDNgLBQtmB7sCCAJ7BWQHjAhYCLsEUgOY/0j71fq3+Xb6i/56BLQJLgftBewEz/+9/zADHgUGCFQHCwJYAXIA9vxA/JH9l/8JAvwG4gvSCGkEdQFs/Ob9AQJlAwkGHwZuApIAXf5V+hD87vta/HD+DAS1CL4DggO+AKr8Iv2iAJ0C/QO/A2H+Kfyb+nb2zfZC+D/5q/4/AwAIDQZjBd4EoAA8Av8F1Ac8ChsKWwSTAhwATfy3/Gn8VvtE/ZkBZAYNBGMCXgCS+iD6H/zI/X3/rP/V+vz3gvZi8UfwHfK08Wn0Ffmm/Zz8jPov+jP1D/OF9aj3ovoH/IP4SvVn81nuveoz7OLrOO9F8nv3lfly9Qj2o/FN7+ny//RR93n4jPXB8BLwS+2P6ZXr1evS7v7xbPeg+ZH2x/Ve8sTvG/HQ85T1X/mm9oXxt/HB7qDqkezK65Hun/M794D6QviA+HX2C/Qm9fT3rvnS/B77NPZf9bryye+/76/w5vL3+OT+7QE//pb9FP6T+df7hf/1/08CUAKh/uf8UvnS9H71zPX69hr7DAGZA17+gP1Q/Dn3kvqz/Rn/4AF9AYj+Ef43/af5Lvwj/Ur/9wFUB9UJngYuB/gC3gDiAhUG4gZEByEGgwJaARP+p/oz/dv9jP12AkwGEQaJAogC4v5P+6P9Kv9kAS8Cqf8v/EX7Wvc/8+70c/YH9wj6LwD1AJ38i/yZ+jP4R/vy/Xj/BQDf/iP7Xfmt9gHyqvNW8z30gfiW/Ln9W/q3+b33N/T89ab46/nF/Ib7AfjR9vf07PC08VLy6/LO9Yz5s/2d+9D6+vjf9kr42Pqj+8/9aP3R+Pv13vU38yPwlPKd8Yr08fbX+an5U/ck987y9/K59KP1qPfz+Nb2FPTZ8tvynfAa8uzyS/Tm9uf5QPxm+EX6gPfA87n2nfiJ+Q37Vfvd98725/f19OHydvL88svzp/Yh+yn78PkW+cz3MvXj95P46vi/+in4t/Qn9K7yVO6L7y/ume7+7wn0Ffdn9C70l/IZ7qPtC/Ib8W3z4/Nv8Z7t5+xN69PnyOq66A7r1ez88BjziPBH8d/vWO0U7s/xQ/Lg8/HznfEc7xbvS+uY6pzsR+vs7MzwM/da+Ov2/PZ89PLxHfW39VX2Xfjr98P0xvKI89LwuvC18APxcPKm9tz6Nfo8+e/5b/ZQ9VX5Mfjh+Tr6qfcM9FjybPG97U7v0e5o76Tx6fVo+gL46/jk9/nzp/RW9vn2Q/gT+WD3hfLf8FbwK+3Z70DvIO+J8tj2zPqs9wf4C/lT9d32J/rC+hP9e/3n/O75p/nA+NT1Wfd89dP12vcy+yb+7/yJ/J/7afn7+s/9N/5YARADsP/0+//8DPsn+ev8zfzp/SQBFQaWCC0Hxgg4CAEFTgZsCW8LAg5QDhcNcwuHDCwJCwlZDIEKnQyrD/wTQhT4EeUREhDUDKcO/xAXEzEVORRtEbkPghCqCkMKXAtcCyANwg/BE/8TthLnEQoRLw/NErETthRRFcwTzQ9vDU0NyAnfCxcL6QqjC1UPLhOUEYYRmxA0DDIKmAy8DDIOMw2/CvAHvAhTB+wEsgbIBYMIlwqhD4QRRA8UEPEO+gsIDogQIxGAE7UQvQzWCp8KCAcICGAIVAc8CvkMfxIREUUQ2RCHDr4OPRI0FSsXkRgUFu4R6hFfDxMM8A4nDh0PixJDFyQX7BOCEwgQsAzMDRsPTQ6/DgQMvgi2BjgGuAEGAooD0wHeBQMJcgseCRkJrgnfBsUHsgoaC+8LegvyBukFZgWaAZABOwJlAQ0EiQe4CgYJiAbUBcwCZwIXBn8HgQhpBkYCOgA4/z397/pQ/d77uPxCAQgFJgQwArIDrACLAC4E0QV5BbYEPgLe/+kA6/+I/mL/rP73/w0FXgl+CDIJJAlLBa4FoAkLC18K4QlMBv8F3AUbAz4CUANKAusCyQhmC6IKGwlPCGAFxgWCCXoKZwuHCLAFngagBs0DUgQ+BkYGcglTDjgRlQ6JDyIOewrMDRMQEhEzEI0O9As/CzcKggeACEQJSwjfCvwQhBEPDv0NHQvOCX8N0w4qEBgOzAlwCA4JkAfMBesHgQdmBlMKqQ4LDWQJzAlACGUH/gonDfML5QjMB5kGyAZIBFUDIwaLA6gEFAkvCsUGSQYQB2IDgAQQB+UHkwZnBJ0CdAA8AGn+vv5RAHX/1wJVBvQDZAL2AnkAbwCnBNAGZAadBNABEwBzAPj+//3H/vD+F//NAtcEAADQ/qr9T/pr++7/ywFxAP/9/vsI/J37Z/rl+p38q/qI/TgC2ABm/x4AFf9e/tAAkwKEAlT+cPvT+UX5GfkV+eb5nPec95H7OPtE93/4A/jC9jX5hvvm+9L4rPbV9W/10fTn8771m/Qk82f2SPnS98H1p/dm9jX3P/mo+R74vPRd82jz1PM99Kz1r/Wm9cr1OfmA94n3bPjp+Cz5/fkE/T38vvqP5LvbueIJ4YjjluVv5wbnXeZK557oqOub7eXrB+wD7RTuIO4y8D/ylPLZ9Nz2m/bX9jP5Mfjr/N4CFQQ3BFgDcAM2BPQG/QoKDWEQhBL8E2EZqhV3GPMb1xnXHYceCSCzHrYeGxzoHFkhSyNSKgcymjNjLxUvJyxTLC4xNzOwNWU4jzTpLu8w2C8QMz9AJUZ4R6xEfkHdPPA43kP7RoNIs0wTR0w/CzzwPThBa00BV/pXw1NUTh5Kw0RETD9UU1UEWsxWr07eSAlIYUy0VcBicmceY9FadlXeUDJSVl2GYLNjCmVOXARTWU5wUlNZOWaQcbdwcGhaYAVbiVdKYKdp72w0ce9rtWCXV5BXXlx7ZcN0EnoqdnBromLRXe5cTmdXcONyt3Xwb85jwlyUX/djVm7LfCx+D3p9bRVmm2B+Yh5uGnbbelN5xHGcZB1fA2FQZ+1w5H7/f5t7UXPbaIBlOmUacJx3L31LeYByQWoIYYVmxmrAcZZ6G3pMdkpw7mpWaeprwHILdlZ3FXb/cOxs9GboappsDW7qcupuCnEkbKto7mwSa75qWHKzb2dtOWz8aNlpG2b6ZJdetmXFYulmq21EZg1oE2AuYDlhvF2wYE1hs1u5XeJY8lqPX+FcYGGBXQJdh1t0WVZaflrgWIpWsVaRVO9NLEwsT75Qh1OQVXZReU2USxBGZkcoSB1IfEtuSBhDEUCRODE1mzhUOGpBe0dORr9Bsjm+N281zTm8QSdDh0FiQA82US5OK04sejD1NhU/TTs0N34t4ihFJQEq7TGvNFY1SDCSLtki9h+eIN4kkCp5McY1mDBkLuMmdSOrIxopGy7SMeIv+im4JQ4dKh0oHsMiASizLXEzni2CK7YlxSF7JK4owC4iMjAxayrqJX8dZBx6HsshJihOKp4vpiuNJugiJh6/HUsiQimgLYkurCbOIPcapBYiG0Yd/CN9J9kpkitGJPQglhx3GxQfKiRAKS8rfiYAHpkX/BBME8YW+RmhHcMd8R8JGjgV5RIuEPASwxanG0kdGhwzFNEPlAqvCeUOXQ/xFasWTBkvGOQSaRDaDBoNGw/VFHAWdxcBEP4IqwXs/2AGHAgtC5UNqQzPDX0IogeQBU0EAQeLC5wPkxH0DvcI6wXNAZsFZAerCEoO1Qw7D6QN+wjtBn4DEgTSB5ILTg0ODIwDb/7/+cX5wPy0/b8BYwHQBMYDWwETAAf7ZvvB/w0ERgdDAzv+E/uL9IH2kffR++z/qQKHBQAAXf59+Uz49PvDAW4GFwFv/Ej8hfqx+Pv6z/tP/n4E6gcGBTEACfuf/PkAVghLDTQGHgbeA3796/vG/SMC6wgGEO8OkAhGApEBxgJ4CEAOsgrvDZAQ9QqbBgEF2QW+C0gS9xG0D/ALxQz3C2IQtBPWEEIVDxeuE/EOSw1WDSkVRhnDGRcXrBQ/FRgUVxlKGZYb7B9MHTwYCBaZFHYYxh3XHGYZzRWiFaEVhxpUGgIXhxtDHYoZJBg3FzsWEhqpGtQalxjfGEQazhf7GVMVOxa0GqoYNxeeFPwP4hATFjoVnhTGElQUyxP5FBsVLRL4Fz8a8BdEFhQUFBBiFCIWsxSHErgQCBOcEDETIhK9ENAW3xb6ERoQqgsjCgIQqxBvD4kMMAv9C8kK6gwEC8AKsQ/LDh4JnwRpAHj+gwNMBMUBq/6C+/L6Xvpo+4H5D/pj/vr9NPlY9h3zHvBp9Sz3RfTF8XfuJ+647f7tp+3k7AfvX/FE7mzpNebi4tnkT+gx56rlJOIE31bfwd7z4H/gfOHO5H3jY9/82qDYBdlC3pLfht9J3c/ZwdkD2u7cXd3r3KXdct5P3GfXudWf1YPZeN3M26PZPtcy1TzWqdgY2q3YMtnU23jae9Vg0YvQXs/e03TW0tJV0JLMTMx3zsHR2dMT1EHYbdnF1JXRns0EzeHPe9Vx18zTidG6zI7Nec8p03TWvdcW3nzdL9kr1rHUeNRg2TLf2N1x3KrXQ9QL1rjZGd2i3WLiZ+UJ4SfcEtgx1azXdt7m34fdbdoh1OnSl9TH1nra2tvm3zbfPdgG1AnRutA11PvZjNpV2DbV5c+PzsPPTtKX04XVQdh51EfMqsf4w3jFt8vCzMXLoMhJxPTBFsLbw7TFPsn7zHDNGsedwBC/b76OxCvKRcpqyB/DEr/dviDBmcN0xbTIccv5xu/Atb1CvCi/wMTexabEW8E2vCu8Zr0dwafDsMTGyAfIusK+wBe/MsBLx2DKIMk0x5nE0MOTxu7Iscppy9jODdGkzEDIrcRbxKzG9Mu6zG7LxMiRxGTG2sh/zTHQDdQn2cvW0tBMza3Lx87F1UnY89c61anRgtB/03bWRtf62A7boNzC1y7SXtBHzT7Ts9hL19bXo9Oaz8nOyM++0aLUd9ay2E7X/dBSzfvJesto0KjSstCwz5XN0cvCzRzQhtI606/Vd9h+1yjT2NCA0C7R99TX1j/VOdLczp7NWM6v0FPTDtWx1WbXM9ZQ0UvP5c8y0G/VHtgJ1obUKM92zyTQvdOA1lDXPdh42VnZ9dOT0xLT3dQy2HHbFNsJ2KvTG9Pb1efYZdvE3KjeS+Aa4H7bstll10jZE9yX3QHcPNmW1VLU+Na815rb2NtT29vcN9z81xDUptIL0xHX7Npp2eLYONQn0Y/S59X82lfc4d3330rhZNyG2OPV1NWz2KTe5N3Y263Y6dHZ05fWcNyk3m/gXuO85GzhYd2E3P3cAOFF5oLnfeWx4vrdy9814vflSepT7DPwz/JG8PHr6egu6ajrVvEx9NzwJO8R6vvpB+4q8Rn2dfY0+Jv8avkX9Vrz3/OI98X+QwGOAJX+mffk+OL68v1rAn0DFwb7B+UFxACv/cr9qP06A1oGYATSAj39y/yn/5YC9AYPCT4JQQ1cCyoHlAS1BIgH+QtED50NDA0mB8MGKwhjC9sPXRHKFF8YYRYIEbUO5Q1zEGAWMRlZFkoVfw+KDccP6RLUF0sZahtYH/MdXRlVFtAUeBebG5Aehh3iHfIYyBdpG/0eDySrJasnQivzK6ol1iJaIqUjwyktLZkrYiuuJpkk7yecKtAvDjLhMvE2PjehMpQvqixkLT8wrjWMNTIy6S4jLGYtoy06MYI1TTYBOfw69TQyMIQtJy2uMIs2cDaPNFoxYytcLZEvMzLTNBQ1+jbWORE22TFNMA0wxzE8N8I6hzg3N7Ux4i6XMdMzEDipOsI5ET4VPGY3+TNAMQAzwjVnOso4fjeZMpsv0TDcMYc1xjjgOUw7Ej5XOhs3TTapN/45jj9vQco/jT1KOQ07Cjx3P6JDnEQiRBlG9EQjP3c76DlrORk8+UB4Pl48bjUoMPwwmTClNM43UDfJNw85jTUXMtAtpC3LL1c05TWPMsYwYSiaJk4pvyt5L+AvfS+oMMgu5iptJ90kQiU9JpIqyClHKK8kcR0HHjog0yJWJRwlhiQMJvIjniBxHwAedSAdIysm7CSsITAcpBbuGdoafh6VIY8fsh8hIGodYBrwF7oWWhisGkgcIhoBGRsTfQ8QEY0SJBe6GXwZERuUG9UYEBjjFbsVOxdCG5QcjRnvFwISExCSE5gUuxhhGmQXXBi9F1IVXxLiEPcQgRAgFDAW6hJiEY4LbAnNDiMQjRNpFEMT4xPUExgSlQ7zC5gLfw3ID6URORGqDjEJUQhqCzQMGQ9WEDwPdA8bEAwPbgwrCnAJ6AnADSsQfg3bCwYHNASuBl8I9gnLCucINwoPDBoJGAgOBVME0wTdBVIItwaXBfcBVv0j/m0CygRQBxMHZwfGCQkIkAevBFoCIAKbAqIFrAOyAWH+Hvj390/6FfxP/eH8Mfvg+v76Jfjn9az0S/My9CL2SvcU94315fCh7gjxRfJ79Yr22fR89W/1lPP08abvt+9k8KLw+PMx8pfwmez15wLrX+xb73fxwO8/8IHwfe5X7sjsouyE8I/xxfOc8hTxRO//6UPr/exf7kTxgfDH7vjuPu4p7Pfpd+e15lPmHucw6D3mSeUX4dTeq+HP4PXi5+RJ40riKOMX4ovf8t723NnchN4t4FrfrN8g3gbaQtza3HLfh+Gn3/Dfkt8M31HcBdv92Q7aItsY3vDe2duf2rzWm9Yg2JPZf9xh3bnbpduf3Jjbt9r42lTcNNzB3kzhUeA54D/dldmp227etuD94V7iE+OB4jrh4+Es4cHf/ODC4mnlUOVZ5r/lGuJM4qvkBefS6Cjokeeo6GnpHeuX6z/rUuyW7f3vYfNc8wzz7PA77l/wuPKV88L1ofWu9GH1G/OT83fyNfME9gD2DvkU+Un3sPd59Wv03fhj+kn8FP1G/Kb+7/zp+1D7l/l++jP6lftq/aj8j/3Z+x35X/rk+u38Vv3E+0v8rvtD+077/vu9+s37cP3f/5ABHgAwAT3+5P0n/x8AKQSCBf8ERQZtBqUF+wSsAo0FfAgdCpYM6wsjDFQLZAgoCZcKSgzBDl8OTg+vELEPEg6uDbwO9A8AEf0T5RWIFK4VXBOxERMVDhRgFUcWmxR8FVcUaxQRFPISHxTgFLcXbRpRGhIa+xj1FXAWyxmuGd8a/Bs9G5UamxhTGUkYPhYQF1AXghnSGtcZaBmyFx0VaRW5FFkUMhUnEwEUEBTREa0Qww//D8cQfhIzFb0TOBN7FIgQ7hDwEUIReBO6ElAShBO+ERoPMA1YC6kL9gy1DiUPBw5zDmgL/AdbCYUJVgoYC8YLAQ17CioJcAiPBxgIgQpVDccNOg1pDUsL9AetCVAJrgpJDLIKpwtKC8EIBQb4BNQEKgdqCDoJzgbxBCMDI/44/woAugG/At8CugK5AHL+lvx+/P77R/4uAOoBGwEG/2L+TvqO+q375vxQAUMAgQCzAIb8xfoO+sb6ev3w/jEA4/4Z/a377Pa+98r4+/lg/C78gf2e+tb36/ZY9dz1PPiC+1j9O/uF+hH5j/XV9Ub2LPeX+KD4HfjV98f0CPIs8oXyo/Q69jT3c/d199b2NvPw8jf0JfSr9c31AfZK9SjxE+6U7fntvPBg8mjzv/IJ8GvuhOkC6kfsd+z77l/vi++a7R3pnOdR5yXnSutU7ifv5O5Y7yXuMeg66SPre+q77THvl+9X7i7ruOj95wPo9ur672vxjvCp7VHst+aE5aXoGef56oXrTuus6mfnRuZV5TzmVOoE8ArymvLA8f7wpe647Lnvo/AC8gj1FvSp8hHw8Otn65/r7u3m8EX0W/XX8m7x2+837EXrPO6y7prw8e+C71TuhepQ6ZbpkesD7oPytvRl9e3ztvLf7y/tq+8U8GPx1/R19K/xsO6K6lLpdOj96rfu8PH69aH1fvQt84rxAvEi9E30ffZM+aH44Pd189zx0e8b8PvyaPWU+Gz5PfcN9l72XPP18cTyt/LR9Cf3+vV39Bjy4+7K7R/uRvJS9/z3z/nd92L2ovfB9Tr1BveQ+Sn6j/0H/SX8Xfnn88ry0/Kb9tz5X/yX/1H/FP2V/hr9z/uC+pv6mPoS/Hv/gfte+0b2SvI58Tnwg/XC92P7uv1t+1/7DPwQ+nf5e/rp+tb6Of/q/wf9dfmk9OH0yvJY9ub7rf3LAfcBYf+n/zf9IPwn/A/8Bv7m/gMDvgB3/mz6z/c++JT31P1jAKcDaQaZA7IDUgSqAbsAjf9yAkMCewXGCF8F8AJ9/br9LPwrAG0DsQVeCb8IzghuB4wFCwXiBSYFfAgpC64NDgzSCDAF6QPCAvcFhAoDCxMRPw+ZD4EO9wtVC3sJfgtNDkMSVxPjEX4N1wjVByQIWgvoD2sTgxYcFeEU/xF/DikOwgyJDVwRuRMcEg0RAgs5B/MFMgfECzANAxFPEDkP2Q0QCS0HpgfZCfIO1RIfERQPygjNBEUElwXeCWYN6xCfD/IOPwr2A5gDQwSvBrwKxgrMCHMEDf1W+eT4WvwfAQcGAQaHBO4DAv+A/Ib9BwCyBFQHvAZBBaAAG/0x/Ij9yACNB6sLWgmXCFAEkP+t/of/iAMECdUJjgrRCAoCPwAhAIsCkgedDt8OmA4FDo4G3QS6A9gGzAq9DYYO1Q2WCkMFwATbAwMG1Qq+DdQL7QwbCRsF4QReBUcKWA7TEaER5BHHDQ4KuwrbDFUPoRSRF2gWBBdVEkAONQ6YDz4RCBWaFY4UDBRREcAOtw5yEMYSNBgXGP0XYxjUFLAREhL8FKgVQRi7GWMYyhcTFt0S3RJWFG4U6Rj7HM0a4hpMGZ0V5xRqFV8WsRffG/QaEhpfGuIXBBdiFm0XQxlwHacfnx/RIM0eqR0oHfEdMSDcIpkl6iNIJAoiXh8cH88eSSDlITsm5CW7I5IjDCF9HnMdnh7sHpIf5x8iHdwcXBnAFtwVDRRdFVoWkhkMGYUW0RRlErgRqBGlEngTFBSbFBcSBxE/D4oNoQyVC3UNMg4GEeMPOw72Da4LOQtjCt4KNQvQC6QMNAokCUkIxwhaCHkG9wd9CEYMvAu/C/oL2QiiCQUJoQhPCbAK9gpCCqUJ2gjMCOAHRgZgB1AG2ghqCiAIxAg2B/cGQgZ6Bt8GVwhkCVwHPQYMBYEFQQVCBPkEygQSBswHLggyCEYFiAPSAgUB8ABzAcMCLAICApUAZ/1M/Tb6E/sz+sL6H/6y/KT9jPsb+4P6mfnK+jj86/06/bP8w/tS+l36Bfnr+fn5IPof/j79qv6W/Vj7lPtA+ZP5y/ql/ZH9Q/v3+9r6ePu4+Y/4W/rI+YP7XvrK+037d/h0+N/4Cfr0+RX8o/x8+4j5HfqC+fv2BPhk+Hf7OP0H/ZH+lvzX+wb8OPxC/DL+Bf5j/IL9xPnL+qz4jfdd+bz44fxW/Oj8+voO+YT4rfiP+/r7uf3X/Aj9Svsv+oX5IPgt+DT4X/zU+8f7wvpK+NL3J/cZ+On4nvnA+NT53vdY9kj1O/MB9Tz10fXb9nD3Gfbv83zyavNj9NH1vfhJ9h72OPVX8/fyg/Bh8Hrw/vPQ83jy2/KS73zuAO4g7wrv//B38V7wiPC/7oTviu1s7fjtHfAU8bPvOPGp7/PulO7A75HwVfKC83byRvOx8bHyTfOM8n/yYfOf9lD2hvcP92f0UvS99Mb1NPb39m/2yvcz+A73ivY59X70afUx+UP6p/ne+RT47/b/9h/3P/iP+hn7yfk8+3/6bPrb+jT5O/oS+9386PwZ/KD7jvrY+tT6Lfq++hf8jvoH+zT8kvtK+7j5jfn4+YP7l/s9+0L72/nQ+QP57PnO+bT52fkD+YL5K/kg+Ub3kfVE9HrzevXl9ZP1EPbC9IXzFPJV8fDxw/AU747t3u0D7wnu+OxR7QDt/+xL7p3uFu9L70fvKO/j7krua+077jTvm+7P7ubvju8S7y3uRe6+7rjvqu9T8NrxsvDF8O7v8e+C8ILwVfG68fTxXvPZ89byDPLH8GLwufJu87XzafZo9Xb1xvTG9SD2RPWr93n3afdO98b3qPbj9Yj14vZ7+Xz5EPpo+lD6/Plz+YL5OvkA+in7p/qC/KX81vw3/BT6WfuO+yX91/3h/C39b/4F/bP7ePwA+yn8V/wf+7X77PvI+9f65/od/PH7rfym/eb+w//F/+cAy/8ZAd4A8gHwA1oCgAIDAqkCCAGKAC4AwQBCA7YD6gPXAw8FrwPXAjIBewCUAtYChQTWA5ACTAOZAMUBSgOLAvgEyQQsBh8HIQcOCPMIiAiJCU4LjAnECh4JQAj+B6cFUgbwB3MJQApGC9MKbgudCnoKWQtJCvYL2QtpDMENWwwwDAILdAukDNoN9RB3EQUSGBJsEUIPzg7MD5IPORGAETUTrhIOE5IT6hEOEpkSfRUbFiYXxRZgFlsV0BNoFIITzxRQFdkTbxRvFPkRAxC3DbcMFw57EVIRvRAPEGINIQzGC0kMXwwgDm0M1Az2C4sLhQsGCJoHsAYeCLQInwjwB9gG4gXJBOoEhwRkBTEFZARfBrMGhgfCB50EywWRBmUH0wnfChAL5AnCCQQKgQrVCaYKbwroCSAMHAvfCtgItwdLCAMIrQm9CB0JJgrxCEwHPQdCB/0G6gYmBp4G2gZSBpsGPAReApIC/gHAA1YEMAQWBGACmQHVAd8A0gF/ARQBMAECAYgBYwFfAJT+jv9x/h0ClwPxAoADmwCkAekCegIkA4MDvQQkBioG+AYoBpsGCwQlBCkFRAabB9AHTgnMBo0GVQctCPoHnAijCUgJNAj9CW8JdggcCAMGzAVZBQQH4QZ1BwAHcgVIBC8ETgPGA+UDQgPXAlgBNwPoATUDBwJr/67/HACyAQsBsAHfAWIBOAF9AMj/egI7AugAw/+8/d7+Lf06/Pf5Pfgb+Jb3KPkl+fr4jPml96/2IPcF9hz3R/cF+LL4Dfm5+db4+vn3+Cz3z/hX+e35u/ok+uL6svjd+H357ffq96f46fjN9kP4HPfq9jX2sfNA9en0lfaP+Bz5NPpT+uT4I/ky+Gb4KvnM+Gv5Pfnp+mb53fmL+Yr39vc2+nf76vve/JL7w/zI+kb6vPmy+Rj6yPm3+Vj5E/t1+0D9M/wP/ED9O/9/ADYBTAFVAqkCSABMAXYBuQLaA0MEZAS9BMAE4gQpA34BEAG9AQ4FRQWMBTgFpAT7AwgDwgLQAqkCQQKxASQCNQCn/EP9wfqZ+Rn5a/hd+s36/vlL+Zn4HfaM9dH0n/US95P2L/ZX+An5qvgK+dv3Avh096X63/tX+4n6cfh/90v1ZvQJ9IrzpfMi8ybzw/PC8Tjx8u/u7U7uSPCc8bryuvI68X3v9O+G8PDv/PDc7/LvyO7F7snsp+qU6BHn9+ci6WHr0elM6uXowugj6B/npeeB55fpRun16D3pdOjO53Hm7+QY5Njke+fN5+7o8Oi354LnseYx6Brqfeq+65nsjOwr7d/sA+wi6y7rhuw375zv2fB+8Z/vJe+j7eHsdu2A7s7t4+077lbtQewV66Drrex57c7vdPFT8UXyD/FT8MTw5fEO8zz0N/Sq85b1cfQl9PDzyPOd9JH2U/gd95/38vYl9Cnz6/Tn9d72rfcl95L3Q/cP9pb1ofXw9QD2ZfgH+/T5wflj+K31OPY995L4hflW+WD5lPl3+vP5evmJ9xj3aPgp+t37pvox+zH5tvgf+iT6RvtM/Kz8hvup/Bv9fP1x/Xz7vPyM/RT++P1G/Ur9Bfyu/Bv+pv4x/+D/b//A/h3/a/6c/dL94vxJ/JD+ZwHJACsB/QDR//wABwBsAhwDFQIiA0oDuANoA0MCIAFIAbEB4ATvBk0GUAVQBHEDmgOSBbYG+wdbCIQJrQl/CZ4L7AgOCIIKfgs8Dl4P1w/gDWYMogu7Cj4MZw3LDqkNrQ7XDJ0MPQy8CMcJIgroDcUOqw9IDg0NOQ2mCkkM/gxyDWUO4Q7rDB8N2QpnCJkKkgq1DHYQIRA8D8kO2Az7C3ILYAz9DsUQFxC0EIIP3BCYD2sMMQ9WDj0Q0hJ8E9kSwRAvDpYN2w0DDzQRJRKuEgwRaxLnENoPOQ/OD5wTpBQPFiUVmhPoEfAQ0xBQEUITXBUHFZwUBhVKEw8SwRGVEecS0RXEFTIUBBNkEW0QZxDREToTrBSjFbESWBPlE9kRlxIcEloUvBb6FuAWYhYmFMwRThHdE1EUzxRWF7QW7hboFLUTJxNCEt4SExXnFnYWPxbMFA4TKRNVFMcUaxRVFXQVcxNdE1ES4w+RD7cP4g8IEkUSnBChD/4N2w3VDaANbw75DbcOtA7rDjMPcw4kDogMDw4vD/QQ2xEYEXIQ2w6wD0sPJw8gDzMNZw7MDQMNQw0fDDkLRwlWCmUKNAtFC34LpQvMCScKwAqDCVcJ4Ag0Cd0JkwkuC1IIBwkKCPUHaAhOCeYKQwlBC3sK8gp4CvAJ1gnDCJ4JEgq8CWYK1wnhCbcISgftBiQH+gdDBz0IaAeZBtgGcQVnBHgFfQREBqsFLgX8BQ8FjAWCA3gDwANoBssGJAf1BmwFngVsBuAEugRpBQoFFARMAUoDmwCEAaj/9f5dAAL/UwF7/8H/bf6M/Vf9AP3Q/Cj9tfzJ/bj8pfzs/cL71fog+db4zfeK+/n61vpV+7P5t/kA+Nj4OvmP+Tb5Q/nn+Or4uPg8+N/1Ofbe9a/2YPis9+r4Nfg3+Tr6BPri+YD5Zfkr+uP3TvkE+rH4KPjS9rT2ZfYP+GT3VPdl9frzn/S+8yXywfGU8Xry8fKA89Xz5fLY8ifyLPN288f0wfOG9Jf0UPSU9FDzNvUc9KzzTfSk89r0jPYS9vf1KPUE9Hf1xfaY9Wv2d/bp9Hr1g/ZR9gT2tfX29DP1DPUY9lj1dvU19UT01vSn9jP3pvWw9ZT0ufRR9N3zL/RW88HzafO/8x/06fL48pDxRfBh8QvzbPIx8mvyV/G18dTxu/Ci8GPwR/B27gXtZPCa8AzxR/Hg8MrwBvID8nDxKvM58iT0V/WY9U714/Sb9Tr1QfRq9df2XPYc9wn4qffu+AL6wvr1+lX5PfpQ+oL68fk0+XD5gfkZ+Un63/pK+vD5Rvk++tj6evuK+3v8Lv3E/cn94/+P///+uAAq/pv90P/R/gT/jf8G/u38tPxI/nr8Gv5x/cb8/v3t/Gz8K/3p/m7+qP6K/q3/oP4uAJX/mP7j/7T/7gCpAVUBGQK5AwUD+wOvAsYADf/7/VL9Ov0q+3L5dPmN+Cb7AfsV/MT8V/tc/LX9Kf7W/SX/if4z/IH9eP/x/0z/h/5B/qr9Mv9E/xb/Dv9M/tD+sP0M/qL+Tf6M/Xz8dv4+/9f9d/6p/oL9c/4Q/5D/+f8LAAYBIwH7AXgCJgL2AW0B9QDQAnEDtgFzAen/pv+zAXABhAAkAboALAB8ANgAWACs/7n+e/5o/23/WQBY/lb9Dv2u/MT+Av1H/Rf+/PxA/cb91P3E/Cz8wfpr+i78Cv40/X77/vq/+Zr7efxE/JL8D/zS+4n7uvyU+7r7ofot+lv7pfum/UX79vpe+iP5dvpu+XT6efsE+7b7xft0/TH+JvzJ/DL8Qf1wAC7/6P6Z/SP8+v2g/eP9CP4o/bP9IP4GAKn+K/38/en9Jf/b/2cBJgCA/+j+iv+9AXUANwKkArEBDgHKARoBAQDXABgA2v8BAboCewFbAXD//v20/33/EgDU/jr+eP10/Zv91Psq/bH81fsY/Vj/fv8H/yn/TP3b/cL9Hf6KAOr/qP4fAJ4Azf42/uP9y/yZ/fwAngPTArcCJgEVAO4DUgQ9BOIERgTpBA4FCgUBAyoC4QHcAO0B7wKaA7wDNwIzAC8A4f/3/90APADu/msAdAESAj8Bbv9IALj/rAN+BagEcgbuBRoFngbIBjEHPgnoCMcJkQqfCjsKXwrECK0GKgf8COYH2AWNBB4BPgApAfgBpwFhA7QDsQSaBbUE4QTOAyIEwwOBBsII+QldCaIItAmDCFoIygdyCKcH9wZcBkkFGANsAZ4Au/1S/CH9ev/4/vT93vsp+k77aPr5+Ub7Svt1/Oz8ev1v/Pb6FPuX+Xr6vfyM/gT+CP7w/HH8h/2T/kD/vAAQAfD+1/54/2L/DP3p/cr8vPz0/t3+3P7s/Dv8p/ul+yr9N/6t/qP9Hf57/kr+0P5A/uD+dP2f/dT/ggCgAAEAtv4W/k/+2gAgApoBwgJTAjoD5wNUBJ4CqAHaASUCCgW2BuwG7QUyBckDpwJIBI8EbQWnB+cFMwVYBnAIFgirB9cGeQQCBtIGyAamBU8ETAMxAioEhwSVA14FowQdBW8GgwezCL0ItAiYB74IAgxBDVsN0AwcCzgKOAqHDHAMUg6jDsANWQ13DOoN5AvDC08KGgn9CUgKYgqxCcAGMwX8BMYFqAVIBS0HKwXqBAcFTQQXA/EDRQNFAVsCFgNSA8wBZQDq/pP+HQHzAV0B5wEYAf0ACgAtANP/nv8A/rH9CwAnAEYCjAEwAd//Bf8cAD0AWAKJAy0C7AJaA3oBHQJvAd3/agBMAisDQwS1AmIBgAE6ASAEZgRkBCwFzQStBEEFgQV9BFkE7AT0BSoIeQmpCYEJGAdrBjYGogYxB44HiAgLB5YH/gcCCIIIFgftBYcG+AczCagJTQjfBYMFhQbEBrUGTQeLCPEHAgjcCAUIxwegBxcGjgZACLgIZwmwCaAHkAfZB2wI4QndCToM5gudDEsMfAopCugJWggxByUKMQlZCU8KQgnEBxYHUghKCQUKvAooC8sK9AmnCTgJtAn8CU8IRQq1CwwMLAwQC4kIxAekCGkJxAlMCdYJfgmRCtIJhQlgCUEJQgk+ClULVgo5C4YLWQrZCdMJOgoAC24KHgyzDKsLnQp/C+ULQgqtCQ8INAc0Bm8FawUGBKwCCQMpA38ESASEBDYEVQPNA2EDCQOIAvgDywJrAgQC1gDlAMX/5f6b/Tf+g/9s/zf+KP6E/dP8w/w+/Sj95/r0+776gfre+9367/sr+jr6Svv3+/n+Nv4X/2n+AvyA/Ob7Xfxl/Bb9l/vk+l38nfu/+zX7bPqz+u36W/0p/lT78vvE+6j7kvz6+8b8XP7W/V/7rvuW+xz62fqE+g76DvoV+339HPzm+3j7Pfni+Lz55/k4+o35OPdN+Pf2tvZI+I/2BfZm9dv39fkn+tz6Tfhk+N73+fbz95X5sPql+Cf4tPh++Fr2mffd9qv3APyH/Q7+SfoN+dz3HvgQ+dL4sPiS+GP4SPnI+Tz2dPZV9Rb3/Pig+EL3Xfa89JvxZPKH71Twdu8Y7wbvKO7D7G3qhOuh6SXtlu9o8RvzePJR8sjxZPPN8wrzCvOH8xnzZPO98N/vKvDQ8Znz3vJ68kTwOvG4703wh/LS8vLyhvIF8/HzevRH8hHzRPVk+Mb5kfnm+Jr4uPeK9pz3zPfs9qT2/vYt9qv21PS59G/0RfbB+D34j/iI97r3Fvft9+P4gfs9/Of88Pyh/Dv9W/tY+sf5lfzF+5r7v/t4+p353/dg92z4//kV+WT6/flN+pL6OfmF+Wr5XPs5/PT6fPnl+DL4EfgM+cP4rfc5+Bv4ivZv93X2GfXB9HP0mvR29Tj2e/R086rymPIj8nHzlfV/9iL45Phu+Qj8DvuX+TT7h/ln/Bv+Qv39/Cz70fpP+tP6Q/wg/W/8M/2E/YX83P2u/FL7iPs6+/P9cP45/wD/xP6m//P/igCHAMgBtf/F/4v+q/56/wf7l/mS+X74svgC+c/4WPkb+eH4h/kF+xn8n/xD/YT9H/2w/fz9Iv67/L38tPyn/VUCjQGgAXQBrf/BAKcADgA6/9v9Xf6O/Xb9IP/p/i/+q/xZ/Iv8zP4+/07+XgD7AJYCfAMTBDUFxAM1A6gB6gDqATYDGgNNAmQCLQC0/10BlQJVAgwELgUsBR0HbgbqBu4HuwZDBv4FHgeSB5gH0wduBt0EFgNLBHkEGQXCBg0Gmgb2BWEFQgTTATABWP+G/Zf/jv/E//0Av/5q/ZP8If4hALYApgKaA0EEAgQHBI0DfwHjAesAbv+fALoAJgKjBDcDiAKqAVICwwXCBHwHWAlICWYLTQxwC3wIvAguCMwGvgaWBy8IrwpLCaMGIwdnBGoFHgWnBlcJVwdrCagJ4QijB74GcgYzAtoCFgNBA5IFZgU3A+YBiwIWA4ADPAUPCFAGAgjdCfMJcQnKBjsH3wR6AwgFBgUsB5kIiQYPBZ0CHwPXA1MD6QVeBkII6Qc3B3cH+QWNBtACsQB6AW8COwRDBFICjwERAPX/oQBpAJYErwRGBpEGIgegB4UEKgUyAisAXACPAWMDKAS/A/ECXwHb/1gCxAL9A0wFDgXmBTQFMgVuAvYBHwFY/rn/2AJ0Bd4FMAWHA4ECyQBEAmsCzwNiBokHnwh5COkHDgVIBt0CGv89AOYBMAKtAjYBIwAR/yX91gBhABQDmgPWAwIGXAa+BcICrgOWALn/ZAIuA/gEZAUvBP4DyAKEBTIF4QOyBuwFhAZVBoMHeQX7AyEDYgDIABECawQaBuMFtgTKA8kEwwbjBXIJhwmJCcgMxw1ZDXgLjgo/CDQJKQqfC2gMrQqDCBcHuwWTB5kIKgldCzILHwx7DWENgwoHCycIEQcZCucLOQ5NDQ0NCQwMCosLzguHC4EM5As1DAUM9Qy2C84KlQj+BS0InQlyCzYLCApACcEH8gkXCqkJyAwRDVAO3w5RDqEL/Qn2BysEkwUKBikHRgi2BS8FpwO0A1YGPAVdB/sF3QXPB7MH5QeIBcIDzP8CAEUBtQGLAwIDjgL+AR8C7QN0ApQErgY0BioHlwe2CFoHxgWqApsCCgONAyMGcgaIBZsFfQYSBwYIbwryCt8KVQuHC+gLxwjJB50DfwG6AvEDFwXnA1gCjf+EAIkCgwI6A9wDjwJ4A64FfAUPA44CuP8M/h0BpAIsBK4EdwTCA8QCMwWCBRUGmwfSBSgGHQZqBfYCgwFm/nX9Pf/D/7EBqAFmAMT9SP8VAsEBcQLyAlYCQgHqAjgDXAAUABT8Lvsg+0P7Ovw4+1D6BPje+FL5gfmG+U78Xvt6+6D8nvv1+qT4cfbt9ML22PeH+WD5rfgL9uv1Uvha+Jv6Zvv4+e/6V/vv+OH4z/YT8vPxrvN49Vr3B/a29Hjz0/Ts9XT2wvji+OT3D/gG+Kf1m/NF8q7yAPRh9Wb2vvYZ9KzxbvLv9nz5Lvm1+dD4Lfc09iT4B/e19vD1PPfa90f4jvnb9S/1R/MP9e34SPsj/MD5u/hm+Mf33vcD+JD3EvZN9K/ywPJV8qvwl/Hp8Mz1r/ld+av6RPhk9qX25fe1+Ln5Cvm+9yj3wPUP9Rf0uPSM9TH2XfnK+0D8VvzF+0j7BPw8/fn+dP1n/HD8N/qj+dX37fdQ+YH5g/0HAfwAEf8F/F/82fxQ/VP/zv4q/vb9bv3i/Jr6Uvq5+078qQHcBCYFQgOlAdoAtf/+AskDAAROAmwBeQEzAK/+6v5UAA0BigUyBnsGZgVZAzUDOwL2A7AFxAV7BAcEFwJsAEL/s//XANoBmQfFClwKQQloCCoHfwf/CHwJUgiXBdEDvQHU/+r89f0Z/o39ogLOA78BkQG4/5z8df0aAOcAv//P/S785fs1+8D4tffF9+/3IfyA/pz8DP6r/S37Ofpe+v37UPwC+yD5nfcc9g317PQh9fv0uPah+377A/ui/B38X/3e/Sj/jP/T/rf8UPpl+rH3X/e5+P74Fvh5+Qf+g/09/Qr9ZvpD+rz7SvuQ+8H7Gvhp9g33JfX187T0V/Xi9WT4QPxZ+/v8tvwN+hv8Jv29/gn+Nfwq+lX5Lfrt+eT5P/p6+YL4Nvxg/xT+8/6G/s/9JACfAjUEHQNeA4kBZwE/Ah8CMgTjA0UEogXHCAgM+Qv5CoMKvAndCXsLXwwzDFcL8AhwB0QGdAWuBPsFMgd/Bj4JLw3FDzgOYBCyDzgO+A+DD0YQLw9PD28MLQq7CqIKSwrACkQKqQmKCp0MFA29DQMQvg2XDRoOJw9NDpoN8AwtCVUIjQhGCMMHbAYWBl4HAQiyClMJVgkICocH1wclCW8J9wd6CO0FpAEnAPP/jv6x/zkAA/+r/1oA/AEOAGcAiQCP/kv/8ACgAEr+Qv4q/Jj5w/mV+YL5Ivo+++b8p/zk/dv/8/2R/+UAaf/0/z4BGAL+/w7+CvwK+l35cPvQ+5b7jvuf+aD6FfkN+nH5a/qy+tD5y/ue+vH68fgl+iv4sfY39xL43/kj+mP7yfk4+ib7jPtL+jH9s/0t/Oj86P0V/wT8bfs8+Xn29/Y3+E/4Bfq8+SL4Rfja+N/6Z/rS++/76vt2/mQAJgCD/4X/cv6U/Y7+bgGbAKMBkgG6AAsBkgFUA4UBdwIEApoBQwK2A0YD4f+g/tj8ofsd/LH9D/4aAKX+cf51/SD+Ff+D/XcBvv/4//kA4gHaAG//iv5v/Pr7o/tp/RH9Wf76+1v7FPs2/On8QP0R/xX9gf65/Zr/7P0T/Lf6Gfia+XT6kvvm/Mf9P/xf/MP89P5A/2cAogBKAOkBgwKYAmgBJQHE/YX9Q/8eATcBtAJoAJj/wgCEAN4CogAlBLgDegMmBKsFFQaSBWMFTwBRAeoB9QToBrEHkAb4BLkEdAZLB8UGHQo/CKwIOwrQC8MK9AmACRQFvwVqBxIIYgk1CW4HEwZGBgoIzwcTCUIKuwmjCpMMpA5DDvIMxgp7B/wG9winCEkLXQueCe8JnQmxC2wLlQzVDn4NCw5xD84OzA0rDBsKQQV9Bd8H6AYLCZoIvAaWBTcGDAhcBwQJOwraCSIKdwriChsJiwhIB7cFVgWrBRwH0gl3Cd0GwQVUBFIGJAaxB6kJ2wgNCbQJ3AvJC04MhgrDBgYG7QZICLwJcguOCZoGSQUKB5YH5QbuCf0IhQmACloKQwrgB18IbQQPAXgCFQOhBA4FyAKLAAwAhwCOAbsBNwTNBK4DwAMsA70DIAKoAfb+zfsL/bP+XP+YAaIBtv1F/P/6ovv/+1n+NQDd/sv+0/96AKn+Q/8N/Tz6SPvG+yn8h/5a/4z9Wvz2+pf8EP3L/8oCmQDK/5P/hAC1/pD8P/zu+Mz4q/mz+YT9g/12+6n6d/k0/Fj9OP6EAcwBpQIAAswC5wKe/5X/cfud+y3+IP5ZAUMBdf7t/OH7g/sX/Iz7rf7S/rr9Tf+2/8X/5f7M/ur7WvuJ/RH/oAEeAj7+tvyX+1H8df1G/VUBmQCQAUMDjgJ7Ad4ARf9y/GP9Bv+MARYDpgKYAKQAVwB2AZ8BvAF2BOsEUwVFBRQFZgLYAAL+w/y7/zcA8QGtA6EAR//g/ZP+VwDE/14DaAPKA1QELQS9AuECEgGU/pEBoAKTBF4F3QQxA8cChwHiAxkEAgW1BxAGSQchCDYG4gP0A+kAgwEiA0IEbQV0BL0C2////sIApQF7A8EFmwWhBVkFUAREAV0Bdv0T/cr+G//6AJD+ivyL+/H6R/tR/Gf78f0C/V38bv15++P5Pfet9Lr02/Zx9zP6BPpz90b2tvXF9nz29/YK+aT5ivng+o768flF+QP2DPeL+AD6b/vc+sP4y/b89834O/nP+ez7KPxw/Sr/Bf/p+8v4uPX09LP4IvkB+yD73/mn+VH5hfqb+p76qP4b/lT8yP1k+/n50/es9Hj08PXv9nX4Ifdo9Ezzo/Pf9b/2YPdC+OH20fV29h32v/Vd9fPy7fIM9CL0pvUg9FzzFvOk9SX4oPeJ+uH6svlD+Zv5BvqW+iz6t/bc9sH4sPeS+SX52vYr9873z/on+mb6RPty+Pb4+fli+NP3J/c09aT2jvek9vT3APYO9NX1efZM+J351Pmb+lf6BPsJ/Bv8Q/vk+OX2Afhm+Q357Ph+9zf26fWD9iD5r/dL+Ff5xfZG+A/4TPe89o30Q/OI8yb1a/SM9WD1TvIf847z9/Xn9J30+vYT9ln37vYK9gr0pfL77qHvNPIf8o/z5vL/8Rjys/Nn9Kz18vYU+pj50PlH+r34Qfju9W70aPTg9iz36vbk9gj1P/TS9VT3OvfR96f5zfeU+Cn5Pfj+9wT3C/Vp80j38fer+KD4EPh991342vos/E3+bgCO/4T/BQHM//4AvgHbAV0ArAMMBKkE2QcuBSgF6QWWCPAK+grJC/8LTwprCrIKdQnHCRoImwSpBVYFfARoBOIDJwIjAoUDAAS5BQ4FaAfsBtkGvwYXB2sGMQUdAyoAHgIXAPgAkgIfAigAnwGGA7QE4wWZBucI5AfgCOkJWwnSCP4HngTQBMoFQAREBYcI4AcmB4oKYQoKDTIP5g/PErQUZRXzFUEVMhTjEgUPsQ8eEaEONBCGEgUQdw9VEJAQxhIuFM4VbRVIFDsVjRQ6FNcTHRMmEEIRUBKrD30SNhJaEDwQxRBIEtsThxTPFWoXsRiBGW0awRqeGGEXIhJvEs0Stw/aEhQSiA86EFMPXBD2EZ8QdBLOEF4QthBHDxoPqQ33Co8H9giJBwMGaAhnB/ME5AUTB74IYAi3COAJZgmwC84Jpgk2CSgITgRVAfMDpgFgAjgEgQGj/6UC8AS/BgoIxQjSCQQK+ApmCusJ3ggsCBQEZwP4BTYEFQY8Bh8DPwVuBXUGqQiTBwUL2gm6CVYKJQn3CK0G/wT0AeIDPgOKAjcFAgWeA0YDlATcBeYGkwf8CB0JRwr9CcIJhwkAB8kDYAKsBPcDTwWXB6UEeASzBFYEYAZnBTgHYwk0CcoKxQtKCtYH6AVsAm0DOgNIAmEEewMHAsABigITBEgEHwXsBoAG4QZ8B+AHQwWsBDsCOQD2AVEAxgLZBK8CqwEhAnYCiATbAwYGIweRB1QJMgg9BgME/AH8/CX91PuP+nb8/Pxw+p/6h/w+/WX9uvxr/+D/vQDoAMX/Cv44/fj5Tfew9/P2RPbG+Zj5Hvde+Vz4xvoO+qn6V/xb+qb6p/me+DP3efbN8h/yn/RW9Nr0N/cR+Av3zvhd+Nr55foB+g/+NP0W/Uz9c/pi+m/3mfNx85r0Y/Pr9Nb3o/Xc9dT26Pc3+vT4uPu1/ET8Hv9n/pT++P1c/Nv5O/oT/Aj6n/vu+5H6yvui/AT+Ev8q/60AKAHLAAgCXwKLArQCHgD8/Rz/h/4D/3YBfwL/AX8CRgPXAssEuAXEB1kIJQgQCdkH9wb3BBgBs/0I/fn7iPtP/M/9Ifxp+1/8Avxt/rH9qP88AoIC9AMlAzACl/83+xb4YffT98D3fPh4+Hb23vUv9nD4ofkQ+VT6avqh+nL6Mfq6+TX5j/YQ9S33ofdh+Gf5ofqM+Aj5APpq+VL6J/pj/M/9Uv2Z/Mr70vk9+I/zdPHG8W3xU/EP8q3z8e9K8HvwDfKF9Eb1xPnH+q38ff2p/Wf9z/tF+ej12PfK9uP14ffM+VD4g/aV99H3Ofvu+yv9yv0d/i//T/6r/ML6wvhD9Uz3E/fX9cL48viE9in2H/WV9Dj4MPec+T37n/rQ/Lb6Gfpj90/0j/HJ8HDxvvCp8xb1UPPm8fPziPQj9dT1C/jo+fL5W/wG/K37Efoz+T73x/VY9ln2Qfhw+bT3rfaa96P2wfgr+Ob5jf25/bX+jf7E/rX9W/xC+Qj5jvqp+mT84P4q/X/8Mf4x/b8AJAPfA+EGTQhBCPEI3QclBvEDCgDm/wAAkf+PAHwCXwFw/qH+Df/2AMYBhwKsBJkETgQcBTgG5AQiAsH+qfu5+wH83fum/j79MPrX+gD6TPso/Vf+RwCeAcQBdAJ3Avz/P/6c+1f5DPqc+UH5hvsG+lr3cffi98X3APl2+iz8U/43/qr+BP2Y+8f4PPR58q/yYfMN9Bn39PVz9Nv1LPVK9kL4wvjT+o78Lv5D/kv9w/z9+Cb2F/XM9sj2nve9+6z6Vfhi+Fj3MPjt+k/8e/0r/Sz/wP23/Ez8X/ns9oX0VvYd9CT1/PfD9ObzY/Xf9a72A/jZ+K37ovuL+0r8ZPpP+Vz13vL08k30VfWH9X/4KvcN9pL3SPgy+vD79vzB/UL+H/9R/9L+dv3v+Gf16vV39wH3cfiU+dH3pffp93f51Ppq+oL7Af63/SP9t/07/Q788fcu96r45/jV+Nv5kfpP+JH5E/pX+zz9hv1d/1ABxQHZARsCzgB6/nr76/oJ/Kz95v1zALUAvf+1ANoAnAMmBAQHQQheCGUKoQoGCgMIOgUCAUQBPwPXAtwCjwPFAjIB9QBuAp0EJAUXB9sJUwuPCy8LMgpRCTQHmgNaAwwG8AaQB+8J8Ae5BtcHawi8CtQLXA3ID/gQNRGWEEMP2g7UDDoJ3Qk+CvgI0AoKDF8L+gpDCyAOQhCkEWgUjBRNFdkV+BYiFg0VBRPkD10RMxCTEUYSMBKHEKcOXhCVEuUReBEwFfATXxUYFlIUJxThEq0QmA4rDuMOXQ6zDX0NMAyHDPcNNw+4D2sRixK0E0QTYRMkElcQCg7cCvAINgguCscIZguLCbgGcQibCAwL7QpfDIQOIg8CEPgQGA8ODFYLPAgyBbYGfAbKBZUHwwWcBNUEbQXMBkYHYgr8C/IKTgyVDJ4KYwr4B6YEzALdA2wDBAIdBB8C/wJoBPQF+AWzBRIJLQrhCoAKygvUCXsJwwcFBP8CNQNrAoAB1AW6AiMCxgUeBiQHBwnyCWcKbwt4C2cMGQo9CrwIbQbOBVEGEQflBSQK7ggFB5wJuQj5CgIOAg6JEE4R3xGwE/kRQhFIEFQOZA38DXsOLgyyDvINsAuBD3wOqhBeEgUS8RInFD4VDRUrFcMU1xNaEVUQtA5lDx8NMA77D8kO4xD0EBYSdhP3FK8URxb9FZgVFhbwFdgUIRHkDfgLFA2FCfgJmAvnCNoJ7QrXCs0LxQv/CrMMXAvwCoULagp+CSEHiQW0A50EQgPj/3UBpAAzAG4BKwHWAacBrACNAS0CMAL/Ac4ALwDw/Nz5JvgA+PH2KvJN8uf0E/Ms88D0cPS99RX3+vmS+uH5Mfr2+o/6ifnt+D318PO58zTzH/AL8sXzy+/D8WfzRPQ09iT3ffeu97/31Pjz+XX5n/go+Dv3H/QX8rTxP/Cu8pTzj/Gy8yv0mvVY+Bj5yPhM+7H7GPti/S38Bfzm+VL4ufUq8kLznPGb8sT0tfEc8nzzRvOX9uj3UvfI+Aj4Qvce+Hr3x/be9Gb0jPIc74Dwm+7j7QjyvPCX7/nxVvO39d33A/gr+QD6XPnN+cn6y/qa+i37IPrz9uj11/QX8k71kPaE8zH1y/RD9Rj5IvuA+zr82Pvy+hP9G/3A/Nj7wfvW+JT0S/ZN9Pv1WvmD9Xv0MvZy9tT6Jv12/j8BOP/b/8UBdgJhAUcAu/96/GX4hfhs9rP2JPxP+tD4x/kF+7X9vP9g/wUB3ACK/8YAGwCM/+j93/zs+hr3y/VS80/zX/WY8uvyR/MH8uH0efdt9/750fni+BD8FfwV/BP64Pm490Hz+vPB8bHwrvIT8VPwkPBn7znzm/XA9Mv1nvUR9tn1o/Vl9OHzUvQ78hHw4/Cz8djxJvXd8nrykfIu8TTzY/Pr9In02fP/88zzR/IC8Vzwc+6M6nrpDuvI6srtje0W7HfsMOtN7grxDPIR8zfzhPTg9Z33mfcs+LX3wfTh89v0c/Xr90H4lvbI9l33H/uL+2b9XwBaAEgBUgJ2AlUAdv1u/T37zPc++sf3xPiY+9z4YfgY+ej7LPzH/KP+2/78/oIAyQIaAZP/aP6g+rb4xvrQ+hX8xv01+8n75vs3/3f/EP9IBPYCsAKRBFcFAwMaAYwAkvzL/VsAhwHCBMoCQwIWAisCdQZZBMgGKQnUBqIHHQhtCAUFwwUoA3j+3gCRAa8CwwPCAusALwASAoYDzwKVBsAGMQaTByYIlQdrBPIEngCpAEUCfAHCA3UEBwNHATgBcwP+A2kDQwVMA0QEzwT2A4wCVwCA/1j8kvob+yn8WP7Z/yX+d/2G/jcAe/8cAhYEDAN7BBsGAgboAl0CXgCk/Av82v6j/xIAOAD4/pr+LP+2AWMBLwUFBzwGxQdjCDMJNwc3BsgDHgFWAZ4DVgVzBhMGZQQRBJUE2AYZB3YJ7wqdCsoLtQvTDOgL6QlACd0FYQV/B00HvwimCLIHVwcVCGAKtwznDmEQwhAAEEcQ3xDxDrMNfA5UCH8GRgrqClEM9wrWCBUHuQb3BxYIlwgoCwsLlQudDaYO4A05DAELVQbyBQUJawt0DOANmwzRCAkI/gjICcwJdgw6DawMVA3RDR0MsQnICToGaANuBb8GMwj0CPwHrQXkBF0GrghRCdQKEgwYDI8Npg54D8AMHg5uDC0IjwlWCpAKdQxKDF4KOAosCsoMOAyJDskQbw5FD7kPGBBmDvYM5gx2CYcJ7gp+C+QNxgxDCwsJkQmvDLoM3w+SEoYRmxFAEjARoA0VDRgM5QdLCDsKHAoCC0oI7QWDBysI6AkbCoUL2Q0IDYcLxg1JDFAJnQlfBr0ErgbsCLUJEQtkCvsHLgYrCBAJXwndCowKQAqvCXsK8gfYB9MGOgMCBAoHpAaZBXwE/gImAkkD5ga+BfQIOgmwCKQJwAoUC3MI9QiWBc0FVwjfCYoKQAknB24GfgbPCN0Irgj1C80KpwqKC6oLMAmrBxEEzQGKBLsFdAaUBtUEvwGMAUkEGAV+BdIHmAePCC0IFQevBbQCywA+/9EBIwXYBW4FaQMBAV0A3wK5AxED/ASVBF4EfQPXArcA+P3c+7r64vsK/MP95vz2+tb3q/Vz9+f3tPYO+LH48Pef9474o/UG8h/yeu/D8OHymfPs9A/06fD67x/x4PK78k/0TvZH9aT1ffTT8jDxze/S61PrVOzv607sDOyf6hHpDers6+3rw+xx78jtsu4u7znuk+w06QPoy+cI6kzsguzN7G3qiejm6KPppevg63Lvfu+i7kTwgPCf74zt6+zt6sLrp+1L74Lwqe9V7wXv8+0f73XvF/Gl8rPx/vKu877y7fAp77/qnelP62fsSu3g7aHs8+l86YDq4+tM68ftHe+97xHx2/EQ8SDvdu5W7Frt0fC18frxu/Lg8ArxnvA085z1sPXe+Of4fPn2+FT4O/cF9vPz9PLx9iT4CPle+sL4Bfel9sn2OfhE+fD6ifz0/Ef9DPzl+g36UPlI9pP1IPhF+s/7ufts+ov4Cvic+RP8ffzg/mb/6f5LAOwAYP9+/MT6rPha+nD81P0K/1//Of3h/Fv9Bf/DALUB6AUaBpIGQAbBBZMDsQFrACv/1QHcA9oELgZBBYECgwMgBKgFKQjYC/kN+Q0MDhQOvA01DJgL3gjTCXYMew55EcYRaRAUD/UOJBEAEuwS4BY7F3gW1xZoFUcSqQ9mDAkJkwrrC24MgQ4kDTMKtwgwCcMKqQszDsUPRg9DDlwORA0pC6wKuweJB5kKuQkJCSQKiwdXBukGKQgQCIgHnQkYCWsJ6AkkCdoG6gVEA10ADANOBDsEAAdtB20EAQWdBRgINQhwCGILXwt1DLIKkgkXCaAHSwR5AbACJAK9AHkC2QFk/jn/EgDLACIBKQO9BOsCDQOOAmQANf+8/sz7uvpO/L/7OfuX/QD74/lT/PH87QBj/+v/cQL5ASIC2QHrAS4BrgBT/RT+XQBb/6oArgHZ/5f/T/9aAEEDhgK3AzAFmARqAxcE8gPXAXn/Fv6w/Or8NP0k/Y/++/ov+936Hv5H/yMArgPiAYoDlgLAAdr/BQBW/Mf6Ofzf+077R/uN/K/5APuc+1P/Wv+B/zYBNQA3ADQB7wGFAPYBx/5G/FP85f3C/BD9N/03+8b9+wDcA8cC7gOQBYwDyAKGAx4ChQL4AV3/rf4B/1b/Wv0S/vb+kgDbAhkGwQgDCGEKmQqGBzUHWwfwBpUFywJgAgsDpAKnAFv/kP5l/pcAoAJ6BXYF2wXBBtUEJAXmBAwFVwYsBR4CzwBqAYr+R/6j/qb8lv7x/1wDqwWGBg4IMwb0BbwGPwZECEYJ4QZTBdIEkwSvATIBLgDI/g8BSgUrCaQHnwjxCLIFAwSIBLoEdwTuA4oCIACA/RH9YPlZ+Vv6jPml/eUB9QHqAF8CPACK/kX/4wAzAhkBJgBl/2v95fzd+mD4Mvvk+k79yQJxBE0DfAMPA40ATwBiANECLQP/AXkA4f4+/oD8sPm0+df6vfs4AUUFCgXwA2QDigAiAEABnQAqAVIBiQC3/kP+fP0b/Gn7T/yD/S3/bAPyA7wCUgIY/3L9ev3v/Wz9F/11/HD56vim+JD2tvTu9S/2Zfb2+mn9lfsQ/Ov7Mvkd+qH6ivvK+2H62/kh+D/3Kvfg9PPzZfUE9if3O/y5/bP7Lv4Y/Hj7uvu2+tj7h/oC+2L51ve19lP0G/NI81Dz5/Kv9rD5zPjI+EH5M/dN9xf4t/fZ+H/5qviw9+P34/fc99v1H/bx9V71//mI/Fj8nfso/CH8Zvsq/Hb8mftv+5n6qPii9+H2MPY/9ez1xfXi9qv6UPyj+7v8Hf38+wj9kv3O/VL92PwB+9X5WPkc+QL4ZvdX+eT2BPeX+tb7pPoj+yj7lvmT+o369frA+on66vld+Gn6yvrz+VX7s/qm+qj79f/9AuwBRwQ9BTkEqQP7A6gDqAJ5AZ//Qf+8/p3/HACsAGcB5P9dAFMETwVGBSwHOQURBTAHhQmqCRUJ9QjRBokE+wM0BX4DPwQ8BGwCxQLpBGAFJQQEBoUGHwVXB2QJsAcmByIFCgTCAdsBoQKJAC8C7wFbAI3/6gA+AowCWwOcBIgDRwPiBK0CIgJCAWwABv6U/UwAWP/eAaQAof5k/xIBFQQMA9AEGgfgBhcHOQnDCa0IYwcwBxgGcgO5BSsH9QfwBswF8wVuBeoHLQc6CDwK1AhdCYkLHw26Cw0Ldgo7CF8G2QebCPAJlQvkCUQJxAnUDXwO8A68EScSohGOElIU3BN3EwwSaBAxDUoOAxAHEFoSNxESEIsPog/bECcREBJVE3cRoxFbE1ASaxBQDpIOpwvhCRoLOAsEDngM8QlzCRgJTAsKDAUOwBAfEHAQMxExECYR6w9iD+MNzQr2DWcOlhCmEi8Qwg64DX8PPBArEacUxRS5E94VQBZNFnkVvhROEmoNTw9qEaMS1RJBEEAPfw3mDeoOiw4pD5QOBA+GD98Ovg2GDPsLOQpsBrwFogatBuoIxwZBBZwEaQUNCEEHiAlHC3EJqgmDCkYJRgljCGsI9AVxA5gFgQZyCLsIeQfABFgDhgbvBlUIoAsSC5MLdAv3CjUKiwfICTcInQOXBZMGBwivCM4FAQTqABoCCwW5A8AFUAX8AsUEYQSLBMgDkAPKAu/9Zf7fAOwC5QRUBIYCh/8nAJcCYAK5A+4EMQNDBDoGrwUhBDkDYgQUAPr9YgDC/xwBAQCu/RX8hfor+xn7mvvw/KX7ivtc+/n6qfuh+dr5g/fd84T0SvXe9sf3HfbK9KnzhvVL+Kj3tfkL+dv3G/n/+E757/iT+NT3+fTJ8xX1HPXe94/2DvMb8iHyPPRf88D0Y/WD9Fr2vPZu9k32O/bk9QnymPAD8/DzePW89MfyyPBb8TvzA/IK85T0x/Ot8zj0H/QJ9Ozyc/Ox8KzuJPMq87jzOfPN8SzxNPAh8gTxRPMe9XrzU/Nw8xz1x/N48030WfD37n7xUPLA89nzHPHP8N/wYPM89Uj13PVr9KD0HfRl9DT0rvSq9FXwLPAX8hnzzPMA8VDvMO477nfwee/38PjyvPF28ULyzPNJ88Lxq/G57WXuv/A98Y3zLPIV8p7wYPKm9VL2DvhW+DP3dviC+kr7aftH+6X5ufaa+YD6Qvs+/Dr6SPnP+LL6z/uQ+1788for+Nz4kfks+Vr4FfjN9Kn0ZPhQ9w/3NfXN82XzdfQ/9jj1WfYN9in0JvWE9w33xfZ09ib0SPQM95P3w/Zl9DTz8PI+8pL1sPPF9Hb1iPQw9ob1hfbC9af27/OE8qP1evVC9eb1A/SP86v09vV39jP2ufYW9nD3l/dJ9yf2dPVR86nzT/V99HH0IfLM8D3wbfOx9JHzgvVN9SXz8vMm9MPyRPKI8UzwOPHk8lfyH/Jx8QXx0PBl9Kn0w/Rt9ubz6/MD9Q72s/Rj9L/zjvMN95n3LPaa9VX0FPMW9Tz4VPhn+cn4pvYc+Qj6evnP+P33wPa99uP5fvpB+dX4p/bX9UD48/gV+TD7rPob+VX6b/oE+yT53/aa9m/4Mftx+yP7rvqL+g/6ZP3Z/A/8svx7/CX92PxO/kn/ov+m/Cz8Lv62/+j+0P1k/OP7m/2K/kf+Nv8AAMj9av/x/8AABwDR/2X/ev+rAkQCSQJpAdL/0P5SADcCwQLYBLkE1QPoBSUFwATAA4oABwD+APICGgOmApkAsv3g/OP+dQBg//gASQH6ABQCfgK5A5oCLwFT/l//GwKUAdsBPgAIAJ7/VwGxAksBQAOCA5kCPQNaAoMBkwA0/h/8Bv0P/0P/DP+3/zX9k/tc/lD/hgC4AFAB4gGYAR0DQQIuANr/Dv/YAAMDcgNYA0ACBQIYALcBzgP8AyEFMQUlBJgEhAXABT0FBAR5AwgFvgjVCdAKNwoaCXQICgtMDA8MWw1CDB8MLQxyDY0L/gpeCvMHVglpC9wKIAoECh4IywbbBzYKIgmpCssLSgpuCQEJIAo7Cd0HRgXeBdkI6gh1CdMI/wYxBsYGTwlMCeYJVgsXCtgJSAs/CzMJ5Ah2BqAGoAkLCs8JbAl4COgGSgc8CnML8ArRDGIL2AvPDKALAgo7B40FiQQ1B4QIBQiLB8AF8wGXAcQDzgSCBCcGIQaCBEwGyAOLAyoC4//9/mIA4QKkAq0EGwKzACsBVAFhA0AEgAUGBpIFYwaTCPsHQQccB28FaAVwBxQIJAjYCFoFKAWpB0MJ6QoFC9ANBg1GC1YMJwzeCqgJvwfgBhkKmAu0C6gMrApZCasJMAsQDp0OTxCtEHIPKw+TEJoQaBAaEK0NPA/UEL0SkBJrEAIN4wxoDjwOUg/HD3kRkQ89DxcQWRBkDwgO+gtfCrIMVg36DSENRQzLC5gLtw3WD5AP7g9MD3ANAA7SDNcLmQqwCCwHxgf6B5gGlQe6BTQEIwU0BsIHXwglCdMJLwn/CAsJ6AfhByIHlgVvBVcHcwYZBqwGnwP3AqgFyQm8CTMJ3Qk0CqoJxgnmCS8JDQhhBlcGvwX1BegEswfYBcgE5QVfBkAKuwjwCK4H2Ac4CZEJGgmhCKMH/AVOB5EIpAe+BvgGxAXlBpwHdwmfCSoJUgo1CfwILQpQCyELlQjoBiUHswcuBwgFvgQ0AwAEhATyBYUHLwb4BpIH2QZjB0EJCwgmB+8EkwRBBfMEGwNFA/wELAL1A8IFrAfiB8wGpgiQBxcIdwiuBy0I+wZIBbkDkgRfA50BBwHf/gIAyACPAtsCNQL+A9QE8AI4A0UEkAKSAQoATv+l/5QAC/60/yAAEf6q/5cApANYBBIEKwRsBDwFKwSdA1YEJgPoAiUCygJvAXr/u/9X/bH8wf5MAaUBBwK4An4Dvv/0/ywBdQDyAOT9xPu++7X7wfe0+CD5s/kd+8X8owBg/0T/pADC/2IAVQK1AJ0AKQDW/uT/tgBo/uf+Y/8z/XP+xv5xApUDCgTyBTkGFQa1BMwE4QLFAgMBTAHEAqD/eP8+/zL9Vf4zAEABbwEbAQ4DawGzAYwCdAE0AXAAHwCcADgBcP4i/gv9sPu6/TEBdQP4AvkCUASpA9ICGgQUA/wBRQHb/2gA0QFA/v39Sf5n/VP/AQIgBsoEswbjBgUFxQS7BW4G0gSABDEB2gNaA9IBowKlAKcA6QK3BTwFXwU7BeIEqQM6BWgFsANSArX//P4h/8P9Ef2O/in+hf/BAVIEyQITBEAFUAOuBOYD3wS+A6kDbgPrArgCeAAQAVoAKf/fAHQDNQTpAw8FvwMBAQkB9ADGAFf/B/7Q/PP8Wv3V+zT6JfnV+Yz7qPw3+wD8Vf3J+Vn41/kE+QH5+/Up9Gn0wvRs9ZTzg/Jo8UnydfSC9kb0W/XQ9V7zkPRj9HfzJvBn70PuIu7H73jt0Ouv63vp1OlC7TLseOpP7UPtW+wb7Ubs9uxz6U/pSejC6L7rhuns6PXom+jF6NPt3+yM7VXvRe0I7vbuUu8c7yPtc+s/7avtl++z7Gftb+2B6y7vD/IF83zyLPQ58obyv/Pr8zjzYvE28WTx4/LR8qPxNPHv74juR/Du8ljxtPFC9Bjxh/Fq8x7zI/Ie8ZnxbvBq8svyg/DV7yvvme4X8MHze/K88jj2ofR99WX4zvdC99H1XPVc9Vb22vgW9vT2kvdz9q74sfqh+7774P6m/ab8tP6I/lP9cv1l/DT8UPz7/K79/fvz/AH8kvxE/gH/X/6EAAQBM/+KAfUCTQEGANYAIf+9/2oBYAHC/8T+MPwz+6r+wgDB/1r/WgCl/qf+rf9/AGT/Lf5c/Zr9sf+0AHD/l/4A//j9jP9GA4cDjgMVBtQD/ALfA6cB9AFgAnkARv9TAJYBr/9L/xj+nPpu/Av/QQDV/5cB6AK5AWMDEAXrAxsCLAIoATMBtgJiAg8C4gF0AH7/w/6FAcQBpgLhBaYC1AK1AoUCfAIPAH7/Wf6w/94B8QHCAdQAiQCWAdQCygOrAy0Hsgd8Bt8IXgicB8QGIwZbBPIDFQeLB/YGTQbHBLsCYgJEBloGTwaLCEYHHQfmCBwKOAk/CCcHXwYbBmYH4QhFCYsHDwUlBEEFYgifBwUK6QxhC2UMDA5WDc8MegvDCgAJZQqHDf4LxAwyC2MKvAjcCf8MXQwGD+kQ7Q6hD9gQHhDMEPkOJQ66CzcNhw7CDbAO4QtECu8JUAsKDSINQA4PEQ8PMQ9nEO4PMA+cDucNKgphDNwNqg3XDeIL/QnWCGYKiAtlC4wNUA5CDOwMNw4MDUEKewrNCvsHzgnyC9MMfA8RDXQLDgtAC6IMmwsuDTYOfA5QD+MPzA5dDTYOrguRCAAKogtQDAoM6wkSCCgGWwZ6B+8GuwfQCPAHKwc5CKAGqAXUBYoEmAOPA0sGlwVOBhIF5QCCAN0A+gJ8AkQDlwQ5AxgDowLUABkADf4g/TH6Mfl5/Zn8Fv7B/Y/7Kvpi+T/7gPsL/ej/KP9t/mgACf5D/J76Cfqx+Ov33PoA+xb9B/13+nf4jPdq+h/8a/yDAHkCeQLnBJYDJAOpATEBZgFD/n8CQQTwAt8DLgH//kf+HP6PAEMBewKZBCEDogP1A+EBDv4a/pj8x/oM//X/LAHKAcL/D/4q/XL/YQIqAqIDPQWiA8IE+wSrAzMDwwHIAAP/nwHbA1EDDwQ1AcL/4v56ANoC9QNOB28HmAaDBzIILgeABTIFyQLFAIkDfwQkBAADSAB3/vz8VP4+ABkB2AKVA/sDDAVABWoFkgQ7AyoCyQLuBesHoAguCP0GtwXEBvsIFQnnCsUMMwtoCh8KeQh9B2EGYwUzA+4DZAbMBrEG3AQDAwcBrwNuBhEHAQmeCrgJ1AjuCs0JCwj3Bh8FPgIhBO4F0QROBPgABf/U/J39Lf6c/Jv+UP5S+3v6j/gu9uXzhPF87yLvJ/H/8GTxCPD77WPtA+4b8HrwUfEf9DPy8+/G8XbvWe7O7kTsYujI6GbqgOiP6OzlOuJS47fmpejW56jp3OsG7OjrtOyz7HvrW+s26H/ox+u/6n3p4eky57DkqOWW6D3qvukf7Fjr7upB6tfmZeeA5hTk5OH146Hnx+Xb5THl9eNB4yTlA+ns6P7qouvn6kDrjOse66rrcevv6rDq4+uB7L7qW+rp58fmo+Ux6vzsLey77gLvhu047rXv3u4W8FfuXO0Y7snvC/Ak7xfvDe0W7lHwBvQe9jL0dPVh9KjyCPVg8/Pz7PKO8d3vgfAu8/zvv/H77/7tYvAL85X1/ffc+bD6ffr3+Kf6WPlh+Uz6Fvmt9zD3KPeQ9jz4nvd29uP3OfsT/+sAz/+uAuYDVgMuBawExQT+BAIF4AFeAkECBAHXAgcAGf55/0gClARjBqMHpgkvCNgFnAW8BPwEvQPZA+ICsQMGAzQClQSqAkECswKKBYEJEQqADHsNPArkC40L1An7Cd8HzgaYBYoHOgW8AycE4gFyAjQFKAjpCfsKMQyIDWAMIAw3DGALZwr3CnwIAwkUCVkFDAd1Be4D5wXMCM0JEAsVDO8Nggw6C0YNLguEC2sKnQjWBhYHWwURBXMGCQP/A4YFnAdNCjYLOQzuC34Kcgo8CaMJzwg2CDwH1gU/BkYB1QFAAKj9iP/2//IBWALWAnYEoQK5ABcBSABbAQsACv83/O/8OP24+V/7VfjP+UL7Gf24AH3/qQDEAdEABgEsAIL/igCa/wcAXv/Y//H9xv+bAPn9KgGvA6kG3AgJCu4JWQyvCggK/wnSCgsL4AeHB9AFXgffA9cE7AUgBKcH+gksDJgOfQ+/ELkTDBKCE4gSTRJSEp0R0hH0D9cQZg2KD7QOOQ38DTwPPBN5EyQVHxYIFsEU7BUHFO8SoxFvEZ8PbQ0GDwkMhA3AC0YJSQqVDLENCRAiEUEQeRG3D+kQbw8eD2wOUw01CwAK2QvPBqwHtwbyAqMEEgXdBeUIcQlTCrUKzAm2C5gI1wlgCQEIiwchB3AIXgQZBiYGLgU6BUIH0AmLCvQL2gtMDE8LtQuwC2sLQwvpCqQIWwk/ClEHYAclB9kFEQUOCFYLigwuDQkQeA8qDnwPTg0wDDYLoQsGCN0H9wciBXwHuQUABIMDNAQiBpgHiQhhCiIJZwjLCWcIFgm0BysHFQbQBTMIcAYyBtwFSgN6A+EEOgeWB2kHCgolCQIHQgiTBxAGaAX3BNgDrwHvAnoCCwNhAtv/HP96/60CoAMwBWkHqwd3BlsHeAfYBicG5QX4BTMDmgOYBOgDewTQA10COwLwAQIERQN/BEQHCwUCBp0GmgX2BPID5AKkAQkCagT9AzkFGAYYA70C0AISA5MC3gH0AgACSgDBAj4CJQBp/4f9/fw7+wj92/2P/IL9Jvsy+dv3EvgT+Zj51Pq2+gX7kPvT+3v6ofgW9lb2+fOg8vP1gvYD+PT2ifWN9PD19PYk9zz4tfph++n5Xvz7+tL6iflh9133HPR89cv3oPh/+kT4NPcC9mn26Pjq+YH8mv0n/dP9wv+w/0z/yP3k/ev8Vf2iAOAAVgMnAykBDQGAALABlQRPBe0HNwgWBjAIFQdsBsQFgwQ9A5n/FAFCAhcCsAIDALz+m/09/p8AlgBNAR4EqQREBN4ETATzBAcD2QKuANv+IQK4AnEDQAPMAZn/pf/H/2EBsgKIBNUFQgSuBAAE9QOSAiYBoP8I/Rv+Ff9R/8oABf5y+xz6HPti/SP8ePzN/Tj8aft9/K77b/o3+gP6i/bo9xr7Af3M/7r+e/tp+kH6E/x+/pD+gAG0/iv9av6v/e38bPrE+hD5Ivhj+QL5WPoj+kj4QPaG9O/0xfS59bT3A/it9kP3pfdZ9vz0JfWO8w7xMvOJ8x/1IfZ88wnypfCE8EHyIPL282T2uvRF9lH3nPUE9OPzW/M08TH0PvZM99/3b/Us9ODyy/Og9Hb1m/eT+X35C/mA+lP5X/eH9Qj0ifJ88xv1efUZ90z1BvPW8drxSfOC9Ev13vQg9Nzz6vTb8yzy2/Gf8DnuQfAL82bz2vTF81HyRPD08YX0bfSS9Zr24fXJ9YL3Yved9x33Ifcw9Vn3K/vd+v387fvP+tL5NPq3/OX8Lf9fAb4AhwFcAab/fv5J/an7lvku/LH9cv1o/qr6fPfC9175xPkO+un8PP0D/H38LP1V/Pz54/h293z1Ovlz+076QPto+Kr27Pg+/Kj8yPzzAAsBHf+OAMEA5f9p/6v/tP8D/3UCWwSJBLMEdQIpAQ0CwgM6BSwG+QcSB/8E8QZMBjkENQMGBL4A3gA1BMkENAZEA2cC/P+7AUUFjwTzBX8HnAbwBX4HMQZrBJgCFgEu//wA6QJ1ApgD7gB4/Y/9bgB6AHT/9QGWA4EC7AEtAgYCcgCh/5f+Ev7ZAWICgAILAn7/0/13/uUBkALlBOYGoAfXBkgHUwcmBvIF8QO9A+4CQQRHBEwE9AL7/0f+Cf8MAtkBWgKNBPAEXgM0BdEDIAOfAcD/QwA/ANACzQGiAasASAA0/3T/ogK2AQwDxwUfBOcCsQPuAqQCcAIEAfX/SANrAwoBngL2AosA4//JAksE9wRdBb8HgQZuBhwIKwVyBU4DnAE5AawCRgNcAnIC6P4Z/mD+YwDHAKcB0AP5BL8DuwKYA8wAIgHz/jP9vPzu/u7/A/9s/0n8ifyi/TcAWAEVArMDeQTMAm8EfwSJAu8Cw/9e/zT+pv8t/ln9SP37+pT7g/uq/WH80P7p/9f7e/xm+0D6N/q4+QX5jfhB+mn6R/kO+XT6/Pm2+n/9Tf1V/OD7dvyE+hH6gfzK/DX8Nful+z37ofpz+HX4e/ts+I751/mr+o36ivnG/S783vzG/Pb7Qftw+5L63vgj+oz5l/nW+df43vX/9Zf4bfvo+6z8k/9V/k/7yvya/Mj77/oh+k77Dvv6+//5GPrP91v3pvkK+xL9OPyj/r39/PvO/Gj7w/qC+mz5b/ni+NL53/j49zT3APUK9mL3mfnn+V36ePwP/Dn74ftZ+7P7cPpB+rb5LPml+s35qPsp+qn53Pov/eEAyQJzA1cFpQa6AzwEjAP8Ay8CgAFkAUX//QDc/TP97PyO++r7tf7aArkCpQNHBY4D5wFOAh8B2AECAwgDfAIuAukBRf4c/jT+dPzk/ET+NwJdA8sBFgKwAIX/IgA0/1T/fQA+AQMAgv5E/wP81PoL/Av6QPxBAN4C3AVuBRQGTgYzA4sEpwY7BskFjwWXBm0FUgM3A+oAHQEWAEkAcwIDAy8GNQeQB5sIVQjsBaMI8gjzB9MIQAg1CMkGXAeZBbgG6AVPAy0EzQWfB2EJ2wm8CC8JDwbxBoIIUAfsB0cHQQh5BocFhgSfAX8D0QF7AHUCXgLyA6AG3wRDA7gEEQPtA4sEDQW1BHUDLwMCAJEAHP9Z/l3/Nf3Y/sQAHAF6A0wGlgWlBQ8G5ASWBg0G8gavBisFWwYlBHAEIAPIAjwEvwHeAXoDAQUZB4MJRAjRCSwKCAmkC2kKJAuRCIkI4Qh2BqkGbQPbBKwFhwJjAeEBZQLbBGwGNwX1B2gINQcJCVMHPAehBqMGgwZlA1UE5wFAA7UFBQJRATsDsgKmA78GAgeTCKoIkQhTCm0JUgntCDQIwQkJCHAInwhzCIELIgntB9MIpgaWBxkLsQklCQgK9gd0CQ4J2gZXBkAEQwUPAQAAGADe/fACb//N/Wj+9/wAAEcCXwJABPwEZwTfCIcIoAlcCXIIuAqEB2oI0AhCCMMK0AnlCAYJlgkQC4QMpA1qD+sOLw5xEewQ1RArEDkQ0hB+DIMO/Q07DlMPoQtZDBsLggvgDX8NNA4vEAkNrw0NDyYNag1CCksM1goGCp8KOwmLDGkJLAdCB4QGIAinCAgJ5wvcCq0JWQwTDJ8MhAqECuwJkwYuCWAHzAeVCQ8G2gQmBNUEeQYAB1QIEQgbB/QISgiqCF0IdAe5B28EVQYABpEGogeHBL4EagI/A/YFgQa6Bx8IBwflB1EHggYwBXkDewQjAsQEpwV6BW0GoQNrAz0CEgP/BJIFYgYGBwkGLQd7B6wFBga4BbAE3gD0Ah0EQwMrBXsCvQHr/6X/LwIFA8oDYQTEAywEBASFBLcERgM7A9P+IwGOA3MBSQNJAQ7/f/yM++D8pfwu/Sf9A/za/H/9jP35/nr+Kv6N+9/7PP8xABgBRf5M/aD7jfvU/Zb+LACb/9T+A/9C/4b+oP5d/ub+0vsC/JT+6fu9/YD7Pvo++dT4Tvyt+9X9d/7w/Az9Gf30/OT9+fwE/dv5X/dj+f/3qvkO99X1ZPR68hH2zPVK9gb40vZW90f4P/eJ+Jr3XfpO9470HPon+Gr5MfiY9GXznPGj9BT05/Mq9t70BfU89Cj0dfUp9N30QPSg8JzzjfRa9Bv25vKQ8rbx9POd9uL2nPiq9wH3xPdQ+Dz5P/lJ+YD6TPd+95H3e/fp+eL3MPZA8xXz2fRp9BL2Ufax9Cn23fa895D4fPiq+Tf3yfjN+vH5rftW+Yr4dPY29kr5P/d1+OL43PbD9iX34fbG9kn3pvce9ib2v/jp+eL6B/lD9xv2lffd+pj6Pvtx/MP6l/po+wz7fPou+hT7jfdf9xT5OPnK+qH4xvc89jT3pfnA+E76kvvk+mj7ufzp/Yb+mf/yAAT+IP7c//n/HwHm/+j+e/22/g7/m/5uAE3/Pv7n/i7/BQBZ/xEAiP9M/GH/ZAFzA8UCKABVAJP+SP8i/97+eQChAMr+Yv5d/zD/Hv4R/6z8E/qX/dD9hv9F/3b9Pv3w+8X+TP+4ABYDdgLZA/kEiQXnBRQFlwR6AUsCCARyAz8FewIKAq0BawHlAioCGgMFAtsANAJMAikCawLjAtUB+P3n/+EA1wHKAQ7+IP6I/Fj+yP9R/1UAUf4i/XL/bP/l/vT+k/6Q/Kr5wvtc+1L8Xvsp+Qj4xfd5+tz5Bftx+V340fno+WT5FvkJ+Fv5qPfk9ln6Sfpd+1P4tvc19gX3T/lP+Dj6hfr1+Kf4Bfv5+yb8Kfsq+gb4zPpR/dX9df3G+kb7HfsM/8YAdAFlBLMCZAFSArACiQNbAmQC9v9T//0CPAJ8BWMEegIZAez/ZgMeA9MDPwSYA7EDUAR8BC0FPwfYBYIC0gSHBaoGmgfYA7wDxAKnBGwFVgTXBYoEewPnA48DoQIzAiYBOf/6/ej+ywJoAMT7Gvqi9g38L/91APgByf3P/FD88f1I/nr/MAB3AJEA+QHLBYUA3P6J/bj9ggSMBIAFeARQATkAIQCXAcAATAHHAGL+NP/5/3v/Qf2E+/f6ZvyVAMkAUQGSAVL/hP9uAMEAAQI4AsEAFABxAWMC6ALKAa3/AQDTAQkGQQVGBdAEkAIIBHMFhQYCBmwGgQMRA38FMwWLBAgCTQCfABMCmwQ8BJ0DlwMCAuoCfwQUBSkFpgROA9YC0AS5BCIDKALDACP/fv+xAggCOAJuAE799/2N/4sAtf/d/2P9M/7d/30BGAGY/qL9LfxpAP0BVwFDAm0AkP45/rj/AQH4AEYAsv7m/VT/BwAK/Qf7C/lc9176R/sb/Er95vqe+e35Z/t8+mb5Zfmf9lf3k/k3+tb5jPZC9EX0IfeI+Dz4ZvgZ9zn3Zfck+Yz4BfmU+W/3Tvok/Dj9ePzP+XX4yPhD+mr7uvut+5v69PiH+nL6Z/pw+vX53/mT+gP9Hv0W/Rz7Y/p0+oP9yf9U/l8BOv9I/1MCigPsBL8E3wQfA50ELwZcBwEIggVRBFYDhwXyB2IHAQlKCakJeQoWCsEKbAkTCY0IKAgkC98LxwsfClgIxAfHCCMM1Ar/C3wM8AlBCmgJ5An+CfUJgAmpB20J1AqhCzQMcgq+CRoI3AgkC6kLjg0mDJIKngueDG8N2gthDbkMSAsmDYUNnRBYDjML7Au+CvsKKQzlDMENLgxpCxENYA2+Dh8ORg5iDB0MlA+tDkURzg+qDO8LMgqiDAAN0wwXDJAKqgqdCUIJLgg/CEYIGQWoBkIHBgdCByAEbwU1BcYF6Ah5CTgKaQqECQwLrQwPDtYNQw0GDiwMqg57DTUPEQ/LCsoLYAq0C9gL9QxEDZEMxApaCi8LigqmC3ELhwqcCRAKxAjQCnkJEAd0BwYHzAqJCioLXQuqCXQK0AoKDI8LSgwXDAYJyAk5CiYKHwzjCX4JzwhnCXkLnwp/Da4LYQr9CnoM4QujCkYMLQpBCWkJ0QeJCMEJygVyBRAEQQcMCWIImwsLCTcKWQuJCyALWAsgC/cIbwoNC3gKXgsuCckHzwY3CfkMUQrwCzMM5wpxC+oJqAoDC00LtAooCFgKXwnRCfwKzAdCB78H3grLCj4KdQomCSUIYQlWCUEJIgqiCaUIAQc+CPYGBgeWBQ8EJASQA/oFmwWqBNoEVwMgA7sEhgNmBBUEwwK///3/7gFJ/6EBqf5S/tX+Y/67ANH/if/l/b789Pse/Kv6z/qE+tb3y/SP9W32U/Wp9ejywfKF8ZryJvXu86v0O/QT8pnyLPLi8r/0VPWz9eHze/Vv9cn0qPVr8/Lzk/X89pj5x/jm+W76C/lW+wz8Yv31/fb83Pr9+uD9V/7J/S79iPxi+6r73v3G/qH+8/7k/MD8nPxv/Lz95P0Y//b8Of4CAf/+df6A/H/65/qS/Wj/WP2//e77Efpy/Fn7pfuG/Pf70PqA+SX7Z/ki+Ib3r/UT9b/3s/vB+hn8u/pM+Ev5o/ns+rj6yfs9/LL74P34/TL7i/kR+tf5fP2Q/w/+twDU/Un8vPzl++P7pfy5/ZH7mPyT/eD7Oflp+cb4N/ob/2f+7vzA+k35wPmQ+Cr5DPhD9vj2PvRT9Gv0GvBg7zXv8u5+8dPxwvF78NPtJu0i69HrE+zq7Nnsuut27DzsDOuc6Nvpdue36LzsPe607ersK+z66BnsF+tZ7Jjsu+yV7bjrN+1e6hfqM+pv66Tta/Cm8UXxiPFk8Dnx6vCk8uXykvKY85nxuvMM843w+vF68O/x7PNv9DTzWfIt8Xzu2O697lLwI/BX8NHvD/DF8SPv1u+K8TzxVPSz9gv14/TY8tzya/NI8+D1H/WI9cL0I/Q69GLycfGU8JPwXfIs9a316/TM9EX07vLm88r25Pd291D3WPdV9kr3Ffc69XL1lfRE94z5FfqI+pb5+/k/97v5z/pE+tv7FPlI+Zj5pvlu+dr4J/jq9wT5pPy0/ZH9XP55/DD9nf2V/sz+T/8C//D9Ff72/sT9R/ws/LT5fvoT+8v7jvvl+yv7U/vZ/Cb9s/4D/en9rPx7/Bv/s/xx/JX8HvvY/GT8Z/2I/mH+Xf+o/K790f4s//z9yv1P/yf+YgD1AG4A7v+m/2H/JQHaBPwEgAVVBpAFdga+B18GOgaJBXkFUwS0A8UESQN1A3UBVgAZ/14A/QC5/kcAzP9KABYAhACJAOr/xP8a/4X+Ef6X/qr+tv9M/5P/IwHTA9kCpgKYAn0CbgPxAh0E1wJJBCkFmgVSBcYFVwV3BasF9wP7BHkGBQh9BWgGCAbVBJcF+wQBBQIDqgMGA7MBcATrA+8CzgIEAioBTAHSA/IEoAWhBkYHlgYOCEYILAh/BwIJJAcNBl0JhAavCToIGwcKBzgH5AqnCiYMNQytDLcMFA3bDaYOVw7qDYIMGQ7qDgENCA/FDCwL9gtcDa0Ptw+rD1ARphD9ECoS/BHSEUAQ/w9iDiUQQBBFDzkQzQ2VDYgNzg13D60OPRCIEvQPbBFpEdIQIxG2EJ0Rbg6gD+4PHxBgEDEO5w3sCwUOSw+zDikRMBAoD7wQXBAbEdsQHRFlEc8NCA8ND+YNCw+/DLULbwr2C9MNfQwvD5wPRg9XEP4PMhGnEL8R3BK4D6kQKhJkEoYTThEuEVQQiRG6FOESFRTCEyQRRBFPETURVQ90DjYOdQtPDMIMbwwyDrwMXQurC4oLtQzFDbcOdg+QDAEPYg/pDskP8Q3/DnILjAxJDfEMwA72CwMLFwrkCEYKRApjCs4LyAlTChsKeAmjCcgIgwj8A/kCdQM1BNYFRAPMAKn+Kf9tAEgAKgE1A3oBLQE3A2UB3AGjAfUCsACT/o3/cP26/1AAn/3/+gT6F/tP+6v5FPtt+pn5Ivta+Zb6uPie+K74EPU79wj4Evjs+KL3vfZG9Yr37Plc+gL9hPsk+lL7uvrL+SL6Ovv7+eb2N/lK+sb5Rvop9xf3uPYB+Zv5kfh++wf8C/xX/Fv8x/u4+2D74Pga+Mn5Bvny+dD4CPjg95v2CPpq+aL6XPyE+Qn6kPpU+4P6S/kB+8z34vd3+Vb5bfn/9sv3RPdY+SD8yPo5/R79IPug/Tn+wP68/XX9EvyR+1r+Kf09/Qv7yvh19pv2wPib90b4hvhN91H39fZo9t71cvWb9O3yb/bW9gr3G/ZE807zIPRT9w32Dfd89o315vW09ZT3m/X99TH1O/TA9TD1TfQf8sfwk+/d8hr3EfZj9rP0n/Mb9On0MfYQ92n3sfer+NT4u/hR9TP1afVe9/H7RvwF/R38ZPo1+kf7kvyd/Qb8x/xI/pv+O/9++5/7k/yN/3sE0QUQB9oH5we1BkoHUwjYCNwI5QhNCIYIVQdDBMYDzQK0A5AGcQdXB5sGFgPUAsQBzgBmApcBiwJwAioDkwJVAGT/z/+NARwGUQiHBZYGCwXXAuIC1QKDA2YDpgLjAQ8CWQB2/Z/7e/yW+9r7Yv5q/bj+7f3f+vn6dPw5/Lj7+Pv7+gj8svto/Ir6Pvkg+qj6/v1l/rj+EP6Q/Rz8zv1A/vH9TP8y/uX9Nf0Q/sD6pfl9+W74d/rE/On9wvzD/Qn+Pftk+3j8K/x8/Mv6Avr9+ib73Pjh+NP5DPm5+Xb8Y/2U/IX/hf+v/hr/1v6a/0v/l/4H/lb9qP2O/qf9WPzG/KD9ov84AegAxwGvAHH/jQBZAZcBuABdAcb/D/7s/0n+8/xJ/Kf75vrD/Hv//f31/ib+Kv1g/If8j/sx+kb6/fjF+Fn4avmC+Iz4qvdT+Ev61f1R//b+5QAK/60BFAFg/xf/2/7X/mn9YP5L/e77FPv0+ff3pfk2/Nz8Ivxy/Ef9Kvv4+5P7m/oJ+u/5p/lA+Sj60vfM9cb1KvbL9cL4s/q++TT7X/w4+9H7N/3p+xL9Qf3m/PD8fP2K/J763voQ+438NP/8AZMCWALUAqwCuAJbBNIDSwS/BGoEbAOnBfUGhQQvBl0DqwPLA5QEcAd5Br8HzQeZBisILQn9BloG8wWxBTID5wSQBGUB4gLSAJf/nAHWBFEF/AScB4gHmgd9CZUIBwnnBt4HIwe8BlcIRQXGBhUEfAQVBCkGzgiEBrgIrAcBB7MGDQb3A2wDTANyAZUA9wGoAEH/1/8E/pX+ff+sAXUBMwLtBLIDFAJ1A2UDGQIEAmABZP+y/mIAjP5P/x//nP23/aT+fgF0ATYB7wKRARcCywMhA0AEFwK0AlAA3AAKAvH/IAJm//n+sv3k/0YDxAEZBFsFGQKpA5IEpwORA+X/AAH7/s7+5/7I/C/8Mvlw+Yv4Xftl/mv+iADAAqsABgGIAqH/AQF7/yr/ev5d/rH/f/73/7f9x/wU/Pz7o/4yAO7/NwDp/Rn9hv9P/aD9bfzq/MX8x/qH/PD5Pfrd+Tr3A/g8+Oz63vuK/Db+9v0w/eT99f0j/pf/D/34/JP6R/wv/bP7w/47/MD8nvwE/n7/DwCDAZkCiQKbAscFRQQsBV4EZgUlBX0CCwSaAjgELgWYAnsBKQKUAjMFnQZPB08ImAZJCIQJzgdZCNIHmwenBn0EkgWAA3IEmQXPAiIDbQTLA3IFDgc1BuIHXQUnB6kJmgcTCIoFAQaTBUEEngSeAkcFegYrBL8DKwTyAwkHkQiYCNkL3AkkCjELMwnzCTYKiwj9CBEI4QYzBhwG6QlaCFYHEQjdBf4HJAvoCiwMigukCkoNWA0MDXMN2wyIDL8K0wlCCWQITwoaCeEGIgfZBcsGPAnKCMEJGglkBy8JngphCbkJTwg7B3gHqAX5BiEFHAerCCgFHQX8BLkEiwfDB2wHWwk+B14H9AifB8EGGwaJBIEFOANaA58CwQBNBGkC9QBxAi0CJgTjBycH+geyBy8GfwgbCfMHrAecBnAGwwO5At4DkQCAAzMEeQN9BCYDugTGBuQHDAj3BzIGuwVBBx8GcgfeBl8FswWTAyQFbgNMA9YGcASXBIQFtwMpCPsI7QfNCEcH/gaWB+IHTQbXBnQEaQQWAnwAkADO/ksBRv41/G79G/2z/nAA0/9DAFL/cv+7AJYCUgGKAPj/v/8V/5b7jvyt+Xz8Uf3P+Tb6x/lD+p/8zf07/Hf8wfqc+lT8fvw5/Lj6B/tm+y75iPlR+LD48/ll97P2/vdX+Ob6ev2I+9X7Efuf+fj5o/mk+Jz5NPir99T26PVM96P00PVI9gj1aPQ49OT15fit+FH4uPd19lD5zfgM+BD4v/Yf92/3+/W+96X10/XC9zj09PSn9Uv2xfhO+hL4avgS92D23vjb95D63Pov+pz7Dvse++76DvvO+lr5rfjc+OL6Zf1m/+7/0P7X/N/83/0b/Zr+FP9a/vv+2P7E/eD9Dfza+iX8xvrG+87+3QCEAekAn/8A/iv8XP3P/X39Qf/b/ML+/P4c/jv9TvrY+wD6gfob/On+UgLEAgwDwgI3AXUAAgPwAfIBSQKSAVcD7gHu/9L9Vv1u/8b96vwp/W/+4QEUAvUBfQJxAdgAkQEmAboBQgD7/of/ZP49/Q36sPmM+Ef3Z/mv+nr8y/1W/Z7+mf3F+5f+of1J/if+i/23/hr8QPx4+nX5ovqG+aH6bfzN/pEBJwCh/gL92/xw/rX91wAJAYsBSALNAIAC3f+W/lX9f/00AHAD1AV7BcsFNgXsBI8ErgbvBsoIzAm9CQoIRQYoB/oD7wTeBPAF+wZeCZEKPwhUCNYGEgUABEcEdwNdBKID3QMTAtoB1AJfAPwBLQEUATQD+gWAB0MHiwZ/B5UGAAbMBR8DNwM1AlsC8wAWAVb/dP4W/xD9if/l/44C/QGCADEBvP6f/tj9Cf17/Bz8v/uc+6P7rfzD+0L7+vt2+zT8GfwC/vr8tPyB/XT7+/zf/kX+ff5Y/kP+Jf5h/ID9hvtc/E77i/kf/PT7QP6g/Av9bf+Y/sz+q/9g/lD/iv1l/If9bfrg/Pb7F/vH+kj5GPnG+E76uvoC+3T7IPuQ+sT71fmV+E338ff3+Nn2yPf+9zD4u/bH9Wn2H/bO+Ef5l/jZ+gf6rPrq/F/8+fsW+0T7svvi+XT64fp++mv6z/k8+4j5ZfqA+l/5mfqy+B35ufqo+s/5kfmE+Kf40fYi9mP4Xvns+Vj4jPhF97n3YfmL+WX7FPye/Ej9/f14/un+uf4h/6L/A/+hAE8C2AKDAvoBWwKHAgAEDAWDBcAGZAecBugHYwgPB2sH6AWOB7sFqQPMBTUE/wTkA+kC7AIjArEDYwOVA9QEbwO+A2EFHQWCBZcDtQMbBJIBEgLWAtUDBQROAskApv8XATMCTAGwASMAF/+kAK8AYQDaAJAAMQH8AJz/2wH5AQoD/QIzAHv/jv5lAOEAsgFYA18BhgCWAbgAewC+AB0BlgFuACEAGQHYAE0AtP1D/Fn8+voI/jz9BP6u/X777v0X/j3+5P31/Gb8EP4q+mf79/yt+1T+mvom+h/5ffrH/HT7h/xH+8L6VPzu+0r8BP2u/FD9IPt6+pb89P0m/2j+W/uZ+uv5tvo//Cn7KPyx+rv69fvT/Br83PvM/Cz8jPxM/EP9HP40/wH9Jfwc/cn9DP+j/pL+h/5J/iP/0gDD/1kBQAHqAJkBHADgATwBcwGoALH+0P3E+y3+0f0V/qv/r/0v/Vn92fyc/Y8AzP9mALkA6gCNApYC5QMgAoEChQLsAfQCrQKOA5wCngFnAcsBOQFEAYcBUQEbAmMAOgHzACIBFALu/gz++f2//lb/Sf/d/9j+C/6//xcAaf7y/hr/2/82AHn+eP/bAPMB0QAB/2//RP9bACcAVQDuAL3/pwByAvgB+ADQAF8ABwBn/3cA/v9//7j/6/1L/jv+hf4p/+z/VAEiAgwBoAA3AskByAFiAHwAmwB0ADQCWAFhAcj/FP5g/Oz6MfxU+4D8bv0i+xv8Y/wI+zX8q/pI+xz87fu6/cD7z/0Z/ZL7PfuL+bn8r/wr/Pb9Gv7+/Iz+Jv28/Qv/8f1p/5X9HP/q/o/+Xf+b/sT/Av5i/o3+sf22/Zb8K/u2+0D8Gvz8/JH8Rf5c/Jv9ZP63/cb/FP5o/qj8lf74/VX+KP9i/DT9FP5Z/Wr8Rv2z/If9avyV/s79TvyR/HD7b/rx+qb9lvxK/eT8Q/12/aP/ZwHcAqECYANFAgsCLQSsASMC1f+KAUIBBQPBA+cBwwLsAK0BtgLKA6EEzwQcBNMDXwNpBD8F/wOKAV8CUwFYAyIEhAIRAysAXAEiAtAA6wBlARgAGQFPAOcAlQGsAQwBcQDYAJACxwS3AjEDbQHzAZwBrAEaA5MDGQTnA+AD5wRtBRQEywJmAbIBhgKPBIECNgNnA0wCEwN9A8kEfQRNBQUGnAUhBjIGdwVjBOACoQKAAgEFvwTVBEoFNQNsAlMChQL/AoEDlwSnBGcF9AaZBa4GcQUiBZkGvwjJCfsJMQqLCYQJvwkHC/sKQwyPDaUNOwz9DLsL3QuxCxoMLg0wDW0O+QzcDZMN9A0TDrIO6w75DRwNAw6qDfUNCA9CDQ8NCQxFDdoNKw4YDiMOLQ5SDPcLaA1HDv4Nrg6PD74N/A07D7QOtw3HDNkNSg1eEAkQzQ5LD6wOrg7iDYMOrw2IDrcOKQ7jDDYN2g1LDLwJvQiiCOYIMAmACDUJ4gYiBvQGVwfzBtIHtwjwCIAIIAiZCtgJKQj7BicGCgY9CDcJBAhIB1EFMAMSA4MEZAWWBYMGDgeDBWkHGgfCBSkFvgQFBrUGHAi5ByUHhwbsBf8E2AU6BW8FxgXPBbcEyANUBY0CaQPtAYcBkwKHAu8CRAH4ALj9/Pwz/vn8NP1l/27+M/6X/Uj97/3F/DL8H/un+uD7Q/1H/ET9Nvyq+uT5wPnA+pv69PnZ+nb72Ppn/eL7RP0i/PX5aPoO+pL7cvlb+nP58ves+DP5hvlx+ej5Xvlh94r4ufrO+AL3LfZh9nn2RPiW+AL5JvnJ+EL5ZfoP/Ej7Nfx1/Er7XPo+/L76xPmx+bH4gPtS+8X8e/2+/CX71vlz+rD7ivum/Dn/Fv8S/xr+cP8v/w3/p/4C/1sAMQGtAq8AEwHYAFz/3//2/pH/ov9M/TT9aPtb/Xb9xfzw/cL8pPzU/ckA6v5//3v/Y/+4/nj+uwDmAAAArv/8/xv/RAHRAWkAUf77/dv+cQG3AQcBcQGt/5H/VACJAF8BsgERAKEASgAVAbMBqwDn/+D8nP5YAkUAkAC5AKP+5/1j/Rn+8/0C/UH87vtX+yf9G/41+wH5nvi1+Ib63Pko+Sb5lvgF+BD3+fj6+a/7Nftc+vH6Svu7+3j5/fgP+dX5GP0o/LL8E/wR+jz5Lvgj+gP6Afru+Gb5TvjG+KP4GvZN9hv1NfV191z5vvek9nL1ZfYf9V/1DfcA9/v3CfcW+B34EfdY9TH1c/QB9Gn0sfS586PyXfN28fjxhvM+9Rr1ffVe9qjzmfQa9SzzUfLl8gTzcvNQ9SP13PM786Xyh/GG8cHxT/LN8TLysvHI8Lzxc+/y75Dvs+648L/xyvPW9Kv03POH8371Ifar9mT4mviv+I/4z/mb+YT5t/gS+Aj6K/sD/Uz9XPym+5r7lPvl/EL+OP8h/1cAc/8OAP0BlAFoAwMCLgOUAxYFRwXOBKcDggHYAc8B+wIFBLMEAgQMBdUBaAMXA6UC6gIWAdICUwMwBcIDvQa5BIEDTgRrBD0H6Qf8BxsItQn6B2gJEwhJCD8I7wZOB7AGAgj2BeIDYgS9Bg4GCAjOCJgJwAnjCEsL+QpfC9ILJg0fDMwMwgvmDOYNDQy+DUUMUQxCDUINDQ26DpgN1Q3SDVEN/g0ODdINZwxJDpoMnA2TEMcOLhBkEFIRBBGTD4oRchF/ELERew/VD5kPiw66D2oPEA/QDmsPiA1eDn4OXw0JDcQNSw1/DT8QsQ4WD6UNlg3qDDwMOw7fDNkNlw1vDTwOEQ2zC5QLLA2nDZANRg5QDhAOoQ2ADdUOxw+3EMsPqw9/D88NxQ67DsIO2A48DvEMJg1tDYUMEwzGCuEKGgsFCtwHowe0BWMDHATIAdD/vQAZ/zj+uf47/g8AQwCWAG0AZwCFAeT/2AHpAXcASQIDAhIB7ADdAiQDEwKzAUQCwwCi//gAaQAXAmgBjwFmAY8BpwLNAcEBmgDyAssE4AbKB2cI8AjFCasJoQnZC0ELQg2BDJcMvAtZDMgM+AoFDZ4JBgnPCB4IDwo3CNAHtAjtBiwHvwZgBf0GYgU/BHcFsAQaBJ4D4gMmA48CaAIPAlIFyAQlBIsDgQGxAlYBywDNAecAQgEYAc//+/8D/tL+1P0G/BL94v33AKX/X//n/jv9e/3W/OL7kvsd+nT4XfjK9kj3+vXb9QH1J/Q69nv1ive4+B/4jfmp+Yb4jfrd+kH7//v2+hj8EP2l/fz7K/1R/f36n/qq+tH7J/sP+7P7cfr8+Jn6pvpa/Gv9jPzu/Q77bvwm/Eb7Uvva+UL61/j3+j/8Rfzl+rT6AvoF+nH7TvoN+2r6s/lb+ID3+/c5+ML4rvha+Kf4bPhR+Q37cfpH+5z6+frf+xD7UvwQ+7b5XPkx+CL4mvmk+sT7UvqO+Ff5GPpF+7/69ftN/YH87vwi/oP9s/6z/h39uf2k/MH9g/6T/+T+7vuD+1j6hPtG++P5T/oD+Q/47/jI93z4CPnf9kP4zfVe9jL3W/iu+rL49PgF96r4iPgm+Mj5mfli+cj3s/mW+X74DfnV+Ej4EveX9zb5DvmZ+U74jPaw9sf0ePZc99v32fk3+UX5XvoE+2D6qPkS+hn76Pgr+OP48fj0+a/4g/ZW9qz0w/Vw95L2KPcC9tr1ZPVB9pX2+vX89a32SPWM9GP1fvWG98L34vWX9Kj1tPRB90/3I/aj9sv1uPem9y74NvcK+Pb4VPYP9o73gfgM+qD6afec9i30wfTi9jH1dve49jf24vV09t/29/Zy9zz4AvnC9/H40Phz+3b7zvjW+Kz4VfeG+Gf5FPk9+Vj3i/ih+Pj4wvlf+Rb6uvd79hn3Wfgh+jj7BPoA+Pj39PVr+I/4V/pu+i/4ovmR+Gz6cvmF+i/62/iO9nr2//U29kb5xfZu9vX1JPYJ+Bv6Wvo1++P6Q/mJ+bz50/m3+3H8Ev3A+xD8Wv0Q/F7/Ef+d/U/8k/oe+3H9W/0F/oX/yP7O/7YAnAC3ADsB8AH0/zj9CQBZ/2gBaQL0/0D/eP1I/h0AEANYAyAE3gEzAlsDIgG6AwEEcgSZAz4CEASuBD4FEQc0BUQFxQUwBCYI0wigCoQKmgk4C88KGgsnCyUL7wvXDCEKbQs6DDoN5A1jC+kKoQkSCs0LagxCDLwLgwsJDJcLUQtJDG4LxAoRCqUGjwdHB34JEwzrCHAIRAehBzYJoQqKCp4JGQjUCHkJfAg+CqUKWgvYCWwIZQmpCcsM9QzTCi0KLgn/CY8K0wvzCnUKEAoQCjYLWwu2CyQL0Qr8BvAGIQd0BpEIlgfQBckEYwMbBIkEMAOqBEkClAGxAQcBEAIgAKwAyP5r+5H8pvzl+7v8h/p9+Ov2kvSR98f3yvjZ+S33kPhx9wD4Sfhu+NX5E/gK+Yr6pfpa/Gj8MfrS+tz4aflb/Lf8x/0d/A/82/zD/Db+Vv9pAAgAkf9JAegBpQKwBAwEzQKvAskDsAY/BnUFRgaaBZwF0QbtB0oIlQhACEoHKQY5BV0F1weSBoAEqwTJA64GAwdICEII7AXDBYgFXAczB0IHAgYVBJsCVQR4A0YEvgR2AIkBfQCQAn0DxQOZBBkD4QFWApMDnwSGBkMERgOtAT0CuwFkAQQBzf24/ff8Hf/u/44A6AEf/7T9sf66/qn/N/+u/nH9RvqF/JT7R/qy+jH54PjO97z52Pq3+T36QPgj9lz4IPja93j5/Pkx+Vz3Mfhf+Kj3YvfV9QH0rPPR9X726vXW9kv0u/IU9RD21vbK93b4XviA95n3t/Zt9U/2pvTH9KL1uvVG93T2svcs9oH1fffs9yT4HPg2+RP5Ivg79573Ufax9mn1efTW9bD1evjF+Ib4IPc69dX17/Zv96T4yfjI92v3ZfYw98T20fXt9GL0pvQx9Rf2ePXE9gT3x/Ua9yb42PfH9yr4E/ms+av59/t8+2X6uPlt+KT4dfpx/LT7HfwZ+nT4wfej+HP33vUK9qD1pvZH9VH25fVh9lv2G/aN+Dv7IP5V/nb93PxX/Kr8TP5v/mgAjQEvA/EB4AABAlUAPAHLABgBHwEMAl4DtAQeBL4DCwRBBAsGFAXhBuME7wREBIsCuQMUAbsArf8I/1v+6P6T/wL/1P5I/rf8Nvwo/mv+Ff5x/aH+df30/Nj9LfyQ/Of7jPtA/JD96/8PAOX+Uv/9/Uj8F/zD/Gj9hPz2/VX9Ofxw/KH8QPz9/Cn+fv4DAkACqAE8AZAABQAQAZkBdAIyBKIECwcxBagHtQYqBM0EsAPLBV0GLwiXB8IGZgabBMcCeQSYBRUGTQUXBGIFsgT4Be8DRAZTBUoDgAUWBpcHugWkBQIGSwa3BFgD8QJnAzYCGALWAskCzQEQAEAC/wD9AloDqgS0BkkEoAe+BuYFmQY/BfAGeQbkBi0G1AaoBo0DLgMfAvEDfwM4BRoGrQTtBIsGxwWRBCgH6QQ4Bz4HCQgmCYcJrQpCCs0KAgq2DM4MhQ8eEIcPhQ/MD2QRiBKJEtcQpxGhEfAToBOVFL4TBhSJFWUTihSRFHMVhxShFRkW0hMBFSwVkRR9FQcU0BR6FDMT1RMdEZ0SdhHyEDkR1RGIE9wSKBTDE3cUIRXWFRsVfhR7FOsTeBMMFGQThBIVE9UQzhEiE1YVbBUsFIgWhBR2EzkTvhFoEd0QMhGeD+wPDBG9DpAOUw1ZC9cLhgpPCxgMKQwtDjYNew2LDokNFQ1/C2ILVwtvC+EMyQqWDGIMNgviC2MK+gwhDc4MuQ00DloNQQ5ODsUMTAwzDLsLkQpHC5gJkwq3CBQIxAmHCSILeAukCwQMYQ2hDDwNlw1LDO4KuQouCggJmgjJB3oIAQdOBWQGoAcqCTQLPwqMCwENjgzBDSENOQwdC6oKKgqmCKwJ8gheCM8INgX1BC8EEATlBFoEyQWZBN0EVwZRBp0EMwReBBcCdQBoAY3/Vf7m/qP7gfsF/En9kv2m/IP9gPzY+877jvsm+5H5h/hQ97X0vvaI9nn0pvXt85rz5/N59S33rvbS9433S/ar9vv4zfda9sX2UvYF9qn2ovil9jz3JPYz9Ej1lfRq9Wv08/RX9QP0r/S49n72CvZH93n3yPbk9Bv2avaL9Z31JvNT8rvyIPOA9NTz0/Rg9dPzcfQi9CLzpPFC8RnyrfDE8IHyMvEa8j/zGvQi9Cv0Nfbz9lX4mfc3+Kj2LvfE9mf0tPT58gXzcPFb8vHx5/Fa8wzzp/Np8171gPd++CD5//mc+cz6wPp5+qD7ovkP+m35L/nH+Pf2p/fa9vf1i/Vq9PbzJPWG9cP0EvQ781ry1vLM8t7xP/F08NPwX/GT8AjwQfCg7v7vNPFQ8c3y5vE585b0/PEf89bzbPJF8wbx4fDY7zvxF/CH7UPw1u0s7lnvofDF8D3wjvFK8mrx4PFg8jvxL/Fj7vXuwuzm7PntwOsM7cbsVu2G7VLu4u8P79rtlu7h7AbtXu0g7BXttetX68zqPepO6vHoWOmC6SnpMOvB64btWe0A7Q/vle0i7vHu9O9O8NvwA/Lv8Ajy3fF98DDxM/Ay8JjxZfPw9bf28Pfi+N345/g7+h/7C/1v/N377/uL+z3+ov3p/ib+p/2i/sD/TwJtAiADkAMnA/ECpARRBNMEDATiA3AD3wLgAyoCpAPyAU4BqwF6AlcFGgU8BW8HcQfuBjYI1AbAB7IGbgdFB3gH8gaqBVEIpgYHCaoIIgq9CjgJ6QoCCTAHSgYPBkYGjAVmBDkD7wGMAtH+o/+j//r9bP+Z/7wAOv/H/z4BSQFXAEUCBQMWBNEE8QM0BMwE3wO9AsgD5wElA0oEAQYwBkUEUQU8BdoEqgQnBRIGRgUNA0kCTQLGAZD/QgDTANb/XgHBA3kDswLMA6ECkwGtAQUD8wGMAegBswGFAS0BjgDc/T79P/6N/64AIwIeAUwC3gI7Ad0BtAEQApUCqAIrAlwBGwHAAMn/4gC2AH4BpQN4BHYEwgNOBS8DowK2BKwDfARgBWEFPQSkBR0FzQOdBJ4EQgYYCCgKnQeECHoI+QZsB+sHpAn9CfEKpQiGCa0LQQluBnIHTgjjCEwKKQ0PDegMvA4nDUcP8w+OEJIRVRKVEoMR+hE+Ec4QdREcEk4S1xMPFDYTqhSkFEMTChP4FJsUkBNDFSIUKxTOFLMTZRMnE8oTnxX2Fr4XyBZBFgoXvxUwFE0UKxQfEzkTZBI+Eq8QlQ9VEOEQ0hJKFHIVXBRMFGwVJhacFAITGBNOEckQrQ9XDr8OkA0TDBQLGglDCvUK4QpuCh4JUApbB/0GEQk2CCYJ3gjxCcgLLgqXCP8IjQnoCOcJ0gtKC1oKMwtMCw4KAgp3CqAJ2gkpCgEIBQiFBvQENgWaBeoGIgdqB+IF2gU5BnAFPgVwBYgFVAYVBnkFLwaSBWYFXAVKByII/gmzCtEHKwhWCBcGRAUeBkQGFgeNBnoG/QUJBNoCTALRAnQD1gRVBe8EHwbiBfEDXQRnBIQFVAV5BMIEQwM2AioC+gONBFEFZwfaB5IGlweABqYDrASxBJQEXwSrAwwE3QJyABkB5QGgAtAEmwXEBNsEVgWfAkIBewM2A3wCLwMXAvYAkv7f/Gb9QP5a/ycBcgCT/WH/kP6y+gz7ivvM/Db/Rf+8/o3+4fvX+l37pvsS/Fv8cvyV+TD6L/mV9fb0sfUX9lz2H/f/9f31gfTw9LD24Pd3+rT8Qfyl+6j9RfuO+mn70Psz/pf9//wo/c/6JPlJ+YX5APo1+yX8Ufra+sH6x/d99zH4V/ml+a75sfhZ9071pfW79mP1/PY8+R35zvec+t/3V/aW9rz0M/Yj9gf4PfU6/DcC0P8UAe/9cPws/7L+6/6b/7z6y/pJ+jX87vow+E35wvgA+/36avwe/LH59/lt/gsA5AFVAEb+ggDM/pwAAf/8/uT+Jv4eAjYBIgHb/pf8t/3f/e3+j/2N+W/3J/ek9rT38vSx8+H0nfVk95H32Piy9sj0gPbC+OP65/tD+hv8Xv0s/oP/7/2d/8X/ywCCAsEDgQMpAo7/TQBLAo4B1QLu/ir+bf8+//H/Df+r/4j/NgKiA5kE9gZUA4sCaAQVBhUI8wYuBU4F2wRCBaYFkgMsBPUDsgZNCdEJ+Ai+BRAFaQb3B+kJVwupB+UI9Ad9B/AHywWRB5sHyAqLClQLkAvsCAYJ3gk8Cz0Mtwv1B2gHHgfXB68IwAepB90H0glECWAIsQh/BtkF+wdsCOUJvQcIA0YDXgPIBMED0QKwA2YDbgWSBWMF4QQRAvcB8gMBBBEFxQEo/5L/IP/OALn+Q/6N/qP+rgGJAo8C8QF3/0wAHgFDAZ0BfPwc+1L85/qz+sX41Pea94D5p/u4+vr78flC9yT5+vqH/C78Tfg695T2S/Yu96T11/Yz95n4Sfnx+Mv7ivpN+n39yP1K/ur8R/mh+jr70frJ+t73lvhq+Qz6SfoB+pr6cvcB97z4TvrY+rD4SfZm9qj0tfQ99pj0rvUX9h/5ePmJ+d/5xfbu9x34KvoC/O74wvea9+T3mfiY99j2+/an9xT55vlu+an5Mfdi+M36Ffyh/Qn7vPu/+1P70/xi/aD8n/7z/6UAuAARASsC3P9+AUMC8wM7A0r/ZP7h/tj+4/9rAIT/XgGzAQ0F5wWbBf0FBwQtBkEFJga4BdQAfAFkAKj/vQHiAfEA/ADbAicEoQJMA9UCYQAAA8gDcQSiAqb/nP+jALcANAHRAY8AHALNA9EF3gQ+BYEEYAOBBbcFxgXvAuQAPgHHAGwAkgH3/13/GgBWARIDSwE1AtoAZ/86ADoA9AG//xP8cPyq/OP73P3c/Gv7ofwo/tb+Jv6u/4L93vyP/pH/0v+1+6n56/nN+EP5hfuG+8b82v2NAGwAG/8dAfz+ev+WAH8BEAAw/MT7a/zd+y/9nP1z/Ez+Iv/uAAgBBAF0AsYApAGEBNoDIgLg/c389P1M/Y79ov7r/d79/gKLA90EKgaZA8EBRAIwA24DSQKSA5YDnQPRAYL+aABP/eICNQgtCcMHagUIA8j/KwGAAR0DzgO3A+UC3f9N/B/+sPtLAXsI/QdNCPEDPQGQ/ev9CAE0AUgD+gS6A0AALv21/iz8tgFYCasJSAvwB8cDdgDIAFMDvwQeBcoFJQSCAJj+qv8A/f7/kAd6CMQITAa2Apz+Af9TAVYDJwOiBLwDi/5j/ev9jP4YAHQI2ggsCHUJswQIAh4AZwEqAm8ApADjAPT86PlT+fz4CfoGAKcCCABs/kz7Kfg89QH2H/fr9uz10fUM85zvxe9J74fvEfRe+hb5ZPg9+NX1S/O+8xv2+fX29RT1CPSD8CLuke++8M7x4fhQ+4/5nfoM92v0k/Vy99D4v/kM+B35bPf58rjyOPJF8p/1/PvP+lv6zfrR9a30+/Sy9on4+vd19wb3yfPZ8UrzWfSl91T8HADE/sn90P00+YL5ovvh/dX/R/7h/Iv6P/i49qP34Phk+eD+IANPAnUCWgC+/Ij9aP8EAJYBHQIZAf3/xP0z+2H7/vxP/igCKQeEB/YEKgU3AxkCEgTBBcAHmQfjBH4CwAGU/Xv9agA2ABQD0gb0CbMIaAfWB6EGUAfjCdQLvAtzDPkHxwWlBgQD8QNzBm4HrQjVCzYPWg2yC5kNXQznDdEPrQ/tEGsQwA3vCQQKOwdMB9AJGwknCwkNSw+fEcoTnhTtEs8SUBPDE0kVeBN5EpYPbwwUCtAFCwh6CdIIUgo1C8gMPg0VCiMJ7ghhB6oHSAgkCCkHxQWtAWr+8Pub+K/5zPpI+gn9tP2Q/TAAav97/+//C/4KAHwAQv+E/4n+Gfxi+Xv3pPX+9AH2yPZi9pf2B/c2+Vj4M/iS+A/3Pvnr9yD5LPlW+PL47fTY8svwgvAO8bzy9PPj8/Lzz/No9bjzVfXR9aD0V/Zi9tz1g/M08mLvtO1c7KjpMew+7TnsBO2s7Gvtb+4N7sruUe+b777wTfJs8gfw/u+S7c7r/Osk6r/sRe2h7YPvjPAp8uvzsPIG9Ab2wvTF98X3rPbC9rHzrfCg8aPv2u+K8djwkvLQ8QTzjfNS8Q3x+vFY8T7yKPPU8bHxU/Do7HTulu407r7xevF288T0jvXA9Yz07/Vz97z4iflz+pv5WPmQ9m3zs/Wc9Nz0ZPdA97b2nPd8+kT5QPkC/Ez9i/29/YH+Wv7y/L/7gPuB+xn8Fv6Q/uj9G//7/1YBqP9MAWIDnQFYA6QDHgOHAi//Kf3w/V/9u/4AAID+hP3l/lP//P7K/uj+5AAp/xYAzf/3/Hb8vfo++/T7gPwO/qv+Iv3X/vwAMQFLAgMEPgYkBYkGygYzBzgG0gIPBWoF3QR7BpAG2gO9AiECKAIcATACOAStAm0D2wOxA8YAsP3k/cf/RP9mATMEEwKBAqYEpAQ4A6MF4AbTBj0HQQeNB/0FfQJOA/sEEQP3BNoEEAQKA7cE+wXxAzoG+wbeBb0E7QSlBHYCTgAEAX8CYwH5AZEDMAI4AbcD7QNTA/IFVwbdBeQGfAZmBuQDyQFyAhoBhwFgAz0ChAE5AgID1QPcAg8EUgSIA5AD1ALmAgAAW/9bANH/lABwAkkDIASBBSwHQAjIB5UK0gl9CKQJpwkxCY0HEgcqCGUI5geBClsIFQdLCcsI+weBCKoJbAhuCCYJtwoUCuQHkgg1CU4IfwlTCp8IxgmsC9wLsAnSCjMMJQo2CzgM0gvTCg4JlwixCYMJ1Ar9Cy4KawxgDysPig5DD4kOBw0ZDSQNQw3rChwIHgg8CNQG9AfNBjUFRge+CAMJ3QgGChsJRwi0CN4IpQdIBjQFlgVCBG0CAAT+Aw4DbQQMCOsFUQUqBisEUARhBFoEkwXJBM8BmAEb/0r+tv9+/u/+QgLbAzkCkQN6BAcCzQFDA0sF/wOvAigD5QH9AYMBDgJSAooC9QaECd8Hnwg+CGoGzgXkBpAG1QVYBNABhQTZAP7/nAFBAVgESwe6CdMIbQoICSIHWAcfCNsJnwmOB98FDQc6BCQELgV8A14EOAc+CrAHUQc0B0oEegT5AxIFNAU/ATYAcP9v/J77GPun+iP7G/0Q/x7/t/1t/SL8VPkv+zH8VPwS+yr5LPsh+gT6rvq3+bn5lfqu/VD8WPvy/K37bftX/MH8iv3w/B36TPtS+5/48/kE+nn5LfxK/vP9kP1x/tD+Dv66/YT/Gf++/Xr8v/qm+rP3Jfki+cX29vi3+N36BPtT+sn7fvjD+O/6/Pq1/J37WfnQ+VT5Tfkw+1D52/rI/D398f5T/Wf/df8C/gX/c/8XAHr/Dfx4+vP7Yfl7+lv7Y/hm+Ur4s/qT+8r5U/z9+kX6YPsm+777oPrQ9iT3z/bU9mb5Mvhn9zf4WPmo+nT6RvsQ/M753/lX+fn5Cvr193f2Uvck94T2Vvlq9uj1vvZL+KP6lPml+tT6kPh8+Er5FPkp+Sv1BfXS9Tv02/XB9Sn1pPTH9Nn25vfJ9/H4LPkg+e75Zfrh+bL6dPgp9Rz3D/a4+DL53/aM+LT4Qvsm/M/8bv9v/n39//4q/gT/hP0W++77CPvd+jP9SfwH+sb6evut/3T/3/4ZASUAcP9cAFD+T/1N/mX5tfrR+YD3h/qO+IX3Qviu+bD7v/vv/BH+dfyZ+zv8+/wi+7X46vai9Sv2hfbJ9+j1bvTR9Qj3qPl0+Mv50vz9+pn7vf3u/QD/L/xl+uf9/fqZ+yn+qPxI/CL8iP41/1P+cP5RALj/vv1X/sX9uv03/PD56fsL+yr6gvs4+fX4PvmQ+lT92P0V/4f+g/0//4T+J/6o/nT8w/sz/NH72/yd/XH6mPmt+sX6i/vz+2j+n/7S/rv/sv0w//v9v/k++/f7DfvD/G/8lPtN+237cv5R/13/mAAgAPn+1P/k/07+9vzU+Zz6ifvO+gr9Fvsr+tL63PygAHkA/wIZBnQG2QV7BtcFMwULA8L//gIeAm8B3QNfAcMACwFYA+EE4ARmB1kGsgYZB4UGuwe1Bl8CqAIDBLkD9Qb/BeEDVgLAA70FeAZCB/UHLQcRBq4HhAdEB84FlwNXBPsEBAWDB2gGvQXMBdMGhQpWDFkOXRHOEXQRMRNkExsU+RCmEH4TWBS/FEQUFhOWEQATTxSxE6MU4xcnFnsUchU3FTYVABKZD7gRDxF9EQMUnRKgD9MPvRHIEnwTWBRQFVETlBSME/AShhLEDMgOXBEiEEYSVBKeDqYN7A0hD+gPQRCxEBwQnQ9TDsoORQ6MC9MJ9wrCC6QMFg7zDDEKYgpHD8sORw9zEnkOvQxYDfYMQAy3CNEJNwsrCUgJ2gleCAcI3wsODbsOOhFQEPcOGw5vDs4NkwmCCg0Niwn7CTYKtwcaCEYMMQw2DLYOnAyACbYI2QuUByMEcgakBbsE9QVMBmEE+Qi5DMALWQ99EKAOvg0sDiIQSgtkCxAOwApkCj8MqQqxCc0PcRC1EOoSIhFYDtsM1w3yC4QIlgrgCjEHhAnWCWIHCgpjDn0NNA/nEacPMw6TDuwPNg6ECrEKigwICtULlgw1CQgMNhB1EAwQpBFWD6ALgwsXDeELsgZTCQUK+QT3CNcKGwqeC8cQuRISEFATdRPTEScRJhItEwgPuw1CDx0MXwuHDe8LrgswDV0RKBF+DoIR/w/FDq0QxRG0EV4OSA5tEBYQhxF/E3YTvRMYFDkXihfzFSsYpRbtFTMXjhWoFE4QqgtcC6oKNAvTDC0O0gsjC0MO9w7bDSMOMQ+sDUgOYg6jDs0OVgs4CZQKSApHCIMJ6QiuB9IHNwrsCwQK5woZClMIHQoGCeQHTwihBHoCEgQFA88B0gJcA2kEcwVfB3II4gfgCI8I0wePCHIJ9AgsCAQGdwPkAq8ClAICAnwChQDq/owAaQMTAsoAjQIE/yv/GP86/gb/7Pvl92D2GfZK9C71kvX78zTzuvS29qH2evbN93P3l/Zu9sX1vfYW9T7y5/BI8ErwlO9H8E3ytPFX8WDzl/Ty9B/2mPRH8sjyQ/PO80HzGvLS79nxdfF/7jTxUPDT8MvycfWy9ir2zPfP9G3zVfQJ9Dj0xvNO8VrvE/Dn7EHsre8V7//tCPBD82Hze/J/8YrxkvGj703wR+/q7DDqfOgw6SrmBej56Gjn7ehJ6dLs1+wr7VTtl+sy7DTs9+yV65zpOOd05lrm8eNm5WTmT+TV5YzpteoB6gzriOuB6gfrUeym67Hqo+gW5yvoJ+dt5hbob+nR51/pPu6r7jjuqu+r7ljuxe8X8XPxru667EXtZu4y7unvHvEx8Q7wiPMt+G72yPfK+Df41fjg+cr5mvr09871HvYO9VP18/Wr9lz1mPbd9+z6NPr++hD9aPvp/Mr7lv1b/Cv5o/bF9QT2+PS29iL2fvWI9WT3EvmO+BT5Z/mk95z3D/g39p30xPHq7uzuAPGB8Y/x4fH38DXxTPQH9m32bfmx+Pr1v/cq+Rr5KPaT8sLxYfLu8tXxv/JN8SHw0fHc80f06PNd9ib1EvXw9sX3DvlN9+71x/bi+CL7ovti/Rn8dfqu/L7+u/6j/uQAHQBhAL8ADQBoALv9CPz5+339LP+c/eX/lACR/W3+IP8F/9z/4wGzARUAmABQAfz/+P2f+vX4Y/ke+bP7r/yG+pX4//jP+yP7Jvw6/4v9fv5aAFn/vf1y/Mr8yv5SAMz+o/9LAZ7/5P02/h4EgwlmCvgHggA3/YAAqQTRBI3/bPxD/hMAaQAY/2r+4/3v/CP/mAB8ACMC5wOJAuMARQCSAHcA6P5F/Wz8mv6r/pgA7AIpANP9PP3j/o79cv6RAI0BEQNDA1sDvf8+/N72wvbl+S7+PQWZBeADpf6I+i35i/ml/94GVQpADLQLvwWQAY7+nvyV/9sEcAchCeAH3wOTA5YEJgVABGUFggf8CDIJRglhBwMEeQIfAH4CeQSJBRgG5AS8A0oAr/+k/34CvAe5CZUIwgf3CucJRQi1BOYAuQNABfgGigdvCG0Ipgc0CGMHJQhhCmwM+Q2FDhEOuwsnCEcG0QXNB04Jxgr+C7oLzAmbBxEI9ghGDBAPERHNELMRWhNIEWoPVQviCTAMBg9OETsSihBTDOcK0AwGDQ8PEhKhEgoUdBPqERIPNgvTB9YI8gvoDTwPew1/CZcGSQYMBTcFkAb4B6EIVgi1CDsJRgYaAgL/Xf++Ak8FXgiBBiEEMQK8AQsD0wJnBPUESgWBBh8HQQZrA0b/df1o/lgA/AI5A44Agv1U/fD/9wGKBLEGegWEBLsETgN8ANn9wPuf/E3/VgG1Av8AaP3h+fD6Nv1k/sgAUwDcALYA0//U/u36+Pda9jH6rf63/ur+lPu++AT5sPtg/Sf9fv8XAPoAJgFi/2f8TfrB+E/4rfpS+6n7qPyF+vf2BfeO9xL6Mv6hAB8A9v8q/hj7g/k69CPyJPYN/Jb+0f+KABr85fjD+Of35fsj/rH8ff3V/c79gfua9070oPhu/GT+CQC5/IL4cPRD90P5Gvmc/BD+Gv5C/pD9N/0i+5v2zvZK+Wn5Cfsv/I77EPoj+tv7bfwC/5ACPQLXAsIEPwRuAygAif9xAYoFMQitCF0I7wV2BiUI0An7CFoK3gioCEkKygmVCZ0GNwTFA8MFpwQPBeQFbgQ5AxkFgAkUC3gKmws6C9wJxgq2CuwLPQ3vCkkIcAkABtIF7wYUBGwDigN5BoUHbgY/BlQFHgR0BrIIRAlyCGwFpAHkAUwBNQJFBDQDdwQAA24EfgRHBBoHTwePBlsH4wbYBOgEbwJWAsADBQJSAmoCF/5m/jgAXgOeBb4G9wlbB3oHVwjxCAwHGQVpA48BYgJk/7L/Zv5a+3j86f6XAwsEAAR3BkcEQQIpAawAEwL0AgYAk/9pADMAuQPLAwQCSQAGAO0D7gVzBo0H9AUUBm8FYASsA44BTv5//Wr8ufno/V76bvkc+oD5l/2T+9n+MABG/iX+bv5K/aD8mftE9FbzyfJd82n4OvZv9bD1y/YN+jX4t/fz9qT26Pj6+sz7V/oA9kfy0vLm7wPyH/Ux89X1a/Wz9zj6z/j3+qr4Yfl4/Gn/DAFt/az59/W29bnzz/SM9WXz5PYi+e38uv5e/pABhv9s/3cBWQGtAIT+5fpC9zf4OPea+SX7WPic+ej4/PpA/kP+AAAOACAA5v/8AewAk/5i/k35v/oW+U36QP5c+kX8NPz4/IH/iv4nAjMERwQrBUQEYAMtA7UCVP+f/yT/7P2OAUMAY/9pADcCvwVuBiII0ggTCf4KMwscCyEKvQfQBLoEPgTjApwDygIABWsFWglSC5cIlgtaCs4Kqgs+DRAOdAy0CsIIJQhuBqAHOAllChcKPgz1DokNwg20D1sPzA1BDtAPtA5FDGUH0AUrBWAENggABhwF3gTqB5MJpQksDJAKTQopCkoNLA0hDIcILANYBMcDswSlB9cFwQRJBBkFjgZNBzsJAwfTBZ0GTgX0AtMC1fw8+dn7nPvo//MAL/6S/bf8nf1P/pv+4AE/Aj4DXgSFA0ECHf6Z+OD0MPZ59pL6tPzd+cr5NviJ+ff5Nfvh/lf/gf9hAFEBkgDi/039R/u+/Hv9hv9YAaUAfgDrAOAC0QGEAe4CBgG1AFcA2QA0/y79aPlW9NX1K/dK+VH6Rvgu93D3vfkR+U37b/00/Q3+4/17/Zn5v/fM8ZbuAfIN80/1efS58oPxy/Gt8tDxZvR19QD1CvVO9Zn0dvGc73vsgu6R8fvyKPZc9T7yo/FO9MXzwPOH9n32l/Un96v2Q/R68+3vpO0F7uTtRPGy8s3xrvDc8MnzWvQ0+MX5G/iG+a77Y/uE+F/24fKF9bL4gvkG+yL6gvib9nb5N/r7+Vj86/3P/Xn+pv1J+sD5Afeh9zr6t/uk/FX7pvl99jj3NPjE+bb9dP9i/3/+8fxc+ZT2GvQ69Yb4E/ux/qf+Of3r+WT5cvkT+Qf9I/5d/kH+5PzE+bH2JfPT8XXz9fSK9wv5zPeb8wP0CfSv8+X2+/fG9yT3H/dY9dvy+e/I7vnyPfZp+Pz33PQn8hvzOfWf9RL6qPyn/oL/J/82/cr5g/Ym97v7uv09AQQBsP5H+7b9CP8N/8wDxwPLBIgDwwHT/WT5Ivbr9Tb5cfs//f37Ufp59gj4/fjV+W3+Av4v/qb9Bv4l/R/7e/m/+Q3+LQL4ABL/p/3D+W38HfzM/BUBGgLHAgIDAwPh/5D8d/n6+jT/rQFAAqMBh/+6/Kn/T/+0AEoGyAdCCaYI2wfOBdYCaP+P/50CvQKLBOMD6wAB/nj+GACoAKcDjgQ6A2kEOAVnAs4Ae/2Q/G//bQEqA4wDwQMLAeYB2QMMBboJewz/DH4NeQ2oCv0HyALcAXwFHgenCTIJuAepBKUEAgc/BRsIRwzfDOYNmw1pCwoICATmAuMELAe0CaoIrAfXAjEBfALt/30DygSaBU8EUgNbAbD+efy4+yz+IgE+BJ0A7wDQ/H38swJdBbUInAkjCE8GEgdCBR0F2wNOA+AECAa/BiEEuAI+AUv/rQLOCBoKKQwZDOwJEApwCUoK/QkICJUHrAnjCZ8H7AWEBc4EzQUbDDUMFgzCDUsKWwtQDGQMsgzjCiUJ5QlPCsYHBwcsBqQFXwZkC7UOaQ7KEQ8R8Q58D5IPsg82DqgLowrIDLkNkQ3sDl8OOw24D+4SHRNOFFsTgBEGEUoRlBJrEVYPAAxqDKQLDQptC2sLgQniBqgK8gqnCXMMUQoLCCMJWgoWCXgHzQTlAsoCFQFOAkMDtAH8AS0GHQrnCSsL5wohCJMI7gjUCDIIUQYqBBgCNQJiAGwAJADq/Az+DQKxA60CWwMvAWwAkQG7AvwC+AHTAKH+Jf8C/jD/Vv/w/Tj9Lv/JAYsATgIsAosA+gBIASYAnwAD/wj8qPy4+9768/zC/Sv70/rp/+ACdQIXAxcCUwFbAr0DgATUA8AAU/9YANT/tP8mAfcAgf5EAQkFmwPBBLIE+gJaBAYE9QSNA/L/5Px/++/8PP0b/S39nvud+yUBVQKjAVYDvgMwBaIHZgcwB+gFygKJAtECugQeBg8HJAduBKcE6QdOBwMJKQvZCOQHowcTCCwHIQYvAn3/KQHGAC8DcQNEANH/nwICBhQEtgWJBk8FNgdnBigGoQU+BR0Bf/4jAQIARgBQ/4r9uP6V/hABoAB3AYsEHwPuAt4ErwbnBB4CBP7u/AP/iP27/sj/rP4jARQCJQQPBWQFtgcSBd4EYwbKBzUHtAR1AdT+uwCf/y0AnAKMAIQA9AGGBKIFzASFBxkIlQlYCmYJAgpxCLMGWgScBZYGlga3CbcIwQf8B+gIbAvTC7YNiA1ADO0MbQ6qDtoN8gyOCW4J4AguCNIKtAoICZsJOwuMDisP3Q36DkwO9A3rDQkNTAwUC0kGWQLNAikBXABvAcL/fQAMAIwALAJUACYCnQBSABwEQgXnAjUB/P9Q/JH9sv32/Hb/Rf6z/a39QP2+ALoAUAM5BZEC1ARBBhUGxwSXAnsAbwBeAVUAHwLuA0wCAQKjAQIFwAYeBpQIgwdQCCcIrAhWBmYENgSS/wQACgDZACQDhgMOAlQB0wMSBioF2QVcBysGGAZaBbcFnAM3AqL+wvqN+wf6AP0y/VD78PqG+OX54PoC+hL62vje96j6p/uW+Zn4/fVQ8p3x0PDM8EP0lPQX82LyCvKL9sH32Pc3+kz5HPnN+GP5rfZm9Zzz1O/y8ITvLfE89IrycPFF8C3xRPPC8l71QPaj9Y72Rvip90j1YvbX8hDyivSk8xr2Hfdd9J30OvT89UT3BvaM+Tr6A/r1+fr6T/s0+xn8ZviC91v4ivia+/f8qflN+l/7wvzS/XP+EAHd/vj+Kf+IAJz/Nf+J/lD51vn793H2NPoB+pD3ifYs90L6pPiR+TD8mfz3/Uz/oQDj/j7/Sfzf95r3yvgv+4T9v/z2+YD6PvvW/D79iP66AEoAOAKeAwUESQNKAzz+CvqZ/SP+/f1tAMQCEwBK/739pv1lAHcA9QLVAJ/+RQKIAez+bv+3+yP6V/r0+/n/nAIWBIACUgLQBG4HoQiMC8MLkwtcDPsMrAwRC0YMDghfA2EDdQPqBIoGswPoAXQA1QBdA+ECsAWNBZMESwbWBvIFGASrAbD9mP2B/fj7z//MAEn/xP2v+8T/ygDRAfsBdwCDAdoB7QJ+/tL9tPom9Y32/vbx+LX7Nvpz9xX3f/ai+Tv5MPps/BP88/8l/+H8Tvs1+er0o/Lt9KX2rPhJ+Bn28fQB9MX1LvaW97n52/k7+hn7R/zU+pn50vXB9Cj2CPlI+Zj5d/mA9xT4VPkl/H79q/+c/X7+wf7gAAP/uPy9+3r2Q/kp+XH6wvou+p76VfiE+lD9p/3OAQkAAgCsAhwDsQMZAUkCAv9X/4kB1QBLAvYBdwECAoACZQUpBTAGFwhhBVQGBgeiB7oEhwJa/1r+pwBbABUCdgEtATUA8QF9BCcEJAVrBVgGRQdkCM8I+wYFBgQDLwFXBDEFqAesBwcFZgUqBhIHbAZYCd0JKwntCu0LPQoVCO4GEgPiAmcFsQfjCeQIIAfKBn4HAgrjCNsLQg0FDLgPwg9CEEANNQiCB6kJUgt1DccO4QygCWQJvgyyC2sNFA+0DpoQDA/ADpcMQgoVB0wGOwoHCr4LvQoOCuUHHAi/CxcLUA6RDz4QFhDdDg8OMQ37C+kJXgocDBEOnw7YDD4KLwvFDXIQyhFeEu8RrBDyEKUQPhCgDDkJhQgXCWULPQvTCpwJ3QYbClANKA69D70P7A/KDQYP3Q+NDUMMggmTCTgK1gvjChUKaAlCCR0NpQ6bD98OSQ6mDHYNFwzVClAJGgYzB9sFhQYTBbkF2gNyAuQHtQlPC6gKwwmECOoHnQjYBq4FGAMwAz4E3AMNA1sBPgFm/48C8AQzBdQFAgV+A50BywIBAlkAdP0U/TD80vsk/Sv9GvzR+Zn+XgHEAPYCIwOwAcYAQgIgA+sAd/+7/jr+dP4s/tv+wf7e/fr/bALOAhMCTQM2AeMA+gKIADEBVv6D/AX+Af3D/DT9g/0//az9uwAIAg4CawUeA80CsATqAxcEJgIXAFn/kf7B/VD94fwT/kn61f22Agn/tgHMAEz+2P6v/08BKwE0AIb8o/uC/XH7W/yY/B/8UfzB/n4DqgErBLkDAwAbAJL+hf3u+z34kfVM9a3zJ/JI8Pru0e0l7ZPvDfHo7wTw1u7x7T7uve9l8Hru0uzi6THrquzS6vHqguoh6anqGOwa7VLse+3U7rDsJu4b7+TuQe086u/nV+iF6VToFOe25izmNebV6Q7sjOzV7mfv5u3w7grwDu+A7kntX+tM6v7qcerN6tXpaui56LXq6u537ZLune8s7rzuQu4/7+ftT+zs6jDpAOuQ6pjqb+u96NXoV+vf7djuJ/Cm8FXxfPL982r1svKc8qPwHO6B8Afvz+878XfvoPBm8Nj0Gfdd9pr4wfaw9WH2Hvc39w72d/Lp7grw4fB/76fxEPBb7YDu+++d8iLx5/AP8pjvgPBT8XHvO+/o7pTtXuuE7HzsFe6l79ntAPDG74DzIPan9VX5Q/jw9tD4qvjt+K351PcX9JHxovIC8jvz5vTJ8hTzJfQh9mP46Pga+S36mvj4+DT7evp6+o76Tvfg8gTzQ/KY9bH4lfY09nn17PZ3+O74ivrQ+tv6h/rA+kX8+Pka+7T34vEr8+HxLPOW9Sv0z/M288vz/PXJ9kv6s/pN+0H74PpH/Sf62/op/Bv3W/Rt82L0/ve6+Uj4HPY29lz1w/eX+T36TPxW++z7Zv41/pn8hf5h+/L2SPVj9cj3dvm9+iL4gPeg9+72nvn0+nf7kfuQ+iH8ff2u/A/9ovyA9xb0HfSh84H3wPq8+CP48/c7+uH9L/+SAi8FqQWRBuYIVgoDCdMIdQb/AjsEIwW+BiMKSwvfCVEJzAnWClINjA8tEacQ+A7iD18QEAxdDWIKTwVbB2IFBAihCmAJ5giWBasGsQk7CLILIgyQDEQNew1SD2YLHQ3SBzwDewXABM4I/QrUCNIHmQbgCB4LmAmkDfIOfw6lD6gRBREkDvYMUAh6CK4LCwyuDi4PoQz/CjcL0Q4GD9UQLhE4EdwSQBLREbENyAxUCSYHhgnSC/gOmw5uDaEKQwowDhUOUg8UE88REBKlFIUSww+WDbkItgeYCQ8K2AvPDPwKjwg0CeQLAw2ID/APzw3oDjMRzQ/oDUYMCgiICLMJYgsDDIQLQAsCCEcLEAxqC9gP2g8HEf8S7RJhEs4QNQ3sCRcMnw1HD1wPvA6WC84JEA2aC8INOw+vDq0OExBkEFkNSgtSBj8GKQmZCjULOQpWCAsGzQZLCVgKXguIC54Lyg1oDj4MZAlOByADFwRwBfsFGgldB2AGjwNCBXoHYwgaDAILtgulDZkN7ArZCAQFmAJfBdIHAQxtC5AItQY5Ba0GaQYDCGAKnQi7CI4LkwlbB7wEagAjApAEYQekCbwINgfPBdsHZgnZCAULoAvJCzMNnwxvCs8GPAPDAf8CGAXZB8gH0QUvAQ4AnwE+AJECYwNhBNwEkwWQBTwCYf/L+0T8E/59AUwEVwPbAa3/ogFGAwEEjghBCzcKfguCDC8KYgiPA2sAwQPyBggJKQoFCQoH6gV/B1YJegpwDJkNDw0qDQ4Pew2cCc0FKwQ1B/0IaguhCooGqwRpAnIErwQfBUYIdwhRCM8HLQY2BJIBOfyS/aL/ov+MAsQAL/60/H/9Cv8YAdcBPAJRAfX/ZAE0/IX5mvb582X20vbW9m71dvPo8GnzafSd9dX2/fXk94D2yvbd9SP0fvT29BP1ufbU9qfyTPFr8dnxrvWV+vz66vim9mn1pfRI9UD31vXT9sn2P/X69V7zrfLe8wn1v/eP+z/7J/mK+E/1/fRT9TH46/hh+Ov5dfcZ92r2zfc4+N74JwAaAeUAMwNjAIT/hQCUACYB7wDj/o7/6v78/E/+Fv0V/gH/OwJPB+UGUgdkB/4EegU/B+0GqQeiBqEF6QXAA2ECrwLuAo0B+QIHCLIHOAjhCr8I3wfIBz0IhQkICEEFpQS/BCwDhAOtBJkEfARpBxIMHAvsDCMOjAy1DmwN3g3ZDMcK7Qd4BRYGegRwBu0GgQVABz0KNgsjCswJ9wfYBvcGAAXxBAYDwP6p/A/8ZPrh+DP7XvgI92/5Yfu6/Nr6zfu0+8j65Ptg/GP6/fUj8c3xmvJm8Uvz8fI08+fyMfZH9+nzgfYq9r30ufXQ9YD1xPLC7gXtWe3h7evtw+7F7n/tPO7d8ebxmPCP8mrxq/G588zzwfE670DrjOpY7OHp/+uV7ufskeuX7qbwyO9/8aTyKvOL9EL2e/VI9F3xKe5h8GHxg/Ef9G3zavL988D1lPcy+En5Gfld+eX7Bvwx+vj3T/TQ8zT1nvSG9hT3Gfee9tX2lfpU+pf7V/84/vv9JwBP/9/8UPvk9//2zfhj+J75Afnl90z3Rfiz+0z7VP7LAMf+jf+LAZgBWwBN/t/6fPrj/Kb8NvxG/Wn7Hfre+wn+0f1P/zoAVP4OAE0B5QAEAbj/5/uO+lL6z/kE+1z77Pmp+cf6Yf3z/vv/XgFDAZ0DjQQOBPMBYv8A/W37/PtW/8gBZgKcAvcBRwNCBbkG9wUMB/YF6AWvBeIE+QIyAD8AXPu/+GP5A/gq+PD5qfeX+L34RvkO/AP78/xE+336svtj/DX9xPqB+w/5n/Xa96P1j/Yf+Wf2evfn97b46PlG+Fn6G/wP+x383v2k/SL8Lvsm9wrzN/ND8pDzFvbD9bX0G/OO8mf1OvZ/98r6mvmX+1b8Ov5a/1/9+P7Z+c334/gS+KL6cvuk+sn6EvsA/ND+3v9dApMDLwLSAsgCmQPGAeQBggGG+5r6nfuM+RL9Nf/3+vz84/td/EoBfgDlAWcCRACqASQD3AJUA4sEEwJF+7H8nftY+aD+vv6V/LP7Tfsc/usAZQG+BB8FTQbaBhEI2Qm3BygJFQWAAd0AVP/wAF8ErQMNAqoBUAAiBIEEpAUXCC8GYAb7BncIVAesBsQGggFQATQCUgD2A/oDsADlATQB0wAOBTEFUgYOCPUFsQfOCE0Jrwi8CCcHhQLOAY4BIwN1BUIFhwKiAuQDVQSXBvoHJgm6CWcKrwrtDO8KsAk2CjgEHgLdAVYCywXuBlEEuQSaApcDHgcEBkMKIQlaCW0KawutCy4JwwkWBPUBAQMSBPgGYgdhBrUFxQPTBY4IgQiXCgEK8Ao2C5cMUguyCVEL2QSnAqsE0QP7BjUIuwWqBeAEtwf/CHQIzwo/CdgIfgooDokMPAvYCVQDdAMIBY0FlgeoB/wEqAWIBgMH8AfuCcELSQsWDFQNYg6XDGMKoQUeAvUD1wOhBvQHzgTwBIYGkgj7B6IK6gr7CRALvwwCDsAKnQpqBdIGbQd0BgUKrAinB4AG9gqhC1IN8w0tDV8OvQ1+DoMLvwvECaAHowloDMgKBAqgCToHhQsyDKANFQ0mDUMMeAvOC9sJxwmXBZUG6QaqBpoFRATXAjEDHAd2BxkJiwcHB3oHrwbxBhoHTQRZA/sFWwV7BrwGYwUbAmUCAAbOBD0FqgWsBS8EEAR/BLoB0v89/zMANAGSAd0B4ABh/5gD7gNpBFcGmwUhB3gGtAeDB2AEWgJRBEEFuQXYBWcFiQScBCcIswYiBwIIgQa1BqEHwAbLBPwAt/7iADgBLQNVBBQE1QFWA2cFSQSVBg0HhAgACGkHHgd9AzUAsgAyATkBuAKYAjABbv/IAesAmQGfAx8EFgQ9Aj0DJwCk/AT86/tH/EX+zf6n/pX9Sf1f/3L+D/86AkUDDQR9BasEcgToAKAAVAJ1AkoF8wSfBYQEUwTUBb0EHgbqB2oHFghFCbAHwgVsBCsDtgMKBYEFrQaiBo4ELgXSBTkDGQbAByUGMgjdB7sHMAXxAXsCAgN8BPcFaAX7AwIDqwNJBB0CcQO8BOADLQXbBFwDxf9n/Y38vf1dAFcBMAIpAf/+Zf72//r+GwABAh0CCwK6AR8DLgAj/Qr+W/3E/cH+fP6R/7/8k/wG/DX8//5N/ikAWP/X/4EBFv+y/cb8t/tI/Sf9pP72/7X+nf0s/QX/jv4AACgAa/9GACcB4f+C/aX8ivhz+PX6JfrX+dr5iPm99032/vdo+AT47/od+pP5qPwn+4H7DfrY9ib4UPov+rv6Nvxf+kj5JPkN/aT98PvE/ir/RwCXAP//d/88/E37KfyR/GP+6f98AHT/H/wR/bUAQv/W/iwA4v98AGj/OABa/z36cfpO+jr6Ev2t/V771vhZ91T5+vqt+BL7d/tm+pn6hPqf+Ur3FvXa86T03vTd90n31fUQ9MDz+PXt9vb3Y/gS+Uz4VvoI+sz4xvVh87Lz7fSe9mH3+PdR9cn1+vQr99n3U/eQ+jr44vjZ+SL4yfZX9CzyOvEd9LX1p/WE9GrxovBJ8ODz4PQi9sP3lPX09jr2ifQN8bjtJOsx7GXwXvFj8tjvMu3W63DskO6k7+fxRvH98NrxRfHm7lTtf+rb6AzumfBQ87PzMvFK79ntwvCv8Qv0Zvhz+XL5S/vM+ir5wPc29VX0wfds/Cn9yP5O+4v55PkE+8r8bv2AAWkAcgFdA8kCnP+x/M34//Rt9yD5x/t7/X36s/kU+ML5RfwK+5v+1P0W/1D/R/+J/gz8yvof9335XPvD/QYA1P3K+gX5O/iz+lH7m/1DAN4AAQHWAlECQ/9z/8b5rfvt//QBSQScBM0BWv/k/Sb/XQGRAfoFCQbGBv0GLAgXBh4EZv8W/DsA/AKFBzgJAwcIBCQD0gDUBAUGzgciCvAIoAp/CuQI1AUjBsICsQHeBHoHkwoBCqoGKwXtATMEBAchBi4KoAnvCfcJHQprCK0HZAggBEYGgQgmCAoK+AjTBLkCRwK3BBgFFwdtCi0HqAfOB1IH2wUmBjUFJgH5AlICTQPhBZoDcQEbACEALAT1Ay0FmAa7BTgITAkeCYYICAmcBK8CTwQ0BB0GmweyA7wBqAA8Ad4EvgNoBg0GKQYABzsGIgbfA44DTgGnAKYCRwMIBfIEoAGUAO//8wADA8UDXgX8BKAD0QWZBeUDpAREBXMDZwJiAjAB7gS9A0MBywHhAHUDmASyA1EE9wPgA2QExQSAA9sCbQLE/SP+sPsR/NH+KvmK+cv6CPxnAEMAegEdA8kB9gP3BBoE8gMUBcED+QOkBPsBMAUtBEwBhgN1BUsI0Ag8Ct4KbAi+CVcJ8AgkBy8FSwO1AOQB8f51/5j/fvww/Zz9b////7f/WQFrAPIAgAMqAzwELgSFAVwAKACd/jIBxwJMAcgF7QZ4Cn0MewqyDKAJ8wkyC5kJOAnHCAUGegKaA/4BHQTyBFMDfQcrCRoLpAs2DcQPqA9hEBwSYRKRDx4QGA6wDHMN4gsZDooMIAvMC/MNThFSD70PQxJ+ETwQXRHcEVEQnxCjDkENPw7qC8wMwws5Ck0KLAsxD74LmgvoCxoKGAuBC4MNegxFC4kHhgYWB1gEFQa8Br0EFwWUBuQJrwqZCSgLIwrTCR4LCAt/Ch8KHAgZBuQHngeVB3YHyQZLB98GIAp/CYoL7QwoCogL7gziDOYJKAvWB3IGnggzB+UHIgjDBaUEBgZwBWkFVwUYB5oFiQWeBkgGBAbNBCIECQKaAxgDXQMlBZEC6AIlA4MEKAXqA68FIAUjBggGPAceBqkDYgMm/2P+GgHYAdkB+gAL/s79a/7wAKT/oQB6AmP/wABXASUAvP7j/Gf7LvqP+7L9Pv7H/vv8OP1e/N/8Q/6U/XH/KgB3AKEB8QFIAZEBjv/e/LL9pgAeAc0BlgKZAakAIADpAf0DyANkBmYIfAhTCuoHlwbSBc4E+QKMAPcAQwGAAncCmv9M/p395v0S/gz9C//E/m3+Xv5S/XX96vyz/En6+ffh+BD5BvmR+p34nPbI9dDz/PT68070AfX49ID2gPXf9U705/RU8jrvxfA18Ufz0vLB8oLxivBE8CnxAPLr8vb0ffLu8z30MfM38kbw/PCT7eTsDO/G71nyFvG67RvtRO3M8MTx6/Eo9Yz1YfYk9zf4xff+9Xj1AfMl8t7zr/Oa9bj1oPLB8ZPvjvBu8YbyZ/UV9QP16PVP9mn16fPs8i7xgO5X7z7xwvMv9HzxK/Gb8LTx8vK78t/12/UN9f31M/Wu9t/1nPXJ8+bwa/GC8x71M/Y79snz9/O29Dv39PcL+lj63vgj+on6B/zs+ir7mfgE9X72APjA+eL6Rvle+K32Efef+Mn3O/o2+k/6qPuI/LD+fv1u/a38Qfm3+yD/LAB5AYv+p/x7+jf6+vsI/A3/1f2z/X3/OP+A/r79OP33+tv5sPz3/vUA+gGT//X+lvyv/0YApAD9BLoElQbwBqwGawbjBUAEQQJdAZsFTQeWB/sIEwVcAj8ChAPTAUUDMgRfA/8D+wRTBV4CWQHx/uT8XP8BBLIE9AJ7AhkA1/5XAEwAkQDqAUcCNgIPA4IELANNAbz+VP0//4MC2QOJAgwAyP2i/V79Qf03/oP/IwFDAVsCUgTrAUwCPgFr/j0AYgP6BAQDywHv/vT8Vf5u/9b/ugHcAKr/wgIXAosBpP8+/Un9R/43AzwE7gHR/y/9FPun/Vn/lf43Al0Bsv9fANgAxwA7/z79mvvZ/YEBPAPEAa39Fvum+mL7W/zD/eb/i/9C/+cAFwH3/rT9rfuJ+gH97gBMARABg/+t+WT6qvwU/Vj+GP+d/Wb+Hv8g/2v/mP04/Q37d/6OAUkCYQNEAGj+Q/3C/xMC8gE4Ar0Atf9ZANsAqv8Q/kD8hvx3/nIAmQHCAKr+Ufzb+kn8ef5Y/lAAvP8z/qP/DgEAALb9lPyE+4/+wALyAk8CSQAd/Qn8cvyz/sH+Rf8w/5f9av6f/zr/rPxK+m/58fxcAAEBnv+9/PP76Pqx+5/9Mv1O/xj/C/9i//7/zP/p/G/75/ek+8r/0wFEAoT+yPw2+hT9ewBy/5kAFQDy/1MCgwLOAZEBvQEWAIsBigVfBicFvgJfAYX/rwCMA1YDyAQlBdgDtgPkA9QDuAN4Akn/wgD6AxEFKgXeAdD+zPwY/VoAMwB6ATQELQMHAo0CagJqAHcA6f6E/uMAlAEdAl0A4/z7+Jf5Vf6A/5IAFwFg/rz9Av4h/p3+lP6y/ab8m/0E/pH9lPyr+Cz2tfa8+gr+Efzs/Xj+B/0kAAMBZAI3A9EC5AH1AE0DBgRrBQIC7P9HAZEBLwbcBf4GLwdyBEcEbAR7BHAC9QKuBRgFjwSIBj8GSAaQAvv+XwAnAkMFKQadBRoGwQJYAqwDwwLAA9ECngMtApYCoQJoAI0Ahf9I/Qj9JAFVAnQCpwFAABP/jf6J/qT+wv7b/fb7nvyN/hj9fv3v/B37yfrT/bIAfQB6AZwBSwC1AEUB4wJzAwkDoAF4/0oCgwBvAA4BuP0Y/Sn/ZAQUBC8EiAX2BHsFtQYLCMwG8QUgB6IEngQKBikE4Ad+BRMEGQU6BjIKOAk6C80MewoiCuoK4wkNCukHSgcKBn8IuAcqBXsHqwGUAUYBCgNfBjwD0gOqA4ECEwT4Av8C2wJfA2ICDgDDAqAAHQJTAPv99wDTAM4CGgNEAnwD/QCyAFoDKAERAXcAXQAE/QT+rP0q+10AZvsJ+wv+Jf5bAAwArgAZABb//f+8/2L/+/3A/Xj9ifuA/iL8Cf48/ZL4APut+TT97f6C/zIC0f9FADwDPQKcAu0CBAKp/9z/Bv9p/isBvP7j/1v/0QE5AygCKQNDACgAAwHWAMgAugEvANX+Ef9o/nv9CQCB/nX9Zv9f/kUBwwG2BH0F4gJCBdIFtwZjBTUF9AVrA2MFzwTPBvkIpQQgBO4EtQZsB/QFWAfGCaAISwo+C7MJgAndB34GiAYHCfwIpQgiCMgH1wdbCNkJfAn3CYEJNwi5CK0JXAjmCCkIsAWuBFYGQQYqBlsIpAUIBdwDmgVVB6UHKgnIBxwHFgeTB9gG2wYJBaADmAPYBcAGUQatBqIErgN6AgcEngXPB1QJPQgHCYIKqwrHCbgKYArLB5oGQgoUC68L+gtzCG0IhQeoCa0K3wq8C/YLigv6C4cNoQs5CzkKEQkYCA4KVgrICqoKYAnSCJQGTgjwB+AHQAj9BncGOAZqCHcJtgiYCZMIEwc4CFQLaQt0C+8KhwjLB6QI8AqkCeoKBQqKCPQJewuSC0sLrQuhCbQHcAh+DFoMcQ1IDFIJxgfaBoUIgAfRCIcKqwi+BnMG5gYWBQkEBQWDAhcCrgN3BfoGmARgASoAPAAeArUC+wLRBAoDkQPIA0AENQVbA4sCIwFj/44AOwK5As4Csv/k/GP7mP3Y/qb9Tv+F/7j+Bv81AOkAUf81/xL/Nv1e/kMAigKcAjQAv/2t/Ir+MwDt/xMBbwFqAGsAkf86AV4ASwBk/1z7I/1g/3kB1AI0/z78SPqc+ED6ZPqe+v35F/qv+uT52vmO+NH5rPdS9Cz16/ci+hn63/eh9A3zcvLP89nzCvYt9Wjzb/XK9LH2G/UU9IDzae/Z77HyCPQN9KTyh+9m7pTtJu5U7Wnu6e8c7bzt8+3g7afsEu1K7fjonejJ6+PtMO+f7RHrAOoi6gzs8en+62juyOsw7NDsrO0S7bPsuOxK6zrsIPAx8nbzrPGN7h7tjO1E8Ofvt/Kh89zxXvLA9Gj1DPOE8zvyLvBF8q73QPgP+Lz2CfQo86vzGvYk9VD3Wfdc9sf2CPhR+Tj4mPc59KPz2PZL+i/6jfmw+NL2Q/ZN+aH7WvwG/g/9av52/zgBPwD1/pD+Gfwj/j4BDAT8BK0BLAB5AOEA+gEaAaEDPgRzAvsBoAIqBHECGQBY/Yn8u/8DAnkCGAGe/Rv7gvnG+737nfso/Mr5Jvux/Aj+Gv4D/ar6Ivkp/bL/CP+O/jD8ufmT+Tz8Jf1t/fv8aPtA+3X8Vv5Y/BT89vlj9+r4qfsG/QX7rvk/9+P0uPXm9HP0/vWI85Hz8/RK9fLzyfL58Srv+vGN9dP3+vYj9ebzxPFV9NX0c/UX+Wf30PVV+CD4SfjJ9/vzG/PB9OP32vlz+qv3VPVG9OT0EPd+9u74KPj494P6RPvy+vr5bfhX9k/2iPnn/Ov7ifre9+b1j/fH+Z76bvu2+gD6VfrG+zj7JfrJ+yX4e/es+x7+uP98/d/62fkl+Xj8pfx0/VEAJP5D/ssBQgI9An4CTQDW/+ACnAWRBB8FQwJ4AFD/fv8XAbYAmQMHAmsBQQR9BbQDFwQ5AjUBawQYB8wInAjeBgsE/AJrAwUFAAWxB5oHzQVmB1gHDwZMBv0FOwTLBRIKtwwwDTYL2QiAB7wHOQqbCHAK/gr0CM4KlAueCgEKzwkMBwUIQgw7DvYNZAwnClUJ2ggVC4ML3AveDfgKfgvyDPcL9AvmCjII6QZWCsINuA6DD3ILJArSCnwLsA1ZDWINawsJC0ULzws0C0wLcAnHBtIJpwznDl4O3gu2CeQHKgfjCHkJlAqPCcIGmAgaCW0I0Qf7Bq4F3gZ4C1gMtAwhDfQKSQplCQ8LjguBCygOfgxMDJgOcAxlDKoN3gpBC4YNEBAxEesO7Ap6CQMJWAm/C2kLFgzzC+UKLAtWC6gKMwwGDIQK2w2gEKMRlBFqDsgKswmxCosMJgzTDpYPDw3aDSQODQ+lD4cOPA2eD3cTKhSHFR4VehHHELcQ1hLZEj4TwxV8E4cSahKqEWYQlxDwDR8NCBEJEwUT3hGfDkELaQqMCQYLfQqTDIQLxAcfCioJCwnLCfgHbwdXCoANog1/C/UI5QVWBJUGUAkvCdsKqgutB8gH7gd1B7sHJQZNBG4FIwjGCHIHdATDAWf+TQHnBMEDUATeBPgBowEfA8gBWwKmADP/dQBbAmYEnwLO/Rb9Iv32/qAEugTgBUgHvQSFBAIFDAXABJIEJwTrBOIGigeCBtIC5v+P/hkBCQV7BroGjgZOBEkCyAKsAxEFiwRXAiwCOgXQBDoEeQKBAFoAngHoBaQGtQa3BgMExAEVA3cCfAFWAkYB8v/8ATAAr/0q/nP65fg3+DD7PfzG+sj8u/o/+cT5HPrO+7T8gPyd+w37o/vY+sH8Qfvm+HP6Zvq6/kT+ffwu/lj7Mvoz+y/7xPpZ+Vv4XfhK+er4H/iA+CX2lPQr9T35c/qq+WX9rf3d/PT8vfx8/Xj99Pz6+oH78PtM+nb8wflE+df7pv1lAQwCRAS6BIQBPwF1ApwAyQHfAXf/kQHNATYApgFC/rf9kwC3AdkFrQPsBHUFFgPrA6UE3QS3A0UEpgJQBH8ExAHiAa3/Sv+9AAEEUQb9A5gEJAOdAPr/BgEYAT4B6AGY/gwAnf5G/W3+APuD+2r9AwARA+4BFwRzAosAuAIvA5UDywPsBEsEOAYnA/QCLAPuAJ8BugGJBYIFbgXOBV0EUAMtBDYEXgS3BZ4ErwKaBOQDNAEZAgH9lvxL/3cAGwIJAHgBov9a/fX99fzD/Df8Sv0D+xT7Ovl49sn3DvSa8zD00PSk9o31GvTd80nxF/Fy8dXvme988ITwNe7v7oTtwO4L7j/svO2O7kHzoPQX9tn4ivf/9wz5c/qQ+x77hvxR+in7a/jr9br2D/L08t/zFPaq+Jj3kvg093v0jfbZ9SH3//ee9+D3rPaB9xX1HPhA92v2afcn+J77SvoS+yX6nvkt+SD5jvnx+K36L/k++FD6lvjC+EL4ifXt9if4Nvsl/Kf7zfwO+mb66fpV+iL8tPpL+1b5rPng+Rr3I/cT9Bj1GfYu+VH7cvpH+9347PdE+TP6i/n1+Aj64/eY9zH62vg/+YX3oPdU+Af6+/vl+WH8Jfr2+P35GPpE+5n5dvrS+An4pvrs+e/6WvgD9hf3xfcf+3T5hfot+9/3uvm/+az67/pt+TH5Kvij+hz69Pg2+V/2XfSP9cH4E/g3+K/5DPcV97z5S/lZ+hT6W/lp+DD6rfwl+1j7AvqK+fX37foE/VX8Tv6E/MT7MfzD/N380Ptv+2r5gvff++78jPti/JP6j/jx+Yb8FvwV/FX93vwZ/c7+Af+0/pP9p/yE+jv8Jv58/kn/a/3P/B77B/5R/6P+vv/2/pP/OgDkAXkCVAKXARYAq//SAawFjQYSBvoEIwN9AlUEWQWvBEQFuwJMAjUE/AO0A7oBaQHbADz/LwHMA00EPAP0AUgAZv8lAUoCZgNKBCsE4gMYBZcGLAakBlAGnwT7A3oG7gcPCA8IrASxAQcCWQQ2BFAEYwWHA2QFCwi5B2gIWwi3B/cFqAUaCB8K7AkdCa0HsgViBg4I7wh8CnIKTQi6CbEKUwo/CsUKJwqNCHAL9A1MDvwN5wvuCPsG3gj/CfkIEArfB24HyQfeCEwJjQfuCDAIiAcECbYN0Q4BDuYNgQvtClINmw23DUcQng9tDjARhBJXEdcRtBA6EB8PfBEpFGMToBEbD4ENBw1YDuIMcA2FDegKdgqyCjMLQglwBlEFXQFxAYEErQXhBGID9gL6/sT+AwAX/6z/Cf+C/S/+9/7P/f/8lftF+RD39fdN+/f7Sfs4+fP2k/XG9176ofmD++/7GPug+wj9Mv28/Az9+fqb+aT9gABo/3b+lPxk+mv4O/rq+qz6ofxn/Dz8Gf7//9D/IwAt/xj93v+jBDYGzAVABIkBCwC+/0EAzAB2AaIBj/8UAOEBgAIYAqIBLQC2/kECrAVlBmwFYAOKALP+1AA8ATcA/gGLAAj/zf/fAFwBkv/D/Ub8B/0z/zoBAQHI/ov8tfpm+/n93f4qAMIAGAAoAGQBZQJhAesCOQAm/gMD9AZ0CMsHNAbrAwED/gQTBYMEbgbuBGME5QaUB0YHrQZ9BT0CUwNtCOAJjgngBw4G/QOKAxQFKQU9BvwFkARLBFwE5wRWBA8CpgDp/3gE8Ad9BhkFVQHP/m/8j/4U/6D+HwCB/nb+Pf9RABv/Xf4U/Sv7Sf0UAVwCCwKH/1v8/fnM+3j91/xw/xH/N/2+/P//igBhAJn/z/zC/FQAmQOvAlUBO/5Z/Kj6/P33/uP+3/+C/OL7Afxc/Kv7I/ts+f749Pt6/rn/1P5y/LX6Svnr+j39c/10/5kAav+jADUDEQKKAtoC5/+fADQFCgc7B4cFEgJx/7P9UAD4APgATQGS/hb+Fv9U/1j/4P8t/lP7iv5OAQUCiwLm/d78Q/sl+/v9c/0F//z86PqG+3b7yfq1+uX5ZffD94b7xvwI/Pv6PvjM9872TPna+rn7cf1l+/H6dvsU/MH7yPtI+E72RPke/Lf9I/7X+2r5CvgP+FT6rPls+vL5qveW9uL4rPiy94z4zPWp9ZT5vv1//9b/r/w1+/75cPqx/F38Yvwl/Er6BfsU/F76Fvyt+pr3MPlu/J38Yv6U+3b4Vvgg9wT6S/v4/O38c/yc+3T8aPuO+377KPfy+Fr6sfp7/LT6FPaX8//ynfX39Yn28fiL9Tnz1fRs9D/0h/X28mHzmfYT94/4/fa9897xOPEJ9v73UPgo+n/41fUO96D4gPnD+h35JfkP/BX+j/37/FH5QvgD+dn9sQBr/58Cj/5l/Zn+9v6z/8sA1wFMAEYDmgNNBEwEnAHsAa4A/gORBW0D/gPMArEAqQLwBE0D0QNeBI4CyQNSBsQDnwM3Ab39svyl/UsBFQOIAzsEpwNlAHoB1QBFAswDZAODAxQGKgVFAxsCGv0S/jH/KwRaBowFxwVxA0AA6v5N/4H/QQEMAQMBkAE3/jT8AvtA+Cb7RP61AisGMwRAAgIApfzp/fr/IgH2Be0DPQI/BBsB6wFHAhz/AgKXA1kHrApeCFAJGQYXA/ACVQLYA8kFsAW6BEgF7AD6/+D+jfyv/8EBSgYhB6cG+wa7Alb/CQAKAIn/hgI6AfEA1AAV/G/70fhf9u32mPkY/ir9o/sZ/KL47PUU+Kb4dvrj+6v5ufhr99jzyvQw9XbzHPeP+dn88/uN+jX8Xvjn+PD5Zvja+lH8pfoQ+t36Gvnd+GP4Avf9+Lf5Ev07/Rn7w/xq+ar47Pkn+vn7gvw8/ID8jP3O+vz67/kb98T56fpi/hUBHwBmAIP+Iv3g/d/9nv/YAWcDGgMgBNQDWgNUBCAC6wWMCC8M9Q4XDWcP7AvVCkUNSgwXDoMOpg7BDQIN+gwtCwQMHAuJC6UNfA9nEfAQUBCWDj8MnwxVDpUOjg+AEH8P/Q2nDj0NdQzvCw4JvgkFC5YNqw89EEIQug2uDSIPAw80EHsRbxLWD2wPWRBhDrIQVg9bD5AQ5BGMFbUUgRQbE5sPEBADEq8RnBLqEooSdw+SELwQcw8HEVsNSg6cDXQOGxC4D0gQZQ6pC7sMIxBEEM0RlBFjDzMMzQ1eDR0N8w1UCWgI1wiaChcMsgyKDLkK2geoBxkIxgfDB4UIRwmDBqEGkAYPBgoGNwPiAJ3/Nv8Q/17/Nv+h/uD8jPvn+/T72vxe/M/7DPo0+QL7qfq7+jr5M/Yb9nP2qPeW+Ij4rPns9QH16fb49mn38vWV9kfzM/Fe9IHyX/KW8jTu4e0r7nXvA/Ci7kjwte/M7jzwTvC08HjyLvKr8NfuDvHN8jvzsPNf8SzyCPL29Gn4WPeg+Db3dfRq9vX2IPfj+Sf6pPhm9dP3D/pi+D75PvfW9bX0JffB+j36sPp6+Wf31PeQ9+j5S/p4+lb70vby9yn5u/lp+l/5Vfey9iP6Kvrq+mX75/m793r4a/oB+wj7NvoX+Qb25/kD/Jz7Evyn+cb5/PeZ+/P9CPz+/Q78YPps/OH9Dv81/yUB1v+k/ecBxwJOA/0BvQAC/6r+0gKdAVsCdgJVAMX/EgG7A/kDlQS4A6P/FAM4BocFXQdaBGkBngB0A+QE8gN5BFcCygDEAmoDqwMxBB4DigAEAOIELQVaBcEDCAJT/wH/UAI4/1D/Uf42/Kz8vP7g/uX9GP40++z48Pv//ET9Qvyc+Pr2A/aC+Nb4zvjb9yz2FPal92r4k/f79kTz2O+18Qz2DPcz+C33i/Nx8Nnw1e+470zz1PON99n41/XI8Q3u5O5a8MH1IPq89sHy6+/o78vz7Pgj+Pr2ZPi99aL2a/gH+YD5bPkt+Yv2tvj8+5P5RfcF9vv0M/Z1+or8ifqy+mb4xPbP+D37bP1z/hIAbv36/O7/KP9++xX6zvrL/wIH1geMA5H9zPl1+OH9cwX1B1AFmgBe+sf4QP2BAvUFLQN9/yz6fvpp/tsADANGAhwAr/+lAYQBgADy/vn9gvtM/8YEgwadBzsECALH/1YBjAPRBRMKBAqCCY4KqwnfBo8FpAWEBaMHuwsZDAoKKAhaBicEvwdUCrUKfAoLBvsBggHHBTsHHQgCBt4EUATeBS0I8AelBsYBSgAaAb8FHAYaBGEDyAH5AOcCUgXOBDkEigKQAaoC3wQyBMIBYP8T/0QBIwZUBu8CYQEY/kH+3wC6AlMDGASsBEwCCAHtA+4EuwXXBtwFwQS5BNYFUgR9BLoEPwMFBAoHFghVBYgERgJGABcEZwaEBwgGcwP4ARIBaga4B7MHNgcsBCQFkAdrC/sLlQklCasGIAZUCx0MZgwuCoUHvgeCCDoMkQsXCwwLeAbUBWcI8Ac+CqcMIwx+CvYMZA6nDsYNyglCCO8GvAu2DYcN/w22DCMMlAwaDOIJJQhBB9wGOAl9DcAMRw0KC6kKoQxUEUEU5RBBEkEQ+gxdDbsOJBH+E8MUYhHuDVcOnw4QEDAPWg5rDH8NDhG5DiER6BATD8UPVRHwEe0PGg/NDioOpBEkEz4T7hGPDBoM4QzWETgTGBIXED4McAzlDT8RxRFhEaIP3gpjDOsNAws1CksISgf0BvsJzwkQCPQI/gRBApICLwNSBYkHLQUpAhUABACq/8b/Dv+X/FT7q/qV/JT9nP/6AWcAhP/y/in8cvnR9mH2EfiA/ev/Pv7P+bj1+fNN9FH6Evoe+lL6b/i/+S77Bvt1+lv7Afrv+H/8yP3r+wH8nPiu9qj3hPsy/1n+pv0I+1v3Ofh5+dz5dvnW+dv4svfU+tz4QflG96H2s/fd9478xPuw+7372fma+/7/vwDR/3H+xfoe9uX3Kvqo+6f9tPoh+hr5kPuO/B37Sf3v+yz4J/kv++f5e/jZ+YT40fdx+9P4A/hC9dPz7PR69m37X/qn+7v7nfiz9zT3Ivfy91H5pPij9rz5Uv0A/4//YP2D+3v5xPok/csAYAM0Apv+ZP7i/pz9Z/7B/hX9Df1CAjYC8wGB/5b94/0L/pICfwJWAisDNwGA/58BmQIlA6MFGgbJA+wEJAXVAw0GAgWpBdsEKAWhBO0BKwKzANr/rgE5Az8DQwRBBDwCIQBlAnwBvQBwAYr/d/58/G7/jgB2/8X/iP02+8D9GACr/1H/Gf12+Rf6T/74/ggAPP4O/Xj8ZvuH/c38Nfz7+hf6HvxB/f/8+fyk+8D4gvco+0f9rP4sAFH+Y/yO+8r9vP2J/Q3+Wvyv91D4Z/sM+477ZfqW96H2Jfte/DX92vku9uv14PYu+zf8HvxQ+0r4NPU5+HX65fuo/CT83fhU+en7xPz8/4r+9vxF+Z/3ffci9/X3UfsB/BH86P7y/qb/4f8h/1X9iv/dAAUClQLzAN7/H/0y/pMBiAIEBoYGowGVAuED4wMfBEYEVwPDAncFfAdGB+MDKgBP/br9wAM1BscFPghPBa4BRgGgAfEBHADOAEkAwwCrBsMI4QOIAJn++/vvAW8GxQU9COIFHgMeArQAGAP6A50C+gQQB9kEJAIiAD79+Pu7/0UFIwbDBcgEqf46/eb/TgMSB9YGTwPBAikEhgIVArf/v/6K/TgA6QMMAaYBbP1M+Rr7APxx/WL/Nv4Y+ir8h/1b/Zf8oPf29yH5Hvw1/nH9LP7f+k/3QvjD+Z76eP35/D78J/3h+zn5d/WD8d3w+/Op+a77s/hF+Yv0B/Lm9mr5Bfz1/En6K/gi+c/4UPi59u/z3PPh9L340/oU+Zf5VPZO9OD2Evg9+Qj7p/ja9fv4G/cU91P3T/T59F722fp2/Ob7kvwC+gj5Svva+xH+sf9T/Vj7aPwv/GH8dvwc+nX8W/4+AacBWP4S/qj7Uvri+yr9ZP2R/qP+X/xs/qn8Zvlq+1D4ePg9+BL3HPlP9oX3Nvja9nH5nPlM+PD47Pks+Yz5uvrY+K762/hT9UD3q/as+b75c/fr9hLzl/ST9h752PzH/Gf5RvfY+sb4tfnm+B30NvU09yr7GfvJ+x796Pg3+Pz7W/wt/df8lPuc/UAAgv7+/Kf8pfrw/JX/VQQTBTwDOwRRAAn/ewIpBGAGugecBc0CwgM+AYIAOgMSAkEE/QQhCFsH8wQMBr8Agv+SAYABLwR5BekEtAJeA7QEqQJaBYACjwC5AbACMwW8AsgClwIi/zgBbQMhA/gDxQHOAOECtgRZA3IEKgQCAb4BvwKGA20CpgG9Aiv/Pf6vAdEBOwRxBXoEZAHwAuACxgBHAmkCbQPQAjIGTwZtBn4I6AV/BNcGswYaCEgJagjZByUI6wpACGYLoAlBB7wIAgj+CigKRwvXDEALvAvQCnIIvgmRCisMdgqNDLIL7gdWCOkDLwTOBGwHzwiwBowGAQQNAfQDEQa4BfwGhgbiA0MCtAVZBREFWgTeAagBvwKoAwwExgPvAnUB+/5wAdYALgEEAan/b/25/tABOQDAARP/tv1d/VEAtAKhAwQDEgOkAXkADQTZAEYDKAOkAlMADAAgApYAHQJE/7z9wfzW/gcAiQARAXYBlgAuAc4DfwIcA6YCbQA2/3ACaQLTARQB8/1R/k393f4vAHb/DgAJ/577rfun/AT8Tf5e/53+qv39/pb+bf3D/jT+S/7T//oB6AJAAnkBEv6P+/n9Bf9z/7D/f/6n/C37Hf2A/Zz+o/8f/Vj8vvwy/sf+3/6CATwAjv9VAcUAVQDZ/zwAQP2N/AIAzQBDA4wDUwGEAEgAiwJNBIQEyAVlBHQE5gZrCHIKswpqCn0HfwitC/oKAAsfCZcHqwgKCpsMXw6zDWcP3Q3vDe4QbhKUE+UTDRV/EQcTihNwEwEXIRRqE98S4hGrE78UOxXzFTEULhNtFPcUORXUFPASiQ04DzMRthA9FAARvA2rCw0MFA8hD4QOLw79C/0KtwywDJYOVw9/DnMKOwskDfIL3w5ZC4kJAwnQCHgMgwzyCmwKtwcSBS8G1AVnBXoFggZOBIUC5QO5AjIEGgSHAboB1wIdA7sEIQSrA8ECUwFQAwkEgQV8BvIFkgIWAVECSALSBB0GngMYBPwDLwQDBiIFugVdBOcBaAAlAdABpQLlAjsAcPwh/UL/Xf8sAvT+NP3l/P771v31/df96P2G+/X62vxW++r7Lfz3+5D3YvZr+Ir2afrQ+m/32fa89rX3gPml+JL5ufgf9/n42/h/+kH63vly99L1gvjN+cj9//00+iz51fcN+AX7Qfyt/J/8hft5+/P7HPvl+hL+bPwR+Xz7KPst/Kr9+vu3+q74nveJ+YL7Bvsm+275BvjU+Hz7r/xR/Rr98vfd9gr4SPll/D79Aftk+lD6gvlh+2H8nfxQ/H37H/ux+rb7N/tN+yP6dvcX+fD5nfs4/Tz73/iC91j2cvdD+TP5Jvlf9uf0Q/b19mj2qvdQ90zz8PP49XL2XfiD+Hj1GfUg9DvzR/Vy9HH1/fbP9eP2gPgk+cb5cvkK9yr0ufWJ95T5wvzc+jb4avUW9FT2PfcY+F/5tvgn+Jf5Zfo2+kr8p/xv+Av6bPuK+aH7Uvqu+Lv2z/QX9r33M/mq+/r7HPmJ+YX5vfl1+bH5H/dU9O/3T/dT+Yj6Cfjd9tf0kPNs9GT1bfTe9EvyhPLY88v0E/VH9ej0ve/+8DTy9fHr8z7zv/Cu78Ptsu6473fvTfJG8FLv6vBS8anxmPFT8bzuG+yH70Lx9/IO9MvvYe4F7DrsKu+r73Tvh+/B7b7tGPC78MnxxvKc8Jbsi++v8fTyFPbn8+Lwru2S753ymvJp9g32ivNr9Vb2l/Z49n34zfeO9t/4Lfvq/LT5UPgQ9aL0b/qA+6f8Pv1S++b5f/u6/aH9oP14//D9JvxC/xgBu//h/Jj7BvlQ+/X/9/7K/ur98/z/+yf+qgBZ/6D/jf8e/rf+rQFiAw0CvwCZ/z//WQPOBfEEeAbCBYECrQMLBQoHEQgIBzIGFQVBCBkJOgiGB8oFaQQFBJsHXgm8CYAMVwsrCd0KTQvlC3sMowyrCqoJOQ49DoQNaAyMCJMHYQjzCxEMfgvEDC4LYgsfDc0Ndg1jDdoMrAvIDZ4P9A4VD3sNGwvaCtYNsQ+YDv0PJBDYDi8RIRKvEQwSuhBJDzMPCRKUEgcSYBKmEEkNMQ1/EawSPxIHEm0QAA8OElYSBhJcEkAQ3Q5HEDIS/w+GELIOWg4GDsIPDBKqDxQRfQ/JDAgPhxCpDtQPQQ/xDd4OghEmEdgRghMGEGEQaRF4FAUU1BOMFRgUTxU5FoQWkhb7FVoUlBPHFbcW+xWJFo4U6xMdFX8WjBdWFhgWuhW+FeMXIxi9FgIVdhJMEC4RsxTSE8YU8hOSEfsQuhEXFXsUwRRaFbIUABXtFZETJRIBEDcNMw7AD1wR+xD8DyQNDAuiCxgOMQ3yC2YNeAsjCw0Ovw6pDPMKwAmmCA4LfQwPDKoMowl2CXAJiApADQENtg0dDAEM2A35DcEM2gu+CCQGfgfZCHwIbgdCBhcEbAJyBN8FAwRRBXkEnALsAw0FigTbA8MBl/8EAHICWQSbAiABIP9Q/i/+QgCE/zr+Xv7A+x3+Jv/H/mr+9vzj+jr6xfzz/Sf++f1f/D76bfrR+3T7DfuF/JP7n/ud/2H/RP2C/Hf6zfhp+jv93f29/b78NPz3+x79gP4Z/Xb9S/5A/M/9wgDn/wgA2v5k/uT9j//xAU4AWv+9/GD8zP7tANEAZgK2A6oCUwPXA8ME7QTuAkIBPAI7AjgD2wINAxoCff6W//UAbgOzAw8DVwRMAxUE0wRyBWoFAQOOAk4CxwMqBosFxAQKBIABPgPSBdsE4ATvA/4C5gIwBeoEtARGBIkB3gFVAI4B5gCH/2QA9P+SAGMAbAHL/2z/y//p/XP+Jf8x/6H+TPwK+2L64/qQ/Lf6BfqQ+Ur4xfjD+e75OPog+jr5dfhm+Tb5Rvcl9zn13fNa8/P0CvRU8jryOfAE8U/yn/LU8d7xT/Lq8F3x1/Ry9eb0B/Qs8uvwf/K280Lyv/Iu8ADwnPBy8LXvSe0T7WLryeoV67PrEevu6YPoS+d152Popuea5k/mLOOi48vjNONA5BrkL+PW4s/jauTP5CLlXuXw4jHi1OOr5IvkIORX44TjaeSG5FfkjuIO4j3h7+Ct4YXi5eLb4nniF+HX4cDjF+TC41zkeOTe5QnmkuWI5ZDkcuRC5Q7mTegG6h/oUuil5t3jr+Rd5Y7keuWJ4bTfVOIW41jodOoi60Xnh+Ow4Vfh9uMY5/noxOpu6ibmXONa3SHhy+NS6CntMOuW5x/iMd953LDeC+Pl5n3pRun75DHgBtll6dD2XfL39XT23/au9JLzEPR+9nX6jPwu+zP6OvZz9PT1lvas+Ov4aPgy9hr3Zvcz9Y/yxvEN8+j1q/cU96L2LPNS8L7x5fJI9tf3lfYB9UT08PS58kzxzu587rjwTPOQ86TypvEv7lXtNe/o8Erx2/Gc8Nju1+/f7jju++zo7PPtG+5A8dLwN/FN7/Ts0e3D8Vv1dvbz+MX3Svct9hX2APem9tX11fUA93/40vhL+ET2B/TJ8wH2cPgm+G/5wvgY9xz4TPlW+TH6oPhR+EH5APpD+6X6bPpY+Yb5XfsG/H78Xv2E+0H7DP1h/s7/GgIbAzUCDgJpA/gDkwRJBXQFeQVPBqcJjQkhCxMLHgn4ClsM3gx6DNwLJwrbCDQJjQcDCDUIvgfsCJEHDgr1CRIJEQmaBpcEkQUBB94G5QdyBvIGPQYCBTsFZAUNBN8E0gRkAz0G7QUbBj4F3AN8AjICawPwA98EFgS4AiUCLwHL/4wAzf5E/1YANQJBBCgDDwVUBHUDWgRnBPAGIAmhCIIIJggqCbcGSwdxCPEFJAcRBwkK2gqCCgcKYgeAB70IagmBDO4MsQu6C7MJNglaCFIKKgqLCeALfgwDC6EKJQqsBvMGrQfSB6oKpwqsCfAJRwlrCrYKHwvGC/UK3gojDDQMyA0aDUsKqgv9CEkLPgtBCUkMswlYDMMOIA56DHYKbwpFCtEL1g7sELAPFhCnDlUOPQ6wDJYMCg1BEF0SfBOGExsRSA7XD4wRyxJQFfYUtBVLE0IQEhFuDokMrg1mEOASMxNaEXANOwrbCQ0Lag0XEZYQbhBvD8sM/Aw+CWgI+wu0DSERQRFoENsMbAeVCMkJtg2TEj4TKxUZFIQPrw+FC1cKiA2oDWEUkhRcEVoMHAayBfEFZwlaDcYO7g19DtAKdgkBCEoFDgjbCBUOIBDtDnwKFgRAAWsBQQQ0B8kL0wlxCBkGYgF4Adb8Qfxx/+D/IwQBBUMCJP7w+WH4cfnm/MoBUgRWAhoDxgBN/3T/kfxrAOQBvQQnCZ8GZATA/y78WPxY/SkBCQgmCdIGEQa1ArkBkP8V/d7/8ADVA+sFMQMFATv7W/nu+T796AJOBUMFXAP3AbL/LgC4/Cf+HQAVACEFyAIAANn8H/gk+CP7gP6pBGcFpQNuBKP/CP6J/LX8wP/yABsFAwY2BLr/yPlY+cr68/4LBp4IxwYbBuADigFWAIT+QQBZAj8G9wZjBNwARPp6+b/89P8eA/QFhwTaA70Bxv1u/Y/7xPzQ/wsCxwKeAXH+DPpW+FP7if3U/00CCf6+/Q/9Afrc+bL4g/om/Ab/gAB9/IH67PVV8hf36vr7/Y8AR/2D/Pz7nPjs+L32xveW+qX8uv4++334ffMa8pD1xve0+hH8ovvj+a/5+vdD9XP2Ufdk+MX7UfxX+kj4gPRg8pf0r/fh+U77QPnz9zX5Yvfq9pb2l/aF93v3T/k0+An2yvLf8Nv02fcU+Qv7v/kw+Ff5Y/nt+FT4AvkX+q37x/1Y/F76rfgS9UL4Kvyf/aMAKf+k/QL+q//l/kb+rf2K/QX+5P4f/9/8tPz1+KX5WPwp/oT/Yv/b/Sb8Zf8B/1T+D/72/ED+f//r/q3+8vyo+tv4cPoi/Ef9jf53+qP6GPtU+xr70Pnc+Ef4yfer+J343PYZ92Dy5vJI9U32N/dJ9rHzQ/J49sL1g/St9T31VfWP9hf3pfaT9DTxEfF89DD3tPjn+M71vPT19eL1zfVu9LPzL/RZ9O/1LvV/85XwMe/Q8jn2jPl6+XD4YPes+FD6gPl9+Gf3Gfem9rL4bfbF9uH0AvEv9ZH39fkf+0/6GviP+Nv6Tfoo+mT5BvkP+sX7Uvwv/JX6w/gN/Dr/ogKUA8gB4ACHAVEDiwFoASkCjgDK/4wDbQKJADP+WfuG//kC6wXTB/0HywQZCFkJkQfiCO0H8AYvBtYIHwZ3BOICpgBcA/8FoAc2CZ4H0wNzBmIHpgYyByYHpgWFBN8GNwXAAyYC0f47AmAFoQbKB/YFRARIBXEG3wR1AzAC9ACRAdECJQGB/y/8e/n//ML+SwBDAgH/3/38AHgChQFIAPn/fv3U/2YAuf07/j75Jfg6/MH+pwBMAFP9Rv21/4D/if4M/lH9kPxY/1z+n/zC/fH5oPka/m8BdAR1BHoAggHkBBIELgOLAgAAuP7KAOP+qv3G+3z3Nfmd/Jj+GgBk/3r8mv79/4f/5//h/mX+6v0QAbL/Tf7e/A74aftqAHcCugQzBB8AfgLrAz8CxAK2AIf+d/7jALn+vP0f+6/3oPqs/TQB4wJ3ARz/PAJpBE8DtAI+Ad3/sAFyBacDkQG6/UH7gv+/Au0DiQYUBIgCTgbCBqAGyAQ6BIgCMQTYBnMDHANb/zH84f/iAzoGSgfWBP4CowaQB24GyAY9BYQCJwQPBjcDoAE4/Xn5X/weAJACWATHArgCEwYLBu4EHgPnAZP+of5GApf/N/4Y/Yf4bPqn/hABlQQrAhcB5gU5BxIG8QWmBIsC6gJJBVkDqgGz/+D6lPzv/7MBswM5Aiv/vwH3A3ABcAGbAE7+R/6BAK4BFv9w/OT4evpw/qb/nQODA1H/kgJhBf4EWgTqAEEB1P/BBHwEQwIIAxX+hP8DAlQElgYECVEFFAfyCCEJ8wbvAKMAdf1r//P+w/zG+873CfYf+Zv7/f2aAoICBANTBjYJgwZPA+oBPgClBboH/gZfBgsBh/1B/br+VgC1AtMBWQGTAhkGigRP/Qr9bvrr+ywC2wC3/8/9//gT+b75Pvr7/bP+GP3j/l4Ahv7r+PL1EPUv9LX52vma+ND3a/KK8eLyWvSr9nD54/h3+Ej6JPl79cjyqvHU8bX2Sfih9vr1dPFt7Y3ufPCL8hz3yfZh9qT3Mvai9CbxH++877v0IfiN9r72DfSq7rTuEfK19MP4Bvkd+ar6/fdL91P0r/LL8yT3yvyz+8n7w/iG9Pj0gPd0+tT92v9J/yMB+v4w/lD5QPeb+LL59P8PAD7/NvlG9EfzGPUY+E38K/5O/FP/Uvwl+Zn0cfP687z2p/1l/X78F/f+8Y/xzfQP+c3+hP+0AKYCkv1X+uT0mvSE9UP9IgEG/5/+RPbG86TzDPfu/NQACQKGBSsE7v2b+kT3KPmy/iMFeAUUBQEAv/rj+qz7TwB1BaEIvwpoCzoFAwAM/QT68/90B5YGwwZ6AaD66fs8/M7/sQSEBjEKlAx3BTsBl/5F+5IBZQeFCCwH4gLT/SH91PyO/74DsANnBnEIIAOM/d77AfkK/q0DSwNbBOMBf/2B/Kv9kAA3BLgE2gVUCCsGMQGl/+f87vzlAr4D2QEzAWb9Nvxt/nAAywKAA4kDigQoB1AEkgGOAEv/bgFVBSYEewJgAuj9Af8Z/9gAuALvApEBq/+8A2cDDQL1AQABtP95AggD4ADSAZr+4/zT/7gBKANdBJQE3QLxA6gIHwfBBRAFXgPaBOQGoggzB3MGOQW8AnYFswjuCG0KCQrMCEMK4wwwDUkKMQn/B70G+wg7CwkKAwp9CJsGFQoYDLYNuw5oDn0NOAyrEGURaQ/DDqsLSgv1CRALuwrBCUsKJAZCBjQJ3AkRC6ULoAuWC8gKRQ4OD5UOVg0TC3kLagtyDMMKBwukCaQHKAgMCgoMTgwpDOgKtwniC4INHg2rDb4Klgl+CP0JzAlVCFUJgweOBcgHpAqjCjULGAqFCZAKFQ9JDpwNvAwoCtUJQgrIDI0LSguWCfwHMQhfCoYLKwxkDFILIAqfDO8NxwvMCzgJ3gidBiMIQgoXCesIPAZ/BIQGrAedCL0LhgoRCWQLSQ5CDdsM3QrRCQMJogmMC4kJtgl1B60EpAZ3CVYKigtCC/MIzwb8CQALvgtZCRQGfQadBNAG3wQVBVMEsgGGAuUFOAjnCUkN1AsOCq8MMRC/EZkRhA92DrsMsw9ZD3AOIg89C4EKMgzsDS0O1g6LDBAKaQvWDAQNnAqkCO0HswWpB1QHfwWnBKABiv/XAVIGQQbKB9YFqQL8BVcHHwdjB9IEcQIy/7UBLAOu/9n/f/ti+Rr8j/72/k8Awv9p/LL+EQFmA0cC+v9U/vf7jf8OAIj/JQDk/DL7ZPwv/zoBOAIFAt3+cgG4BKMFCwWBAk0BHP1tABUB8ACiAX7+B/6c/+0EqQWWBxoGTAJ9BHEG4waFBpYDJ//V/Dv9A/39+u35FvXF8zL3Ovmq+kL6+fd89Ar3SPiC+Cj5/vV086Pyb/UW9Pfy+vIC8rjx7/PL+N35Dfw8+Wn1pPjB+qb9CPwr+nn4UvT19uT2zfYD9mfzZPKF9Oj48/sg/4P9evyA/9cCRgXFAr///v2/+0//J/6J/Wf95fg1+Dr76v4tAJADAQGL/0IDAANEBCAEdwLn/3f7y/5n/hb99/2v+a/3nvmB/Lz8P/4f+aX35fo9+1v8Ofp++Of0n/O+9mP1h/Nl8qXulPCu9Pj2/Pgk+TH0KPS69qP3x/gg9TDziO6D7zHxDfBd8HHs++mi7TbxpvG48x/vi+1h8aXyN/P58a/wx+0o7hfxFPAN8H/tP+n56uXvmvLF84vyi+9t8mX0QvV+9PHxnO6X7bzwhO938DDuKetO7L3uR/Eo86Pyve348XL0Q/Tr8zvxu+6C7Q/x9O/y8TDyqe+o8RP1fvfL+QD49PYi+1P9D/5M/L/5i/ZP+vf7ovtU++b4h/fU96z6aPsh/Sn7+fyLADwA0v2k+/n4sPiO/bH8yvzS+wT4EPoh/Mb7F/7M/tr9VgIgBKkBK/9Y/HL5ffpG/7392fyi+o738PnJ+4P+YP4b/GP9UwCjAMj9g/vZ+AX3e/sE/e77Z/tj9wH3rfgt+7H8dPzs+278GQC/AIH+L/zX+hn6/f0tAAb+X/3l+Q36w/xG/78BzwLrAMUBlwbMBtIFgAM1Aur/CwOqBmIEXQX4ACj/JwJjBGkGvAe2B7cFzwgpChAIuQYsBIQBFQP/BR4FMQVmA/L+VAA6AlEDnQZABecExgXmCK4K5Qd2B+AEuwQiCEgJYgdMBU8CQwIMBrwHZwqRCxkJmAYRCR0MmgpTCJ0GKARpBPEHswYdBTYEfAHdAk4G4Af9CRcMjwj5BnUIIgipB/sE5QSmA58EQghaBRwF1QMQAF8CQAbjBxkLQQtaCLMKSQ2BDtsNZw0WDDYKGQzJDPYLcQvQCIkG8glbDBgOJBHDDq8LLA67EKoR7g/PDQ4MwQp8DhMP7w2ZDKsJhwggC3YNmw/bESgQdg7bD2sS+RLqEI8NVAyPCY4LSQ3XCuQJzAa7A9ME7AZJB3sJ6ghpBwEIkwq6CvsK3we5BDME+wR6B8gDOQJaAOL93v6AAaQB2AMPBTYDaAPaBF0GZgb0A7MANACg/yAEGAWyAwUDeP+Y/rYBuwTXB0wKxwkKCE8IUwm9CLUJ6wPxAocBKAEvBcQCCwJiAPL91v04AIEBGgS5BTIFngT2B1cJEAoMChwFNgTEAcIDGwaPA/QCvQG0/uv+fv+zAFcDuwPDA1cB7gKeAnsDNwRh/oj+9v3g/kMBSf9v/6P+vvuh+v77df3N/oUB3wFm/wsBgACtACUCOPwB/F/7bPrj/Wr9U/0J/Kf5Z/pk+478+v5oARYErAFgAgAEPQNVBsYCrwCUAPz+QQP4AsoAeQFM/nj9+v5L/34BzgOiBWkEKgRnBrcEjgdgBlUCygQWA0ME0gVsBJsELAPDABwBxAL4A3gFVgejBt0E5Qa9BRwIMgi+BPAGigVhBy0JhwYhBgMEHwERA4YE/gXFCKAJnggSCagKUAjkCjYI6AVoCLEFAggvCHMFdwS2AP/+TgFEAuYE5geNCJMFswjhCBkHcAifAkQESgQCBmsIrQUhBXYC9P7l/pz/AAEkA5QCNgAdAKkASv4h/976d/ry+Z36t/2q+aP5nfZ78wX1FPei9yT6w/la9qz3v/lt+QH4VPa79pD2Sfh6+oP5Efp/9ln3U/pJ+kb9yf/E/hv9Hf+J/ir9RvyJ+iH5qPjr+or4dfeQ9vHx2vJ19UD2D/d++Cj33fmW/DL7m/sA+tD49fl6/pb+xf1r/QP53Pkd/Nn9N/8DAMP9evyq/+/+Ev42/e361PkQ/UP/bvyo/MD5UPZB+SD7O/yg/Y78AvrD+yX9hfxt/CT6ifhZ+NH7ffvR+ar5TfZ69hH5hvr3+yX91Plf+O768vrd+af4Q/Yk9Mr17vfR9732d/Od8JXyHfY491r56Plu9j33/Pn7+er4YfaW9HXzMPZh9hTz0fO98PbuI/Fm8gzzN/QA8yLwEfTX9dD0p/Wf9J7zUfMA9p32P/Zo9hbzePOU9if5avlJ+f73APZl+Un7vvrC+hD6T/ic+L387/0u/QT8Nfme+YP7QP5p/xEA//1U/O4AzgHVAlwBQADK/jz9x/+z/Yz9TPt0+Bb5vvqB/SH+2v5+/KP8Rv+v/8oBXf9j/dD6nfoN/Cv67Psb+rb3/veb+j77xPs++3X3I/gM+lf7u/uT+zr7CPng+QD8SPrv+hL61ve799f5pfuP/bD/evy7/C8ADQHvAGkAwP+r/Zf+aQFFAAgBagCj/Q3+Vv+gAFIBGALY/o3+EAISA8IERgLA/4P+/gAZBNwCsQQPBIcBwgJBBYsFDwblBSMDawO/BnUI9wlfCQAHHQZwCP0KrgmBCr8ITQVmBoQJcgs+DAELywfoCKsKXgrZChUJSQdBBmcGrghJCFcJowhjBKkEEAb8BZwGegYnA9oEBgl5CaMKtQi9B+IF/Ad+Ci8J3wrVBuME8gV4CGcINgi0CdoDUAVpB5YHdAnwBqcGkwS2Bv0JJwnvCcAIUAdmCtEMSw20D+gM5wqbDBUOrw5RDigNyQpYCUEK+wktCOwH+AQFBJwEVwX8BdwGsQVNAwQIggnqCNwJMQjsBeME+AcXCA8IrAh1BVMFOgcNCMwG1AYTBDMClQZcB5EHjQWfA6cBtwDRA6oCpAPZAv7+b/5gAS0CmgIWA/D98/7tAbEDywREAz0C+P48AJ0BgwBrAvoAzv8kAMoB/AIYAxEDWf8XAekEjgVVBfcC8QAf/9UAgAJoATkDjQDU/Cr/7/9U/yAAcv41++z8Bv8R/5L+Wvwz+jj6rv1k/Uj96f2O+uj5b/vj/MT81vwf+7f5o/tA/T7+gf0M+8D46fje+8v83fzi/ZX6lvro/Gz9h/4b/9789/tq/yoAdAHp/7j9zPtD/Z0AaP4FASEAef5OACQCPwQsA8UCIgAvAOAC1QMuA+4BHf/s/WUCFwKKAXcCoQC8AO0CwwQYBnYGOQXrBFkH8wrPCX4HSgYgA1EEnQiHBsAFYwacAlgC1gMGBYUFRwUfAxEELgj/B9AGiASkAYwAwAIUA3QCpgNqARIApAKNBMoFswfiBmEFsgWIBzcItAY5BTEDMwEJA4EE1QKdAr7/Rf5NAO0BxALFAgAAj/6VAKQAnAGi/978Svt4+8n98/ym+yH80Pks+bD8KvwC/lD/SfxM+yL9Zv/W/1v+I/18+1T7dv9TALL/Wv9r/ED7A/1y/kABGgL1/y7++f9kAvwBlQHk/0z/4//cAi4EzQOmA/QAuP7QABsCYgL9A5MC0QA+A4YFfQVOBuICFQP7AUgDpQVzA/UClv8+/x4BzwP3A/wDSwJyACEBOwLyAoYDogCT/Q3/3//oAUb/8/1x/cX6lfyv/h8ALQHg/y/+k/72AKYAcv9f/RL7ZPkA+YH6J/hO93b1bPM19IT18vey+Qz54vZv9/v5pPn8+fz36vU89kb2wPjv95v3YfVT8xvzO/VQ+LT4fPm897j34flK+Vb58fct9IrzDfSr9zL3zfW/9T7yUfEH9KL1xvVr+ED22PTB96X4qvir9zr1mvNb8m300/cV9hn2QfVb8drywfVp9kD4yPgB9vr1evfk9tH4oPZE9F31f/TQ93f4X/ab9nTzDPIN9ar2gvlP/BH7Q/kO+hP7wfvo/D75TPjk+I75ZPzY+qL7I/p1+LT5c/py/Gr+3P8//TP9tv5Z/68AYP+R/Aj79PuV/VH/dv4g/rr87Pq3/UP/MAGoA6oDJgF6AagCYALOA7IAsP6Q/OH8KgJkAbYAogAo/UX8P/5JADsB4AO3A4oAIgNYAvgCkQRJ/yn+dv5G/64BJwGGAb//0fse/U/+LwDIAcgCdgFF/70CVgJwA3sD1wCRADP/VgF1AkgA0P+j/lD8Nv5pAD4CpgMLBHkCggKWBIEDEgZ/BDoCAQOIAjoFlwYUBvwFSQSQA+gE6QV9BygJHAqNB3sI7wgJCQAMPwnWBwoHKgf7CpELqgl2CKsGUgZZBk0I5glaCpYLzgjICBAKEgkbC4UK6QabB1sHFwhUCmAJGgkLBgIENgRgBGYHywb4BmQGogXkB/UECQfTBzgF9QVXBJcFXQcoBhwGBwUsAgsD2QLiAxMFpwTBA8cBnQPhAMgC8QMT/6EAqAD9AewFBAUrBVUFIAGOArkC+QO8BS0GzwZDAxQHtwZrBxMMrwhKB2YHlAeNChEJQAmUCagFtQexCAQKfwv3C/UK+wc8CVEIQAjOCXoH9QX9BjYGjQdPCY4HCAfoA34EHwYZBlAIzgbRB5UFdwSEBRQDBwfsBVwBgwKOAT4B1AIPASYB0v4f/REAcP4/AKQAAgEV/yj6u/tr+Vz78f0I+sn5mvlS+Nv6LvoV+cX56vY0+AL5TfiZ+BX5m/k89ZL16PUN9X74/PUW9SH2qPXQ90v52fiO+Z73zPXV9or2g/dz99D4Bvfh9Zb4/Pdc+zT8Vflf+zf7e/wb/wX+mf6n/UH9B//z/x0CVwEhAV8BOv5b/zL/UgFKAm7/ov+z/JP99gCwAWACMQJ3/44ACwLyAUYCugGnAG79Uv8t/vX+AAFU/Vr9dPxn/dX/Of7s/gj/7vzn/lL/qf+D/hr/UP7c+lv99vyn/wv/n/up/NP7Xf0c/5//BgI+AXEAdgEcAVEDzAJABRgCiQA2BFMCywYJBQsDTAHR/7gD/wF9ArsD6gL7AxMF1wYNB74GZAbHAq0EhAU6BuYI1AXcBMADNAVOB98Fhwa8BqcE/gSbB48HSgavBjgDsAKPBT4FKQj5BpMFtwSfBeMHxQbKCOYIyQZXB+YISQmjCgEKmgc/Bt0IsgnACzoLGgi+BgoECgfGBZAGxwb2BbUGHgjhCewHbQnHBiUDpAS4BScGPwcyBTgDMQL/BCkGlwWaBrUEjwS9BeQHvgZMBz4G7wLIBOgF1wY3BzgE5gJLAv4DEwYpBRoHswWaBBEHPghnCCsI2wb0AzYEmAf3CeIKDgh9Bs8FIQUaB0kGRwg2CIwGyQZYCF0JBAguByACgAJsBOUE9wUwA5oC6v+mAJMC+wB8A0IDCgPLA/UEgwZZBoQGDAJvAvcEQQSkBGgBmADx/kgAUASfAlsChgKWAXMC2wMSA0gDdwKa/9b9Bf+6AewCuwDR/ev7nPy//v/8pP6//9r9h/0y/xP/if3y/Gv5ZvmJ+5X8mP52+4H4+/eg+VL8nvuP/gf/0P1+/ksAVwEQAdL/rPzx/V//nAHBAs//F/8E/jz+TgDD/yYCIwIz/5QAPwLuAbUBWP9C/GP+yf+yANIAG/81/+j8RP5hAL//XwKnAcn/SgBKARkBewDX/c763vsi/JT+Xv9n/Hn6Qfnn+zv91/3a/d78Iv25/Tf/bv3T/AL61PYm+bf4PflO+2L3NvXW9KX2zfi799z5oPj89vn2+vdZ96D1ufLq76Hy8fNG9W71nvNz8lXzofUO9rz1IfYQ9kH2FvhF+W74Rvf49GrzGfY49p33k/iH9sn2IPb69w/4bflW+kH4V/ii+Kb4tPff93z0M/Mg9Qn1AvZu9e7xR/Ga8QH0KvZN9o74S/f299j56vik+Lr33/N/80X1aPbl99T2FfY09RD12/Zo9zj3jfgH+Kn3SPkS+Y/4iPe08zb0CvbB9P32YPUX89Pz5fLq9dj2UfgF+Q33Jvka+gT7I/uE+fT2xPa/+ND5ovvz+gb4SPfX91b6q/vQ/Kb+Cf15/LX9dP1//S/8uvjO+O758Pqw+8H5qPZa9zj3ofhE+b/4EfsZ+an5cPwY/cb7XPrT9+D4lPt9+yr+Fv+0/Bz9U/3+/y4B1AC7A+cAO//MABEBfP7G/Vz6lPhj/FD8hP3R/P75tvhb+Mb5lvmy+tX8aPur+5D9Tvyh+mb6B/eV9dP3W/i6+Yr6X/hC94H2Svgl+eD5Nvv7+p/7nfzT/ez7p/tp9/P31vrj+Un9Gvwg+bj2iPiS+/H62P+9/yT+5/y9+xb93fpZ/Uf6bPvq/K/8O/yd+bL42Pbm/IYALwG/ALb+u/w2/MX7Kf3j/HD86vs6+zb8oPkg+BP4PffO+Cf+nv9T/nv+6vzg+TP63Pkk/GX8fvry+Rz6hvk79yv5mvhR+XP7MACAASP/9/8B/k78P/6k/n3++f9Z/sr8l/y/+b34GvtA+oX6ZvsV/+gBNgF1Avz/kP6v/6YAEAI+AlEArfzF/Mj7u/jG+nL4IPgQ+k37Cf2Z+sb85Ps6+gT8Pf11/cH8mPn79Ur42/eJ+HT5Nfjh+Pr56/3Q/Yz9P/8d/Z/8ePyG/R397Pot+cT2G/iN9rT34ffS9Y/4Y/v9/qX9m/+1APz+GP8IAV4DkgJqAsr+swCyAMP/CwJIACj/UgDOBSMHjAiOCQ8HlAYfCPQJlwnQCTIGTAZ8CM8GnwcnB4IGfQXjCRgNmw0nDzoMFAvdC08NJQ0FDV8KRAn4CgEKNAroC34LPwp0DlAQAg/qD1QPmg76DlQQfxA3DssMiQsWDC4L5gkmCskJrwnODF0Pqw2rEGIPbw39DukPXhDXDdsL0QpVDIULuQoGDG4LjAmEDfUQFw7GD48PBQ0RDGANWQ6XCqEH+AazB5gFNgT0BYgEHAMBCAMKQQivCB8HxQXZBtwI1wgICDcFMgYsB1EF3AZgB6AHYQgeDYEQVA/KEOwQlg6WDuwO6hD5EOgORQ6kDwsQyA05DmsNowvVDUsQ3g7CD+MPZw26DQAPzw5wDioNUgy/DaALlwlqCqAJAgjACFkL1ApqCXILAAnkB0sJpgnKCCcGTAXVBKEGZgX+Bb8HTAaRBkcKmQsGC3MLqApuCoYJlArRCnkJfgZdBTAF+QMzAw4D0AIbAawDxwawBbAEZAU+A88CFgSjBb4G6ASfA0oDwQMlAnwB4gE3AZMBhAM3BQwDBgNaBBoCxwJUA48DigPU/8L9wvzZ/DP9X/4KAEv+3/5jAfsBVQJRA18CyAASAmED6AQ1AoD/7v6x/sj/C//j//f/j/7w/2kDZgFTAWMDxgCEALUCggTmAx0C8f9e/1UAXP87/5X/Sv2a/Oj96f9p/6b/HgJcAcUA4AELAkD/ffxw+Uz5svzC/Dr8RfxO+xT6xvwjAWsBQQOtA6kCOAMlBe0EdwKXAfr9Bf9JAWgAbAHFAVwAh/9UAZQEfwQGBhAJwgflB/gIogi3BuYEsgHm/78Azf+/AYoCkP+A/+z/1QOgBMkE3gadBFUFeAToBC4DqAJyAPD8Df/l/1ADowMkAuwBOAKZBO8GRAc5CesJEwlKCRIJWAmaB0YG3wLsAUEDWQLIBNgEoQPXA2QE4AYwBlAHcgk7CDIJTQsCDEMKpgmGB08C7AKMBUMHkAlmCGIHbAboBwYL1Ao4Do4P7w/qEeASYhLMEHQSqA2BCSELeQuxDawOLwzZCUUJgQvxC0AMcBA3EcIQahEVET0Q5A62DVgJqQR3BgAGcgfuCVMGqQPNAX8CUANoBC8GTQaxBSgFuwUiBb4AFAGz/Y/4gfqL+V78m/1/+6v5D/g1+G76EvuX/c7/bPzy/Kv9W/3O+on79vfJ8GXzxPSW9Cf39fU18kfwq+9s8ijyJvRi95j1efUP9p73tPVW9SH04e1n7qHvlPAD863x+e5k7Yrtbu/873byevak9SX2sPZT9wP1qPRG9Kjsy+vF7BntBfCa7rbrAuwe7CPvne/58Kv0RvSy82nzcvNW8Ufx0+z454XpMusr7njwCO/d7dDsze4e88vzU/eU+Yn39/Zk9+b07/Fn8ADsu+j86gzrmOx/7NjoyeZm6IrrfOoM71DwHfDs8MnxAPAn7tXuc+vx7Tvw0/LM8pHyJPEB71by3fRH+GH6afrH+IX5Mvgm9573/fNb9Nz2Xvdn96/2o/V/9JX36/q++gL+0/31+rX7fvoi+FL3dfS283v15vUo94D3nfXU8aT1kPnK+hr+sPyH+nf5+PmN+XT3+PNS9Of29vbt91z4PvVm82D4P/qW+rL9jP4e/Fz7r/uo+tf5P/Zc9rr2pvZv+K34pPbM9Ib45Pgj+Wb72/oA+an3Rfif+Ez1o/IW9ZX0UPTP9fD1k/PE9Aj5Bfnf+kz8yfxG/J782v2k/Gn7OPr0+mL6lfkZ/Fr8fflP+yj/uP/nAO4DHQWzAwYF8AWfBNECQgFDBMwFiASPBlwHHQRvBJsJ4QlxCWcMJwtmCLsI5QjzBuYDrAAFAjwDWAFJAkEDNQJzAr8GlQiSB1wKCgvpCVgK0QlnCZoHjwRSBPEF+wTcBNwG/AUPBBIGowncCb8KDQ1RDK8LkQ3hDWENjAtsCtwLMgxiDGgNow0DDBIM4w4QEqsQJhJFFLcRKBI4ElQTHBP+EF0Otg0PDbEKrQzQDbcLUwwZEFQQqw+HEFkRTA+pDisPOQ/dDkQK2gkECzEJdAfzCN0HkQT1BDEHggc9BnAHrgaWBHkFpgdJB6wFJwL3/9MAY//L/UQA9f6+/BsB4QMeBMUCxwJiAqgBTAPnA5YElgL0/vr+rf98/8cAfQPyAkMDCAcOCsUKmgqSDAwMwA3HEEISMBPTEn0Qqg+NEdkNOA6eDjALPAyBDj4Rdw+HDhYRPxBdD+UQjhHpEDcO4wkcC7cK3AhbCoEL3QrcC70PZRBHEAkRfhI7EQESDxQGFDgS0w/qDWwNkAy2CX4M1AxlDB0ORxG1EpgRVROoE2IS5xLVE8UTfBJPDpILRA3UC0QJ/Ar/CYUJVQv5DVIOmg1KDo0NiArDDLEMHw3BDIUJZAk0CacHGwTqDXH0Ut5o5Wjjv+ng65rtEOtN6Dnjx+Cu4VzjT+in6pnshuob6WvkYuEc46Xl5+nd6zbt3etv50TkWeJ24r3k+uhm6Rro+eXA48nfFd9x4VfiWecI53XlH+QO4fPeh95P4M/jb+Xd5R7md+Rk4j3fE+G/4wnozOqC6ePpCOli5BXjx+V66LHsmOz06rfo+eXX4uPitORr59XqYevP6tfoM+Th4O/iCOX16eTsVOwO6nvnVuLQ3pTgTOPS6Qvt0+sg6yPmgeC04MnhY+hi7fXt1exf7NDntOJ34zzmruwV8Zrz+fKO8H/psefU6KDtePT99i74S/ft8i3sBu5+8Nf3TP6b/5D/+vza9WHxifM69/H+ogIxBGQEQP/8+V76/fwxAusIwgwcC3MHYAFZ/Qj/2wNcC+sOJQ6oDW4JxALUAiYECwvvEZAS6xGQDwcIDAO3A0oH4g5xEkAS/hDlC68DkAJNBAAKwBCQEvQQjg2bBlkB/wGgBYENjRGeES8PAgvUAUsAWgIBBlUPYxKzEiYQgQkCBAUD9gXrDaoThRWqFC0R6ggdBjwIMAzJFP0YsBhhFoIT/AoVCcIL3Q98F+0YKRegFIcMGwfwCD4LwhLYFwgYuhRvEXYJagOeBvAKEhTPF0QXWxXGDW4GQwY8CW0Pnha6GJAXBBWJD5wHtwfwCoQR1hgVGhwYBBLrCcMF8wWCCZ0RmRc0GIUU5hC4CE0C/QMRB6QO+xN6E7MQdwqCA5IBUwLDBYILzg5PDssKCQel/0r9lwAOBW4Mcg47DLcGUgBI+3/6+fzhA8wJyQmDCDgDCgHo+sX5Q/6wAbYKzQrSBvMB7/qq9ar2Hfy/ATcHYAYTA3D+pvlK8zbycvYO+3EC9QHE/gL6CPI+7l7v0PPd+X/9kf3K+aDz5+9B6TPoC+1y8af5jfpv9krygetx6HvnWOsg8f30IfZ08R/sVulS5cLh1OaB6TvwkfXM8RXu1Oav4i/houR76MnsLvCK7dLn5eQ75EjfseIs5Yjoz+8d7pbsZeel4Rzh9eKY5xztHvHR8Mjt8+pX6nrkz+VQ6v3sj/eH90/1GPAp6SPnTOid7cDzZfqP+dP3I/M+8WfsResB8JnwyflK+yf5p/V77eTpqOud8ND2rfsD+gv4AvVU8hrt++o98Njx5PnZ/Yn7FfhR76Tt7O/e8wD5K/x/+Yj1ZvKE8q/vfOpd7vjto/O7+KX1C/Qi7uLqMe5t8+T2fPkr9nvyqPBA8Vfy/u0x8F7wBPby/cL6PfpW9RbxwfQG+Ir7JAAO/v/6lvl3+bv6zPNv9Pz0svXE/mb/C/9C+s3zG/WV92752fuw+6H5tvm5+Yv6gvUl8PXvbO9G9x36OPdH9/XvMu3S7svvH/NE9ZvyF/OL9CPzMPJf7D7t8uwA87r6Kvme+CnwP+2q8O/ydvX29x/3gPUk9Rr1WfOq7Kzs+exA8SH5GPe48wzrlOOt5bnmHOqw7fDtJuy569DrD+mv463hyuNQ5fHuUPEO72LqOOOV42Xkkumk7cLvQu9I7d/qFOkn4xngXuTN5tLuYvDE7JDo5OAo4BfkquhO7nLvwe4T7uvrnOjW4tjjH+ay6xf0yvLK7o3m/+DZ4vLlPOuH7tntle3Y6n/mDODc3VPiEeaU75rvcu155xHfY+AO4oHoWusy7F/tLuxx5iXglt5v4aDntO5n8KTuXOgu4TjghOFz5gvqiu0J70/uqugo4WHf2eEO6H7wcfLM8Tjs9eRm5LPmBu0v8Hv0xvYs9m7xX+zC65Lu+/Pi+mH8vPky9Dbs5etY7Q3zAfYk+Fj4JPTi7G3mYOUa6Gruo/MW9pLyre3e53TmL+in69nwxfLD8unxcuw55pTkZuW/6f3tW/FS8AjrnuNH38Xg2eIZ6MLrm+sB6/roO+QE4Kfg6+MA6ZLtsu4X7Gjon+Lf4Qbluue47QrvLu8J7ZnqvefF4hri8eT86Mfr9OrA5x7kfN3h3G/eX+HI5v3oIOi75VXlh+JM3ybeOeFo5bnp9uw/6wnnsOLd3r/gVuU86WHtROwd68DpgugM5k/lWecB6o/uv/Fj86Pwou3a6snrJe+J8d72Sfnd93/2EvZD9BXx/fCU8iL1iPgs+gr7Fvk79k3y8fJ19k33C/vZ+2j7+PnH+hD5gPb39qj2R/px/UAB9f83/b35jPZE94D30fpG/mb9d/vj+2r7P/fj82D04PRq+Gb8gf/S/Rf52PTM8djz2vbz+xH+d/0M/Dr7nPnN9qX0sPUO+1n/bgTVBKwDX/+/+fv7B/81A28IeAm6BrgFjwMGABv9MfyC/50DFAnUCl8IjgNn/c76Mv29AC4Fkgk0CNQGHAYsBGgBDwBBA2sHfwxBECoPxgsqBpkCiQXECNENhRGwERQQrw1yDC0Khgj+CPgNvBFYFrUWEhMIDhUH0Qc0CoEPKhRVFWgTihHDD9YMTAoLCdoL6g2eExEViRJLDm0HQgZKCN4MZRKHFCkTwhBiDiYMDAjvBVsJlw7xE8kXyRVAET8KAgeFCUoNchT2FrMWxhP2EEgOwApDCL8Jfg75E54ZCRYIEtMKuwXoB54Jew+WE2EUrhIZD4UMFglwBRYFiwifDrETcBL4DuwHqgGZApUFuQweEdkQRQ5iDCcJDgXwAFQBLwZZCoARCw+2CrIClPtx+0n/jwZTCtkN9wtSCekEDwBH/CX9pAKlCPAOfQ1SCdQB4/t2/lwCGwlSD40Pgw2oCX0G+QCT/Kz/YASODOcSbhJCDnEGJQJqAjAGSA7rE5QURhPLEOwLnAYiAtoEOwrlD4UVMRF+DZ8FdP9hALwDHAz6DgIQVQ66Cj8GAACu/BcBOgfUDo8T7Q4/CZ7/bvzx/RoDrgukEF8SgA/ADIoHagBY/SMCTwcXD94SIA8cCfr///4UADMGeg52EU0RPA7uCsYEu/4p/moCyAisELsSbA/dBwgAh/7XAP4GHA9sEVwRLxBCC+wGjf9U/xYFewsCElAS+A8ICGQBDgDYAvAKlhL7FbQUdhOzDwELpgT7BOkLsxBLGGEYFxTjCzwELgX5ByINkRWVGZcYyxaKEpcNBAhbCcsNtBOyGu8anxbPDssI6QfjCosRWxcxGU4WIRJgDvUH/QLDAdgFYgyvEfQQPwwoBET8W/2v/5YERAqSC4QJmAYxBFX/W/ls+Zf9ggK8CA4K+gZX/wv4QPcE+Qv+KwSmBmsFGgEW/rv5CPQy8yz2CvuSAb8DQgHa+XvxevCe8IH1TvuwAGkB/vxS+174f/TG8ev0zPkFAIEC0QEe/pX2APRI9vr59f4bA08DcgLe/hT+T/sI9274Gv1qAs4FuQZyAuL7nvar9qv5L/6oAqEEswJv/zH+f/ym+bP3L/ox//UFewb2BL8AUfq8+jT7CQBlAyAH8gUuAa//Lv4A/Ij35PzE/5sF9Qh+B9UErfz4+EP4Ff0xAKMEPQa2BPYASwDO/6H7ivxq//sEPQoQDJIJ8QW6AKkAQwKPBmUMKA9NDowJMgdPBQoD6f65AL8DSwjrCyoJHwbM/9j62vvC/7IDZQe3BgEEPwGhAKT/avuB/AoA7wV8CQQJKgdeARL7C/ko/aUAMwXtBrMD7f+F/XX+RPob+Pb6Gf74Ae4CdwKj/hT6T/dC+m7/JwPxBRIEyAHY/3wAUAC2/bH9gwGFBIoILQhwAycAPPyr/+wC8AVaCtwJhgZCAwMDpgRLAsgAIQTVBYkJLAxoDDkJVANdAzsFKwmCDUQPZg/ODAAL1gtZC/4IyQpDDTQS8hVGF2oWVxAkDX0NHRCGEt4VThbuFCcSZxGbFBoSjw1uDqYQnhNSF9YWaxVyDt0LbQ6bD+ASIBTSE2ERog82EFISZw0oCnsMhQ2+EiwVLhWCEGwLRwpuCxENnw6EEvsQTQ9FDbQNUA1bCD8GPwfECiUPxhCWDygLMQWmBr8HQAr5DAEP8Q69CkUJbQpXCfUEzgf+CiAOxxAzEP4NIwdqA7gFrAeQCx4PIA5ADIYKUgrKCkEGswJABuUHHgx7DU8MuAjTARkAHgKRBCwG0wpxCUkGDgS3BI0EKP/i/Un/+QKXBtwHPgbWATD9Q/0o/z4CNAX3Ba0Dyv5x/p79hPu5+K348ftp/VsAJACA/LL4E/XC9AP40fsI/9L/6Pz7+IL4e/gA9cbz/PNz9tb4RPmw+VX0Gu/C79zxdPQU95357vj+9V/2kPcV9mnyAfOl9nb5LP1k/3v+ePla9Vb31vn5+y0ATAJwAJL+AP/E/zX9K/qw/JL/AQOxBhQGcQKI/kr85f7CAYoEvgkGCVkHGQXWBRMEAv8l/6kAtwZcCNYHfwfGAXD+kv2O/q4CHQf9CTEIfAXRBEoGvwQmAJMAcAN8B6wKgAojBlkAX/zL/eEA+AH/BWwFCgLT/tf8L/2l+C/2y/ix+9f+zAB/AEv9Wvdf9z/4Uvqs/4EAXwAo/Lj7sfxM+2T3dfX/+bf7BwDsAuUAv/sK94T3oPhP+yL/KgCO/vr69PpM+3f5DPYJ97n60PylAdAA5P0++E31RvWp98j8WQC6Ai0AeP7U/En93/oN9yT4uPvH/vsBpgJG/+b5jPWf9+b5uP5NA7wBwv3F++v7sfyJ+Sj3v/i0+WP9/f5o/3D7uPZg9u/2HvkR/Kb93/z5+hP3IPgJ+cP1tfIn9PP2zfjV+mP6Qvfc8HrwnPGT8lz22fck94X1m/R/9dX0DfGF7t7vq/J09YH2SPdl9CjvtfDE8Vb0pfeA+nD5W/eK+G74avkF9lL04/YO+ev8EQEh/376svYo9qb3Tfqb/qD/qP73+0D70Pt6/DH3YfWV+Bb8RP/x/ij/i/iR9f70rfb49zP7uf0h+3L69fmI/FP5zPXT88v2bvq4/L3/Cv6z97jzsfNu9CD4mvp1/mP9TfkW+n76YPgp9XrzovYj+a38kf62/Oj2DPK98gz0ZPbO+JL6Q/gJ9R3zK/W881DwefDT83P35fn3/If6LPUO8jTzJfVn9/f7kv36+tj5KPmQ+NX34fST8tf0Pvgw+4L8u/v995TzSPTA9jD4CvrT+5r6kvbW9Bv1//PH7/nrwfHt8+X10vfH9djxa+x17pPwhPLa9dn2dvWG9Kvz9/T28tjw9u5472TzuPR19hb2+PD87BPttOwN75HwIvOb8orvjO9a8JrwM+6C6ynv9/Ed9I/3a/cQ9KztBO5m74jw5/KG9RH13vFZ8bLzfvMu81nxm/Iy9z34Avwf/DD5UvSs9Bz3sfl8/F4AiwDH/A/7H/qZ+4P6uvht+LT7RPxe/6YBa/2F+D73VPjs+pL9vv9UAMX8t/xS/Pf80vzd+eX3VvpC/fD9W//P/1z6n/e9+Rn5XfpZ+wH9Mvwn+4L6jvvx/Nb7evmn+Zj82fyn/pf/4/zx+Bn4Bfir+rP8/P3W/ZL7nvpO+Gn6VfvP9wX3a/i7+KD5wvpv+rv04/JH9dn0FvfW+ND5kvgd9tT1Vvee+Ib3LvU69V/3Cfn++hj9Yfvp+Lr42vjS+sf7+v1z/mj95/w4/Bb/BQFWAJ7+Q/7L/64BAAT1BogDm/5w/oT9NP4aAHUCSQK+AUgAlAAyAksC6gAq/G3+Nv8mApwGWQl2ByAC6gRIA1IEpAY8CVYJ/AdZCL0I6wpbC6oLYQfwB9IHqwnIDIoOlAu3BsYIjgeFCvkMlw5EDmUM9goNC1IMZQykC/cIXQhtB98JqgtxDXwLEAeyBRkFoQcoC6ENiwzBDCgLlwq/DKgN9A3PCUAJswlqClkOWxJkEn4ONg6FDcgPVxK5FNsUeBKNEoUS/hTHFeAWrRQYE4QUCxYUGS0bTRlLE4MS2g8PEMwTWhTgE5EQXw/NDSgOVQ6AD+cPuQyJDPcN/Q8XEcEQ9QvRCegJTAmtC58P2hAYD2MNqQsADkcOFQ8gD3QM6ArEC9UOMBGbEkEMngmnCTAJfAwSD7cQ8w44DgIMGgysDIAMWA7MCbEH1whPCt8N+g5lC2AH7gcJB9cH7Qr7C80LXAvrCsgKhgvTC7YNxAvsCOgHygprDtUPBRDOCsIJNQmMCZoN1Q9aEGIP6Q3bDgMQLg9CEuESug6NDH8PgBMHFegWbxMgENYPeQ+QEvoTqBUPFhIU1xITFIgSHRInFP8PKQ7IEOwVvRiAGUEVchLGEY8SzRXrFs8ZhBjTFWsUrRXYE24VfRS0EOsPbxMXGI0XGBi9EMEOsw4lEFAUShV4FQ8ULRMwFVMUeRHRFEYSTA+vEVIXyhn0GQoWIhJZE/ETjxbJGMYYqBYoFdYV4hNMEWYRNwx5CJgJzQ1uERQRBQ1xCFkHmwfACUoLOQx1C4oKUgryCcIIGwdmBM0C2QRyCPoKBgl5BBUAewBgAtYD2QYXBvsCNgOGBQ0EjgLAAez+4f3yAUQFPAZSBPz80/wA/+z/RgNFBPQCyP+P/2kAa/9b/pL83Pvo/VsCmgQKBaT/JfuI/Wf+TwJ6BGUEsgF4AF4B8/8J/3n79Pl1+2D/BgPAA5v/Pfrn+TD87v6mAfkDDwR7At0BNAG6/nD9n/uQ/IX//QEyBhMFIv80+0z/zAFSBHgI2wfoBWEFbgbqAn0DnQJLAdsC6AW0CbcItwd1AUj/GQIUBOAFXwdPBpUCWQPZAoMBEAA9/rX98ABnBhIHGgYTApr9tv/PA4YGRAidCSIHLwQ8B9UF2ANJA5YBSgL5A2YI3QhDBg0BmP7LACcCXQSWBTIFuwK4Aj0C3f87/jb8/vvs/GMBPQS9Az0AzPgP+GT6nPvk/Xn/yP3J+TP6G/ub+Pn31PU/9DD2fvlT/F35KvXi8FrxnvIY9ND2aPcB9kbyEfRf8g/xfO8x7b7szO7M8170gvMT7S3qAutl61zttO818bbulux77n7umuuc6sfo2uko7l/xovBK7cbnp+VC6JfqC+5p8N/uCuxM7XHtcuwr68zpLOo07Dfw3fKd8kHuSelB6Izrgu2K75XyDPBE7yTyNPCv7o3uj+2I73vz9feS+TH38PGo70fySPSJ9S/58vn29rn43Plk+DX2rPQD9gD5MP1DALEAjPvZ9tz3N/pN+9b9eAB+/af8uv2v+2v53/cx+IT5tv2rAWwCo/579930nfYw+KX69v0H/dr5fvqK+qL2lfVw9fn1gPrY/lsBkP4U+br2+fZW+W38YgCCAUn+YP6c/t77cvnd9zz4AvpL/kQBPAHv+xb1tvYK+ZT5mfwo/kj7RfoU+o/3ZfWE8hjy4/R4+Az6x/rL9//xCPD68bjzhfXv+D733PQe9jz3TfSi8R/ypPHa9Cn4VvlG+KTxvO5a8GnysPV69x/45PTo87P1oPPg8XbwQvE880L3Lvtu+2P2rfDY8nr0JvaQ+pb8WPpu+Cn5l/cI9TLz+PKO9LH34fvK/E/50vIB8TX0DfYw+cP9Bf6w+h79KP1F++b6jfqq/FD/WASTBuAEwv46++/8af/FATMFNwa7Ai0DGQTNAuAAKgCQAmIFCQkoDX4MkwaOA1wEGQZ7CaYMnw6sCngJ2AueCV8G5wMFBP4E7QjdC5kLdQeEAVcBMQN6BLgHoAo8CU0GBgdPBccAPP9O/tYABgX9BwIJqAUf/4T8v/2O/44DYwfsBqcE6wbzBbcBzP4P/Z//FwPMBnkJUAd7AHn8Rf7C/8MCtgVEBVwDNQPzAlQAlPys+pn81f39AWIEUgFK+q319/ZQ+NH7H/9L/1f7ZPu/+xj5l/Xt8+v0wPbg/Pj+5v6x98Lye/RH9V74c/r1/G/5JPlL+yj40vW48/TzWvei+/j+Lf2k9s7yOfE986z0Nvgf/Bf3wPXU96/1cPFU8N/x/vN19yz7q/xj+fjzq/Or9pz2gvos/vj8PPwq/S79xvqy9zz4c/tQ/o8BEwTgAYj6Fvr/+gL8TwB8A4wD8P8PAKD/EPwm+EH4Wvqk/DoArALVAJL57vYG+K365Py//1sCyf5q/nL+nP0/+/b5kvy1/20Fhwd3BjIBRfx3+0D9Wf+jA1UHPwQ+AxoEdAJI/u/7E/1kAMkDwAcTCFsD0f2X/H3/QwCJBGAIBQeFBCQFigRnAfj+cP6JARoFHAnaC7QI5AEiAD4BAQKHBDkIYghSBGcEwAUXAzoBt/+PAPYDSAfkCsQI7AOqAJ4AwwM5BoQKiQ0/CxwJwwlrCv8HuwZ6B0gJSA0xEfwSIw4JCZUH3gktDPgPRRXwFPkR8BAcEhsPkwx/CmkLbQ9zETQT6xH6CssF2wZ2B3sKDA6qD4QNUgyJDZILKAkDCKMHQgnvDIMRqxMJDwMJRAf6CHUJXwu7DYsM0gh5CGkJ4AZyBNgD1wUPCKoLbg8ND44HQQN+BFMFTgixC0cMMQk9B1YHIgazA4QBRQHzAr4FvwiFCF4Ewv3A/KD/PwBiAU4FMQW8/6kB5gLzAZIA7f78/2gB1wVVCMoHHQKI/qH/jgF6BMgGRwhoBDUDngRzA7EAzv+E/6UAEgbSCSIMHAkRBJsBbgJOBQYHGQr8CsgHwAcBCYgH8wRwAoYBQQPSCI0KRAliBD4AFgBw/zIBbAPiBZcDpwAcAdwAYv+7/lH9yvzVAZMFwAdzBqYAsv2e/en/bwINBvMHEAMoApMDJQEm/8z9iPtK/KABuwTdBdYBYfuo+tz7ZP6gAcgEdgW8AUEBlwLYAF//8v2L/dsAAwSWBiMHVAJz/RL9V/8yAMUDTwbdA80AbAF8Anb+1f1P/FD7Sf+YA5kGUgaAAEb8ev6b/vEB3QXfBtAEqQIsBW0FJgNtAfUAlgEvBWIIBgpyBxYCk//W/1IBzgJ4Bo4I/gW2AYUCrQJi/179PPtM/Pv+TwGzAnz/Yfmi9w740vgf++f8Pv2g+v74Jfqg+U73mPfC9Y/2GvsQ/GD+cvr69HX0mfSt9hz4yvsa/DH5Cfly+bD4svVe9HH06/ZK+h/9bP67+GDz5PK+87j03/Yp+uf54/bi91P5t/WZ9K3ztvGV9Kr3yPn/+dz08/H78r3zpfYN+KX6OfkK9W739/UC9E/zgPGF8jP1EfcF+UT5l/KV797u/+888qXzVva28QPvDe/N8AnvRexI7fzs1vCZ8yL2VvT17YTrw+y27oDwFfTW9vvzx/F688fyrPDc7i3u2e9j85b0Hved9trxFfEN8ij1Xfff+ar7y/jI96D6W/q393b2PfVi+GD8+v00AMf83Pfs+IT6GvsE/aAAYQEH/r39pv+x/hX9Zfvz+3r+QwBBAnMD8f81+w/9yvyt/LD/wwLTAYP+Jf+t/x0Aff1x/Jn8f/66APcCvwMY/lb7JvzN/A38M/7dALj/VP3z/K//YP2c+d74Bvpk/Rj/wQGpAcH7HPc1+ED5C/v6/c///v7f+iv8gP2B/A37fvm1+lr+jf9mAusCffxL+vj32Pjk+pH7d/4M/Er53PqG+6P4YvcL9aL1u/kj+g/9XPwV9sLya/X69of4T/wm/jj98fqH/Bf99PsN+5j6F/1s/5wA/QOjAhD9+/pJ/Ej90P09AmUDwwAVAO8BXwKOAHwAlf9JAi0GVggACoYGDQFt/ycATgFMBHIHHgmjBpwG7QjeCE8HVwaqBqYJOA0nDmkQYw4dCacHCQnnCSELqA3qDsEKtAkvC2gKnAiqBpYGRQgFCxgLzw0wCokEIgXDBVAHgwjICt4L8gjKBuQImQgeBnYF+wMkB8IJ2QoZDjkL0AXABUAHkggTDCMPahBNDW4M7QwBDYgMaQp9CcYMew+nEFcTMg8tCwYLuQuiDJwOvxAlEb8MWgtZDDkKmwfBBBUFTghDCi0LfA70C20GCgYdBgUGjwgvCiwL2AcaBuQGXQZZA3YATAEbAtQDmARSCJkG5wBXAR4D+AJABfgIuQqGB4QE9wVEBQwDTwLPAWAEXQdwCOcLXgkGBLADFgXwBT0I6glaCzsJwwfvCawKFAoKCdQI5Aq1Dw0SqhRDEwQOWQ1rDhIQzhJTFCoXXhRnEhoTbRMeE14Q6g+sEK8TuBTTF9cVZw8iD7QPrA/PEtkTvRXxEtIOeBDdD/8OJg7GDVcPdREREKgSwhDdCQ8JVgp2Cl0LOgxHDhQKGgesCOQHxQh+BXUEWQX6B4QIoAvQC5sFbwQbBUUFywWwBlAHEgRCAvECFAOvAzsAX/6i/vEATgFFAwMD5/z2+pX++v1v/+sBygKYAQT+pQCOABkBPQDDAKUBPQXYBdUHsAj9AawCdAKTAXwDQwXFBqsF4gLUAz4DNQIkAaj/swARAwkEywZkBhcBAP9K/+b+pv97AZgCIAH6/Nz8mfzx+hb5Yfbk9Mn3dfZw+Ln47fEB8KPwZPAJ8KLyPvMl8bftLu5A7uvt/usx6Szq+uzl7CnwFPJw7NjqJOyJ7UbuAvF88+/xse7z7lnwk/A37y3uIu498YXxU/Id9JLupuzT7ifvxfCZ8071avTA8R7zfvRY9FTzJfLy8KzzxfNg9r74jfP38dbzhvRK9Nn2N/id+LP14/WO9gb3pPaO9M/1b/g4+Yr7x/6E+5336feE9/T30PoQ+4n72/g8+V75Rfni+NX25fav+RL7uvzfAHj7l/iD+nX61/v8/a3/bgC3/Wr9xf6W/un+Nfy1+3gB1QC+AoQG2gBv/eX+QP9I/24CIANqA6EBAQIpAsgBQQEw/239EgHTApADyQfTAn0A8ABtATgCDQTRBb8G8gKvAU4EOAOTAsMCwQEjBf8FVAVzCjwGegKzAnYDZQJ1A04FDQV4AhsBWgNRBDIEdwMFAkMDgwXmBNgIaAYOAncCrgTsAz4EJQV3BdIDwgDEAawB9gAXAKD+fP6oAAkAWAOqAbz9Jvzm+1z8mP0e/zj+pP2i+6j8B/6P/Tj91/yo/QcAMP8UBPoClv41/kj/n/5k/xsDbgHcAZX/PgEUAoYBJAGC/xwAzAH4AUwEMwXyABb/UwAf/23/TgMDBIsFbQL6AUMCTwJMAgEB8wAoBN4DUAXtCQQG3wV2Bo8HLgf8CJYJEAk+BxUF0AZWBgMHXQToAB8FywQtBPwI/gSiAQgBcwLSAQ0DpgQABSsEcALjA8oDJAQ0Apr/hgDwA/MCIQbQBd0BLwBeAWYC+ALlBRgG0AWHBGIFQgaqB0wGIAZ5BfoHyQdmCfMLwwfIBhwHkQe7B0oLhAu7DBQKYgkeCy8KxwnVCCgIjAmSCgkLiw5aC0MJ2Qm/CigLIA44EO8QIQ84DiYOxwybDIkLaAucC9MNjQx6EF8POgv3Cv0K3Qm3CsgMpwtFC4sHawckCJkHCQY3BdgFDQZeBMcH3AddAwgDAgWkBBUEFgexBnQGbgMVBB4EOgULBicExgSxBtAGzQcUCi8G3ANZBKsFQQavB/wHWwhLBgMFjgTSBEcFnwM4AiUEOQQNBP4HoAQ7AgoCyAHFAHwDSgS5BLoChgG5A0wDXARnAyQDrwODBDcDHgjVB48ExAUnBvYEjQbNCBUKJgp0CEYKawl1CmUIqQeOCGQJeAh/CxsNWQcjBwYIOAi+CGYKsgpvCaAHLAg1CVUJEglHCKEI6wnxCVMMqA2mC7YKRws1CyYLEg5dDvkNKgx5C/AMaQyGDHIKqAoDDNoJug3WDWMJhwkzCyYLbAyfDtAOTg4ACzkMegxdDQsPuAxBDpcOvQzaDuUNmwpKC1MKxggnCQAK6Aq/CQYIugepB5wH4QWiA74E9wO8Ao8EzQLyAOb/1P82/mz+9P++/pP73Pnm+nf5Kfok+Mv2WPeQ9tv2qfl++Mj2m/e6+BP4UPiP+bz3JvgX9fkA4AaQApEE/gBeAdoBVwJDAxwEYAJGAPwDogPfBF4JewS6AwQEggMPBSIHNAkABy4IHwexBp4GVQdBCG0IKQhfBSsGFwbxBg8L/gZkBMAFLwSKBFIGuwguBuoFkAQaA9kDGAZoBc0DaARv/w0ClAFOAG0GVQRF/kb9Y/sM+Bb57/rn+Hb4PPYU9Mz0qfX29iD13vS/8EbxFvTZ8Y325faD8Tnyu/LG8LTy+vYn9lX1rvS48oPyHfOY9Lj0dvde85fy+PUY9KL6tvqC9AX1XPRn81/1aPl++In3cfY48230+PVS92r2i/g79hb2t/r49zT8dwB7+qv5aPoa+BL6FP6s/jX9Qf6E+3b7i/z7/I/8BP81/Uz2eftI+yH8HQEr++f3ZvkD9yT1RPio+jf3RPds9OjxGPQK9HLzBfTR9ZPtuOw/8QjvufVs9jnwwPHW8Njv6PES9Sf0MfS+9bTyXPN59P71S/Tl9nzzyOzO8mPxBPWB+UzyrPHy8abw1PBq9fX2yPPK9c3yKvS+9Sv18/TR9mX55/CZ83n22fSC/Cn69fQ99hT1gvT49ob6LfhI+ff5I/aw9/b3uPnE+sP9FPeD8sz5Rvce+iH9WfcT9qP23/Rt9CD5Vfp++ID5FPaj9XH27vX69RX5vPk88Zv08faO9V38X/jU88b11PRG9Of2DPqy9x74ofbR9PL1Ufa+93D4WPyW9Fvz8/oH96X8Uf/q94X4QPj59jz4eftN/Ib6g/lO+AX5Vfcp+L35Ef2f9ujzCPzx+Bz+XQC7+bX4pvg1+G75YP3O/pb+0Pwo/Ez8fPu4+0v+hgB2+W/9bwF5/5cICAabAPEAfAHuANwCFgU6BTkE8QGkAfoAiADfAT0FKv65APoDw/6CBI8DjPz4+3H7aPvl/3sDBAR7AOz+e/7g/vD70P4b/hD67QAJ/qb//gP5/Yn7y/qu+uf7AP2EAOr9oPzj/FX8r/lD+mL7xfc6/1f/GQDlAeP67Pic92n4Ivo6/cAAQv5X/QP/Nf0++xj/A/1J/rEDAQTkCKEDFAEKAMv+nAILBbwJbgndBu8G6AadApkE2wLSApkJvwjWCw8ISAJGAlwAOAIiBuQKkgv2CisLtAkXBGAEZgXABXQMxQsEDiwK8gSMAh0CvQW6BvgKfgktBzsF3QLm/Uf/Qf7C/+oGGgZcCoIE6wA+/gn8tQDUA48IRQesBeIEfAE3+4b+XP6JAMYGHAedCa8Bw/5P+/D6nv4GAXkGdwVkA2cCwf4e+uv+6f43A1oIUQmlDPAEbgA//sP/RgOGBh4MSAvPCJ4I4gUDAv0EJQWbB+ANVw7ZD/UKOgeVA6UDogdTCSUPlg4TCxQJvgdUAtMEFAboBZULeQspD10LYQaIBJIEAQkiCxwPFhCUDfsKAgq5BqkDxwWfBSkHigp/Cn4KDwfqA4sCvwG8BWUHdQlaCOQDNQLkAP3+ev+mAZQAjgXOB44GUgYwAdv/ggAMAj8FrQdwCe0HWgYaBtUG/AOpBDsHGgZWCPQHYAisBj8DCQKHAJMCbQRtBCkG2AS2AqIBzQCD/7AA5gF1AWQFjwXfBUAFAAREA+ABcAP1BCsGcQduBgYE5wKLAjcAMwC8ACcAKANYA1cEkANpAG7+i/zh/nAB0QFGBJIC9f9OAIYAAv7t/lv/D/3XATkArQAVAcL8LvuM+KH5I/xB/I7+K/3g+un6Dvzh+hL7+P3M/BkBjwLAA50CHwBv/sr7T//IAZ8DEQdJBYME7wTfBJYD1QJpBScEMwlBCaYJOQs5CSsIUgVAB5wKzAv4DV4NbgqWChwJfwcoB3MJYQdBCyUNAgxfDQ8KxwjlBpwGCAkvC/gMywx0CSoJWgjAB4wHlQnpCKEKLgw1C3cMjQkpB+MErAVrCO0JqwpnC+EIyQZsBbMEBQNtBGoDBwNyBAoELgapA9IA8P4GAHsAbwFNApoDTQDr/pT+K/2r+wD7q/rw+XX9Jfxe/7T9I/vF+pX5lftG/tf/MwKAAcH/GP/h/T78cPtc/WH7m/86AbIDjwJLANj+2vws/nT+qAC8AesB6v78/Ob8Gfwj+sH8wftY/v//LgA4AMf8sPx9+mT6iPxB/uL+/P7h/GD75fqo+/T5mfuw+oz9Sv/a/Z0ADP11+zD6Dfqq+uP7Of6Q/2j9//s1+y39n/xW/Qz91vxFALD/YgK4AST/tP5X/sv9h//mAV8F0AFRABX/kf/a/5v+IwAe/zcD5gBRArgBtf6S/qD99/6c//gAfwQzAskAwAHBAFMBCwC+/yMAGALfAF4E1QMUAf3///5D/7f/eQLHA+8CtAAWAFH/VgCu/93+Z/95ApEAbQJ2A3X/B/83/tz+SQANArwCBgNy/8X+xP84/xP+Tv3k/Q//4/4IAN7/gPvI+UT5PPlK+o38Kf78/OP6j/pf+7v6//lu+oz6ifzj+/b8cfwR+ZX5F/jW99v6TvyG/d/8fPpk+p/6fvtn+2b7Tfzn/Zf9Cv/y/jD8Svyk/Lj9Fv9nATAEAQM7AOf/kgARAk0CqgGrAdYCcwJuBMIDvACCAEUBWQKAAUcDcgVbA68ArQC1/7r+vf2G/B3+U/7S/Nb/jf9Z/ib+r/0M/7v/ggFeAZsAX/8uAX8CRQL9AYUABgOoAuoBdQRPA8cAMABiAAQA0wC0AncEHgN3ApEDEwMcA3MCqAKMBAUFRgZkCXIIpQb9BzQIWwhKCjsLRQ3VCvEIIArtCbwJbAhLCOsJPAk5CN4JnQUBBF8EfQNUAn0DzQa5B6wGKwUnBdMEDgYKBLwEAAaKBHoFiQdfBW8CZQI2AkUDfwOQBMME2wFj/oj+rv4F/of8A/xY/nn8fv3U/sD7LvoP+oj5hvmy+xf9G/wB++n6CPr5+av6fPrn+Yb7uPpg/Jv9i/rX+rj6dPtd+yn9iv72/ZL8ivwG/fH76fyz/Nr8Ef6G/Ob8v/+D/Jv7C/zs+jz8cv1Q/oL+nf2r/Bz8Zfpp+5z7wfx5/Ub8Ev4s/ev72/pC+iT6h/p//EP+nv2r+7X8rPwq/QD+Yf0N/tb+C//T/5gA1gCm//X+Nf8HAFQDsgSyA4UCQQHmAGUB/QA8/5j/UgESASUCygJsATgAGv9M/3sA2wDXAqUCGgDl/7f/dAG5AKYAUQExADgA/AHoAgsAa//M/ij9b/2Z/lv+Tf3e+9n5pfgz+bz5Vflt+pX6o/mm+an52fhe9/H17vVR9jv3W/fo9UP11vKe8nLzkfPt9Ir1t/Zm9ez1HfZ19Gv0kvMB9PLzvfSY9En0GfW+87DyBfNH9U71j/VZ9dT18fWR8zr2XfhQ+kP1fvFC8XXxsfjm+dD3yPIP76ztbu/F9PL2yvau9AHzOvKH9Mr22faQ9ln3QPfm96X4YfdQ9nn1OPbO9vT2T/fi99L3f/a791L58fhP+YP5mvni+Kj4q/hW+bv5afnP+V/5AflD+8j9svsX+yf7Zftx+3L7y/sq/Kr9Hv2Y/I77of3f/in9Q/0O/hL+of82/07/HP/r/e//zP5VALsAUQCp/1L/v/9nAKoA8f2r/Tb9Nf3z/aX9+Pu0+0z67Po++/r6DvvL+YT4/vZU92T3DfgC9vb0MvXU81/0MfZT82XzRPM18jTzQfKb9OnzOvKl8drxcPP69bT1G/Rw81D0q/TC9Rz31PUi9tXzt/Ri9fz1ffd69p/1FvYk9zf3Fvmo+Uj46PYo+H34Y/rg+tP5x/m997n3+vjF/Pb9EP7H/cr9c/5s/9P/mf7b/kT9tv2//uIBKQIsAEwABP90AAUD9AQcBCME9AMLA3oDHwVYB+oHaAjJB1wJOAo+DAMPlA0/DigORw4+EacSwBPsE9gR+BELEtASwBRBFVkU8BEzE48TuRXvFnATEhNDEs8QEhEyE3gT/xLIEcoQoRGvEaISQROYEnIReBGFEU4UzBR4ExAU9hHbEHsSwBQyFMkUKxPrEcoSwBIiFLoTBRW7E3ET1BRdFkwYAxXhE8gSlxC0ENUQNBEsEB0P1A6bDnEPHxAmEPgNLQ3ZDQANjg7zDogM0Qs6C98KYAwQDAIL/AlrCK8GVQZ5BqYFHAWAA2gCgALnAkcEIQWtAhsBmADzAI0BUgI6AiEBf/8q/sX+Uv6m/+/+0v7S/r7+W/9IANIAeP5J/mT++/24/5gBoAGQAfkAwgDg/if/FQBhAGMAsf+3AHIBugM4Bc4EEAO/AVEBngJJBLQE7ASKBGQEAAXVBdkF/wXxBr4FfAZ0B/IHUAo6CbIHPghuCMMIWQtgC9gLwgokCkELdQrOCwcL3Qp4CSsItAleCbgL7wx7ClEKzgndCb0JjwlrCiwJOwjqCG0IOwnWCfYKbgugCcwKcwt5DeQOOw6tC3kLxgsLDLgM8gulDe8LuQqrCqwKfQlyCs0JvAZOCR8JLAljC2oLogrKCcIKmgudDFsOuA4wDw4Qog/JDwgRSBE+EkYRzBEpE+MSQxVkFXgS8BH3EdoQrhEHEn8RaBCqD2cPqg5rD4sQWA8ZDQcMWgyVDOUNwA4LDfgM/w0HDqUOgA+pEHUQsw1kDakMjA1cDZwNOw5YDD4NbwxWDXIOxguDCd0JCgjCCXwL/QvdDKsKeAqaCLsJmAnyCB4J0QZ7B7gH/QeSCFEH8AXJA/QCPgO7AtUCmwJvAXAARQCRANYA8wAqAcL/Zf8tAI0AQAFxAJv/7v+p/mv+S/9X/qf+I/7G/e797Py//o7/ff6v/Af7cfwb/OX8Fv4I/K76VPvE+hj78vpb+gr6PPen9vD1U/bY9SH2qfSn8pPzxfKJ9Hj2IfPL7zjv9+3A79vvDPB07y7u2e4p7sLt0+3W7Szsh+kW6f/p6Omb6q3mSeTh41DiweLT4lzkROSr4o7ibeEK4gvideGv4W/e8d9T4LjgzeNZ4lzhkuHy4Azh2uGc49Tko+Pg48XjEOb45XzlFOaP44jm4+fK6EfsWeym6gHpz+it6SbqUOvH7B7rhOrk6tXpHumw6Xrqd+dN5xvo6OfC6grp2uVc5JXjVeTm5FDnVuky6J7nPudU5i7nIOf6567mdeVv55vmQOfJ5oLk2eMB5CrlXeUe5/fotuU35J7iaeFx4tbh++J54ZXi6eP348zmSeeX5YnkZuM34lPkkuVr5urkt+Ti5CfkMORM5DLmg+P94yflDOZ56GDnPub65ZXl5+WB50TpVeug6Vzquut963XtC++O793ug/AN8rnzOfYI9B7zf/Ts81j2uvbD+IX5U/gp+Ob3iviq91D5LvgZ+Kv4Y/ia+av6hvh3+NP3sfeH+qr66fwL+/D7DP1L/eX92f5O/4L9n/7Y/rT+IACh/gb8E/yO+V370/rw/AH9V/wP/3j8uf39/an/8v3J/RwAIABBAcgBZwCKAIn/LgCwASICFARNABkAf/4D/57/hgHVAjcAZgJZAsICjQMfA7ABlgJEA1sEZAW0B/oGcgWYBqIG/AZyBqkHyAWaBSwHWQhsCVcJJQf2BqoFKwVPBiQH6ggfBR0G/QRPBDIDMAOvBHkCRwUrBZQFJAewBdsEGwU/BQkHDAeUCWYJRwecBqgFPweqBQ4H4wW3BdMHaQk6CaQHlAZOBdMFogZbCSoK/AoCCdUHqgftB+QGaAfhCE4I2gkOCtwLsgy9DCoM2AwgDMYMEw1NDzQPpgwyDaMMqA0PDPQMOwsCDOUM8Q1SEGkQ6g8eDgsOIg79Dd4OYRH7Dp0PHRAPEQ0RhhHID9ANZhBGEKgRhRDpD9YOWA9EEdMS7BJxFV8VfxThFCYVkBYWFiUX4BT6FJUUHxU1F2sXOhW6Ff8WwRepGNEaHxsLGc0ZhxhNGdQXyhgfFnoXBhknGcEb6RlbGYIXRReuF+wYrhmPG8kZHhqwGJoZ8hqUGgUavBj3GggZoxvwGmAZUBm8GEUZNxpQHPsdCRxTHIUcBh6lHhcepR5oGtMcsRprGw4dVhuBGkQZNxmPGqwbGx0LHREbGxzoGl0cxBtqHVscRxy8HBEdcR4kHCkc8xvYGqAanxpbGm8bhRhzGKgXpBcMFygWlRP0ElkTrhHcE7oSJhFuD4UPJw+SD54PexGHECYQ2Q49DjAPYQ7RDX8MgA5NDfIPGhDtDTwLlwksCdMKAwyaDCQMlgr/C7MKNwtQCy8MGApaC78LnQyvDSMMPQspCXYIUweoCBQJGwmCBkMFugVOBSYFxgUIBfgEOARWA80DYALi/8L+JP51/dT+Bf/P/0n8K/wA/Mf80PzZ+wz8HfpZ+lr4mfo3+hr58fic+Ev4mvqa+kX7fvwi+Wr5xPkN/NX77/pH+if7evql+jT8u/sq+1H6eflv+ZP6+PtO/Nz66frW+Or6nvua/Dv7tfns+mP7ev6I/2L/nf19/NP7X/0e/QsA/P2d/O/9hf2O/yv/JAHwAPwBIAL8AbkCGAMaAxsCUgFKAh8DWQPTAVAAYP+L/XX+mf5E/8v+6P3K/Fr9nf7b/ff94f2b/fL93f3W/8r/Cv7Z/db8PPwx/Lf7mvuu/E37xvu6/A3+r/2d/ND80fzz/H381vrV+OP5RPnf+M/45vjA+Hb4DPgz+hD7mvj39k/2S/bg9Aj0ZfNc88bxu++478zvHfA18YnvpfCD8Gjx8/N68nHz3/HZ8CbyP/Me9Cj1ivQP9en0WPWV9u71XPZS9Tr2EfcW+C35x/jt96D34fcq+Ar5kfkB+fv32fa99WH1Lfaw9NLyg/Mh86D0+PRz8+jxoPGi8YPyaPT8893xRPG+8Oruv+5i7cnute2G7b3tXO1F73rtpO366yDqXOjl6I/rSuoc6Sjobui36T7qzukC6Vjo7+hB6VzpSuvB6trpMekp6Q7rfeuV7JXsJuz86ofqMuyg7dftP+z461zrNu197zjvae2p7Bzuau6R76rvWu9k7intWu1Z7ZbuQO9u7s7uLu7L7ofwA/Ei8tLwh+8k8FjxtfG/8lfzKfIf8Vjw5fAp8ZLwfO8d8NPv6/Bt85/0h/MG8aDxavH58Y/yefNO88Dyh/Jb8hnzvfK28hfxiPCM8Inxh/Ln85jyWfLG8rrxnvP08zz2DvVE9FD1zPSt9fj2rvfk9jr3mvcO+br7OvwD/G77Xvvx/Dr9dv2t/H794PxV/RL+0P2C/338fPz1/D/98P9MAdUABwGYAHz/VwDd/zABDAC8/tn+FP8qAEIAqgBm/1H/7AD5AWMCbwIDAsEBMQC/AU0D1gPFBeQEDgXEBKYFIAaUB5oIJAhSCQ8K/Qu0DDoLywnBCTUIWAcMCCQIEAfMBHAEFQRiBLsFwgR2BAIDAQMzBFkEtwUQBIID5QM/A7cECwdQCKgI3gYFB9gHpggOCRQJRQi5BeAHqwcUCQ8LRArOCYgIrQh7CX8KmQpWCukJZQpuCaUJ6wpECxAK0An6C+8M2g9IETkQMQ/2DvkPMREoEqQSLBISEVQRpxDrEIESMRIgEY4PUBA5EcoS8hOlEXoRnxGEEuMSMBI/FEITBBEqEWAQ4RC+EBgRBRAgD3IQHBA6EswRSxB3DkQOvA1HDIsNrgxVDOEKrQkcCk0KqwrdClYJBAmYCRoK7QpzC30LwgmPCQUJ5QjsCGQI0QjgBi8GKwiZCJgJ7AgXCJEIuQkiDKAMgg7ADJMLogz3CuQMGA6gD7QP1Q56D98NDw+LEE8RiBASEBQQxw/3ElgVJRSiEmYUtRSiFSoWOhY2Fi0UcBQjFCMU+xN1FOYTQBJaExESihG1EgYQiA4CDeIMAww8CkkLEQgvBqEEnwPfA4IDGQP1AeYAmf/2/1gA1QCs/kH9k/2n/Dr8J/xh/Gb8BvxA/ub//f4cAHH/X/7h/Wb9/f9oAHwAZwHl/gv/3/8fAJ0CXANtAuYCqwPlAz0ELgNRAlYCjALGAw0FIAY3BpgEwQTWBfsGmAbUBi8HcQYlBnUFYwbEB5kHIAa8BboEGwU6BoUHFAc8BT0FhQXLBZUGCAcEBS0EuAOlA5sDkwR6BO4CegJpAoUDXASGBcEEmATFA7gDdAV/BBAFgwOfAmsEGgXkBY4HzwjuB+4HhgYaB/EIOwhAB7cFuQPMAWcBsgGyAREB+/+d/9D/Q/9J/xj+Fv0w/Rr9Tv1s/qT+O/5D/ykAbQEQAkQDtgJZAQEBKwGMADEBNQK4AWMB/wC6AgYDBQTvA9sCigK4ARsCWAKRAxkD1gGvAWoAegBYAJMA8gAIAGkBPAHpAE0BaQAO/xj+WP70/jT/ZP4V/Yn72vo0+Xz4NPgN+Bz2GvQh9afy6PGb8v3xJPAo737voe5S72HwXPAb76/u7e377ZHtf+177X7rK+sF68frvO0B7ubsr+tf68TsZ+wT7Zru7e117hXvh+6E7//wze/07iXvI+/Y8NjyhfRi9FPzqfSU9Jj1Y/a09vP37Pa+9mb3q/g0+Vf5QPhv92/49vi2+QP7yfrV+BH5l/lF+i/75/sc/bH7RPsh/En7m/vR+l/5KfgS+Nf4D/pN+1z5bfgz+OH3WPbq9pX3ufa89V70kPWd9N/0b/Qn9PPynvCh8Ujx/vBI8kzx5e4w75PuBO+o7x/wQvCl7srtSO5Q79Luyu8T8JrvQ+9e767u/e9B8VjuWe1Y7T7uK+627RLtYOto6wXr+emJ6yfsGOwL7DPrweya7FvsxO0Y7q/tBe3I7CXtQu/I8SXx1fDI8JrwvPH/8XHxPvH775PvqvC88MXxXvIi8pHvje978GDvlPEx8tbxf/M58nvx0fCE8FHyz/I889fxTvQe9t/28fep9uH0SPPM8w3zsPNh9Or0EfQK8ivx+vBZ8o/yL/KY8BzvEPGE8CDxmfLU8B/xHvDK8OTxkfPt9Jz0R/WY84r0Evbz9pL3/vbo9WX2IfiL90L5wPu/+jD5BPol+kD7LP3w/Dz9qvyV/Dz9M/2t/Wv+nf7Y/Zr+SP+9/2wBPQHqABkB2QDqAd8DAQb9BuUFpwYZBxMHjAenBxwJCQhrCP0JyQgtCccKjwoqClkJ6AnyC/cL3AxxDbYLLQu9C1ELZAr+CogLpgndCkYMcAxxDZQNUgwIC14LCQqCCuwLTgvKCpEJyAmnCpMJLglDCQIKOApQCjoKFAsjDCkL7AolC5ULlgu/DBgNrA2mDCoLEgyiDOcM1AwuDhgNhwvZDIYNAQ8rENkO5Q5MDzIPyQ/UEO4RuxHzD3URQhJIEQES9hFaEf8OhBCQDwkO3w+hDoAN2AzgDB0M8AwLDt4NnA4gDiYOuw6/D9sP1Q/7D0AOzQ8pD38POxGgDikOmg63D6MPwBC4EfERthHJDykQwQ/6DxUQKg78C4YM1Q1lDqQP+w5tDjkOUw4ED3oQ3xJ2FIYUxRMRE04TzxQKFSgVFxX/FUAXvRceGpgaWRmdGBAZHRm8Go8bOBrcGn8ZRBmPGQAZ8Bg0GccZNRhxGDgZ5hcsGXoYgxdjF2UVUhZpF5wYvhg5F/8VsBVoFYUWlhbcFQgUPBO0FLUSNhSvEhsRUxBVDlsPzA6qDx4Ppw3WDAMMyAoyChEJ8QfPBpIFXwa2BVwHNAi6BqQFdgToBO0DugO5AxYDUgLMAVcBmgCIAO7/RwGJ//X+PP9l/ksA4f+R/4b/R/8x/0UBAwE+AdQBM/9rAPQAzAHnAvMBZAHVAHEBFAOhA6IDXQRrA3sCcAO8A0gGaQZ9BdcE5gO0BP4ECQdIBhIG5wQRBGgFVwWOBn4HMgXsA1YEcgNUBJgFQgaqBdYECQQLBFgDhQMfBAUEAQPSAfMC2QH9ARYDywFFAbL/yP5F/9j/ewAh/5/+nPzk/On9QP7i/sz+u/5B/OL9Af6q/gIC6AA+AC8Ar/9k/2YA9QGYAQkBmP+w/kb+Hv7u/Tn+7f1E+p/6VPtY+3P+t/1j/CP8vPqv+6f9wf52/p7/AgAW/4AAmQB4ABEB0gAz/8MA8QBAAdgDTQGuAH7/CP4C/rH+uP7S/U39Vvy0/H/8tP1K/dv96vsM+3H7RPmb/Dv+tPs1+cH4D/ey9gD3Mvba9u/1o/Re9MPzJfOr8v3xtO+673zwke/g8mzxc+918FPvmu237+7wxu9C8Kjus+9L7g3wte+k72Pwhu1/8BzwVPII8/rwT/A98AbvAu6R8DPwW/FL8b7w5vBv8hn0mPMB9G/yJPJl87zzJfXR9LTya/Mx8/Ty1vP48h/yo/ID8cDwj/F78C3xevAJ8ObtRu5o7l/ukvD07hnuqe2t7F7s/+5N7xTvA+9I7ifvju737gHvDe+V7V3tP+6w7ePvUe8j7eDsVuyv6nzrFe1l7BHtZ+2S7L/saO4U7Qbtbu1N7artV+1a7vXvKPD97Uvvje6o7sPwgvHx8eLxxvCo787wJPKa8+vyKfNa8e7xJvJq8p31yvKe8b3x1/HT8uX0VvXT9Lr1cfSm86bzB/Ww9br2Y/Zn9Uj23fTL9tv4gvYX9hX2ZvXT9gL41PjO+O34dvc89pj34/Ys96X2uvZo96z2KPbT+Mz5hfW99kz2LfYv+Ij4HvkN+En4cfcz+Fn4OvjQ94H3uffB9tP2fPZ7+Ef3UvWg9Xr0EPT79fX2MPca+HP37fZa9sD3RPdj9nf2yfVw9tz2T/kj++X4EPjL+WH5xvqX/Ej81/vy+tT6dPts/X//y/+9AL4AoQD0Ae4B4gSLBCkDSQSYA/AD4AQHBtgEnARrBDkE+gXGBwwIlgeIBqIFfQYABmQJFQxKCvoJRwrfCncMLg6YDWUNcA3zDA4NNw1GDikOgw2kC0wNfQyJDCIRzA6ZDV0NnAwODKgOIA84DlEO9gzFDWUNYg9RDjYNWAygC8YLEQpnDR0OeAsyDHwMpgybDYsNHA0BDbAMwgwADokOqw+xD7ANqQ0CD0EOGBCqEl8QqQ9+EF4PnQ9+EDMQchFTDx8OLBAlEvUURhWkFX4TJhOQE+wTahcwFY0TBxRLE7cUcRYZFXATyBKqErATxxQ3FbcVcBaOE38TnhQaFPAWTxecE2wUdxQrE0cWiBZ4FvkUSBRNFRkUNhSUFTgV+hPJE+0T6RIpFBAXGxRuE00TcxHeEZIRDxEoEOkOKA9cDygPvA8sDxQQVQ5GDiIOwQxlD3EPzwzeC5gLJQsIDUYMYwwEC5oJvAkqCkcMMw3sDWALmAnACtgMbw0TEagQSw4QEGMOUQ4cDxMPqw5JDZML4AysDUwOhQ9rD4sPUg1ZDvwOcg+lEq4QzQ6VEMcQjQ8gEfoQog8BEDcP2w9gD6APfw+BD+QNYQuBDhgN/A08EQoPvgpmCnQLegmDC1wLFgv3CZ0JRQpwCsgK6wleCogIZQcgBzgHugacCE8GPALRA2kDcwIfBIkEYwMrAikA5wBKAU0BfAGgAtUByv/AAXUCsgS1BlYE5AHCAIUB7wGLAi8DhwPZAdAAMQOcAjUDegGFAtYCX/+yAYwATAJYBKkCNAETAl0CAQJZBeMGywiXB7QFPwUMBggGNwUABooDmwB1AesBlgLRAz3/P/3T/bP8XPvU+tj7cfvA+MP4T/if9xr3tPZP+Qv1k/Nz9Hj0ifY+9vXzAvJ58Qrx+/LF8+H16PVE85jzdvRq9Cz0cvY498zz/fSo9773Q/qS+Lb0XPXD9On0G/fI92X5aven9vD2d/ZB99n3vPpq+UP3XvnS+ub7qv7f+6j52vnq+Cr77/vk/ED9hvpr+qX6EfrQ+oz7/fzJ9zL3hPuT+4X9uP3m+QH4Bfp3+mT8aPzc/Ub8xflf+wL6wvoO+Tz6GvnT9ZP3S/fR+HP6A/k+9qv1GvYN9yn43fgw+gj3FvWs9Zb0mPLD8871F/HH8DP0pPQZ9vX11vIp8SLyhPOk9O71M/dw9S/z+/L78wPzjvN590v0rfCv9Dr1hvYF+o71gvIC833zqfQV9cr3Afnu9sf2DPeo9lP11/aW96TyTfS89an14vgD9jryLPGz8Krx//K181D1BfIC8MPwOe587tnvxfJ07fnsavKB8D70FPN97wXvh+5v8O/z0fVs9c3zJfHt8LXvhO5D7s/x1+0b6QTvFe/o8K3xJO5p7FjrrexC7Zfuwu+K7jLrfOva61LpX+lo7fbqBOWl6ePpoOo47v7qM+hs6RzqtOpH7SbuOO4g66PrgOwJ7GDsy+4W77bpV+3f7xPwnfK58Oztyu307mnwaPKX9Fv1t/Io9HH1u/Nx8y325vVO8O7zbfYP9er3VPWL8XfxTPJg83Tz1PVX9r3xm/Fj8SjwBvCu8gbzueyu8Ojy5vL+9n3zS+/u7tnvL/Ih9DL2VPV28fnxBfIf8ubxqvVh81nwxfUC9T72OvZW8xbxrO888PzxHPMM98z1MfOq9JvzaPNi8gj2qfHA8Cb3p/Yk+Dr4jfVm827zX/WZ95X6mPwE+5r5Svkc+cL4gvy2+4b4rv6vALMBmwO9AGYAaP88AaACZwI0BjEECAOQAqUDjgKhA6IGhAG5A2QGFAWyB18IvwREBEsDHQXgBgUKYwvUCIkIiwdVCbUIGgt/B1cG2wktCCcLhwy2B84EBQSUBjMIzwhaC9MHSgeABoMFPQT8B6kGUQO/B4kHjgmnCa4GvgRHA7kFtAeXCKkLoAryCbwIXQpRCRAMBA0QCnMNFA6jEFoR+w/CDPAMlw4XEMERGRaYFHsTUBUvFEMUdhVDF7YUwBfSF28YtRnUFRsT6hHPE8kUAhS4F7cWhRW6FnsWHBbnFcoYfRWQFzEZSRihGsQV2xFKEUgQ1xEKEWYTWRO1EX8RyBD9EHcQARNkEawTRxUDFnIWUBP6EXMR3xCTE5gTAhWOFMkRaRNrEGwPxg2kDpoL0AuzDesMrg9RDYcKxwg9CCYL8gpODUsOfQnICWYJGArVCc4LAgqFC98Oxg7CEC8PUg1LCz0L3QwdDr4P/xBjDVANlQ0bDt0MLw4sDbILRQ+4DlYRGRD+DIcLuQt2DbgNDw+tEJUN6AwvDbIMiAvKDAQNlAzeD+QOQhAFENwN0wt1C00Nvg1BDfUPhw5rDNgM9wxNDZoO8A/PDuQSjxN4FPYV/xSiEhUSQBKJE2cVQhekF94UUhXLFAwTBhMKFuIRxxKnFIgTxRRNEyEQTA6MD7MPURAYEXwSUg6RDvYNrg22DFEN/wzpCVEOrg0YDkkMHgnJB3oHtQe3CSAJugmxCF4FlQRdAxcDuwEKA/r/CQHnAAoC6AT0AhgA6f+9AV0AaQG0AQsCCv48/bD+TP/1/mv+1P3s++X8HPyv/iD/gPv2+RD6mfmx+7n96/6o/KP6uvwL/Bz7Zfqb+5j49vok/GH7Ff9q+0r3LPe++G75b/p1+sb8yvl4+d76bvoF+wn6+fkG92b5cvn6+TX6M/lE99D1LvbZ9c72bvhZ+Lr09vRD9Df12/QV9R/0E/WU92j3vvke+rD5hfjR92b4e/rI+lD9yvqE+Xj6xPr9/Nj8Zv8n/dH9IgBvAdUDtgF4/Wv99P3a/mAB6gC1AWf/kf4f/1H/fv5c/u393/vB/n3+YQDkAAf+o/ud+bv4jfqJ/An90v2++pr71vpY/Ij7afug+6b5Yfwn+1v9XPzO+ST4jvda+ID5pPvU++r5H/mV+Qr5E/mc+fX6pvan9iT3xfhn+xn4P/ah9BH1BPaY9mH3tPjg9ej04vMY82XzWvLm8srw1fGG8IzxDfPS8PjuN+0Y7QLuG/Hj8i3zxfBZ8FDxnvJm8l/yF/L68Dz0DfO489vz5vBu8KDume6I70XxuPLx8TPwTe+Y72Tv3+4b8BPuz+1d72juE/Lz8f/vIu6W7sHuCvDO8R/wT/Hi7sDuAe8M8HrvBe9Q7unt/O9j73jzLfL379Tvbu6l7q7vzfFj84vyvPI69L30dvYE9lL4EPiy+Ab5Svg6+wf5DffA9q339/av+BH7NPw7/Bn6lvmM+Z35Nvm8+sT36/h1+WL5G/1o+pX54vip93z46Pqd+5P86frT92r43vlf+mL6PPtn+Wf7svt0/VH/TP1G/YH8mPwF+278yfz8+2H68/dN9433wPj793z2evV09r/0AvYm9wL0rfDv75/wuu9h8T7y2vEt8A7wIPA48Cbw3O+b7lzuifC/8PLywPH/8Gnx/fCs8LfwGfMm9LXy0+8K8HTwgvGA8KDvv+7P75Lyc/Bd8nbzYvLQ8UDx4PDp8SP0WvU88yLxGPKL8Xzy7PIj88fxEfFj8ZXyD/bT9ZzzJPSR9Xv01vWD92X49PgK94f2nPiL+Rf6Hfok+Vv6j/o//ET+eP00/XD9ev1H/uQAbgJsA5kE8gPBA9MEmQXnB7AGhwWVB3oHiwpvCtIIRweaBVMGiweXCQgJ5Qj4B2QH0QYNB5sG9gbnBdAF/wZSBloJ4QccBosELAV6BXMGAgnwCDYKEQnXCSAL5gsIDH4MXw10DrEOmA20DyIQkg6oDmQO1A4WEKgRxRL1D8gP6hDRES0TzBKfEgsSVRMHFLAUyxXRFQ0UbhPFE/ETSxScFOEUkRNdFG0TGRRKFPUU3xT/ExYVZBRVF3YWixUuFA0T0hKQEQYSABL1EbEQ5Q+DDsEPGg8vDZQMLg3PDYgMCA6+DRsNRg16DPkMQw1TDnAOpwyEC3YMBw2bDP8NJg2+C1ALeAo9C78K+gmOCuQIuwp6CuUJcwz8ChIKOgqEC0cMig0WDJ0KGwqaCsALGw1UDS8NCAydCVQLEAtwDHQKbApICqgJoQpWCsQLfQkACT0IDQefCWsMgguyCgIIWAclBxQI4ArXCUcInAaHBS4EVAU0BgwGjwQYBAwFvgYMCBYHNAfABZwGVgcGCFEKygjWCGAHnwdbChwLGgozCHEIpwhCCh8LMgz9CxIMnQugC7ALTQ2pDZcLnAzMCyEMeAscDDEM9gtoC/sK5gp2DcoOlwyMDM8LgQ2ODWUOoQxyDNgNOQ55DxQPdRAqD3gNKw6aD/8P1xDeDpUO7A4GDNoMqQ0GDhkNpw0iDtYMJA+uEPgPkg2gDcoOZw5IDw0RNA85D/0P4QxVDhAOxw6hDRgNQw1cDYEN0wxhDcIKvwznCvANPANw+fz+LPu9/K77ifof+dX3Fvcg9Rr2YPe5+Tz72fkM+A35oPfj9Kn0a/bR9FH0uvMd8sryFfDi7fPv1vHI77LxRfYI9Hr0BvXk8mrzDfXc9br0Rfb18zz0uPSD8o/yKfR893z2w/m5+xD5J/mn+R/3zveY+cz4ofo8+Sz3I/Z79uj1K/T29sj2UPY6+Y35YPgh+Av5WPhl+Gf68PpO+zD5Vvfp90j3RPdk9tD2YPZs95358fmo+q76pvtg+/X9EP4I/43/sf6x/5X+Uf/d/RT/kgA5AVMCvwQBBVUCyAEDAmQCdwJZBcYFFAWUBP8F9gVrBIADxQM3B/QF/waACvoK0gvnDEsMiwu9DPcOsQ4lD+QP3Q4vEMgRDRGOD78QmhCQEVcTmBOQEngScRT2FBsWSBbrFfAVyRTBErwSHRMcE+gUsBVyFLwWrBliGdMYAxrAGnYYUxmDGsEafxqRGegZghinGPYXoRbYFjcW4RaDGCEaAhrbGfUZxxnJGJQYkBlFGCwXWxUOFIUTphCOD8wPUw5uDxwQixGlENQOCBBkDkwOAA6aDTYLPwqKCTwHwAe1Bv0FhAVhBvIG4QeiCrYIKgdaCFYGVAYiB0QGnQQ3BBcESwEKACf+cfwi+3P8Tv4G/48AiP9MABQB2v4EAP0AKP/B/+H/Of5R/jv/afx6/Oj9z/6r/uv/owJlAGkC6v85/rUAMQAH/zP/CAGM/r7/1gDa/Vz9xP1K/dT+ywDMATABEgIhAmYA5AKUAk8CkANHBIsDvQJ3A1wAfQBGAkYB1wNaBVwGrQeKByIJEAqTDEgNVQ1jDugNWw2KDBEMWwoEDXgNZQ0bDjgOuRL4ES4SZBM1FGsUfhRyFcsUyxVzFMUSKBL/EHAQ4xEDEpUR4hGjE2MT2xHmE3oS8xEQE8sR8xGTEI8Pow+GDp8O3wwkDiENpAt7DGwNXQ/RDRcQ8g0fDbsOIQ32C0cJIghyBhUG5gUzBA8E/gEj/xn/zv5EAmwB/QB1AVr/7gCF//P+Af2Z+tH3D/fx9sD0YPX79A/0w/Ot9LP2APZD9XX1fvWw9kr3Tfeb9cT01vL08J3wDPDM7vzu3O5Z7Zbt3e2Z7+ftlPCS8eXuMPK08u/xFPAx74HtAOuU623qnOpk6z3qBOnZ6ALrhOo464DtKOxX7S3wS+8t7ovt6uzg65DqXOsU6Yzp/+lN6eXp8OmT7PPqgOxy7r/t+e6W8L3wOu7F7arsAem86HPpl+jZ68Prsewd7gTwq/Ju8bf1QfYe9WL3ifhA9zv3Cvh69Zz1QPac9Tb3pfcG9qf2bPfZ+Wn76/vq/A789/ov+5D6Yfj795L23vR281r0xPIl8ozywPJZ9GDzGPfY9yb5+Pq/+S369fsh+zf5GPqf96v1e/O889PyfvEK8ijxO/LQ8AbzD/Vq8+30s/TD9Cf3dvYR9efzgvN78djvwfCT7k3uuu5r8Ozv2/Ak9B/yEvPo81Dx9e+I8NTuc+6n7Avrkeqr6evpyefF6uvqRuv57R3vkfKc8rr04vVz9IX2pPY99oT3nfjV9l30y/SS8vnxsPLQ8R3yF/I09Er20fY++Iv4c/fi+Pb5RfkA+hD6uvfq9Wn3mPbF9i/4oPdR+OD75/4J/hj/O/7//bL85/2a/i/7Jfu897r2TPVJ8o7w7fAv8D7w/vGV88b2m/fW+W/52Pm3+n37gft5+6f8cfqi+Tz5OvfL9oz31/c9+Xn68/0m/o/++QCC/4j/ywAKAmwCzgFUAWL/kf1F/Sf87v7C/g//ygE+A/EGrwYtCQgKLwiLCFAIzQgxB6IFqwNPAxoCR/9nAREBwQJ7BW4GjgkSCHsIIAtWCmgKDwvqC6oM6AteC+YJ+glBB8cF9Ac0BtoGZwlcC1ILygqCCxkKEgjHCKIIDgnPCOAHBQm/CFYFDQO+BMoCYQRFB/EIMwtGC7wLagyrDJAN2w5uDywQSQ9LDnoMEAxHCTgLqQtKC0wOSg7SEY0R1xFqEWURARNAE8sR5xGEEM4NFg2kCr4IuAdRCIMHpQkRC/YNhQ8qDhoQTRArEB8SqxLiEdIR9Q+fDeALkgm5B0AKDgrTCvMMkAyED1IO2Q3rDtgNORDZEDsRwBG6EJ0PWQ5DDVQL4wy9DNIMlQ+EEGwSvBOlEu0SNxTfE/gT7RS6FbYTGBIjD3EOVQ2hCuIMSQxhD6UQ2xCdEq8QXBG8EMkOBw5CD8sOkw7hDBILJAtUCmIJaQqQDaoNxw7GEJ0SYhHlEL8Q0A4pD5kPTBClELUQMw8+DZIMvQnwB6EJrArNC2IOzRISEpgRfRJXEO8OEw9nDwUQ3g7yDIsLKQdQBhQD5wPoBOsFpAj2CYULtQm7CuEI4ghnCuwKCwtRDCsLRgoYCNQHLAaJA8YGwgUNBzwHYgnxBp4GCwdtBcIEGwX7BW4EdgYcAi0CpwAe/wH9F/y5/Xz8Jf/aAaMBJACtAWYAKACkALwAgP+iAM/+1PxI/A76xPit9yL4Tfb096758fkZ96f3NPbf89H0qPX886rytfSN8ePvIu6y7V/q6eqV6knqlOwK7Yrwqe+b8d/w/u/X7y3vqO4A7iXtS+of6B7np+e04wPkEeUU5lfmJOfb6UPnbue85pfl+uQb5fPliOZb5vPkUeTG5JriReFo49/iTeQL5+7qhuqZ6RHqleh257/oNek26EHrlelQ6Q/pmOcR5xjnSecF6MLqM+zf78Tv5u6z7sLvKPCa8AHzsfK+86HyX/F670HvtO8x74fxB/LZ8pL0tvaE9tj2W/f89tL38fh4+qn6S/sU+Wb3HvZ59c71t/Tm9WH3OPgL+Hz6W/ug+YL6efrh+tn6ofsN/aH8KfzZ+Yj5z/im9yf2hvWc+E/49fgm+vH7YPvW+if8dPkp+af5XPvy+078ZPvV+Wb6Oviy+FL4k/h/+S35BfzN/fb+1/0w/Rv9hvth+7j8LP7r/Mv8IfwH+zv6Tvkk9wf3mfif9zT4rPjK+7b6d/oN/Kv54/rz+4b8lPzs/Z/8HPmR+XH40feD9g32zfda9iz5Avsp++j64PkR+1D6Efuq/EH9X/06/7/9ePzH/VL+Of18/K3+mP0X/0P/wAAYA6IA8wIAAqgAewEYAUcBmv/h/5H9WvyC/Qv9IPxz/Hz+z/5+/2wBhgPHAiUEAgWwBJkFzgYdCPMIMwoMCZMI9wV2BscEoQL6BFMFzwVqBhYLIQwMCywLegqTCUQJCgr0CqgN1g0dDcsMCQocCqoK1QjsCRQKngsgDFwNsg7fDIcOTAw9CkML9wtPDDQNYA6gC2sJbwkCCSYHJgbYBiEGZAYyB1UJlAv6CeQJsAjrB9AHXQisCQAJmQmZByUH6AeABh4EOQQ1BV0EhAXMBw0JZQiUCN8HqASvBNMH0wbmB9AI0gcmBb0BSAJR/yn/lwADAYQDHwZACOwJOwr6CtsKGAmkC/wMTws1DNEMvwmpCOIHpwboAxoESQdLBl4H9gcZC6oLSAsrDuQNaw5YDyYSkRHYEtsUJRMlEv4OFQ5LDL4MuA0bDSAPYw/SD9oPYg/ODmcNdgxeD6ARmBDQECcQQw/ODKQLjAuXCUkLsQy7DOQP+xEcEhUSdhIZEqwPzRFYEwQRuxEVEZwPRQ62DewNzwkwCiAMiwkiC0UN1Q6pDz8QMBLrEG4PLBEMEhwRSBEPEn4S1xAfDycOXw3ECwANPw6wDt0QOhDYEY4RoQ/QDpENxg3EDlsPKBBfEDIPfQ48DWcNxws5DKoNiwujDOAN8w2mDecMUQ26DBEMpQsuDGYNnwupCqsKgwgZBzcGfQScBg8I9gdoChML8A0IDWIMQw7tCyAMIw30Dq4P0w/VD9gNFA3fC0sJNwlkClUK8gn7CqgLsgzoDcUMSQwhCcoJzQtfCmALGgwPC8IJ2AYYBUkEBQGuA+UEfAXbBzQJGwtCCSwJoggKBm0GwgezB24JiQfJBJcCJQBN/zb7Rfqc+x76yflj+2r7FP0F/Cz76vqN+LL40Pge+VD5Yfre+Z74ivWV86bxKfAm8gXygfGR8g30IfVx9W70YPQs847xuvLw89nyePKe8CvwLe7z6h7qDuYj59fnjOci6k/q+Ot07uLss+sR7PjqUezz7mzugO9g7ybtzeuQ6LfoquY85+fnC+cK6/HqD+3j74fvgu/F79/vQu8p74Dw1fKz8RrxDvEe8F/wQu4b7/TvIfAE8i/zwPW/9033+PZU98r0+PUJ+HD3X/hS+N73CPda9vz06fOU82v0w/QK9qP49fjt+nz7XfpR+g/65vta/hD8T/wa/dD89vug+ZP5sfc4+mz6bfp9++v6+vwz/QT8rvx2/Kv7m/5j/Xv+1f3S/KH+Wfw4/IX6Efpr+2H7Nvye/Un/Gv/f/vz+cf6c/jP/RACbAPAAbAGwAawBbgKdAVgAtwBdAAICcgOKAtsC7gKKAZ0B9gCfAPcB0wMwAyYDJQMDAdoABf8F/Yv7nPyr/Or84v7h/Vb+lP5Y/kb9LP2Q/Kn82vwk/CX+Wf1o/Qz9Q/1W/XP9mv/M/9cByQFdAv4DbgPkA+8EcQX6BYYGJAagBYkFBAT0AkMDYwLfAKj/awBI/3EBWAFRAQoDtAAUA0wChwIjA5QEEQVbBWcFwAJwA5MA6P8Q/qj+8/8d/3IA9/+b/73/1AB/ATcDMAJYA5kFnwXhBAQDYATrAlID1QMdAUQCUgJFA9YEUgTbBUIHhQbYB14HCQbuB+UG1wfvBhEGdgZ5BKEFFgWYAosCAAQ4BNwFDgekCf0JrAlHC0QL8gopCzgMHgvzC6sKnQrRCCcILwdYBUoIUggrCWMJPQkzCBYKwgjqBzoHYwfSCUIHNAd1BUIFhgQ1BMcD1gHfAesBVwFAAtACrQL4AwYEUAQDBNwEmgRPBZ0GSAVYBJUEqAMLAx4Bcv+J/yX/0wASApgCKgOSBEkELQQZBBME6wREBj4FVAYXB8UEzAWJA3sELANbA5AEsAMTB3YGYgiWClwKFAqhCv0J4QqdDI8L6AxiC5wJmAiaBxsHLga2B/oH4gjtCAQJiAtuCv8IaghkB+kF5AVRBZ0EXgUAA5EDegJxAtgBSf71/0T/1f/fAWMCQgJBAlECtAFeAbcA1AEXAowCJQOYAegACwAk/7D+K/2W/Tf9F/0j/5P+Lv8//wL+7fzs+0X9Tf3B/aD+Bv4f/Y38vPtm+r744veO+cn5hflL+ij5qfiC+Wn4mfil+OD4DftC+lL7FPzf+Zj6yfmg+BP3YfXP9yT3gffP9x/4NPn69hr3Z/U79DH1bvZT9nT2O/eG9oj1aPWM9Qn0KvUG9mr3WvmV+vv5H/wM/fv8If/q/J3/rQF3ASwBcgDl/+3+l/6l/zb+Pv1l/1L+ov80AC0BRQApANgBMAI5AuIDUgWcAngCDgHJAZv/C/3z+zr5S/l1+FX44/eL90/4EPny9+v4Ofgp9rv2WPeC91r3afcF9uv0sPTx8pzxxPF/787uUu7A7nLvV+8X7iHsTOsP6kXr5erv6rvpeelk6TrpSenl57DoC+og687rtu1B7KzsBOwo62vrAOqu7aXtqO0E73Htiu3F697qd+ne5pDnuOc76Ezp+eqg7Cbsqeti7drtzO4p8DjwlvIE8lXyK/Ig8cjxQu838Xby3fE69T31T/Vx9e32Nvfe9YP38/dk+Nb4l/kB+Jb3r/Zz9oj2cvWt9lH2Kfdv+Of4oPlK+gX5S/nx92P4jfnN+Jv5/PgJ+h749/fD91X2k/fP+PD5Pfrd+lb6avo/+Rb5nvix96T6u/nw+U757PYG90r1iPYC9dH0T/cO92f5zfor+yP82Pxn/sX+9f0YAa8CCgLlAjcC2wIWAgwC0QIZAWkDpAS7A4MFRAUTBhAGyQSGBlwEGQUbB10FsgbhBtkHmwejBjEHbgSzBCYGgwYxB/8H7ghOCYUIVgZEBy0FDAZ5CREKmQzVC0ILfwpGCh4KHgdbCNkJwAkiDOkLEQ1GDrwNDA7ZDb0MBQ7oEOsP1xFyESgRvxGrEcMQ6Q2aECcRvBAgEiITNBR2FLISgxMoFHsS0hPLExcTlxH9D5oOzAyvC8AJlgnpCSEJxgnJCa4JgwnqCM0JYArhCQ8JGAx/DawM9QtnCVgJawm0CTIHqgcpCkUKNwvaCz8OUg53Do0MwguYC4UL/AwlC5YLwwr8CbsHmwbLB4oE3gT6BdAFjQffBhcHjQhCB2kGsAegBigIpQk7CAAKbgi5B40HMwf2BrUD3gQJBw0GqgiDCb4IvgqpCNQIEAqNCeAJlAowC8ELvQv8C2EKuglOCgYKkww6DPwNtQ7GDvkPeQ+IDhEOYg/yDTQO6Q4CD5AO+A6aDy4Ocg6sDZkKcgrNCksJVgqhCasKvQqiCZIKUQugDNgMGA8XD50PSA4+DswN6AuSC98IeglUCfMJcAxMDekKnQs8DKgL3AwTDUEO1g73Dr8OvQypCzML5AnNCdkG5Ad1CdkJAQs7C2ELNQxWDLMKfAzBCo0LbgwTDAoMNQo+ClcJCwlYB/AF+gY1B3oGUAhqCCMIoAlDCbgISQkxCWMJMAoKCaQIKAcHB7EFRQSKAv/+VwBj/6sAOgHX//3/OP+L/gD80P1s/H/8Of0w/fn+cfsk+9v52viF9v30p/em+AD5R/vv+7T6oPwv/HT7mfv5+/H8Sf4y/h//Wf66/Sr9z/yZ+4r4LvtR+QAA\" type=\"audio/wav\" />\n",
       "                    Your browser does not support the audio element.\n",
       "                </audio>\n",
       "              "
      ],
      "text/plain": [
       "<IPython.lib.display.Audio object>"
      ]
     },
     "execution_count": 50,
     "metadata": {},
     "output_type": "execute_result"
    }
   ],
   "source": [
    "# Run a few files to verify\n",
    "ipd.Audio(x_s_te[20], rate = 8000)\n"
   ]
  },
  {
   "cell_type": "code",
   "execution_count": 48,
   "metadata": {},
   "outputs": [],
   "source": [
    "# Calculate features here and save arrays\n",
    "def get_feat(x, sr):\n",
    "    X = []\n",
    "    n_samples = 0\n",
    "    for audio in x:\n",
    "        if len(audio) > 0:\n",
    "            feat = librosa.feature.mfcc(y=np.array(audio), sr=sr, n_mfcc=13)\n",
    "            X.append(feat)\n",
    "            n_samples += np.shape(feat)[1]\n",
    "    return X, n_samples\n",
    "\n"
   ]
  },
  {
   "cell_type": "code",
   "execution_count": 49,
   "metadata": {},
   "outputs": [],
   "source": [
    "def reshape_feat(feat, total_n_samples):\n",
    "    '''Function to reshape a list of feature arrays into a contiguous feature array. Expects input of shape (n_feat, feats)'''\n",
    "    X = np.zeros([len(feat[0]), total_n_samples])\n",
    "    curr_idx = 0\n",
    "    for signal in feat:\n",
    "#         print(curr_idx, np.shape(signal)[1])\n",
    "        X[:,curr_idx:curr_idx+np.shape(signal)[1]] = signal\n",
    "        curr_idx += np.shape(signal)[1]\n",
    "    return X.T"
   ]
  },
  {
   "cell_type": "markdown",
   "metadata": {},
   "source": [
    "# Save array results etc"
   ]
  },
  {
   "cell_type": "raw",
   "metadata": {},
   "source": [
    "with open('X_data.npy', 'wb') as f:\n",
    "    np.save(f, X_data)"
   ]
  },
  {
   "cell_type": "markdown",
   "metadata": {},
   "source": [
    "# WIP"
   ]
  },
  {
   "cell_type": "code",
   "execution_count": 25,
   "metadata": {},
   "outputs": [
    {
     "data": {
      "text/plain": [
       "array([\" 'ae albopictus'\", \" 'an albimanus'\", \" 'an arabiensis'\",\n",
       "       \" 'an atroparvus'\", \" 'an coluzzii'\", \" 'an dirus'\",\n",
       "       \" 'an farauti'\", \" 'an freeborni'\", \" 'an funestus'\",\n",
       "       \" 'an merus'\", \" 'an minimus'\", \" 'an quadriannulatus'\",\n",
       "       \" 'culex quinquefasciatus'\", \" 'an sinensis'\", \" 'an stephensi'\",\n",
       "       \" 'culex tarsalis'\", \" 'toxorhynchites brevipalpis'\",\n",
       "       \" 'an gambiae'\", \" 'an harrisoni'\", \" 'an maculatus'\",\n",
       "       \" 'an barbirostris'\", \" 'ae aegypti'\", ' None'], dtype=object)"
      ]
     },
     "execution_count": 25,
     "metadata": {},
     "output_type": "execute_result"
    }
   ],
   "source": [
    "df[\"species\"].unique()"
   ]
  },
  {
   "cell_type": "code",
   "execution_count": 50,
   "metadata": {},
   "outputs": [
    {
     "name": "stdout",
     "output_type": "stream",
     "text": [
      "Completed wav extraction for species  'an dirus'\n",
      "Completed wav extraction for species  'an harrisoni'\n",
      "Completed wav extraction for species  'an minimus'\n",
      "Completed wav extraction for species  'an maculatus'\n",
      "Completed wav extraction for species  'an barbirostris'\n",
      "Completed wav extraction for species  None\n"
     ]
    }
   ],
   "source": [
    "species_wav_dict = {}\n",
    "for species in df_test[\"species\"].unique():\n",
    "    x, signal_length = get_wav_for_df(df_test[df_test[\"species\"] == species], 8000)\n",
    "    species_wav_dict[species.strip().strip(\"\\'\")] = [x, signal_length] # Correct for odd spacing and syntax in database (Maybe check SQL query?\n",
    "    print('Completed wav extraction for species', species)\n",
    "    # Make a dict with species as key, and save wav data for that species from test dataframe.\n",
    "#     X_test = functions_for_transform()\n",
    "#     clf.test...\n",
    "    #store results of classifier: f1 score, species_list, number of samples (seconds) per species. \n",
    "    #Noise class as large as the sum of each spceies in species list"
   ]
  },
  {
   "cell_type": "code",
   "execution_count": 51,
   "metadata": {
    "scrolled": false
   },
   "outputs": [
    {
     "name": "stdout",
     "output_type": "stream",
     "text": [
      "Unique paths for species  'ae albopictus' [\" '/CDC/sounds/CDC_Ae-albopictus_labelled_800.wav'\"]\n",
      "Number of seconds of training data for species  'ae albopictus' 41.87830000000028\n",
      "\n",
      "\n",
      "Unique paths for species  'an albimanus' [\" '/CDC/sounds/CDC_An-albimanus_labelled_800.wav'\"]\n",
      "Number of seconds of training data for species  'an albimanus' 11.601386999999605\n",
      "\n",
      "\n",
      "Unique paths for species  'an arabiensis' [\" '/CDC/sounds/CDC_An-arabiensis_labelled_800.wav'\"]\n",
      "Number of seconds of training data for species  'an arabiensis' 0.14993500000002769\n",
      "\n",
      "\n",
      "Unique paths for species  'an atroparvus' [\" '/CDC/sounds/CDC_An-atroparvus_labelled_800.wav'\"]\n",
      "Number of seconds of training data for species  'an atroparvus' 2.376292000000113\n",
      "\n",
      "\n",
      "Unique paths for species  'an coluzzii' [\" '/CDC/sounds/CDC_An-coluzzii_labelled_800.wav'\"\n",
      " \" '/LSTMH/sounds/LSTMH telinga audio - edited and labelled.wav'\"]\n",
      "Number of seconds of training data for species  'an coluzzii' 141.28472299999996\n",
      "\n",
      "\n",
      "Unique paths for species  'an dirus' [\" '/CDC/sounds/CDC_An-dirus_labelled_800.wav'\"]\n",
      "Number of seconds of training data for species  'an dirus' 4.665802000000099\n",
      "\n",
      "\n",
      "Unique paths for species  'an farauti' [\" '/CDC/sounds/CDC_An-farauti_labelled_800.wav'\"]\n",
      "Number of seconds of training data for species  'an farauti' 1.1160850000000266\n",
      "\n",
      "\n",
      "Unique paths for species  'an freeborni' [\" '/CDC/sounds/CDC_An-freeborni_labelled_800.wav'\"]\n",
      "Number of seconds of training data for species  'an freeborni' 6.275591999999577\n",
      "\n",
      "\n",
      "Unique paths for species  'an funestus' [\" '/CDC/sounds/CDC_An-funestus_labelled_800.wav'\"]\n",
      "Number of seconds of training data for species  'an funestus' 2.079234999999983\n",
      "\n",
      "\n",
      "Unique paths for species  'an merus' [\" '/CDC/sounds/CDC_An-merus_labelled_800.wav'\"]\n",
      "Number of seconds of training data for species  'an merus' 1.4135249999999253\n",
      "\n",
      "\n",
      "Unique paths for species  'an minimus' [\" '/CDC/sounds/CDC_An-minimus_labelled_800.wav'\"]\n",
      "Number of seconds of training data for species  'an minimus' 1.4392340000000914\n",
      "\n",
      "\n",
      "Unique paths for species  'an quadriannulatus' [\" '/CDC/sounds/CDC_An-quadriannulatus_labelled_800.wav'\"\n",
      " \" '/CDC/sounds/CDC_An-quadrimaculatus_labelled_800.wav'\"]\n",
      "Number of seconds of training data for species  'an quadriannulatus' 15.88077799999985\n",
      "\n",
      "\n",
      "Unique paths for species  'culex quinquefasciatus' [\" '/Culex/sounds/R4_cleaned recording_12-10-17.wav'\"\n",
      " \" '/CDC/sounds/CDC_Cx-quinquefasciatus_labelled_800.wav'\"\n",
      " \" '/Culex/sounds/R4_cleaned recording_13-10-17.wav'\"\n",
      " \" '/Culex/sounds/R4_cleaned recording_16-10-17.wav'\"\n",
      " \" '/Culex/sounds/R4_cleaned recording_17-10-17.wav'\"\n",
      " \" '/Culex/sounds/R4_cleaned recording_18-10-17.wav'\"\n",
      " \" '/Culex/sounds/R4_cleaned recording_TEL_19-10-17.wav'\"\n",
      " \" '/Culex/sounds/R4_cleaned recording_TEL_20-10-17.wav'\"\n",
      " \" '/Culex/sounds/R4_cleaned recording_TEL_23-10-17.wav'\"\n",
      " \" '/Culex/sounds/R4_cleaned recording_TEL_24-10-17.wav'\"\n",
      " \" '/Culex/sounds/R4_cleaned recording_TEL_25-10-17.wav'\"\n",
      " \" '/Culex/sounds/UNFINISHED - recordings and labels 17-10-17-R4.wav'\"\n",
      " \" '/Culex/sounds/UNFINISHED - recordings and labels 18-10-17-R4.wav'\"\n",
      " \" '/Culex/sounds/UNFINISHED - recordings and labels 24-10-17-R4.wav'\"\n",
      " \" '/Culex/sounds/UNFINISHED - recordings and labels 25-10-17-R4.wav'\"\n",
      " \" '/Culex/sounds/UNFINISHED - recordings and labels 26-10-17-R4.wav'\"\n",
      " \" '/Culex/sounds/0024_norm.wav'\" \" '/Culex/sounds/0026_norm.wav'\"\n",
      " \" '/Culex/sounds/0027_norm.wav'\" \" '/Culex/sounds/0028_norm.wav'\"\n",
      " \" '/Culex/sounds/0029_norm.wav'\" \" '/Culex/sounds/0030_norm.wav'\"\n",
      " \" '/Culex/sounds/0031_norm.wav'\" \" '/Culex/sounds/0032_norm.wav'\"\n",
      " \" '/Culex/sounds/0033_norm.wav'\" \" '/Culex/sounds/0034_norm.wav'\"\n",
      " \" '/Culex/sounds/0035_norm.wav'\" \" '/Culex/sounds/0036_norm.wav'\"\n",
      " \" '/Culex/sounds/0037_norm.wav'\" \" '/Culex/sounds/0038_norm.wav'\"\n",
      " \" '/Culex/sounds/0039_norm.wav'\" \" '/Culex/sounds/0040_norm.wav'\"\n",
      " \" '/Culex/sounds/0045_norm.wav'\" \" '/Culex/sounds/0048_norm.wav'\"\n",
      " \" '/Culex/sounds/0049_norm.wav'\" \" '/Culex/sounds/0050_norm.wav'\"\n",
      " \" '/Culex/sounds/0052_norm.wav'\" \" '/Culex/sounds/0057_norm.wav'\"\n",
      " \" '/Culex/sounds/0021_norm.wav'\" \" '/Culex/sounds/0022_norm.wav'\"\n",
      " \" '/Culex/sounds/0023_norm.wav'\"]\n",
      "Number of seconds of training data for species  'culex quinquefasciatus' 10203.123194000003\n",
      "\n",
      "\n",
      "Unique paths for species  'an sinensis' [\" '/CDC/sounds/CDC_An-sinensis_labelled_800.wav'\"]\n",
      "Number of seconds of training data for species  'an sinensis' 0.9540519999996775\n",
      "\n",
      "\n",
      "Unique paths for species  'an stephensi' [\" '/CDC/sounds/CDC_An-stephensi_labelled_800.wav'\"\n",
      " \" '/LSTMH/sounds/LSTMH telinga audio - edited and labelled.wav'\"]\n",
      "Number of seconds of training data for species  'an stephensi' 69.85354499999966\n",
      "\n",
      "\n",
      "Unique paths for species  'culex tarsalis' [\" '/CDC/sounds/CDC_Cx-tarsalis_labelled_800.wav'\"]\n",
      "Number of seconds of training data for species  'culex tarsalis' 10.500829000000124\n",
      "\n",
      "\n",
      "Unique paths for species  'toxorhynchites brevipalpis' [\" '/LSTMH/sounds/LSTMH telinga audio - edited and labelled.wav'\"]\n",
      "Number of seconds of training data for species  'toxorhynchites brevipalpis' 84.62701600000003\n",
      "\n",
      "\n",
      "Unique paths for species  'an gambiae' [\" '/LSTMH/sounds/LSTMH telinga audio - edited and labelled.wav'\"\n",
      " \" '/CDC/sounds/CDC_An-gambiae_labelled_800.wav'\"]\n",
      "Number of seconds of training data for species  'an gambiae' 92.17672200000001\n",
      "\n",
      "\n",
      "Unique paths for species  'ae aegypti' [\" '/CDC/sounds/CDC_Ae-aegypti_labelled_800.wav'\"]\n",
      "Number of seconds of training data for species  'ae aegypti' 9.117788000000118\n",
      "\n",
      "\n"
     ]
    }
   ],
   "source": [
    "for species in df_train[\"species\"].unique():\n",
    "    df_species = df_train[df_train[\"species\"] == species]\n",
    "    print('Unique paths for species', species, df_species[\"path\"].unique())\n",
    "    print('Number of seconds of training data for species', species, np.sum(df_species[\"fine_end_time\"] - df_species[\"fine_start_time\"]))\n",
    "    print('\\n')\n"
   ]
  },
  {
   "cell_type": "markdown",
   "metadata": {},
   "source": [
    "## Evaluate accuracy performance per species"
   ]
  },
  {
   "cell_type": "code",
   "execution_count": 52,
   "metadata": {},
   "outputs": [],
   "source": [
    "from sklearn.metrics import accuracy_score"
   ]
  },
  {
   "cell_type": "markdown",
   "metadata": {},
   "source": [
    "# New code for prediction"
   ]
  },
  {
   "cell_type": "markdown",
   "metadata": {},
   "source": [
    "### Features for signal from query"
   ]
  },
  {
   "cell_type": "code",
   "execution_count": 53,
   "metadata": {},
   "outputs": [],
   "source": [
    "X_s_tr, X_s_tr_l = get_feat(x_s_tr, sr=8000)\n",
    "X_s_tr = reshape_feat(X_s_tr, X_s_tr_l)\n",
    "X_s_te, X_s_te_l = get_feat(x_s_te, sr=8000)\n",
    "X_s_te = reshape_feat(X_s_te, X_s_te_l)\n",
    "X_n_tr, X_n_tr_l = get_feat(x_n_tr, sr=8000)\n",
    "X_n_tr = reshape_feat(X_n_tr, X_n_tr_l)"
   ]
  },
  {
   "cell_type": "markdown",
   "metadata": {},
   "source": [
    "### Features for noise from Culex Q home data and Thai"
   ]
  },
  {
   "cell_type": "code",
   "execution_count": 54,
   "metadata": {},
   "outputs": [],
   "source": [
    "# X_n_Thai, N_n_Thai = get_feat(x_n_Thai, sr=8000)\n",
    "# X_n_Thai = reshape_feat(X_n_Thai, N_n_Thai)\n",
    "\n",
    "\n",
    "\n",
    "X_n_Culex, N_n_Culex = get_feat(x_n_Culex, sr=8000)\n",
    "X_n_Culex = reshape_feat(X_n_Culex, N_n_Culex)\n",
    "\n",
    "# X_n_Thai_June, N_n_Thai_June = get_feat(x_n_Thai_June, sr=8000)\n",
    "# X_n_Thai_June = reshape_feat(X_n_Thai_June, N_n_Thai_June)\n",
    "\n",
    "# X_n_Thai_July, N_n_Thai_July = get_feat(x_n_Thai_July, sr=8000)\n",
    "# X_n_Thai_July = reshape_feat(X_n_Thai_July, N_n_Thai_July)"
   ]
  },
  {
   "cell_type": "markdown",
   "metadata": {},
   "source": [
    "### Features for noise from CDC and remaining Culex data\n"
   ]
  },
  {
   "cell_type": "code",
   "execution_count": 55,
   "metadata": {},
   "outputs": [],
   "source": [
    "X_n_add_Culex, N_n_add_Culex = get_feat(x_n_add_Culex, sr=8000)\n",
    "X_n_add_Culex = reshape_feat(X_n_add_Culex, N_n_add_Culex)"
   ]
  },
  {
   "cell_type": "code",
   "execution_count": 56,
   "metadata": {},
   "outputs": [],
   "source": [
    "X_n_add_CDC, N_n_add_CDC = get_feat(x_n_add_CDC, sr=8000)\n",
    "X_n_add_CDC = reshape_feat(X_n_add_CDC, N_n_add_CDC)"
   ]
  },
  {
   "cell_type": "code",
   "execution_count": 329,
   "metadata": {},
   "outputs": [],
   "source": [
    "# Concatenate and trim+shuffle for balanced signal and noise"
   ]
  },
  {
   "cell_type": "code",
   "execution_count": 64,
   "metadata": {
    "scrolled": false
   },
   "outputs": [
    {
     "data": {
      "text/plain": [
       "RandomForestClassifier(bootstrap=True, ccp_alpha=0.0, class_weight=None,\n",
       "                       criterion='gini', max_depth=2, max_features='auto',\n",
       "                       max_leaf_nodes=None, max_samples=None,\n",
       "                       min_impurity_decrease=0.0, min_impurity_split=None,\n",
       "                       min_samples_leaf=1, min_samples_split=2,\n",
       "                       min_weight_fraction_leaf=0.0, n_estimators=100,\n",
       "                       n_jobs=-1, oob_score=False, random_state=0, verbose=0,\n",
       "                       warm_start=False)"
      ]
     },
     "execution_count": 64,
     "metadata": {},
     "output_type": "execute_result"
    },
    {
     "data": {
      "image/png": "[encoded data removed]",
      "text/plain": [
       "<Figure size 432x288 with 1 Axes>"
      ]
     },
     "metadata": {
      "needs_background": "light"
     },
     "output_type": "display_data"
    }
   ],
   "source": [
    "#### Warning: adding noise from Thai experiment (n_Thai samples)\n",
    "# Training data: X_s_tr: All positive labels in database EXCEPT Culex/00.\n",
    "#                X_n_tr: All negative labels in database EXCEPT Culex/00 (no Culex/00 labels anyway)\n",
    "#                X_n_Thai: All labels ASSUMED to be negative (non 1s logic)\n",
    "#                X_n_add_CDC: confirmed 0s from background.wav in CDC set/\n",
    "# select a balanced subset of noise which matches the duration of the training positive set\n",
    "\n",
    "# N_noise = len(X_tr)\n",
    "\n",
    "# n_tr = X_s_tr_l - X_n_tr_l - N_n_Thai\n",
    "# X_tr = np.vstack([shuffle(X_s_tr), shuffle(X_n_Thai)[:N_noise]])\n",
    "\n",
    "X_tr = np.vstack([shuffle(X_s_tr)[:50000], X_n_tr, X_n_add_CDC])\n",
    "y_tr = np.zeros(len(X_tr))\n",
    "y_tr[:len(X_s_tr[:50000])] = 1\n",
    "plt.plot(y_tr)\n",
    "# y_te = np.hstack([np.ones(len(X_s_te)), np.zeros(len(X_n_Culex)), np.zeros(len(X_n_add_Culex))])\n",
    "y_te = np.ones(len(X_s_te))\n",
    "\n",
    "\n",
    "clf = RandomForestClassifier(max_depth=2, random_state=0, verbose=0, n_jobs=-1)\n",
    "clf.fit(X_tr,y_tr)\n"
   ]
  },
  {
   "cell_type": "code",
   "execution_count": 65,
   "metadata": {},
   "outputs": [
    {
     "name": "stdout",
     "output_type": "stream",
     "text": [
      "Signal acc 0.830498033454959\n",
      "Noise acc 0.9948866937826845\n"
     ]
    },
    {
     "data": {
      "text/plain": [
       "[<matplotlib.lines.Line2D at 0x1b1804f7908>]"
      ]
     },
     "execution_count": 65,
     "metadata": {},
     "output_type": "execute_result"
    },
    {
     "data": {
      "image/png": "[encoded data removed]",
      "text/plain": [
       "<Figure size 432x288 with 1 Axes>"
      ]
     },
     "metadata": {
      "needs_background": "light"
     },
     "output_type": "display_data"
    },
    {
     "data": {
      "image/png": "[encoded data removed]",
      "text/plain": [
       "<Figure size 432x288 with 1 Axes>"
      ]
     },
     "metadata": {
      "needs_background": "light"
     },
     "output_type": "display_data"
    }
   ],
   "source": [
    "preds = clf.predict(np.vstack([X_s_te]))\n",
    "print('Signal acc', accuracy_score(y_te, preds))\n",
    "\n",
    "plt.figure()\n",
    "plt.plot(preds, '.')\n",
    "plt.plot(y_te)\n",
    "\n",
    "preds = clf.predict(np.vstack([X_n_Culex, X_n_add_Culex]))\n",
    "y_te = np.hstack([np.zeros(len(X_n_Culex)), np.zeros(len(X_n_add_Culex))])\n",
    "\n",
    "print('Noise acc', accuracy_score(y_te, preds))\n",
    "plt.figure()\n",
    "plt.plot(preds, '.')\n",
    "plt.plot(y_te)\n"
   ]
  },
  {
   "cell_type": "markdown",
   "metadata": {},
   "source": [
    "### Create y labels"
   ]
  },
  {
   "cell_type": "raw",
   "metadata": {},
   "source": [
    "y_n_tr = np.zeros(len(X_n_tr))\n",
    "y_s_tr = np.ones(len(X_s_tr))\n",
    "y_s_te = np.ones(len(X_s_te))\n",
    "y_n_Culex = np.zeros(len(X_n_Culex))\n",
    "y_n_Thai = np.zeros(len(X_n_Thai))\n",
    "y_n_add_Culex = np.zeros(len(X_n_add_Culex))"
   ]
  },
  {
   "cell_type": "raw",
   "metadata": {},
   "source": [
    "print(\"Number of samples for:\")\n",
    "print(\"Training signal\", len(X_s_tr))\n",
    "print(\"Training noise\", len(X_n_tr))\n",
    "print(\"Test signal\", len(X_s_te))\n",
    "print(\"Thai noise\", len(X_n_Thai))\n",
    "print(\"Home Culex\", len(X_n_Culex))\n",
    "print(\"Culex unlabelled/untagged but confirmed 0\", len(X_n_add_Culex))"
   ]
  },
  {
   "cell_type": "markdown",
   "metadata": {},
   "source": [
    "## Train Model"
   ]
  },
  {
   "cell_type": "raw",
   "metadata": {},
   "source": [
    "clf = SVC(verbose=2, probability=True)\n",
    "clf.fit(np.vstack([X_s_tr, X_n_tr, X_n_Culex, X_n_add]), np.hstack([y_s_tr, y_n_tr, y_n_Culex, y_n_add]))"
   ]
  },
  {
   "cell_type": "raw",
   "metadata": {},
   "source": [
    "# Sanity check for not truly out of sample data\n",
    "from sklearn.model_selection import train_test_split\n",
    "X_train, X_test, y_train, y_test = train_test_split(X_tr, y_tr, test_size=0.33, random_state=42)\n",
    "clf = RandomForestClassifier(max_depth=8, random_state=0, verbose=1, n_jobs=-1)\n",
    "clf.fit(X_train, y_train)\n",
    "accuracy_score(y_test, clf.predict(X_test))"
   ]
  },
  {
   "cell_type": "markdown",
   "metadata": {},
   "source": [
    "# Evaluate Model"
   ]
  },
  {
   "cell_type": "code",
   "execution_count": 66,
   "metadata": {},
   "outputs": [
    {
     "name": "stdout",
     "output_type": "stream",
     "text": [
      "Test set processing...\n",
      "Completed wav extraction for species  'an dirus'\n",
      "Completed wav extraction for species  'an harrisoni'\n",
      "Completed wav extraction for species  'an minimus'\n",
      "Completed wav extraction for species  'an maculatus'\n",
      "Completed wav extraction for species  'an barbirostris'\n",
      "Completed wav extraction for species  None\n"
     ]
    }
   ],
   "source": [
    "print('Test set processing...')\n",
    "species_wav_dict = {}\n",
    "for species in df_test[\"species\"].unique():\n",
    "    x, signal_length = get_wav_for_df(df_test[df_test[\"species\"] == species], 8000)\n",
    "    species_wav_dict[species.strip().strip(\"\\'\")] = [x, signal_length] # Correct for odd spacing and syntax in database (Maybe check SQL query?\n",
    "    print('Completed wav extraction for species', species)"
   ]
  },
  {
   "cell_type": "code",
   "execution_count": 67,
   "metadata": {},
   "outputs": [
    {
     "name": "stdout",
     "output_type": "stream",
     "text": [
      "Species  'ae albopictus'\n",
      "Species  'an albimanus'\n",
      "Species  'an arabiensis'\n",
      "Species  'an atroparvus'\n",
      "Species  'an coluzzii'\n",
      "Species  'an dirus'\n",
      "Species  'an farauti'\n",
      "Species  'an freeborni'\n",
      "Species  'an funestus'\n",
      "Species  'an merus'\n",
      "Species  'an minimus'\n",
      "Species  'an quadriannulatus'\n",
      "Species  'culex quinquefasciatus'\n",
      "Species  'an sinensis'\n",
      "Species  'an stephensi'\n",
      "Species  'culex tarsalis'\n",
      "Species  'toxorhynchites brevipalpis'\n",
      "Species  'an gambiae'\n",
      "Species  'ae aegypti'\n"
     ]
    }
   ],
   "source": [
    "for species in df_train[\"species\"].unique():\n",
    "    print('Species', species)"
   ]
  },
  {
   "cell_type": "code",
   "execution_count": 68,
   "metadata": {},
   "outputs": [
    {
     "name": "stdout",
     "output_type": "stream",
     "text": [
      "Test set processing...\n",
      "Seconds for species: an dirus 909.795899 acc 0.9666456450143648\n",
      "Seconds for species: an harrisoni 980.3857019999994 acc 0.9711275848614904\n",
      "Seconds for species: an minimus 61.524393999999994 acc 0.9824016563146998\n",
      "Seconds for species: an maculatus 830.4170410000003 acc 0.9638720564547059\n",
      "Seconds for species: an barbirostris 87.81996999999996 acc 0.8175872093023255\n",
      "Seconds for species: None 1166.0678930000001 acc 0.5037470597888518\n"
     ]
    }
   ],
   "source": [
    "print('Test set processing...')\n",
    "for species in species_wav_dict.keys():\n",
    "    X_test, n_samples_test = get_feat(species_wav_dict[species][0], sr=8000)\n",
    "    X_test = reshape_feat(X_test, n_samples_test)\n",
    "    y_test = np.ones(np.shape(X_test)[0])\n",
    "    preds = clf.predict(X_test)\n",
    "    acc = accuracy_score(y_test, preds) \n",
    "    print('Seconds for species:', species,  species_wav_dict[species][1], 'acc', acc)"
   ]
  },
  {
   "cell_type": "code",
   "execution_count": 69,
   "metadata": {},
   "outputs": [
    {
     "name": "stdout",
     "output_type": "stream",
     "text": [
      "Seconds for Culex noise: 9701 acc 0.9818575404597464\n",
      "Seconds for Culex additional noise files: 24719 acc 1.0\n"
     ]
    }
   ],
   "source": [
    "preds = clf.predict(X_n_Culex)\n",
    "acc = accuracy_score(np.zeros(len(X_n_Culex)),preds) \n",
    "print('Seconds for Culex noise:', N_n_Culex, 'acc', acc)\n",
    "\n",
    "preds = clf.predict(X_n_add_Culex)\n",
    "acc = accuracy_score(np.zeros(len(X_n_add_Culex)),preds) \n",
    "print('Seconds for Culex additional noise files:', N_n_add_Culex, 'acc', acc)"
   ]
  },
  {
   "cell_type": "markdown",
   "metadata": {},
   "source": [
    "# Bug reports\n",
    "\n",
    "* ```19 June 2018_359_379cow```: End time of signal is longer than actual signal?\n",
    "\n",
    "* Events are marked with mosquito \"deaths\" as point labels, where end time = start time:\n",
    "\n",
    "* ```Label duration of 0.0 seconds at path  '/Thai/sounds/larvae_#12-20_rec1.wav' ... deleting index 933```\n",
    "\n",
    "* ```Label duration of 0.0 seconds at path  '/Thai/sounds/larvae_#12-20_rec1.wav' ... deleting index 935```\n",
    "\n",
    "* ```Label duration of 0.0 seconds at path  '/Thai/sounds/larvae_#12-20_rec1.wav' ... deleting index 936```\n",
    "\n",
    "* ```Label duration of 0.0 seconds at path  '/Thai/sounds/larvae_#12-20_rec1.wav' ... deleting index 938```\n",
    "\n",
    "* Larvae are not marked as mosquito, species information absent from labels\n",
    "\n",
    "* Noise labels are not consistent in experiments: some data is marked as \"background\", some is untagged, some recordings contain positive labels with the implication that the negative labels are noise, whereas other recordings only strongly label positive events, ignoring lower SNR positives"
   ]
  },
  {
   "cell_type": "markdown",
   "metadata": {},
   "source": [
    "645-657: label missing species for:\n",
    "\n",
    "`98.014746\t105.544811\t#651cow\n",
    "109.454388\t131.549004\t#652cow\n",
    "136.725064\t156.988787\t#653cow\n",
    "161.201218\t177.720557\t#654cow\n",
    "182.111948\t194.818073\t#655cow\n",
    "197.571296\t206.064990\t#656cow\n",
    "209.602882\t223.313930\t#657cow`\n",
    "\n",
    "species present in:\n",
    "\n",
    "`26.413735\t37.526432\t#645COW\n",
    "42.499442\t55.591018\t#646COW\n",
    "60.715454\t68.906293\t#647COW`\n",
    "\n",
    "\n",
    "\n",
    "\n",
    "#235-239.txt and 17 June 2018_235-239cow.txt: recordings appear really similar other than sample rate:\n",
    "# two label tracks are supplied (???)\n",
    "235-239 MISSING LAST LABEL: 20 SEC MOSQUITO LABELLED AS NOISE\n",
    "    \n",
    "WE CANNOT ASSUME NON 1S ARE NOISE: in Thai data, we filtered all the data by *species info having to be in original database entry*, hence this discarded a significant amount of training data and led to the non 1 assumption not being true in Thai, but working fine in Culex.\n",
    "    "
   ]
  },
  {
   "cell_type": "markdown",
   "metadata": {},
   "source": [
    "# Fixes"
   ]
  },
  {
   "cell_type": "markdown",
   "metadata": {},
   "source": [
    "Load dataframe with mosquito +ve but no species present in same query. Can filter further in pandas in Python to test by species"
   ]
  }
 ],
 "metadata": {
  "kernelspec": {
   "display_name": "Python [conda env:conda-tf-gpu] *",
   "language": "python",
   "name": "conda-env-conda-tf-gpu-py"
  },
  "language_info": {
   "codemirror_mode": {
    "name": "ipython",
    "version": 3
   },
   "file_extension": ".py",
   "mimetype": "text/x-python",
   "name": "python",
   "nbconvert_exporter": "python",
   "pygments_lexer": "ipython3",
   "version": "3.7.1"
  }
 },
 "nbformat": 4,
 "nbformat_minor": 4
}
